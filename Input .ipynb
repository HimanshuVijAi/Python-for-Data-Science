{
 "cells": [
  {
   "cell_type": "code",
   "execution_count": 13,
   "id": "da23a0fe",
   "metadata": {},
   "outputs": [
    {
     "name": "stdout",
     "output_type": "stream",
     "text": [
      "1 2 3 4\n"
     ]
    }
   ],
   "source": [
    "print(1,2,3,4,)"
   ]
  },
  {
   "cell_type": "code",
   "execution_count": 4,
   "id": "e77e9be4",
   "metadata": {},
   "outputs": [
    {
     "name": "stdout",
     "output_type": "stream",
     "text": [
      "Enter your name:himanshu\n",
      "Enter your age:19\n",
      "Enter your salary:26000\n",
      "\n",
      "\n",
      "printing employe details\n",
      "Name Salary age\n",
      ":himanshu :26000 :19\n",
      ":himanshu\n"
     ]
    },
    {
     "data": {
      "text/plain": [
       "NoneType"
      ]
     },
     "execution_count": 4,
     "metadata": {},
     "output_type": "execute_result"
    }
   ],
   "source": [
    "# take three values from the user\n",
    "name = input(\"Enter your name\")\n",
    "age = input(\"Enter your age\")\n",
    "Salary= input(\"Enter your salary\")\n",
    "\n",
    "# Display all values on screen \n",
    "print(\"\\n\")\n",
    "print(\"printing employe details\")\n",
    "print(\"Name\" ,\"Salary\" ,\"age\" )\n",
    "print(name,Salary,age)                                                                                             \n",
    "type(print(name))"
   ]
  },
  {
   "cell_type": "code",
   "execution_count": 2,
   "id": "3bb7ee7b",
   "metadata": {},
   "outputs": [
    {
     "name": "stdout",
     "output_type": "stream",
     "text": [
      "Enter your nameHimanshu\n",
      "Enter your age19\n",
      "Enter your salary60000\n",
      "\n",
      "\n",
      "printing employe details\n",
      "Name: Himanshu\n",
      "age:19\n",
      "Salary:60000\n"
     ]
    }
   ],
   "source": [
    "# take three values from the user\n",
    "name = input(\"Enter your name\")\n",
    "age = input(\"Enter your age\")\n",
    "Salary= input(\"Enter your salary\")\n",
    "\n",
    "# Display all values on screen \n",
    "print(\"\\n\")\n",
    "print(\"printing employe details\")\n",
    "print(\"Name:\"   ,  name)\n",
    "print(\"age:\"   +    age)\n",
    "print(\"Salary:\"  +    Salary)"
   ]
  },
  {
   "cell_type": "code",
   "execution_count": 1,
   "id": "e6ab60bd",
   "metadata": {},
   "outputs": [
    {
     "name": "stdout",
     "output_type": "stream",
     "text": [
      "nameName\n"
     ]
    }
   ],
   "source": [
    "print(\"name\"        \"Name\")"
   ]
  },
  {
   "cell_type": "code",
   "execution_count": 19,
   "id": "22335594",
   "metadata": {},
   "outputs": [
    {
     "name": "stdout",
     "output_type": "stream",
     "text": [
      "56\n"
     ]
    }
   ],
   "source": [
    "x= input()  # input without describibg can not tell us about it"
   ]
  },
  {
   "cell_type": "code",
   "execution_count": 20,
   "id": "c4c4e55f",
   "metadata": {
    "scrolled": true
   },
   "outputs": [
    {
     "name": "stdout",
     "output_type": "stream",
     "text": [
      "employee number:56\n"
     ]
    }
   ],
   "source": [
    "x= input('employee number:')          "
   ]
  },
  {
   "cell_type": "code",
   "execution_count": 2,
   "id": "9bf880dd",
   "metadata": {},
   "outputs": [
    {
     "data": {
      "text/plain": [
       "'45'"
      ]
     },
     "execution_count": 2,
     "metadata": {},
     "output_type": "execute_result"
    }
   ],
   "source": [
    "str(45)"
   ]
  },
  {
   "cell_type": "code",
   "execution_count": 3,
   "id": "5cf53669",
   "metadata": {},
   "outputs": [
    {
     "data": {
      "text/plain": [
       "(45.4+0j)"
      ]
     },
     "execution_count": 3,
     "metadata": {},
     "output_type": "execute_result"
    }
   ],
   "source": [
    "complex(45.4)"
   ]
  },
  {
   "cell_type": "code",
   "execution_count": 4,
   "id": "24678078",
   "metadata": {},
   "outputs": [
    {
     "ename": "TypeError",
     "evalue": "float() argument must be a string or a real number, not 'complex'",
     "output_type": "error",
     "traceback": [
      "\u001b[1;31m---------------------------------------------------------------------------\u001b[0m",
      "\u001b[1;31mTypeError\u001b[0m                                 Traceback (most recent call last)",
      "Cell \u001b[1;32mIn[4], line 1\u001b[0m\n\u001b[1;32m----> 1\u001b[0m \u001b[38;5;28;43mfloat\u001b[39;49m\u001b[43m(\u001b[49m\u001b[38;5;241;43m4\u001b[39;49m\u001b[43mj\u001b[49m\u001b[43m)\u001b[49m\n",
      "\u001b[1;31mTypeError\u001b[0m: float() argument must be a string or a real number, not 'complex'"
     ]
    }
   ],
   "source": [
    "float(4j)"
   ]
  },
  {
   "cell_type": "code",
   "execution_count": 7,
   "id": "a24af407",
   "metadata": {},
   "outputs": [
    {
     "name": "stdout",
     "output_type": "stream",
     "text": [
      "'Hello'\n"
     ]
    }
   ],
   "source": [
    "print('\\'Hello\\'')"
   ]
  },
  {
   "cell_type": "code",
   "execution_count": 7,
   "id": "4ea81963",
   "metadata": {},
   "outputs": [
    {
     "name": "stdout",
     "output_type": "stream",
     "text": [
      "number  :44\n"
     ]
    },
    {
     "data": {
      "text/plain": [
       "str"
      ]
     },
     "execution_count": 7,
     "metadata": {},
     "output_type": "execute_result"
    }
   ],
   "source": [
    "x = input  (\"number\")\n",
    "\n",
    "type(x)"
   ]
  },
  {
   "cell_type": "code",
   "execution_count": 13,
   "id": "bbbd5d0c",
   "metadata": {},
   "outputs": [
    {
     "name": "stdout",
     "output_type": "stream",
     "text": [
      "Even noumber33\n",
      "odd number34\n",
      "3334\n"
     ]
    },
    {
     "data": {
      "text/plain": [
       "str"
      ]
     },
     "execution_count": 13,
     "metadata": {},
     "output_type": "execute_result"
    }
   ],
   "source": [
    "q = input(\"Even noumber\")\n",
    "r = input(\"odd number\")\n",
    "\n",
    "s = q+r\n",
    "print(s)\n",
    "type(s)"
   ]
  },
  {
   "cell_type": "code",
   "execution_count": 16,
   "id": "600907f3",
   "metadata": {},
   "outputs": [
    {
     "data": {
      "text/plain": [
       "3334.0"
      ]
     },
     "execution_count": 16,
     "metadata": {},
     "output_type": "execute_result"
    }
   ],
   "source": [
    "float(3334)\n"
   ]
  },
  {
   "cell_type": "code",
   "execution_count": 24,
   "id": "71e88fb9",
   "metadata": {},
   "outputs": [
    {
     "data": {
      "text/plain": [
       "3334"
      ]
     },
     "execution_count": 24,
     "metadata": {},
     "output_type": "execute_result"
    }
   ],
   "source": [
    "int(3334)\n"
   ]
  },
  {
   "cell_type": "code",
   "execution_count": 23,
   "id": "abe0395e",
   "metadata": {},
   "outputs": [
    {
     "data": {
      "text/plain": [
       "True"
      ]
     },
     "execution_count": 23,
     "metadata": {},
     "output_type": "execute_result"
    }
   ],
   "source": [
    "bool(3334)\n"
   ]
  },
  {
   "cell_type": "code",
   "execution_count": 20,
   "id": "a4beba22",
   "metadata": {},
   "outputs": [
    {
     "data": {
      "text/plain": [
       "(3334+0j)"
      ]
     },
     "execution_count": 20,
     "metadata": {},
     "output_type": "execute_result"
    }
   ],
   "source": [
    "complex(3334)"
   ]
  },
  {
   "cell_type": "code",
   "execution_count": 3,
   "id": "587e9dc0",
   "metadata": {},
   "outputs": [
    {
     "name": "stdout",
     "output_type": "stream",
     "text": [
      "even number24\n",
      "odd number13\n",
      "2413\n",
      "<class 'str'>\n",
      "2413\n",
      "<class 'int'>\n",
      "2413.0\n"
     ]
    }
   ],
   "source": [
    "h = input(\"even number\")\n",
    "e = input(\"odd number\")\n",
    "\n",
    "t = h + e\n",
    "print(t)\n",
    "print(type(t))\n",
    "print(int(t))\n",
    "print(type(int(t)))\n",
    "print(float(t))"
   ]
  },
  {
   "cell_type": "code",
   "execution_count": 12,
   "id": "ab0e237b",
   "metadata": {},
   "outputs": [
    {
     "name": "stdout",
     "output_type": "stream",
     "text": [
      "even number 24\n",
      "odd number 13\n",
      " 24 13\n",
      "<class 'str'>\n",
      "True\n",
      "<class 'bool'>\n"
     ]
    }
   ],
   "source": [
    "h = input(\"even number\")\n",
    "e = input(\"odd number\")\n",
    "\n",
    "t = h + e\n",
    "print(t)\n",
    "print(type(t))\n",
    "print(bool(t))\n",
    "print(type(bool(t)))"
   ]
  },
  {
   "cell_type": "code",
   "execution_count": 17,
   "id": "40b645e5",
   "metadata": {},
   "outputs": [
    {
     "name": "stdout",
     "output_type": "stream",
     "text": [
      "even number 24\n",
      "odd number12\n",
      " 2412\n",
      "<class 'str'>\n",
      "2412.0\n",
      "<class 'float'>\n"
     ]
    }
   ],
   "source": [
    "h = input(\"even number\")\n",
    "e = input(\"odd number\")\n",
    "\n",
    "t = h + e\n",
    "print(t)\n",
    "print(type(t))\n",
    "print(float(t))\n",
    "print(type(float(t)))"
   ]
  },
  {
   "cell_type": "code",
   "execution_count": 20,
   "id": "1346d258",
   "metadata": {},
   "outputs": [
    {
     "name": "stdout",
     "output_type": "stream",
     "text": [
      "even number 24\n",
      "odd number12 \n",
      " 2412 \n",
      "<class 'str'>\n",
      "(2412+0j)\n",
      "<class 'complex'>\n"
     ]
    }
   ],
   "source": [
    "h = input(\"even number\")\n",
    "e = input(\"odd number\")\n",
    "\n",
    "t = h + e\n",
    "print(t)\n",
    "print(type(t))\n",
    "print(complex(t))\n",
    "print(type(complex(t)))"
   ]
  },
  {
   "cell_type": "markdown",
   "id": "65f514b5",
   "metadata": {},
   "source": [
    "# Question matter\n",
    "\n",
    "Answer following question and write them in your journal\n",
    "\n",
    "- what one thing-if i did it-would profoundly improve the way i work(and how i live)?\n",
    "- what needs to happen between now and the end of the next 90 days for me to feel that\n",
    "  this is the best quarter of my work and personal life? (Remember clarity preceds mastery)\n",
    "- what do i need to express appreciation to?(Make your list long)\n",
    "- what would i like to improve ,professionaly and persona?\n",
    "- what could be i grateful for that i am not grateful for?\n",
    "- How do I want to be remembered at my last day of the journey?\n"
   ]
  },
  {
   "cell_type": "code",
   "execution_count": 1,
   "id": "e26ce325",
   "metadata": {},
   "outputs": [
    {
     "name": "stdout",
     "output_type": "stream",
     "text": [
      "Enter Himanshu Marks97\n",
      "97.0 (97, ('97', (97+0j)))\n"
     ]
    }
   ],
   "source": [
    "name = input(\"Enter Himanshu Marks\")\n",
    "print(float(name),(int(name),(str(name),(complex(name)))))"
   ]
  },
  {
   "cell_type": "code",
   "execution_count": 4,
   "id": "a15cfcbb",
   "metadata": {},
   "outputs": [
    {
     "name": "stdout",
     "output_type": "stream",
     "text": [
      "Enter Gagan Marks342\n",
      "\n",
      "\n",
      "342.0 (342, '342')\n"
     ]
    },
    {
     "data": {
      "text/plain": [
       "(float, 342, '342')"
      ]
     },
     "execution_count": 4,
     "metadata": {},
     "output_type": "execute_result"
    }
   ],
   "source": [
    "j = input(\"Enter Gagan Marks\")\n",
    "print(\"\\n\")\n",
    "print(float(j),(int(j),(str(j))))\n",
    "type(float(j)),(int(j)),(str(j))"
   ]
  },
  {
   "cell_type": "code",
   "execution_count": 2,
   "id": "4d9a40b7",
   "metadata": {},
   "outputs": [
    {
     "name": "stdout",
     "output_type": "stream",
     "text": [
      "Enter Gagan Marks342\n",
      "\n",
      "\n",
      "342.0 (342, '342')\n"
     ]
    },
    {
     "ename": "TypeError",
     "evalue": "type() takes 1 or 3 arguments",
     "output_type": "error",
     "traceback": [
      "\u001b[1;31m---------------------------------------------------------------------------\u001b[0m",
      "\u001b[1;31mTypeError\u001b[0m                                 Traceback (most recent call last)",
      "Cell \u001b[1;32mIn[2], line 4\u001b[0m\n\u001b[0;32m      2\u001b[0m \u001b[38;5;28mprint\u001b[39m(\u001b[38;5;124m\"\u001b[39m\u001b[38;5;130;01m\\n\u001b[39;00m\u001b[38;5;124m\"\u001b[39m)\n\u001b[0;32m      3\u001b[0m \u001b[38;5;28mprint\u001b[39m(\u001b[38;5;28mfloat\u001b[39m(j),(\u001b[38;5;28mint\u001b[39m(j),(\u001b[38;5;28mstr\u001b[39m(j))))\n\u001b[1;32m----> 4\u001b[0m (\u001b[38;5;28mtype\u001b[39m(\u001b[38;5;28mfloat\u001b[39m(j),(\u001b[38;5;28;43mtype\u001b[39;49m\u001b[43m(\u001b[49m\u001b[38;5;28;43mint\u001b[39;49m\u001b[43m(\u001b[49m\u001b[43mj\u001b[49m\u001b[43m)\u001b[49m\u001b[43m,\u001b[49m\u001b[43m(\u001b[49m\u001b[38;5;28;43mtype\u001b[39;49m\u001b[43m(\u001b[49m\u001b[38;5;28;43mstr\u001b[39;49m\u001b[43m(\u001b[49m\u001b[43mj\u001b[49m\u001b[43m)\u001b[49m\u001b[43m)\u001b[49m\u001b[43m)\u001b[49m\u001b[43m)\u001b[49m)))\n",
      "\u001b[1;31mTypeError\u001b[0m: type() takes 1 or 3 arguments"
     ]
    }
   ],
   "source": [
    "j = input(\"Enter Gagan Marks\")\n",
    "print(\"\\n\")\n",
    "print(float(j),(int(j),(str(j))))\n",
    "(type(float(j),(type(int(j),(type(str(j)))))))"
   ]
  },
  {
   "cell_type": "code",
   "execution_count": 3,
   "id": "42eec371",
   "metadata": {},
   "outputs": [
    {
     "name": "stdout",
     "output_type": "stream",
     "text": [
      "Enter Gagan Marks324\n",
      "\n",
      "\n",
      "324.0 (324, '324')\n"
     ]
    },
    {
     "data": {
      "text/plain": [
       "(float, int, str)"
      ]
     },
     "execution_count": 3,
     "metadata": {},
     "output_type": "execute_result"
    }
   ],
   "source": [
    "j = input(\"Enter Gagan Marks\")\n",
    "print(\"\\n\")\n",
    "print(float(j),(int(j),(str(j))))\n",
    "type(float(j)),type(int(j)),type(str(j))"
   ]
  },
  {
   "cell_type": "code",
   "execution_count": null,
   "id": "097f2e6c",
   "metadata": {},
   "outputs": [],
   "source": [
    "name = input(\"Enter your name\")\n",
    "age = input(\"Enter your age\")\n",
    "salary = input(\"Enter your Salary\")\n"
   ]
  },
  {
   "cell_type": "code",
   "execution_count": 3,
   "id": "8f333fe8",
   "metadata": {},
   "outputs": [
    {
     "data": {
      "text/plain": [
       "90"
      ]
     },
     "execution_count": 3,
     "metadata": {},
     "output_type": "execute_result"
    }
   ],
   "source": [
    "(int(90.7))"
   ]
  }
 ],
 "metadata": {
  "kernelspec": {
   "display_name": "Python 3 (ipykernel)",
   "language": "python",
   "name": "python3"
  },
  "language_info": {
   "codemirror_mode": {
    "name": "ipython",
    "version": 3
   },
   "file_extension": ".py",
   "mimetype": "text/x-python",
   "name": "python",
   "nbconvert_exporter": "python",
   "pygments_lexer": "ipython3",
   "version": "3.10.9"
  }
 },
 "nbformat": 4,
 "nbformat_minor": 5
}
