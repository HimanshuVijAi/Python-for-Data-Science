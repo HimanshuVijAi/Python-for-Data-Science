{
 "cells": [
  {
   "cell_type": "code",
   "execution_count": 5,
   "id": "3e7d4fe4",
   "metadata": {},
   "outputs": [
    {
     "name": "stdout",
     "output_type": "stream",
     "text": [
      "[5, 4, 3, 2, 1]\n"
     ]
    }
   ],
   "source": [
    "a = [1, 2, 3, 4, 5]\n",
    "b = a[::-1]\n",
    "print(b)"
   ]
  },
  {
   "cell_type": "code",
   "execution_count": 11,
   "id": "739cd9dd",
   "metadata": {},
   "outputs": [
    {
     "name": "stdout",
     "output_type": "stream",
     "text": [
      "[5, 7, 9]\n"
     ]
    }
   ],
   "source": [
    "p = [1, 2, 3]\n",
    "q = [4, 5, 6]\n",
    "\n",
    "r = [x + y for x, y in zip(p,q)]\n",
    "print(r)"
   ]
  },
  {
   "cell_type": "code",
   "execution_count": 13,
   "id": "71276bfd",
   "metadata": {},
   "outputs": [
    {
     "name": "stdout",
     "output_type": "stream",
     "text": [
      "[1, 4, 9, 16, 25]\n"
     ]
    }
   ],
   "source": [
    "a = [1, 2, 3, 4, 5]\n",
    "b = [x ** 2 for x in a]\n",
    "print(b)  "
   ]
  },
  {
   "cell_type": "raw",
   "id": "b8cb5e94",
   "metadata": {},
   "source": [
    "A programmer came up with a program that would.Find the highest numberfrom a given set of numbers.the numbers provided were\n",
    "stored as a list in a list variable called 'number_data' and the program that he designed looked like this:"
   ]
  },
  {
   "cell_type": "code",
   "execution_count": 3,
   "id": "7ac7063f",
   "metadata": {},
   "outputs": [
    {
     "name": "stdout",
     "output_type": "stream",
     "text": [
      "79843740\n"
     ]
    }
   ],
   "source": [
    "number_data = [323, 209, 5900, 31092, 3402, 39803, 78341, 79843740, 895, 6749, 2870984]\n",
    "\n",
    "num = number_data[0]\n",
    "\n",
    "for number in number_data:\n",
    "    if number > num:\n",
    "        num = number\n",
    "\n",
    "print(num)"
   ]
  },
  {
   "cell_type": "code",
   "execution_count": 7,
   "id": "336b7f81",
   "metadata": {},
   "outputs": [
    {
     "ename": "SyntaxError",
     "evalue": "cannot assign to expression here. Maybe you meant '==' instead of '='? (3536201665.py, line 2)",
     "output_type": "error",
     "traceback": [
      "\u001b[1;36m  Cell \u001b[1;32mIn[7], line 2\u001b[1;36m\u001b[0m\n\u001b[1;33m    if num%2= 0:\u001b[0m\n\u001b[1;37m       ^\u001b[0m\n\u001b[1;31mSyntaxError\u001b[0m\u001b[1;31m:\u001b[0m cannot assign to expression here. Maybe you meant '==' instead of '='?\n"
     ]
    }
   ],
   "source": [
    "As a school_project,every student was askedto come up with a program that is no longer than 10 lines and is able to do some\n",
    "basic mathematics to produce answers.The studentts came up with a simple program that asks the user to type in a number and \n",
    "will let them know if the number is even or odd.The program is as shown below:\n",
    "    \n",
    "print(\"Setting the ODDS,EVEN!\")\n",
    "\n",
    "num = input(\"Enter a Number:\")\n",
    "if (num%2) = 0:\n",
    "    print(\"{0} is Even\")\n",
    "else:\n",
    "    print(\"{0} is odd\")"
   ]
  },
  {
   "cell_type": "code",
   "execution_count": 9,
   "id": "b5fb41fa",
   "metadata": {},
   "outputs": [
    {
     "name": "stdout",
     "output_type": "stream",
     "text": [
      "Testing for ODD or EVEN!\n",
      "Enter a Number:100\n",
      "100 is Even\n"
     ]
    }
   ],
   "source": [
    "print(\"Testing for ODD or EVEN!\")\n",
    "\n",
    "num = int(input(\"Enter a Number:\"))\n",
    "\n",
    "if num % 2 == 0:\n",
    "    print(f\"{num} is Even\")\n",
    "else:\n",
    "    print(f\"{num} is Odd\")"
   ]
  },
  {
   "cell_type": "raw",
   "id": "aeffe956",
   "metadata": {},
   "source": [
    " A Programmer has been asked to create a simple program wwhere he is to map out digits from zero to nine in words.The \n",
    "program will ask a user to enter his/her number, and the program will print the same out in text instead.The desired result\n",
    "is as shown below:\n",
    "    \n",
    "Please,enter your number:415602397\n",
    "    \n",
    "output:Four One Five Six Zero Two Three Nine Seven"
   ]
  },
  {
   "cell_type": "code",
   "execution_count": 1,
   "id": "544ad283",
   "metadata": {},
   "outputs": [
    {
     "name": "stdout",
     "output_type": "stream",
     "text": [
      "Please,enter your number: 45677\n",
      "Output: Four Five Six Seven Seven \n"
     ]
    }
   ],
   "source": [
    "digit_word = {'0': 'Zero','1': 'One','2': 'Two','3': 'Three','4': 'Four','5': 'Five','6': 'Six','7': 'Seven','8': 'Eight','9': 'Nine'}\n",
    "\n",
    "user_input = input(\"Please,enter your number: \")\n",
    "result = \"\"\n",
    " \n",
    "for i in user_input:\n",
    "    if i in digit_word:\n",
    "        result = result+digit_word[i] + \" \"\n",
    "\n",
    "print(\"Output:\", result)"
   ]
  },
  {
   "cell_type": "code",
   "execution_count": 13,
   "id": "46bf4116",
   "metadata": {},
   "outputs": [
    {
     "name": "stdout",
     "output_type": "stream",
     "text": [
      "Please,enter your number: 778\n",
      "Output: Seven Seven Eight \n"
     ]
    }
   ],
   "source": [
    "x = {'0': 'Zero','1': 'One','2': 'Two','3': 'Three','4': 'Four','5': 'Five','6': 'Six','7': 'Seven','8': 'Eight','9': 'Nine'}\n",
    "\n",
    "y = input(\"Please,enter your number: \")\n",
    "z = \"\"\n",
    " \n",
    "for i in y:\n",
    "    if i in x:\n",
    "        z = z+x[i] + \" \"\n",
    "\n",
    "print(\"Output:\",z)"
   ]
  },
  {
   "cell_type": "code",
   "execution_count": null,
   "id": "3fa59181",
   "metadata": {},
   "outputs": [],
   "source": []
  }
 ],
 "metadata": {
  "kernelspec": {
   "display_name": "Python 3 (ipykernel)",
   "language": "python",
   "name": "python3"
  },
  "language_info": {
   "codemirror_mode": {
    "name": "ipython",
    "version": 3
   },
   "file_extension": ".py",
   "mimetype": "text/x-python",
   "name": "python",
   "nbconvert_exporter": "python",
   "pygments_lexer": "ipython3",
   "version": "3.10.9"
  }
 },
 "nbformat": 4,
 "nbformat_minor": 5
}
