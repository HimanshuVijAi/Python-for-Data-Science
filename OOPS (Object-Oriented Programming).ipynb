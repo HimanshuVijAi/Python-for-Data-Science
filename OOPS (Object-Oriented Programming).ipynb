{
 "cells": [
  {
   "cell_type": "markdown",
   "id": "d45fa3f5",
   "metadata": {},
   "source": [
    "<font size=10> Classes & Objects."
   ]
  },
  {
   "cell_type": "markdown",
   "id": "aaf5941c",
   "metadata": {},
   "source": [
    "### Every object has the following properties."
   ]
  },
  {
   "cell_type": "markdown",
   "id": "8ba7921b",
   "metadata": {},
   "source": [
    "- Identity: Every object must be uniquely identified.\n",
    "- State: An object has attributes that represents the state of an object.\n",
    "- Behaviour: An object has methods that represents its behaviour."
   ]
  },
  {
   "cell_type": "markdown",
   "id": "b6b213fa",
   "metadata": {},
   "source": [
    "Object is an instance of a class."
   ]
  },
  {
   "cell_type": "markdown",
   "id": "e2f3d883",
   "metadata": {},
   "source": [
    "Class is a Blueprint or code template for objects creation .Using a class, you can create as many objects as you want."
   ]
  },
  {
   "cell_type": "code",
   "execution_count": 3,
   "id": "880bd9ef",
   "metadata": {},
   "outputs": [
    {
     "data": {
      "text/plain": [
       "'This is a docstring. I have created a class.'"
      ]
     },
     "execution_count": 3,
     "metadata": {},
     "output_type": "execute_result"
    }
   ],
   "source": [
    "# Creating a class\n",
    "class class_name:\n",
    "    \"\"\"This is a docstring. I have created a class.\"\"\"\n",
    "    \n",
    "class_name.__doc__    "
   ]
  },
  {
   "cell_type": "code",
   "execution_count": 12,
   "id": "2e658095",
   "metadata": {},
   "outputs": [],
   "source": [
    "# creating an object.\n",
    "class Person:\n",
    "    def __init__():                  # object initialisation\n",
    "        # State(attributes)\n",
    "        self.name = name\n",
    "        self.gender = gender\n",
    "        self.profession = profession\n",
    "        \n",
    "    # Behaviour (methods)\n",
    "    def show(self):\n",
    "        print(\"Name:\", self.name,\"gender: \",self.gender,\"Profession: \",self.profession)\n",
    "        \n",
    "        \n",
    "    def work(self):\n",
    "        print(self.name,\" is working as a \",self.profession)"
   ]
  },
  {
   "cell_type": "code",
   "execution_count": 13,
   "id": "810f2780",
   "metadata": {},
   "outputs": [
    {
     "ename": "TypeError",
     "evalue": "Person.__init__() takes 0 positional arguments but 1 was given",
     "output_type": "error",
     "traceback": [
      "\u001b[1;31m---------------------------------------------------------------------------\u001b[0m",
      "\u001b[1;31mTypeError\u001b[0m                                 Traceback (most recent call last)",
      "Cell \u001b[1;32mIn[13], line 1\u001b[0m\n\u001b[1;32m----> 1\u001b[0m ram \u001b[38;5;241m=\u001b[39m \u001b[43mPerson\u001b[49m\u001b[43m(\u001b[49m\u001b[43m)\u001b[49m\n",
      "\u001b[1;31mTypeError\u001b[0m: Person.__init__() takes 0 positional arguments but 1 was given"
     ]
    }
   ],
   "source": [
    "ram = Person()"
   ]
  },
  {
   "cell_type": "code",
   "execution_count": 7,
   "id": "91c54a29",
   "metadata": {},
   "outputs": [],
   "source": [
    "# creating an object.\n",
    "class Person:\n",
    "    def __init__(self,name,gender,profession):                  # object initialisation\n",
    "        # State(attributes)\n",
    "        self.name_ = name\n",
    "        self.gender_ = gender\n",
    "        self.profession_ = profession\n",
    "        \n",
    "    # Behaviour (methods)\n",
    "    def show(self):\n",
    "        print('Name:', self.name_, 'Gender:', self.gender_, 'Profession:', self.profession_)\n",
    "        \n",
    "    def work(self):\n",
    "        print(self.name_, 'is working as a', self.profession_)"
   ]
  },
  {
   "cell_type": "code",
   "execution_count": 9,
   "id": "15d5d083",
   "metadata": {},
   "outputs": [
    {
     "name": "stdout",
     "output_type": "stream",
     "text": [
      "Name: ram Gender: male Profession: software developer\n"
     ]
    }
   ],
   "source": [
    "ram.show()\n"
   ]
  },
  {
   "cell_type": "code",
   "execution_count": 10,
   "id": "d2bb3c6b",
   "metadata": {},
   "outputs": [
    {
     "name": "stdout",
     "output_type": "stream",
     "text": [
      "ram is working as a software developer\n"
     ]
    }
   ],
   "source": [
    "ram.work()"
   ]
  },
  {
   "cell_type": "code",
   "execution_count": 13,
   "id": "5205aa95",
   "metadata": {},
   "outputs": [],
   "source": [
    "# object creation\n",
    "\n",
    "ram = Person(\"ram\",\"male\",\"software developer\")\n",
    "shyam = Person(\"Shyam\",\"male\",\"data scientist\")"
   ]
  },
  {
   "cell_type": "code",
   "execution_count": 44,
   "id": "013be5ee",
   "metadata": {},
   "outputs": [
    {
     "name": "stdout",
     "output_type": "stream",
     "text": [
      "software developer\n",
      "ram\n",
      "male\n"
     ]
    }
   ],
   "source": [
    "print(ram.profession_)\n",
    "print(ram.name_)\n",
    "print(ram.gender_)"
   ]
  },
  {
   "cell_type": "code",
   "execution_count": 46,
   "id": "c9d4ea47",
   "metadata": {},
   "outputs": [
    {
     "name": "stdout",
     "output_type": "stream",
     "text": [
      "150000\n"
     ]
    }
   ],
   "source": [
    "ram.salary = 150000                          # you wanted to add some more attribute to the function from outside \n",
    "print(ram.salary)                            # the function also used."
   ]
  },
  {
   "cell_type": "code",
   "execution_count": 15,
   "id": "682b5dbe",
   "metadata": {},
   "outputs": [
    {
     "name": "stdout",
     "output_type": "stream",
     "text": [
      "web developer\n"
     ]
    }
   ],
   "source": [
    "shyam.profession_ = \"web developer\"\n",
    "print(shyam.profession_)"
   ]
  },
  {
   "cell_type": "code",
   "execution_count": 16,
   "id": "0cd38aac",
   "metadata": {},
   "outputs": [
    {
     "name": "stdout",
     "output_type": "stream",
     "text": [
      "Name: Shyam Gender: male Profession: web developer\n"
     ]
    }
   ],
   "source": [
    "shyam.show()"
   ]
  },
  {
   "cell_type": "code",
   "execution_count": 35,
   "id": "e5a7fd3a",
   "metadata": {},
   "outputs": [
    {
     "data": {
      "text/plain": [
       "<__main__.Person at 0x247453665f0>"
      ]
     },
     "execution_count": 35,
     "metadata": {},
     "output_type": "execute_result"
    }
   ],
   "source": [
    "Person(\"ram\",\"male\",\"software developer\")"
   ]
  },
  {
   "cell_type": "code",
   "execution_count": 36,
   "id": "cdafd99d",
   "metadata": {},
   "outputs": [
    {
     "data": {
      "text/plain": [
       "<__main__.Person at 0x24745366800>"
      ]
     },
     "execution_count": 36,
     "metadata": {},
     "output_type": "execute_result"
    }
   ],
   "source": [
    "Person(\"Shyam\",\"male\",\"data scientist\")"
   ]
  },
  {
   "cell_type": "code",
   "execution_count": 37,
   "id": "c90e5430",
   "metadata": {},
   "outputs": [
    {
     "name": "stdout",
     "output_type": "stream",
     "text": [
      "<__main__.Person object at 0x00000247452F5CC0>\n"
     ]
    }
   ],
   "source": [
    "print(ram)"
   ]
  },
  {
   "cell_type": "code",
   "execution_count": 38,
   "id": "29db6705",
   "metadata": {},
   "outputs": [
    {
     "name": "stdout",
     "output_type": "stream",
     "text": [
      "<__main__.Person object at 0x00000247452DD300>\n"
     ]
    }
   ],
   "source": [
    "print(Shyam)"
   ]
  },
  {
   "cell_type": "code",
   "execution_count": null,
   "id": "81c2a64a",
   "metadata": {},
   "outputs": [],
   "source": [
    "# Making a New object"
   ]
  },
  {
   "cell_type": "code",
   "execution_count": 1,
   "id": "c6aa4fcc",
   "metadata": {},
   "outputs": [],
   "source": [
    "class Cars:\n",
    "    def __init__(supercar,name,model,color):\n",
    "        \n",
    "        supercar.name = name\n",
    "        supercar.model = model\n",
    "        supercar.color = color   "
   ]
  },
  {
   "cell_type": "code",
   "execution_count": 2,
   "id": "715b7b62",
   "metadata": {},
   "outputs": [],
   "source": [
    "x = Cars(\"BMW\",\"M4\",\"Black\")\n",
    "y = Cars(\"Audi\",\"Q7\",\"Nardo grey\")"
   ]
  },
  {
   "cell_type": "code",
   "execution_count": 3,
   "id": "6f3695b7",
   "metadata": {},
   "outputs": [
    {
     "name": "stdout",
     "output_type": "stream",
     "text": [
      "BMW\n",
      "Audi\n"
     ]
    }
   ],
   "source": [
    "print(x.name)\n",
    "print(y.name)"
   ]
  },
  {
   "cell_type": "code",
   "execution_count": 6,
   "id": "f8a5f2be",
   "metadata": {},
   "outputs": [
    {
     "name": "stdout",
     "output_type": "stream",
     "text": [
      "Black\n",
      "Nardo grey\n"
     ]
    }
   ],
   "source": [
    "print(x.color)\n",
    "print(y.color)"
   ]
  },
  {
   "cell_type": "code",
   "execution_count": 7,
   "id": "f7178cae",
   "metadata": {},
   "outputs": [
    {
     "name": "stdout",
     "output_type": "stream",
     "text": [
      "M4\n",
      "Q7\n"
     ]
    }
   ],
   "source": [
    "print(x.model)\n",
    "print(y.model)"
   ]
  },
  {
   "cell_type": "code",
   "execution_count": 8,
   "id": "c4d55049",
   "metadata": {},
   "outputs": [],
   "source": [
    "x.price = 4500000"
   ]
  },
  {
   "cell_type": "code",
   "execution_count": 9,
   "id": "79d31245",
   "metadata": {},
   "outputs": [
    {
     "name": "stdout",
     "output_type": "stream",
     "text": [
      "4500000\n"
     ]
    }
   ],
   "source": [
    "print(x.price)"
   ]
  },
  {
   "cell_type": "code",
   "execution_count": 10,
   "id": "e931483d",
   "metadata": {
    "scrolled": true
   },
   "outputs": [
    {
     "name": "stdout",
     "output_type": "stream",
     "text": [
      "<__main__.Cars object at 0x00000264506C7C40>\n",
      "<__main__.Cars object at 0x0000026450626170>\n"
     ]
    }
   ],
   "source": [
    "print(x)\n",
    "print(y)"
   ]
  },
  {
   "cell_type": "code",
   "execution_count": 11,
   "id": "f4406658",
   "metadata": {},
   "outputs": [],
   "source": [
    "# Methods are defined for the objects of a particular class whereas functions are not defined for a particular class."
   ]
  },
  {
   "cell_type": "markdown",
   "id": "d7bbe765",
   "metadata": {},
   "source": [
    "# Class Attributes."
   ]
  },
  {
   "cell_type": "markdown",
   "id": "80951b45",
   "metadata": {},
   "source": [
    "- Instance variables.\n",
    "- Class variables."
   ]
  },
  {
   "cell_type": "code",
   "execution_count": 12,
   "id": "5af1d423",
   "metadata": {},
   "outputs": [],
   "source": [
    "# Instance variables - Attached to an instance(object) of a class.\n",
    "#                    - Defined inside any method but generally inside\n",
    "#                      the __init__() method\n",
    "#                    - Every objectwill have its own copy.\n",
    "\n",
    "# Class variables - Attached to the class.\n",
    "#                 - Declared inside the class but uoutside of any method.\n",
    "#                 - Every object will share the same class variable."
   ]
  },
  {
   "cell_type": "code",
   "execution_count": 58,
   "id": "f98291e0",
   "metadata": {},
   "outputs": [],
   "source": [
    "class Student:\n",
    "    # Class variables\n",
    "    school_name = \"ABC School\"\n",
    "\n",
    "    def __init__(self,name,age):\n",
    "        # instance variables\n",
    "        self.name = name\n",
    "        self.age = age\n",
    "        \n",
    "s1 = Student(\"Jack\",12)        "
   ]
  },
  {
   "cell_type": "code",
   "execution_count": 59,
   "id": "cfba7c6d",
   "metadata": {},
   "outputs": [
    {
     "name": "stdout",
     "output_type": "stream",
     "text": [
      "Students:  Jack 12\n"
     ]
    }
   ],
   "source": [
    "# access instance variables\n",
    "print(\"Students: \", s1.name,s1.age)"
   ]
  },
  {
   "cell_type": "code",
   "execution_count": 60,
   "id": "f208e256",
   "metadata": {},
   "outputs": [
    {
     "name": "stdout",
     "output_type": "stream",
     "text": [
      "School name: ABC School\n"
     ]
    }
   ],
   "source": [
    "# access class variables\n",
    "print(\"School name:\",Student.school_name)"
   ]
  },
  {
   "cell_type": "code",
   "execution_count": 61,
   "id": "00b43a5c",
   "metadata": {},
   "outputs": [
    {
     "data": {
      "text/plain": [
       "'ABC School'"
      ]
     },
     "execution_count": 61,
     "metadata": {},
     "output_type": "execute_result"
    }
   ],
   "source": [
    "s1.school_name"
   ]
  },
  {
   "cell_type": "code",
   "execution_count": 62,
   "id": "7a9d9763",
   "metadata": {},
   "outputs": [
    {
     "name": "stdout",
     "output_type": "stream",
     "text": [
      "Student: Tom 14\n"
     ]
    }
   ],
   "source": [
    "# modify instance variables.\n",
    "s1.name = \"Tom\"\n",
    "s1.age = 14\n",
    "print(\"Student:\",s1.name,s1.age)"
   ]
  },
  {
   "cell_type": "code",
   "execution_count": 63,
   "id": "98c92704",
   "metadata": {},
   "outputs": [
    {
     "name": "stdout",
     "output_type": "stream",
     "text": [
      "School name:  XYZ School\n"
     ]
    }
   ],
   "source": [
    "# modify class variables.\n",
    "Student.school_name = \"XYZ School\"\n",
    "print(\"School name: \",Student.school_name)"
   ]
  },
  {
   "cell_type": "code",
   "execution_count": 64,
   "id": "c6b7bf59",
   "metadata": {},
   "outputs": [
    {
     "name": "stdout",
     "output_type": "stream",
     "text": [
      "XYZ School\n",
      "XYZ School\n"
     ]
    }
   ],
   "source": [
    "# Experiments \n",
    "\n",
    "s2 = Student(\"James\",12)\n",
    "s2.school_name = \"XYZ School\"          # This creates an instance variable \"school_name\"\n",
    "print(s2.school_name)\n",
    "print(Student.school_name)             # But the class variable \"school_name\" does not change."
   ]
  },
  {
   "cell_type": "code",
   "execution_count": 49,
   "id": "f2ca1dfb",
   "metadata": {},
   "outputs": [
    {
     "data": {
      "text/plain": [
       "'XYZ School'"
      ]
     },
     "execution_count": 49,
     "metadata": {},
     "output_type": "execute_result"
    }
   ],
   "source": [
    "s1.school_name"
   ]
  },
  {
   "cell_type": "markdown",
   "id": "abe1f031",
   "metadata": {},
   "source": [
    "# Deleting object Attributes."
   ]
  },
  {
   "cell_type": "code",
   "execution_count": 66,
   "id": "cf429d26",
   "metadata": {},
   "outputs": [],
   "source": [
    "del s2.school_name"
   ]
  },
  {
   "cell_type": "code",
   "execution_count": 67,
   "id": "b7df3d6c",
   "metadata": {},
   "outputs": [
    {
     "data": {
      "text/plain": [
       "'XYZ School'"
      ]
     },
     "execution_count": 67,
     "metadata": {},
     "output_type": "execute_result"
    }
   ],
   "source": [
    "s2.school_name"
   ]
  },
  {
   "cell_type": "markdown",
   "id": "8685e06a",
   "metadata": {},
   "source": [
    "# Deleting an Object."
   ]
  },
  {
   "cell_type": "code",
   "execution_count": 68,
   "id": "fc977b25",
   "metadata": {},
   "outputs": [],
   "source": [
    "del s2"
   ]
  },
  {
   "cell_type": "code",
   "execution_count": 69,
   "id": "4670b7b6",
   "metadata": {},
   "outputs": [
    {
     "ename": "NameError",
     "evalue": "name 's2' is not defined",
     "output_type": "error",
     "traceback": [
      "\u001b[1;31m---------------------------------------------------------------------------\u001b[0m",
      "\u001b[1;31mNameError\u001b[0m                                 Traceback (most recent call last)",
      "Cell \u001b[1;32mIn[69], line 1\u001b[0m\n\u001b[1;32m----> 1\u001b[0m \u001b[43ms2\u001b[49m\u001b[38;5;241m.\u001b[39mschool_name\n",
      "\u001b[1;31mNameError\u001b[0m: name 's2' is not defined"
     ]
    }
   ],
   "source": [
    "s2.school_name"
   ]
  },
  {
   "cell_type": "markdown",
   "id": "59a7772f",
   "metadata": {},
   "source": [
    "<font size=22> Constructors & Destructors."
   ]
  },
  {
   "cell_type": "markdown",
   "id": "8ebd45a6",
   "metadata": {},
   "source": [
    "# Constructors"
   ]
  },
  {
   "cell_type": "markdown",
   "id": "cb29f5c9",
   "metadata": {},
   "source": [
    "A constructor is a special method used to initialize an object of a class."
   ]
  },
  {
   "cell_type": "markdown",
   "id": "4f950c8a",
   "metadata": {},
   "source": [
    "- Defining constructors is optional.\n",
    "- python will provide a default constructors if no constructor is defined.\n",
    "- The constructor is executed automatically at the time of object creation.\n",
    "- The primary use of a constructor is to initialize variables of an object.The constructor contains a collection of statements that executed at the time  of object creation."
   ]
  },
  {
   "cell_type": "code",
   "execution_count": 2,
   "id": "195245ed",
   "metadata": {},
   "outputs": [],
   "source": [
    "class Student:\n",
    "    pass\n",
    "\n",
    "# Python gives default constructor.\n",
    "s1 = Student()\n",
    "s2 = Student()\n",
    "s3 = Student()"
   ]
  },
  {
   "cell_type": "code",
   "execution_count": 3,
   "id": "5c2e812a",
   "metadata": {},
   "outputs": [],
   "source": [
    "s1.name = \"ram\"\n",
    "s1.age = 15\n",
    "s1.profession = \"web developer\"\n",
    "\n",
    "s2.name = \"shyam\"\n",
    "s2.age = 18\n",
    "s2.profession = \"software developer\"\n",
    "\n",
    "s3.name = \"neeraj\"\n",
    "s3.age = 17\n",
    "s3.profession = \"data scientist\""
   ]
  },
  {
   "cell_type": "code",
   "execution_count": 4,
   "id": "c1cf9e87",
   "metadata": {},
   "outputs": [],
   "source": [
    "class Student:\n",
    "    # constructor\n",
    "    # initialize instance variable.\n",
    "    def __init__(self,name,age,proff):\n",
    "        # instance variables\n",
    "        self.name = name\n",
    "        self.age = age\n",
    "        self.proffesion = proff\n",
    "        \n",
    "# create objects using constructors.        \n",
    "s1 = Student(\"ram\",15,\"web developer\")\n",
    "s2 = Student(\"shyam\",18,\"software developer\")\n",
    "s3 = Student(\"neeraj\",17,\"data scientist\")"
   ]
  },
  {
   "cell_type": "code",
   "execution_count": 10,
   "id": "59c88d48",
   "metadata": {},
   "outputs": [
    {
     "data": {
      "text/plain": [
       "17"
      ]
     },
     "execution_count": 10,
     "metadata": {},
     "output_type": "execute_result"
    }
   ],
   "source": [
    "s3.age"
   ]
  },
  {
   "cell_type": "markdown",
   "id": "078edce7",
   "metadata": {},
   "source": [
    "# Destructors."
   ]
  },
  {
   "cell_type": "markdown",
   "id": "6d1ffdc7",
   "metadata": {},
   "source": [
    "A destructor is called when an object is deleted or destroyed."
   ]
  },
  {
   "cell_type": "code",
   "execution_count": 13,
   "id": "9ecc0873",
   "metadata": {},
   "outputs": [
    {
     "name": "stdout",
     "output_type": "stream",
     "text": [
      "Inside constructor\n",
      "object initialized\n",
      "Hello,My name is Emma\n",
      "Inside destructor\n",
      "object destroyed \n"
     ]
    }
   ],
   "source": [
    "class Student:\n",
    "    \n",
    "    # constructor\n",
    "    def __init__ (self,name):\n",
    "        print(\"Inside constructor\")\n",
    "        self.name = name\n",
    "        print(\"object initialized\")\n",
    "        \n",
    "    def show(self):\n",
    "        print(\"Hello,My name is\",self.name)\n",
    "        \n",
    "    # destructor\n",
    "    def __del__(self):\n",
    "        print(\"Inside destructor\")\n",
    "        print(\"object destroyed \")\n",
    "        \n",
    "# create object.\n",
    "s1 = Student(\"Emma\")\n",
    "s1.show()\n",
    "\n",
    "# delete object\n",
    "del s1"
   ]
  },
  {
   "cell_type": "code",
   "execution_count": 31,
   "id": "098765e0",
   "metadata": {},
   "outputs": [
    {
     "name": "stdout",
     "output_type": "stream",
     "text": [
      "Inside constructor\n",
      "object initialized\n",
      "Hello,My name is Emma\n",
      "Inside destructor\n",
      "object destroyed \n"
     ]
    }
   ],
   "source": [
    "class Student:\n",
    "    \n",
    "    # constructor\n",
    "    def __init__ (self,name):\n",
    "        print(\"Inside constructor\")\n",
    "        self.name = name\n",
    "        print(\"object initialized\")\n",
    "        \n",
    "    def show(self):\n",
    "        print(\"Hello,My name is\",self.name)\n",
    "        \n",
    "    # destructor\n",
    "    def __del__(self,name):\n",
    "        print(\"Inside destructor\")\n",
    "        print(\"object destroyed \")\n",
    "        \n",
    "# create object.\n",
    "s1 = Student(\"Emma\")\n",
    "s1.show()\n",
    "\n",
    "# delete object\n",
    "s1.__del__(\"Emma\")"
   ]
  },
  {
   "cell_type": "code",
   "execution_count": 1,
   "id": "9c60c3bb",
   "metadata": {
    "collapsed": true
   },
   "outputs": [
    {
     "name": "stderr",
     "output_type": "stream",
     "text": [
      "Exception ignored in: <function Student.__del__ at 0x0000020D575BB1C0>\n",
      "Traceback (most recent call last):\n",
      "  File \"C:\\Users\\himan\\AppData\\Local\\Temp\\ipykernel_1800\\459615096.py\", line 22, in <module>\n",
      "TypeError: Student.__del__() missing 1 required positional argument: 'name'\n"
     ]
    },
    {
     "name": "stdout",
     "output_type": "stream",
     "text": [
      "Inside constructor\n",
      "object initialized\n",
      "Hello,My name is Emma\n"
     ]
    }
   ],
   "source": [
    "class Student:\n",
    "    \n",
    "    # constructor\n",
    "    def __init__ (self,name):\n",
    "        print(\"Inside constructor\")\n",
    "        self.name = name\n",
    "        print(\"object initialized\")\n",
    "        \n",
    "    def show(self):\n",
    "        print(\"Hello,My name is\",self.name)\n",
    "        \n",
    "    # destructor\n",
    "    def __del__(self,name):\n",
    "        print(\"Inside destructor\")\n",
    "        print(\"object destroyed \")\n",
    "        \n",
    "# create object.\n",
    "s1 = Student(\"Emma\")\n",
    "s1.show()\n",
    "\n",
    "# delete object\n",
    "del s1"
   ]
  },
  {
   "cell_type": "markdown",
   "id": "e6138325",
   "metadata": {},
   "source": [
    "<font size=10> Instance Method."
   ]
  },
  {
   "cell_type": "markdown",
   "id": "b33a7196",
   "metadata": {},
   "source": [
    "- Methods in which instance variables and class variables are used.\n",
    "- Used to access or modify both the object and class state.\n",
    "- It must have a self parametres to refer to the current object."
   ]
  },
  {
   "cell_type": "code",
   "execution_count": 7,
   "id": "d500d711",
   "metadata": {},
   "outputs": [
    {
     "name": "stdout",
     "output_type": "stream",
     "text": [
      "Hey! I am a Data scientist\n",
      "My name is xyz\n"
     ]
    }
   ],
   "source": [
    "class Aspirant:\n",
    "    def __init__(self,name):                   # constructors are special methods.\n",
    "        print(\"Hey! I am a Data scientist\")\n",
    "        self.name = name\n",
    "    def show(self):                             # show() is an instance method\n",
    "        print(\"My name is\",self.name)\n",
    "        \n",
    "s1 = Aspirant(\"xyz\")\n",
    "s1.show()                             # calling an instance method"
   ]
  },
  {
   "cell_type": "code",
   "execution_count": 10,
   "id": "895c7998",
   "metadata": {},
   "outputs": [
    {
     "name": "stdout",
     "output_type": "stream",
     "text": [
      "Hey! I am a Data scientist\n",
      "My name is abc\n"
     ]
    }
   ],
   "source": [
    "s2 = Aspirant(\"abc\")\n",
    "s2.show()"
   ]
  },
  {
   "cell_type": "code",
   "execution_count": 11,
   "id": "787a01cf",
   "metadata": {},
   "outputs": [
    {
     "name": "stdout",
     "output_type": "stream",
     "text": [
      "web Developer\n"
     ]
    }
   ],
   "source": [
    "class Person:\n",
    "    job = \"Data Scientist\"\n",
    "    def change_class_state(self):\n",
    "        Person.job='web Developer'   # Access class variables and change the class State.\n",
    "        print(Person.job)\n",
    "p1 = Person()\n",
    "p1.change_class_state()"
   ]
  },
  {
   "cell_type": "code",
   "execution_count": 12,
   "id": "174a1ef7",
   "metadata": {},
   "outputs": [
    {
     "name": "stdout",
     "output_type": "stream",
     "text": [
      "Data Scientist\n"
     ]
    }
   ],
   "source": [
    "class Person:\n",
    "    job = \"Data Scientist\"\n",
    "    def change_class_state(self):\n",
    "        self.job='web Developer'    \n",
    "        print(Person.job)\n",
    "p1 = Person()\n",
    "p1.change_class_state()"
   ]
  },
  {
   "cell_type": "markdown",
   "id": "63274ada",
   "metadata": {},
   "source": [
    "<font size=10> Class Method."
   ]
  },
  {
   "cell_type": "markdown",
   "id": "3d52e20d",
   "metadata": {},
   "source": [
    "- Methods in which only class variable are used.\n",
    "- Take the  \"cls\"  parametre.\n",
    "- Used to access or modify the class state."
   ]
  },
  {
   "cell_type": "code",
   "execution_count": 13,
   "id": "6f32d9d3",
   "metadata": {},
   "outputs": [
    {
     "name": "stdout",
     "output_type": "stream",
     "text": [
      "The value of x is 56 and the value of y is 67\n"
     ]
    }
   ],
   "source": [
    "x = 56\n",
    "y = 67\n",
    "print(\"The value of x is\",x,\"and the value of y is\",y,)"
   ]
  },
  {
   "cell_type": "code",
   "execution_count": 14,
   "id": "52685ef4",
   "metadata": {},
   "outputs": [
    {
     "name": "stdout",
     "output_type": "stream",
     "text": [
      "The value of x is 56 and the value of y is 67\n"
     ]
    }
   ],
   "source": [
    "x = 56\n",
    "y = 67\n",
    "print(f\"The value of x is {x} and the value of y is {y}\")"
   ]
  },
  {
   "cell_type": "code",
   "execution_count": 15,
   "id": "7e43391d",
   "metadata": {},
   "outputs": [
    {
     "name": "stdout",
     "output_type": "stream",
     "text": [
      "Present School name is XYZ School in HALDWANI.\n",
      "New School has been changed to ABC School in DELHI.\n"
     ]
    }
   ],
   "source": [
    "class School:\n",
    "    school_name = \"XYZ School\"\n",
    "    loc = \"HALDWANI.\"\n",
    "    \n",
    "    @classmethod     # decorator.\n",
    "    def change_school(cls,name,loc1):\n",
    "        cls.school_name = name\n",
    "        cls.loc = loc1\n",
    "        \n",
    "std1 = School()        \n",
    "print(f\"Present School name is {School.school_name} in {School.loc}\") # f string\n",
    "School.change_school(\"ABC School\",\"DELHI.\")\n",
    "print(f\"New School has been changed to {School.school_name} in {School.loc}\")"
   ]
  },
  {
   "cell_type": "code",
   "execution_count": 16,
   "id": "68905fbd",
   "metadata": {},
   "outputs": [
    {
     "name": "stdout",
     "output_type": "stream",
     "text": [
      "Present School name is XYZ School in HALDWANI.\n",
      "New School has been changed to ABC School in DELHI.\n"
     ]
    }
   ],
   "source": [
    "class School:\n",
    "    school_name = \"XYZ School\"\n",
    "    loc = \"HALDWANI.\"\n",
    "    \n",
    "    @classmethod    # decorator.\n",
    "    def change_school(cls,name,loc1):\n",
    "        cls.school_name = name\n",
    "        cls.loc = loc1\n",
    "        \n",
    "std1 = School()        \n",
    "print(f\"Present School name is {School.school_name} in {School.loc}\") # f string\n",
    "School.change_school(\"ABC School\",\"DELHI.\")\n",
    "print(f\"New School has been changed to {School.school_name} in {School.loc}\")"
   ]
  },
  {
   "cell_type": "code",
   "execution_count": 20,
   "id": "206db6ea",
   "metadata": {},
   "outputs": [
    {
     "name": "stdout",
     "output_type": "stream",
     "text": [
      "['Parag', '4th']\n",
      "Parag 4th\n"
     ]
    }
   ],
   "source": [
    "# Using Class methods as alternative methods.\n",
    "class School:\n",
    "    school_name = \"XYZ School\"\n",
    "    loc = \"Haldwani\"\n",
    "    \n",
    "    def __init__(self,name,class_):\n",
    "        self.name = name\n",
    "        self.class_ = class_\n",
    "        \n",
    "    @classmethod\n",
    "    def new_admission(cls,info):                 # here classmethod call constructor automatically\n",
    "        lst = info.split(\"#\")\n",
    "        print(lst)\n",
    "        return cls(lst[0],lst[1])\n",
    "    \n",
    "std2 = School.new_admission(\"Parag#4th\")\n",
    "\n",
    "print(std2.name,std2.class_)"
   ]
  },
  {
   "cell_type": "markdown",
   "id": "eeaf8a9c",
   "metadata": {},
   "source": [
    "<font size=10> Static Method."
   ]
  },
  {
   "cell_type": "markdown",
   "id": "ca2eb199",
   "metadata": {},
   "source": [
    "- Similar to a normal function.\n",
    "- It does not take the ***cls*** and ***self*** parameter.\n",
    "- It cannot modify the state of the object or class."
   ]
  },
  {
   "cell_type": "markdown",
   "id": "11837bb5",
   "metadata": {},
   "source": [
    "# Advantages.\n",
    "\n",
    "- ***Safer Code  -  as they cannot change the class or instance variables.***"
   ]
  },
  {
   "cell_type": "code",
   "execution_count": 2,
   "id": "5ac9134e",
   "metadata": {},
   "outputs": [
    {
     "name": "stdout",
     "output_type": "stream",
     "text": [
      "Inside static method 10\n",
      "Inside static method 100\n"
     ]
    }
   ],
   "source": [
    "class Employee:\n",
    "    \n",
    "    @staticmethod\n",
    "    def sample(x):\n",
    "        print(\"Inside static method\",x)\n",
    "        \n",
    "# call using class.\n",
    "Employee.sample(10)\n",
    "\n",
    "# call using objects.\n",
    "emp = Employee()\n",
    "emp.sample(100)"
   ]
  },
  {
   "cell_type": "code",
   "execution_count": null,
   "id": "ea7c6ffc",
   "metadata": {},
   "outputs": [],
   "source": [
    "# <font size=10> = font size.\n",
    "# <br> = Breaking the line.\n",
    "# * * = Bold sentence."
   ]
  },
  {
   "cell_type": "code",
   "execution_count": null,
   "id": "930776b5",
   "metadata": {},
   "outputs": [],
   "source": [
    "# creating an object.\n",
    "class Person:\n",
    "    def __init__():                  # object initialisation\n",
    "        # State(attributes)\n",
    "        self.name = name\n",
    "        self.gender = gender\n",
    "        self.profession = profession\n",
    "        \n",
    "    # Behaviour (methods)\n",
    "    def show(self):\n",
    "        print(\"Name:\", self.name,\"gender: \",self.gender,\"Profession: \",self.profession)\n",
    "        \n",
    "        \n",
    "    def work(self):\n",
    "        print(self.name,\" is working as a \",self.profession)"
   ]
  },
  {
   "cell_type": "code",
   "execution_count": null,
   "id": "97205de4",
   "metadata": {},
   "outputs": [],
   "source": [
    "# Make a program of inquiry form of institute with OOPs e.g.Phone no,name,e-mail id,age, past experience,\n",
    "# fees submitted,taking admission"
   ]
  },
  {
   "cell_type": "code",
   "execution_count": 1,
   "id": "79a41516",
   "metadata": {},
   "outputs": [],
   "source": [
    "class Inquiry_form:\n",
    "    def __init__(self,name,age,gender,e_mail,cod_exp):\n",
    "        self.name = name\n",
    "        self.age = age\n",
    "        self.gender = gender\n",
    "        self.e_mail = e_mail\n",
    "        self.cod_exp = cod_exp\n",
    "        \n",
    "        \n",
    "    def show():\n",
    "        \n",
    "    \n",
    "ram = Inquiry_form(\"ram\",23,\"Male\",\"ram@gmail.com\",\"No\")\n",
    "Rohit = Inquiry_form(\"Rohit\",34,\"Male\",\"rohit@gmail.com\",\"Yes\")  "
   ]
  },
  {
   "cell_type": "code",
   "execution_count": 2,
   "id": "a7798d4c",
   "metadata": {},
   "outputs": [
    {
     "name": "stdout",
     "output_type": "stream",
     "text": [
      "ram@gmail.com\n"
     ]
    }
   ],
   "source": [
    "print(ram.e_mail)"
   ]
  },
  {
   "cell_type": "code",
   "execution_count": 3,
   "id": "565cb010",
   "metadata": {},
   "outputs": [
    {
     "name": "stdout",
     "output_type": "stream",
     "text": [
      "rohit@gmail.com\n"
     ]
    }
   ],
   "source": [
    "print(Rohit.e_mail)"
   ]
  }
 ],
 "metadata": {
  "kernelspec": {
   "display_name": "Python 3 (ipykernel)",
   "language": "python",
   "name": "python3"
  },
  "language_info": {
   "codemirror_mode": {
    "name": "ipython",
    "version": 3
   },
   "file_extension": ".py",
   "mimetype": "text/x-python",
   "name": "python",
   "nbconvert_exporter": "python",
   "pygments_lexer": "ipython3",
   "version": "3.10.9"
  }
 },
 "nbformat": 4,
 "nbformat_minor": 5
}
