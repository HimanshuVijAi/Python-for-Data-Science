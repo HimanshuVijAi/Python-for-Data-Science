{
 "cells": [
  {
   "cell_type": "markdown",
   "id": "574d5d8d",
   "metadata": {},
   "source": [
    "# Tokens"
   ]
  },
  {
   "cell_type": "markdown",
   "id": "533f61f4",
   "metadata": {},
   "source": [
    "   ### A token is the Smallest individual unit(SIU) in a python program. All Statements and instructions in a program are built with tokens."
   ]
  },
  {
   "cell_type": "markdown",
   "id": "774eaf5a",
   "metadata": {},
   "source": [
    "- Keywords\n",
    "- Identifiers\n",
    "- Literals\n",
    "- Operators\n",
    "- Punctuators"
   ]
  },
  {
   "cell_type": "markdown",
   "id": "f0938c7e",
   "metadata": {},
   "source": [
    "### Keywords"
   ]
  },
  {
   "cell_type": "markdown",
   "id": "8e193cf3",
   "metadata": {},
   "source": [
    "- Keywords are special words which have a unique meaning and purpose in python.\n",
    "- Keywords cannot be used as variable names,fuction names etc. "
   ]
  },
  {
   "cell_type": "code",
   "execution_count": 4,
   "id": "6d58fcc2",
   "metadata": {},
   "outputs": [
    {
     "name": "stdout",
     "output_type": "stream",
     "text": [
      "\n",
      "Here is a list of the Python keywords.  Enter any keyword to get more help.\n",
      "\n",
      "False               class               from                or\n",
      "None                continue            global              pass\n",
      "True                def                 if                  raise\n",
      "and                 del                 import              return\n",
      "as                  elif                in                  try\n",
      "assert              else                is                  while\n",
      "async               except              lambda              with\n",
      "await               finally             nonlocal            yield\n",
      "break               for                 not                 \n",
      "\n"
     ]
    }
   ],
   "source": [
    "help(\"keywords\")"
   ]
  },
  {
   "cell_type": "markdown",
   "id": "e20fe7c1",
   "metadata": {},
   "source": [
    "### Identifiers"
   ]
  },
  {
   "cell_type": "markdown",
   "id": "05404919",
   "metadata": {},
   "source": [
    "identifiers are names given to any variable,class,Function,method etc."
   ]
  },
  {
   "cell_type": "markdown",
   "id": "ec61456a",
   "metadata": {},
   "source": [
    "### Literals"
   ]
  },
  {
   "cell_type": "markdown",
   "id": "cc483739",
   "metadata": {},
   "source": [
    "Literals are simply the raw data that is assigned into the variables"
   ]
  },
  {
   "cell_type": "markdown",
   "id": "4bc0fa68",
   "metadata": {},
   "source": [
    "#### Literals Types"
   ]
  },
  {
   "cell_type": "markdown",
   "id": "a1b5a566",
   "metadata": {},
   "source": [
    "1.String literals\n",
    "\n",
    "2.Numeric Literals\n",
    "    A.Integer\n",
    "    B.Float\n",
    "    C.Complex\n",
    "    \n",
    "3.Boolean Literal\n",
    "\n",
    "4.Special Literal(None)\n",
    "\n",
    "5.Literal Collection\n",
    "   A.List Literal\n",
    "   B.Tuple Literal\n",
    "   C.Dictionary Literal\n",
    "   D.Set Literal"
   ]
  },
  {
   "cell_type": "markdown",
   "id": "86a95a5d",
   "metadata": {},
   "source": [
    "### Punctuators"
   ]
  },
  {
   "cell_type": "markdown",
   "id": "5ee38cb3",
   "metadata": {},
   "source": [
    "puctuators are symbols that are used to structure the statements.Some commonly usedpunctuators are:',',#, \\, ( ), [ ], { }, @ ,;"
   ]
  },
  {
   "cell_type": "markdown",
   "id": "074e02ff",
   "metadata": {},
   "source": [
    "### Operators"
   ]
  },
  {
   "cell_type": "markdown",
   "id": "dff2687e",
   "metadata": {},
   "source": [
    "operators are symbols which are used to perform a specific operation between values."
   ]
  },
  {
   "cell_type": "markdown",
   "id": "8b265259",
   "metadata": {},
   "source": [
    "1.Arithmetic operators.\n",
    "2.Comparison operators.\n",
    "3.Assignment operators\n",
    "4.Logical operators.\n",
    "5.Bitwise operators.\n",
    "6.Membership operators.\n",
    "7.Identity operators."
   ]
  },
  {
   "cell_type": "code",
   "execution_count": null,
   "id": "fb55f706",
   "metadata": {},
   "outputs": [],
   "source": [
    "#Arithmetic Operators   +    -     *    /     //    **    %"
   ]
  },
  {
   "cell_type": "code",
   "execution_count": 3,
   "id": "5bbdde89",
   "metadata": {},
   "outputs": [
    {
     "name": "stdout",
     "output_type": "stream",
     "text": [
      "33\n"
     ]
    }
   ],
   "source": [
    "x =10\n",
    "y = 23\n",
    "\n",
    "z =x+y\n",
    "print(z)"
   ]
  },
  {
   "cell_type": "code",
   "execution_count": null,
   "id": "4eaffc79",
   "metadata": {},
   "outputs": [],
   "source": [
    "#Comparison Operators   ==   !=    >     <    >=    <="
   ]
  },
  {
   "cell_type": "code",
   "execution_count": 4,
   "id": "ced95271",
   "metadata": {},
   "outputs": [
    {
     "name": "stdout",
     "output_type": "stream",
     "text": [
      "False\n"
     ]
    }
   ],
   "source": [
    "x = 23\n",
    "y = 54\n",
    "\n",
    "print(x==y)"
   ]
  },
  {
   "cell_type": "code",
   "execution_count": 5,
   "id": "fa927240",
   "metadata": {},
   "outputs": [
    {
     "name": "stdout",
     "output_type": "stream",
     "text": [
      "True\n"
     ]
    }
   ],
   "source": [
    "x = 23\n",
    "y = 54\n",
    "\n",
    "print(x!=y)"
   ]
  },
  {
   "cell_type": "code",
   "execution_count": 7,
   "id": "5f285ba9",
   "metadata": {},
   "outputs": [],
   "source": [
    "#Logical Operator:   and     or       not"
   ]
  },
  {
   "cell_type": "markdown",
   "id": "cf353642",
   "metadata": {},
   "source": [
    "(and)                                        # if  both condition is True then it will be a True\n",
    "True      and       True  =    True\n",
    "True      and       False =    False\n",
    "False     and       False =    False\n",
    "False     and       True  =    False"
   ]
  },
  {
   "cell_type": "markdown",
   "id": "85f89e68",
   "metadata": {},
   "source": [
    "(or)                                          # if  both condition is False then it will be a False\n",
    "True      or       True  =    True\n",
    "True      or       False =    True\n",
    "False     or       False =    False\n",
    "False     or       True  =    True"
   ]
  },
  {
   "cell_type": "markdown",
   "id": "20093d10",
   "metadata": {},
   "source": [
    "(not)"
   ]
  },
  {
   "cell_type": "code",
   "execution_count": 8,
   "id": "1ce5b80b",
   "metadata": {},
   "outputs": [
    {
     "data": {
      "text/plain": [
       "True"
      ]
     },
     "execution_count": 8,
     "metadata": {},
     "output_type": "execute_result"
    }
   ],
   "source": [
    "x = 13\n",
    "y = 14\n",
    "x<15 or x==y"
   ]
  },
  {
   "cell_type": "code",
   "execution_count": 19,
   "id": "771c6957",
   "metadata": {},
   "outputs": [
    {
     "ename": "SyntaxError",
     "evalue": "invalid syntax (3319564529.py, line 3)",
     "output_type": "error",
     "traceback": [
      "\u001b[1;36m  Cell \u001b[1;32mIn[19], line 3\u001b[1;36m\u001b[0m\n\u001b[1;33m    x>15 and x==y or x<y not x!=y\u001b[0m\n\u001b[1;37m                             ^\u001b[0m\n\u001b[1;31mSyntaxError\u001b[0m\u001b[1;31m:\u001b[0m invalid syntax\n"
     ]
    }
   ],
   "source": [
    "x = 13\n",
    "y = 14\n",
    "x>15 and x==y or x<y not x"
   ]
  },
  {
   "cell_type": "code",
   "execution_count": 10,
   "id": "0b5b6d8c",
   "metadata": {},
   "outputs": [
    {
     "data": {
      "text/plain": [
       "True"
      ]
     },
     "execution_count": 10,
     "metadata": {},
     "output_type": "execute_result"
    }
   ],
   "source": [
    "not x==y"
   ]
  },
  {
   "cell_type": "code",
   "execution_count": 11,
   "id": "a97003a0",
   "metadata": {},
   "outputs": [
    {
     "data": {
      "text/plain": [
       "False"
      ]
     },
     "execution_count": 11,
     "metadata": {},
     "output_type": "execute_result"
    }
   ],
   "source": [
    "not x!=y"
   ]
  },
  {
   "cell_type": "code",
   "execution_count": 15,
   "id": "0d273270",
   "metadata": {},
   "outputs": [
    {
     "data": {
      "text/plain": [
       "True"
      ]
     },
     "execution_count": 15,
     "metadata": {},
     "output_type": "execute_result"
    }
   ],
   "source": [
    "x = 13\n",
    "y = 14\n",
    "x<=15 and x!=y"
   ]
  },
  {
   "cell_type": "code",
   "execution_count": 2,
   "id": "d56a7ce9",
   "metadata": {},
   "outputs": [
    {
     "data": {
      "text/plain": [
       "True"
      ]
     },
     "execution_count": 2,
     "metadata": {},
     "output_type": "execute_result"
    }
   ],
   "source": [
    "True and False or True and True or False and False"
   ]
  },
  {
   "cell_type": "code",
   "execution_count": 3,
   "id": "76a27941",
   "metadata": {},
   "outputs": [
    {
     "data": {
      "text/plain": [
       "True"
      ]
     },
     "execution_count": 3,
     "metadata": {},
     "output_type": "execute_result"
    }
   ],
   "source": [
    "True or False and True or True and False or False"
   ]
  },
  {
   "cell_type": "code",
   "execution_count": 6,
   "id": "92faf461",
   "metadata": {},
   "outputs": [],
   "source": [
    "#Identity Operators:   is    is not\n",
    "#Check wheather two variables or objects share the same memory location or not"
   ]
  },
  {
   "cell_type": "code",
   "execution_count": 2,
   "id": "88d6b336",
   "metadata": {},
   "outputs": [
    {
     "name": "stdout",
     "output_type": "stream",
     "text": [
      "2235155219088\n",
      "2235155219120\n",
      "True\n"
     ]
    }
   ],
   "source": [
    "a = 14\n",
    "b = 15\n",
    "print(id(a))\n",
    "print(id(b))\n",
    "print(a is not b)"
   ]
  },
  {
   "cell_type": "code",
   "execution_count": 3,
   "id": "e6c6eda8",
   "metadata": {},
   "outputs": [
    {
     "name": "stdout",
     "output_type": "stream",
     "text": [
      "2235155219088\n",
      "2235155219120\n",
      "False\n"
     ]
    }
   ],
   "source": [
    "a = 14\n",
    "b = 15\n",
    "print(id(a))\n",
    "print(id(b))\n",
    "print(a is b)"
   ]
  },
  {
   "cell_type": "code",
   "execution_count": 4,
   "id": "b622fc69",
   "metadata": {},
   "outputs": [
    {
     "data": {
      "text/plain": [
       "True"
      ]
     },
     "execution_count": 4,
     "metadata": {},
     "output_type": "execute_result"
    }
   ],
   "source": [
    "h = [13]\n",
    "o = [13]\n",
    "h is not o"
   ]
  },
  {
   "cell_type": "code",
   "execution_count": 5,
   "id": "6921aa3c",
   "metadata": {},
   "outputs": [
    {
     "data": {
      "text/plain": [
       "False"
      ]
     },
     "execution_count": 5,
     "metadata": {},
     "output_type": "execute_result"
    }
   ],
   "source": [
    "h = [13]\n",
    "o = [13]\n",
    "h is o"
   ]
  },
  {
   "cell_type": "code",
   "execution_count": 7,
   "id": "725eff9a",
   "metadata": {},
   "outputs": [
    {
     "name": "stdout",
     "output_type": "stream",
     "text": [
      "False\n",
      "True\n",
      "2235235999104\n",
      "2235235998848\n"
     ]
    }
   ],
   "source": [
    "h = [13]\n",
    "o = [13]\n",
    "print(h is o)       #is checking the memory location of h and o is same or not\n",
    "print(h==o)          #\n",
    "\n",
    "print(id(h))\n",
    "print(id(o))"
   ]
  },
  {
   "cell_type": "code",
   "execution_count": 1,
   "id": "4017a802",
   "metadata": {},
   "outputs": [],
   "source": [
    "# Membership operators:    in     not in\n",
    "# Membership operator check wheather a value is present in a sequence of values\n",
    "# Sequence - Strings,lists,Tuples,Dictionaries,Sets"
   ]
  },
  {
   "cell_type": "code",
   "execution_count": 10,
   "id": "141401f9",
   "metadata": {},
   "outputs": [
    {
     "data": {
      "text/plain": [
       "True"
      ]
     },
     "execution_count": 10,
     "metadata": {},
     "output_type": "execute_result"
    }
   ],
   "source": [
    "a = \"Data science\"\n",
    "b = \"Data\"\n",
    "b in a"
   ]
  },
  {
   "cell_type": "code",
   "execution_count": 11,
   "id": "e5a6f926",
   "metadata": {},
   "outputs": [
    {
     "data": {
      "text/plain": [
       "False"
      ]
     },
     "execution_count": 11,
     "metadata": {},
     "output_type": "execute_result"
    }
   ],
   "source": [
    "a = \"Data science\"\n",
    "b = \"Data\"\n",
    "b  not in a"
   ]
  },
  {
   "cell_type": "code",
   "execution_count": 12,
   "id": "0aeba529",
   "metadata": {},
   "outputs": [
    {
     "data": {
      "text/plain": [
       "True"
      ]
     },
     "execution_count": 12,
     "metadata": {},
     "output_type": "execute_result"
    }
   ],
   "source": [
    "a = \"Data science\"\n",
    "b = \"Data\"\n",
    "\"String\" not in a"
   ]
  },
  {
   "cell_type": "code",
   "execution_count": 14,
   "id": "1e5d5a11",
   "metadata": {},
   "outputs": [
    {
     "data": {
      "text/plain": [
       "True"
      ]
     },
     "execution_count": 14,
     "metadata": {},
     "output_type": "execute_result"
    }
   ],
   "source": [
    "c = [1,2,3,4]\n",
    "d = 3\n",
    "\n",
    "d in c"
   ]
  },
  {
   "cell_type": "code",
   "execution_count": 15,
   "id": "b9f692b4",
   "metadata": {},
   "outputs": [
    {
     "data": {
      "text/plain": [
       "False"
      ]
     },
     "execution_count": 15,
     "metadata": {},
     "output_type": "execute_result"
    }
   ],
   "source": [
    "c = [1,2,3,4]\n",
    "d = 3\n",
    "\n",
    "d not in c"
   ]
  },
  {
   "cell_type": "code",
   "execution_count": 16,
   "id": "9b52870d",
   "metadata": {},
   "outputs": [
    {
     "data": {
      "text/plain": [
       "True"
      ]
     },
     "execution_count": 16,
     "metadata": {},
     "output_type": "execute_result"
    }
   ],
   "source": [
    "c = [1,2,[3],4]\n",
    "d = [3]\n",
    "\n",
    "d in c"
   ]
  },
  {
   "cell_type": "code",
   "execution_count": 17,
   "id": "c2bec66e",
   "metadata": {},
   "outputs": [
    {
     "data": {
      "text/plain": [
       "False"
      ]
     },
     "execution_count": 17,
     "metadata": {},
     "output_type": "execute_result"
    }
   ],
   "source": [
    "c = 1,2,3,4\n",
    "d = [3]\n",
    "\n",
    "d in c"
   ]
  },
  {
   "cell_type": "code",
   "execution_count": null,
   "id": "f1d7d21a",
   "metadata": {},
   "outputs": [],
   "source": [
    "# Bitwise operators:   &   |   ^   ~   <<    >>\n",
    "# & - Bitwise AND\n",
    "# | - Bitwise OR\n",
    "# ^ - Bitwise XOR\n",
    "# ~ - Bitwise NOT\n",
    "# << - Left shift\n",
    "# >> - Right shift"
   ]
  },
  {
   "cell_type": "code",
   "execution_count": 19,
   "id": "3876ae7b",
   "metadata": {},
   "outputs": [],
   "source": [
    "# Assignment operators;  =    +=   -=    *=   /=   //=    **=  %=   |=   &=   ^=   >>=   <<= "
   ]
  },
  {
   "cell_type": "code",
   "execution_count": 20,
   "id": "13131ab0",
   "metadata": {},
   "outputs": [
    {
     "data": {
      "text/plain": [
       "15"
      ]
     },
     "execution_count": 20,
     "metadata": {},
     "output_type": "execute_result"
    }
   ],
   "source": [
    "x = 8\n",
    "x += 7   #  x = (x+7)\n",
    "x"
   ]
  },
  {
   "cell_type": "code",
   "execution_count": 22,
   "id": "ffaf82da",
   "metadata": {},
   "outputs": [
    {
     "data": {
      "text/plain": [
       "4"
      ]
     },
     "execution_count": 22,
     "metadata": {},
     "output_type": "execute_result"
    }
   ],
   "source": [
    "y = 10\n",
    "y -= 6   # y = (y-6)\n",
    "y"
   ]
  },
  {
   "cell_type": "code",
   "execution_count": 23,
   "id": "789c6abd",
   "metadata": {},
   "outputs": [
    {
     "data": {
      "text/plain": [
       "60"
      ]
     },
     "execution_count": 23,
     "metadata": {},
     "output_type": "execute_result"
    }
   ],
   "source": [
    "y = 10\n",
    "y *= 6\n",
    "y"
   ]
  },
  {
   "cell_type": "code",
   "execution_count": 28,
   "id": "db6de7db",
   "metadata": {},
   "outputs": [
    {
     "data": {
      "text/plain": [
       "1000000"
      ]
     },
     "execution_count": 28,
     "metadata": {},
     "output_type": "execute_result"
    }
   ],
   "source": [
    "y = 10\n",
    "y **= 6\n",
    "y"
   ]
  },
  {
   "cell_type": "code",
   "execution_count": 25,
   "id": "38f5c66c",
   "metadata": {},
   "outputs": [
    {
     "data": {
      "text/plain": [
       "5.0"
      ]
     },
     "execution_count": 25,
     "metadata": {},
     "output_type": "execute_result"
    }
   ],
   "source": [
    "y = 10\n",
    "y /= 2\n",
    "y"
   ]
  },
  {
   "cell_type": "code",
   "execution_count": 27,
   "id": "0529223b",
   "metadata": {},
   "outputs": [
    {
     "data": {
      "text/plain": [
       "5"
      ]
     },
     "execution_count": 27,
     "metadata": {},
     "output_type": "execute_result"
    }
   ],
   "source": [
    "y = 10\n",
    "y //= 2\n",
    "y"
   ]
  },
  {
   "cell_type": "code",
   "execution_count": null,
   "id": "52e1e669",
   "metadata": {},
   "outputs": [],
   "source": []
  }
 ],
 "metadata": {
  "kernelspec": {
   "display_name": "Python 3 (ipykernel)",
   "language": "python",
   "name": "python3"
  },
  "language_info": {
   "codemirror_mode": {
    "name": "ipython",
    "version": 3
   },
   "file_extension": ".py",
   "mimetype": "text/x-python",
   "name": "python",
   "nbconvert_exporter": "python",
   "pygments_lexer": "ipython3",
   "version": "3.10.9"
  }
 },
 "nbformat": 4,
 "nbformat_minor": 5
}
