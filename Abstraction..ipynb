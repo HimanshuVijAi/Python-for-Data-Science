{
 "cells": [
  {
   "cell_type": "markdown",
   "id": "a96be00e",
   "metadata": {},
   "source": [
    "<font size=5> Abstracton is used to hide the internal implementation details of methods from the users.  "
   ]
  },
  {
   "cell_type": "markdown",
   "id": "f32b806b",
   "metadata": {},
   "source": [
    "<font size=4> The user is familiar with ***\"what the method does\"*** but they don't know ***\"how it does\"***."
   ]
  },
  {
   "cell_type": "markdown",
   "id": "22db425b",
   "metadata": {},
   "source": [
    "<font size=4> Abstraction is implemented by creating ***\"Abstract base classes\"*** which contain ***\"Abstract Methods\"***."
   ]
  },
  {
   "cell_type": "markdown",
   "id": "8677c24f",
   "metadata": {},
   "source": [
    "<font size=3>The abstract methods do not have any implementation. All the implementation are performed within the sub-classes."
   ]
  },
  {
   "cell_type": "markdown",
   "id": "96efa085",
   "metadata": {},
   "source": [
    "<font size=4>All the subclasses of the abstract base class are required to implement the abstract methods."
   ]
  },
  {
   "cell_type": "markdown",
   "id": "b6be2b3c",
   "metadata": {},
   "source": [
    "<font size=4>You cannot make the object of abstract base class."
   ]
  },
  {
   "cell_type": "code",
   "execution_count": 34,
   "id": "6e77d581",
   "metadata": {},
   "outputs": [],
   "source": [
    "from abc import ABC,abstractmethod\n",
    "\n",
    "class Shape(ABC):\n",
    "    @abstractmethod\n",
    "    def area(self):      # implementation details are hidden.\n",
    "        pass\n",
    "    \n",
    "    @abstractmethod        # implementation details are hidden.\n",
    "    def perimeter(self):\n",
    "        pass\n",
    "    \n",
    "    def display(self):\n",
    "        return \"this is not an abstract method.\""
   ]
  },
  {
   "cell_type": "code",
   "execution_count": 35,
   "id": "d933ef3b",
   "metadata": {},
   "outputs": [
    {
     "ename": "TypeError",
     "evalue": "Can't instantiate abstract class Shape with abstract methods area, perimeter",
     "output_type": "error",
     "traceback": [
      "\u001b[1;31m---------------------------------------------------------------------------\u001b[0m",
      "\u001b[1;31mTypeError\u001b[0m                                 Traceback (most recent call last)",
      "Cell \u001b[1;32mIn[35], line 1\u001b[0m\n\u001b[1;32m----> 1\u001b[0m shp \u001b[38;5;241m=\u001b[39m \u001b[43mShape\u001b[49m\u001b[43m(\u001b[49m\u001b[43m)\u001b[49m\n",
      "\u001b[1;31mTypeError\u001b[0m: Can't instantiate abstract class Shape with abstract methods area, perimeter"
     ]
    }
   ],
   "source": [
    "shp = Shape()    # you cannot create an object of the abstract base class."
   ]
  },
  {
   "cell_type": "code",
   "execution_count": 36,
   "id": "e0e3dcc7",
   "metadata": {},
   "outputs": [
    {
     "data": {
      "text/plain": [
       "'this is not an abstract method.'"
      ]
     },
     "execution_count": 36,
     "metadata": {},
     "output_type": "execute_result"
    }
   ],
   "source": [
    "class Rectangle(Shape):\n",
    "    def area(self,length,breadth):\n",
    "        return length*breadth\n",
    "    \n",
    "    def perimeter(self,length,breadth):\n",
    "        return 2*(length+breadth)\n",
    "    \n",
    "rect = Rectangle()\n",
    "rect.area(2,4)\n",
    "rect.perimeter(2,4)\n",
    "rect.display()"
   ]
  },
  {
   "cell_type": "code",
   "execution_count": null,
   "id": "a9b33709",
   "metadata": {},
   "outputs": [],
   "source": [
    "from abc import ABC,abstractmethod\n",
    "\n",
    "class Shape(ABC):\n",
    "    @abstractmethod\n",
    "    def area(self):      # implementation details are hidden.\n",
    "        pass\n",
    "    \n",
    "    @abstractmethod        # implementation details are hidden.\n",
    "    def perimeter(self):\n",
    "        pass"
   ]
  },
  {
   "cell_type": "code",
   "execution_count": 27,
   "id": "3e587142",
   "metadata": {},
   "outputs": [
    {
     "data": {
      "text/plain": [
       "37.68"
      ]
     },
     "execution_count": 27,
     "metadata": {},
     "output_type": "execute_result"
    }
   ],
   "source": [
    "class Circle(Shape):\n",
    "    def area(self,radius):\n",
    "        return 3.14*(radius*2)\n",
    "    \n",
    "    def perimeter(self,radius):\n",
    "        return 2*3.14*radius\n",
    "\n",
    "rect = Circle()\n",
    "rect.area(6)"
   ]
  },
  {
   "cell_type": "code",
   "execution_count": 28,
   "id": "9a913de5",
   "metadata": {},
   "outputs": [
    {
     "data": {
      "text/plain": [
       "50.24"
      ]
     },
     "execution_count": 28,
     "metadata": {},
     "output_type": "execute_result"
    }
   ],
   "source": [
    "rect.perimeter(8)"
   ]
  },
  {
   "cell_type": "code",
   "execution_count": null,
   "id": "22533806",
   "metadata": {},
   "outputs": [],
   "source": []
  }
 ],
 "metadata": {
  "kernelspec": {
   "display_name": "Python 3 (ipykernel)",
   "language": "python",
   "name": "python3"
  },
  "language_info": {
   "codemirror_mode": {
    "name": "ipython",
    "version": 3
   },
   "file_extension": ".py",
   "mimetype": "text/x-python",
   "name": "python",
   "nbconvert_exporter": "python",
   "pygments_lexer": "ipython3",
   "version": "3.10.9"
  }
 },
 "nbformat": 4,
 "nbformat_minor": 5
}
