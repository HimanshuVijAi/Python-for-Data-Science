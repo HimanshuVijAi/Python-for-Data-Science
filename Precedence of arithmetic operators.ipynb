{
 "cells": [
  {
   "cell_type": "code",
   "execution_count": null,
   "id": "d3b9d5f2",
   "metadata": {},
   "outputs": [],
   "source": [
    "(1).()\n",
    "(2).**\n",
    "(3).*,/,//,%\n",
    "(4).+ -"
   ]
  },
  {
   "cell_type": "code",
   "execution_count": 2,
   "id": "d9bd3323",
   "metadata": {},
   "outputs": [
    {
     "data": {
      "text/plain": [
       "6"
      ]
     },
     "execution_count": 2,
     "metadata": {},
     "output_type": "execute_result"
    }
   ],
   "source": [
    "2*3%4+5"
   ]
  },
  {
   "cell_type": "code",
   "execution_count": 6,
   "id": "0ab46d04",
   "metadata": {},
   "outputs": [
    {
     "name": "stdout",
     "output_type": "stream",
     "text": [
      "First Date:     Himanshu\n",
      "Second Date:    Sharma\n",
      "['', 'Sharma']\n",
      "Sharma\n",
      "['Himanshu', '']\n",
      "Himanshu\n",
      "Sharma Himanshu\n"
     ]
    }
   ],
   "source": [
    "A = input(\"First Date:     \")       # Swapping using .split() method   +  IN\n",
    "B = input(\"Second Date:    \")\n",
    "X = Y = A + B\n",
    "P = X.split(A)               # X,Y,A,B are already STRINGS so no need to use \n",
    "print(P)\n",
    "print(P[1])\n",
    "Q = Y.split(B)\n",
    "print(Q)\n",
    "print(Q[0])\n",
    "B = Q[0]\n",
    "A = P[1]\n",
    "print(A,B)"
   ]
  },
  {
   "cell_type": "code",
   "execution_count": 7,
   "id": "252b3376",
   "metadata": {},
   "outputs": [
    {
     "name": "stdout",
     "output_type": "stream",
     "text": [
      "First Date13\n",
      "second Date 12\n",
      "\n",
      "\n",
      "First Date  12\n",
      "Second Date 13\n"
     ]
    }
   ],
   "source": [
    "a = input(\"First Date\")\n",
    "b = input(\"second Date\")\n",
    "(a,b)=(b,a)\n",
    "print(\"\\n\")\n",
    "print(\"First Date\",a)\n",
    "print(\"Second Date\",b)\n"
   ]
  }
 ],
 "metadata": {
  "kernelspec": {
   "display_name": "Python 3 (ipykernel)",
   "language": "python",
   "name": "python3"
  },
  "language_info": {
   "codemirror_mode": {
    "name": "ipython",
    "version": 3
   },
   "file_extension": ".py",
   "mimetype": "text/x-python",
   "name": "python",
   "nbconvert_exporter": "python",
   "pygments_lexer": "ipython3",
   "version": "3.10.9"
  }
 },
 "nbformat": 4,
 "nbformat_minor": 5
}
