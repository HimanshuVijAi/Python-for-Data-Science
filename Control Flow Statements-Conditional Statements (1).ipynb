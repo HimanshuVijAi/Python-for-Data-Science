{
 "cells": [
  {
   "cell_type": "markdown",
   "id": "760a218a",
   "metadata": {},
   "source": [
    "## Python Programming Fundamentals"
   ]
  },
  {
   "cell_type": "markdown",
   "id": "4ad87c8c",
   "metadata": {},
   "source": [
    "### 1.Control Flow Statements.\n",
    "\n",
    "### 2.Functions"
   ]
  },
  {
   "cell_type": "markdown",
   "id": "ab059ffa",
   "metadata": {},
   "source": [
    "## Control Flow Statements."
   ]
  },
  {
   "cell_type": "markdown",
   "id": "a761b4d2",
   "metadata": {},
   "source": [
    "In python programming, control flow is the order in which statements or blocks of code are executed at runtime."
   ]
  },
  {
   "cell_type": "code",
   "execution_count": 33,
   "id": "f1e2b933",
   "metadata": {},
   "outputs": [],
   "source": [
    "x = 10\n",
    "if x==8:                        # this condition is not satisfied thats why it will skip \"if\"\n",
    "    print(\"x is\",x)"
   ]
  },
  {
   "cell_type": "code",
   "execution_count": 34,
   "id": "81268c6a",
   "metadata": {},
   "outputs": [
    {
     "name": "stdout",
     "output_type": "stream",
     "text": [
      "x is not 8\n"
     ]
    }
   ],
   "source": [
    "x = 10\n",
    "if x==8:\n",
    "    print(\"x is\",x)                # then after it will go to else to satisfied the statements.\n",
    "else:                                 \n",
    "    print(\"x is not 8\")"
   ]
  },
  {
   "cell_type": "code",
   "execution_count": 35,
   "id": "ee2e279e",
   "metadata": {},
   "outputs": [
    {
     "name": "stdout",
     "output_type": "stream",
     "text": [
      "x is 8\n"
     ]
    }
   ],
   "source": [
    "x = 8\n",
    "if x==8:\n",
    "    print(\"x is\",x)"
   ]
  },
  {
   "cell_type": "code",
   "execution_count": 36,
   "id": "6c742651",
   "metadata": {},
   "outputs": [],
   "source": [
    "x = 10\n",
    "if x==8:\n",
    "    print(\"x is\",x)\n",
    "    y = 9\n",
    "    print(y)"
   ]
  },
  {
   "cell_type": "code",
   "execution_count": 37,
   "id": "513f1f7e",
   "metadata": {},
   "outputs": [
    {
     "name": "stdout",
     "output_type": "stream",
     "text": [
      "x is not 8\n"
     ]
    }
   ],
   "source": [
    "x = 10\n",
    "if x==8:\n",
    "    print(\"x is\",x)                # then after it will go to else to satisfied the statements.\n",
    "else:                                 \n",
    "    print(\"x is not 8\")"
   ]
  },
  {
   "cell_type": "code",
   "execution_count": 38,
   "id": "a139fe6d",
   "metadata": {},
   "outputs": [
    {
     "name": "stdout",
     "output_type": "stream",
     "text": [
      "x is not 8\n"
     ]
    }
   ],
   "source": [
    "x = 23\n",
    "if x==8:\n",
    "    print(\"x is\",x)\n",
    "elif x==10:\n",
    "    print(\"x is\",x)\n",
    "else:\n",
    "    print(\"x is not 8\")"
   ]
  },
  {
   "cell_type": "code",
   "execution_count": 39,
   "id": "fb7f8167",
   "metadata": {},
   "outputs": [
    {
     "ename": "SyntaxError",
     "evalue": "invalid syntax (1571276096.py, line 6)",
     "output_type": "error",
     "traceback": [
      "\u001b[1;36m  Cell \u001b[1;32mIn[39], line 6\u001b[1;36m\u001b[0m\n\u001b[1;33m    elif x==10:\u001b[0m\n\u001b[1;37m    ^\u001b[0m\n\u001b[1;31mSyntaxError\u001b[0m\u001b[1;31m:\u001b[0m invalid syntax\n"
     ]
    }
   ],
   "source": [
    "x = 23\n",
    "if x==8:\n",
    "    print(\"x is\",x)\n",
    "else:                                      # elif is always run after then if will be written \n",
    "    print(\"x is not 8\")\n",
    "elif x==10:\n",
    "    print(\"x is\",x)"
   ]
  },
  {
   "cell_type": "code",
   "execution_count": null,
   "id": "1c446bef",
   "metadata": {},
   "outputs": [],
   "source": [
    "# make first letter in uppercase."
   ]
  },
  {
   "cell_type": "code",
   "execution_count": null,
   "id": "481827c9",
   "metadata": {},
   "outputs": [],
   "source": [
    "x = \"rishi\"\n",
    "print(id(x))\n",
    "x = x.capitalize()\n",
    "print(id(x.capitalize()))\n",
    "print(x)"
   ]
  },
  {
   "cell_type": "code",
   "execution_count": null,
   "id": "ca9f7181",
   "metadata": {},
   "outputs": [],
   "source": [
    "y = \"priyanshu\"\n",
    "y=y.capitalize()\n",
    "print(y)"
   ]
  },
  {
   "cell_type": "code",
   "execution_count": null,
   "id": "9916440d",
   "metadata": {},
   "outputs": [],
   "source": [
    "# Make a program to check wheather a number is add or even."
   ]
  },
  {
   "cell_type": "code",
   "execution_count": null,
   "id": "ef158386",
   "metadata": {},
   "outputs": [],
   "source": [
    "def check_odd_even(number):\n",
    "    if number  a%1 == 0:\n",
    "        return \"Even\"\n",
    "    else:\n",
    "        return \"Odd\""
   ]
  },
  {
   "cell_type": "code",
   "execution_count": null,
   "id": "91809af1",
   "metadata": {},
   "outputs": [],
   "source": [
    "# check wheather a number is a Pallindrom number."
   ]
  },
  {
   "cell_type": "code",
   "execution_count": null,
   "id": "ad0f513a",
   "metadata": {},
   "outputs": [],
   "source": [
    "x = 10\n",
    "if x==10:\n",
    "    print(\"x is\",x)"
   ]
  },
  {
   "cell_type": "code",
   "execution_count": null,
   "id": "0ded4d48",
   "metadata": {},
   "outputs": [],
   "source": [
    "x = 23\n",
    "if x==8:\n",
    "    print(\"x is\",x)\n",
    "elif x==10:\n",
    "    print(\"x is\",x)\n",
    "elif x ==11:\n",
    "    print(\"x is\",x)\n",
    "elif x ==12:\n",
    "    print(\"x is\",x)\n",
    "elif x ==23:\n",
    "    print(\"x is\",x)\n",
    "else:\n",
    "    print(\"x is not 8\")"
   ]
  },
  {
   "cell_type": "code",
   "execution_count": null,
   "id": "5d4b5126",
   "metadata": {},
   "outputs": [],
   "source": [
    "x = 23\n",
    "if x==23:\n",
    "    print(\"x is\",x)\n",
    "elif x==10:\n",
    "    print(\"x is\",x)\n",
    "elif x ==11:\n",
    "    print(\"x is\",x)\n",
    "elif x ==12:\n",
    "    print(\"x is\",x)\n",
    "elif x ==23:\n",
    "    print(\"x is\",x)\n",
    "else:\n",
    "    print(\"x is not 8\")"
   ]
  },
  {
   "cell_type": "code",
   "execution_count": null,
   "id": "63aa974f",
   "metadata": {},
   "outputs": [],
   "source": [
    "x = \"rishi\"\n",
    "x.replace(\"r\",\"R\")"
   ]
  },
  {
   "cell_type": "code",
   "execution_count": null,
   "id": "8d4e6d94",
   "metadata": {},
   "outputs": [],
   "source": [
    "# nested if else\n",
    "x = int(input(\"value of x\"))\n",
    "y = int(input(\"value of y\"))\n",
    "z = int(input(\"value of z\"))\n",
    "\n",
    "if x>y:\n",
    "    if x>z:\n",
    "        print(\"x>y>z\")\n",
    "    else:\n",
    "        print(\"y<x<z\")\n",
    "elif x==y:\n",
    "    if x>z:\n",
    "        print(\"y==x>z\")\n",
    "    else:\n",
    "        print(\"y==x<z\")\n",
    "elif x<y:\n",
    "    if x>z:\n",
    "        print(\"y>x>z\")\n",
    "    else:\n",
    "        print(\"y>x<z\")"
   ]
  },
  {
   "cell_type": "code",
   "execution_count": null,
   "id": "373d4de2",
   "metadata": {},
   "outputs": [],
   "source": [
    "# nested if else\n",
    "x = int(input(\"value of x:\"))\n",
    "y = int(input(\"value of y:\"))\n",
    "z = int(input(\"value of z:\"))\n",
    "\n",
    "if x>y:\n",
    "    if x>z:\n",
    "        print(\"x>y>z\")\n",
    "    else:\n",
    "        print(\"y<x<z\")\n",
    "elif x==y:\n",
    "    if x>z:\n",
    "        print(\"y==x>z\")\n",
    "    else:\n",
    "        print(\"y==x<z\")\n",
    "elif x<y:\n",
    "    if x>z:\n",
    "        print(\"y>x>z\")\n",
    "    else:\n",
    "        print(\"y>x<z\")"
   ]
  },
  {
   "cell_type": "code",
   "execution_count": null,
   "id": "454e0cf9",
   "metadata": {
    "scrolled": true
   },
   "outputs": [],
   "source": [
    "# single line statements\n",
    "if x>y: print(\"x>y\")\n",
    "elif x==y: print(\"x==y\")\n",
    "else: print(\"x<y\")    "
   ]
  },
  {
   "cell_type": "code",
   "execution_count": null,
   "id": "9d185e39",
   "metadata": {},
   "outputs": [],
   "source": [
    "# using() in if\n",
    "# nested if else\n",
    "x = int(input(\"value of x:\"))\n",
    "y = int(input(\"value of y:\"))\n",
    "z = int(input(\"value of z:\"))\n",
    "\n",
    "if(x>y):\n",
    "    if(x>z):\n",
    "        print(\"x>y>z\")\n",
    "    else:\n",
    "        print(\"y<x<z\")\n",
    "elif(x==y):\n",
    "    if(x>z):\n",
    "        print(\"y==x>z\")\n",
    "    else:\n",
    "        print(\"y==x<z\")\n",
    "elif(x<y):\n",
    "    if(x>z):\n",
    "        print(\"y>x>z\")\n",
    "    else:\n",
    "        print(\"y>x<z\")"
   ]
  },
  {
   "cell_type": "code",
   "execution_count": null,
   "id": "7ca00926",
   "metadata": {},
   "outputs": [],
   "source": [
    "if (8+4)/2==6:\n",
    "    print(\"6\")\n",
    "else:\n",
    "    print()"
   ]
  },
  {
   "cell_type": "code",
   "execution_count": null,
   "id": "6978584f",
   "metadata": {},
   "outputs": [],
   "source": [
    "if 8+4/2==10:\n",
    "    print(\"10\")\n",
    "else:\n",
    "    print()"
   ]
  },
  {
   "cell_type": "code",
   "execution_count": null,
   "id": "9668b1f4",
   "metadata": {},
   "outputs": [],
   "source": [
    "(8+4)/2"
   ]
  },
  {
   "cell_type": "markdown",
   "id": "ceef8bc9",
   "metadata": {},
   "source": [
    "# Loops"
   ]
  },
  {
   "cell_type": "markdown",
   "id": "cc7b50f0",
   "metadata": {},
   "source": [
    "Loops are used to execute a block of code repeatedly."
   ]
  },
  {
   "cell_type": "markdown",
   "id": "1aa535de",
   "metadata": {},
   "source": [
    "# for Loops"
   ]
  },
  {
   "cell_type": "markdown",
   "id": "ed6a7bd9",
   "metadata": {},
   "source": [
    "The for loop iterates over an iterable objects.(Lists,Dictionatry,Sets,Tuples,Strings,Range)\n",
    "\n",
    "- for loops are used when you have a block of code which you want to repeat a fixed number of times.\n",
    "- for loops are also used to perform the same set of operations for each item in an iterable.\n",
    "- Thus,for loops reduces the code complexity and saves time."
   ]
  },
  {
   "cell_type": "code",
   "execution_count": null,
   "id": "6df0c04b",
   "metadata": {},
   "outputs": [],
   "source": [
    "x = [1,2,3,4]                       # List[]\n",
    "for a in x:\n",
    "    print(a) \n",
    "print(\"value of a\",a)"
   ]
  },
  {
   "cell_type": "code",
   "execution_count": null,
   "id": "9ecdb77e",
   "metadata": {},
   "outputs": [],
   "source": [
    "x = (78,123,34,101)                     # Tuple()\n",
    "type(x)\n",
    "for c in x:\n",
    "    print(c)"
   ]
  },
  {
   "cell_type": "code",
   "execution_count": null,
   "id": "7703dab9",
   "metadata": {},
   "outputs": [],
   "source": [
    "x = {1:\"Himanshu\",2:\"Gagan\"}             # Dictionary{}\n",
    "for f in x:\n",
    "    print(f)"
   ]
  },
  {
   "cell_type": "code",
   "execution_count": null,
   "id": "09f146fd",
   "metadata": {},
   "outputs": [],
   "source": [
    "x = {\"Himanshu\",4,6,7,\"Gagan\"}             # Set{}\n",
    "for f in x:\n",
    "    print(f)"
   ]
  },
  {
   "cell_type": "code",
   "execution_count": null,
   "id": "9241c409",
   "metadata": {},
   "outputs": [],
   "source": [
    "x = \"Himanshu\",\"Gagan\",\"str\"            # Strings(\" \",' ')\n",
    "for f in x:\n",
    "    print(f)"
   ]
  },
  {
   "cell_type": "code",
   "execution_count": null,
   "id": "bb9da472",
   "metadata": {},
   "outputs": [],
   "source": [
    "x = range(1,3)            # Range(Start,Stop,Steps)\n",
    "for f in x:\n",
    "    print(f)"
   ]
  },
  {
   "cell_type": "code",
   "execution_count": null,
   "id": "df9f49ab",
   "metadata": {},
   "outputs": [],
   "source": [
    "f = range(0,6)\n",
    "print(f[0])\n",
    "print(f[1])\n",
    "print(f[2])\n",
    "print(f[3])"
   ]
  },
  {
   "cell_type": "code",
   "execution_count": null,
   "id": "8bb2d6be",
   "metadata": {},
   "outputs": [],
   "source": [
    "sum = 0\n",
    "for i in range(1,11):\n",
    "    if i%2==0:\n",
    "        sum =sum  + i\n",
    "print(\"Sum of all even number:\",sum)"
   ]
  },
  {
   "cell_type": "code",
   "execution_count": null,
   "id": "b4613d0d",
   "metadata": {},
   "outputs": [],
   "source": [
    "sum = 0\n",
    "for i in range(1,11):\n",
    "    if i%2==0:\n",
    "        sum =sum  + i\n",
    "print(\"Hello\")"
   ]
  },
  {
   "cell_type": "code",
   "execution_count": null,
   "id": "bddacaa6",
   "metadata": {},
   "outputs": [],
   "source": [
    "sum = 0\n",
    "for i in range(1,11):\n",
    "    if i%2==0:\n",
    "        sum =sum  + i\n",
    "    print(\"Hello\")"
   ]
  },
  {
   "cell_type": "code",
   "execution_count": null,
   "id": "8256a741",
   "metadata": {},
   "outputs": [],
   "source": [
    "sum = 0\n",
    "for i in range(1,11):\n",
    "    if i%2==0:\n",
    "        sum =sum  + i\n",
    "        print(\"Hello\")"
   ]
  },
  {
   "cell_type": "code",
   "execution_count": null,
   "id": "21c21a29",
   "metadata": {},
   "outputs": [],
   "source": [
    "# square each number inside a list and finally print it. \n",
    "\n",
    "w = [1,2,3,4,5,6,7,8]\n",
    "for u in w:\n",
    "    if (w==1):\n",
    "        print(\"1*1\")\n",
    "        "
   ]
  },
  {
   "cell_type": "code",
   "execution_count": null,
   "id": "0194544c",
   "metadata": {},
   "outputs": [],
   "source": [
    "r = (range(0,11,2))\n",
    "print(r)"
   ]
  },
  {
   "cell_type": "code",
   "execution_count": null,
   "id": "45b11f8f",
   "metadata": {},
   "outputs": [],
   "source": [
    "sum = 0\n",
    "for i in range(0,11,2):\n",
    "    sum += i\n",
    "print(sum)    "
   ]
  },
  {
   "cell_type": "code",
   "execution_count": null,
   "id": "b0dda9be",
   "metadata": {},
   "outputs": [],
   "source": [
    "# ask the user for the range from which the even numbers should be printed.\n",
    "# eg; 10 to 20 ,60 to 100 , 70 to 80."
   ]
  },
  {
   "cell_type": "code",
   "execution_count": null,
   "id": "39fd4345",
   "metadata": {},
   "outputs": [],
   "source": [
    "r = int(input(\"start:\"))\n",
    "u = int(input(\"stop:\"))\n",
    "\n",
    "sum = 0\n",
    "for p in range(r,u):\n",
    "    if p%2==0:\n",
    "        sum = sum + p                       # ( sum+= p )\n",
    "print(\"sum of all even numbers:\",sum)        "
   ]
  },
  {
   "cell_type": "code",
   "execution_count": null,
   "id": "1f26cfda",
   "metadata": {},
   "outputs": [],
   "source": [
    "40+42+44+46+48+50"
   ]
  },
  {
   "cell_type": "code",
   "execution_count": null,
   "id": "9b2edfec",
   "metadata": {},
   "outputs": [],
   "source": [
    "r = int(input(\"start\"))                    # by parth sir method.\n",
    "u = int(input(\"stop\"))\n",
    "o = int(input(\"Step\"))\n",
    "\n",
    "sum = 0\n",
    "if \n",
    "for p in range(r,u,o):\n",
    "        sum = sum + p\n",
    "print(\"sum of numbers:\",sum)        "
   ]
  },
  {
   "cell_type": "code",
   "execution_count": null,
   "id": "5f1d2a81",
   "metadata": {},
   "outputs": [],
   "source": [
    "r = int(input(\"start:\"))                    # by parth sir method.\n",
    "u = int(input(\"stop :\"))\n",
    "o = int(input(\"Step :\"))\n",
    "sum = 0\n",
    "for p in range(r,u+1,o):\n",
    "        sum = sum + p\n",
    "print(\"sum of numbers:\",sum)        "
   ]
  },
  {
   "cell_type": "code",
   "execution_count": null,
   "id": "9dfab9a7",
   "metadata": {},
   "outputs": [],
   "source": [
    "\n",
    "sum = 0\n",
    "for p in range(1,10+1,2):\n",
    "        sum = sum +1 p\n",
    "        \n",
    "print(\"sum of numbers:\",sum)        "
   ]
  },
  {
   "cell_type": "markdown",
   "id": "bcf4eae6",
   "metadata": {},
   "source": [
    "# if-else in for loop"
   ]
  },
  {
   "cell_type": "code",
   "execution_count": null,
   "id": "4008489e",
   "metadata": {},
   "outputs": [],
   "source": [
    "# classify numbers from 1 to 100 as even or odd."
   ]
  },
  {
   "cell_type": "code",
   "execution_count": null,
   "id": "4d1d7c91",
   "metadata": {},
   "outputs": [],
   "source": [
    "x = range(1,101)\n",
    "for y in x:\n",
    "    if y%2==0:\n",
    "        print(\"even number:\",y)\n",
    "        else:\n",
    "        print(\"odd number :\",y)"
   ]
  },
  {
   "cell_type": "code",
   "execution_count": null,
   "id": "3d1a64b3",
   "metadata": {},
   "outputs": [],
   "source": [
    "x = range(1,101)                  # range(Start,Stop,Steps)\n",
    "for y in x:\n",
    "    if y%2==0:\n",
    "        print(\"even number :\",y)\n",
    "    else:\n",
    "        print(\" odd number :\",y)\n",
    "            \n"
   ]
  },
  {
   "cell_type": "code",
   "execution_count": null,
   "id": "e07b0ea6",
   "metadata": {},
   "outputs": [],
   "source": [
    "\n",
    "for p in range( , ):\n",
    "        sum = sum + p\n",
    "print(\"sum of numbers:\",sum)        "
   ]
  },
  {
   "cell_type": "code",
   "execution_count": null,
   "id": "7cde34f6",
   "metadata": {},
   "outputs": [],
   "source": [
    "e = list(range(1,45))\n",
    "print(e)"
   ]
  },
  {
   "cell_type": "markdown",
   "id": "4c59cced",
   "metadata": {},
   "source": [
    "# Nested for loops:\n"
   ]
  },
  {
   "cell_type": "code",
   "execution_count": null,
   "id": "abfea9be",
   "metadata": {},
   "outputs": [],
   "source": [
    "# print the multiplication table of 2"
   ]
  },
  {
   "cell_type": "code",
   "execution_count": null,
   "id": "4fe16791",
   "metadata": {},
   "outputs": [],
   "source": [
    "for x in range(1,11):\n",
    "    print(2,\" X \", x ,\" = \", x*2)\n",
    "\n",
    "    for x in range(1,11):\n",
    "    print(2,\" X \", x ,\" = \", x*2)\n"
   ]
  },
  {
   "cell_type": "code",
   "execution_count": null,
   "id": "c46fcd51",
   "metadata": {},
   "outputs": [],
   "source": [
    "for x in tuple(1,2,3,4,5,6,7,8,9,10):\n",
    "    print(2,\" X \",x,\" = \",x*2)\n"
   ]
  },
  {
   "cell_type": "code",
   "execution_count": null,
   "id": "e6502d4d",
   "metadata": {},
   "outputs": [],
   "source": [
    "# print the mutiplication table of 2,3,4,5,6,7."
   ]
  },
  {
   "cell_type": "code",
   "execution_count": null,
   "id": "d143fd53",
   "metadata": {},
   "outputs": [],
   "source": [
    "for x in range(1,11):\n",
    "    print(2,\" X \", x ,\" = \", x*2)\n",
    "    if x==10:\n",
    "            for x in range(1,11):\n",
    "                print(3,\" X \", x ,\" = \", x*3)\n",
    "        \n",
    "            for x in range(1,11):\n",
    "                print(4,\" X \", x ,\" = \", x*4)\n",
    "                \n",
    "            for x in range(1,11):\n",
    "                print(5,\" X \", x ,\" = \", x*5)"
   ]
  },
  {
   "cell_type": "code",
   "execution_count": null,
   "id": "a50edd1d",
   "metadata": {},
   "outputs": [],
   "source": [
    "for a in range(2,8):\n",
    "    for i in range(1,11):\n",
    "        print(a,\" X \", i ,\" = \", a*i)    "
   ]
  },
  {
   "cell_type": "code",
   "execution_count": null,
   "id": "5866c7a0",
   "metadata": {},
   "outputs": [],
   "source": [
    "print(\"hello\")\n",
    "print(\"world\")\n",
    "print(\"python\")\n"
   ]
  },
  {
   "cell_type": "code",
   "execution_count": null,
   "id": "2a91ee09",
   "metadata": {},
   "outputs": [],
   "source": [
    "print(\"hello\",end=\" \")\n",
    "print(\"python\")"
   ]
  },
  {
   "cell_type": "code",
   "execution_count": null,
   "id": "13fd6fe3",
   "metadata": {},
   "outputs": [],
   "source": [
    "print(\"hello\") , print(\"world\") , print(\"python\")\n"
   ]
  },
  {
   "cell_type": "code",
   "execution_count": null,
   "id": "18384b84",
   "metadata": {},
   "outputs": [],
   "source": [
    "for x in range(2,10+1):            \n",
    "    if x%2==0:\n",
    "          print(\"*\")"
   ]
  },
  {
   "cell_type": "code",
   "execution_count": null,
   "id": "1f19624e",
   "metadata": {},
   "outputs": [],
   "source": [
    "for x in \"   \":  print(4)"
   ]
  },
  {
   "cell_type": "code",
   "execution_count": null,
   "id": "3772dee0",
   "metadata": {
    "scrolled": true
   },
   "outputs": [],
   "source": [
    "for u in range(5,10):   print(\"*\")"
   ]
  },
  {
   "cell_type": "markdown",
   "id": "62a2a6b6",
   "metadata": {},
   "source": [
    "##### for loop in one line."
   ]
  },
  {
   "cell_type": "code",
   "execution_count": null,
   "id": "0e72a118",
   "metadata": {},
   "outputs": [],
   "source": [
    "lst=[]\n",
    "for x in range(0,4):   lst.append(x)\n",
    "print(lst)    "
   ]
  },
  {
   "cell_type": "markdown",
   "id": "794b7597",
   "metadata": {},
   "source": [
    "# Transfer Statements."
   ]
  },
  {
   "cell_type": "markdown",
   "id": "3c91a227",
   "metadata": {},
   "source": [
    "## Break"
   ]
  },
  {
   "cell_type": "markdown",
   "id": "67618e2f",
   "metadata": {},
   "source": [
    "The break Statements is uesd to terminate the loop instanly when it is encountered"
   ]
  },
  {
   "cell_type": "code",
   "execution_count": null,
   "id": "8f09d29f",
   "metadata": {},
   "outputs": [],
   "source": [
    "for x in range(1,5):\n",
    "    if x>3:\n",
    "        break\n",
    "    print(x)\n",
    "print(\"hello world\")    "
   ]
  },
  {
   "cell_type": "code",
   "execution_count": null,
   "id": "c55cd9ec",
   "metadata": {},
   "outputs": [],
   "source": [
    "for x in range(3):\n",
    "    for y in range(4):\n",
    "        for z in range(5):\n",
    "            if z>2:\n",
    "                print(\"i am breaking it\")\n",
    "                break\n",
    "        print(z)        "
   ]
  },
  {
   "cell_type": "markdown",
   "id": "b0aa06d0",
   "metadata": {},
   "source": [
    "## Continue"
   ]
  },
  {
   "cell_type": "markdown",
   "id": "f91d55d3",
   "metadata": {},
   "source": [
    "The continue statements skips the current iteration of the loop and jumps to the next iteration."
   ]
  },
  {
   "cell_type": "code",
   "execution_count": null,
   "id": "0b007991",
   "metadata": {},
   "outputs": [],
   "source": [
    "for x in (1,2,3,4):\n",
    "    print(x)"
   ]
  },
  {
   "cell_type": "code",
   "execution_count": null,
   "id": "a46f5ae6",
   "metadata": {},
   "outputs": [],
   "source": [
    "for x in (1,2,3,4):\n",
    "    if x==3:\n",
    "        continue\n",
    "    print(x)\n",
    "    print(\"python\")"
   ]
  },
  {
   "cell_type": "code",
   "execution_count": null,
   "id": "b251e0a7",
   "metadata": {},
   "outputs": [],
   "source": [
    "for x in range(5):\n",
    "    print(x)\n",
    "    continue\n",
    "    print(\"hello\")"
   ]
  },
  {
   "cell_type": "markdown",
   "id": "411b7bc4",
   "metadata": {},
   "source": [
    "## Pass"
   ]
  },
  {
   "cell_type": "markdown",
   "id": "4b9fd129",
   "metadata": {},
   "source": [
    "The pass statements does nothing. it is used to create an empty block that may be useful in the future."
   ]
  },
  {
   "cell_type": "code",
   "execution_count": 43,
   "id": "d3d761ce",
   "metadata": {},
   "outputs": [],
   "source": [
    "for x in range(10):\n",
    "    pass"
   ]
  },
  {
   "cell_type": "code",
   "execution_count": 44,
   "id": "805459c9",
   "metadata": {},
   "outputs": [],
   "source": [
    "for t in range(4):\n",
    "    continue"
   ]
  },
  {
   "cell_type": "code",
   "execution_count": 45,
   "id": "901f3b8e",
   "metadata": {},
   "outputs": [
    {
     "name": "stdout",
     "output_type": "stream",
     "text": [
      "hello\n",
      "hello\n",
      "hello\n",
      "hello\n",
      "hello\n"
     ]
    }
   ],
   "source": [
    "for x in range(5):\n",
    "    pass\n",
    "    print(\"hello\")"
   ]
  },
  {
   "cell_type": "code",
   "execution_count": 46,
   "id": "481861a7",
   "metadata": {},
   "outputs": [],
   "source": [
    "for x in range(4):\n",
    "    continue\n",
    "    print(\"big data\")"
   ]
  },
  {
   "cell_type": "code",
   "execution_count": 47,
   "id": "590580c4",
   "metadata": {},
   "outputs": [
    {
     "name": "stdout",
     "output_type": "stream",
     "text": [
      "0\n",
      "1\n",
      "2\n",
      "3\n"
     ]
    }
   ],
   "source": [
    "for q in range(4):\n",
    "    if q==3:\n",
    "        pass\n",
    "    print(q)"
   ]
  },
  {
   "cell_type": "code",
   "execution_count": 40,
   "id": "fe707d77",
   "metadata": {},
   "outputs": [
    {
     "name": "stdout",
     "output_type": "stream",
     "text": [
      "0\n",
      "1\n",
      "2\n"
     ]
    }
   ],
   "source": [
    "for q in range(4):\n",
    "    if q==3:\n",
    "        continue\n",
    "    print(q)"
   ]
  },
  {
   "cell_type": "code",
   "execution_count": 41,
   "id": "ed67880e",
   "metadata": {},
   "outputs": [
    {
     "name": "stdout",
     "output_type": "stream",
     "text": [
      "xyz\n"
     ]
    }
   ],
   "source": [
    "y = 6\n",
    "if y>4:\n",
    "    pass\n",
    "print(\"xyz\")"
   ]
  },
  {
   "cell_type": "code",
   "execution_count": 42,
   "id": "892306e6",
   "metadata": {},
   "outputs": [
    {
     "ename": "SyntaxError",
     "evalue": "'continue' not properly in loop (924106099.py, line 3)",
     "output_type": "error",
     "traceback": [
      "\u001b[1;36m  Cell \u001b[1;32mIn[42], line 3\u001b[1;36m\u001b[0m\n\u001b[1;33m    continue\u001b[0m\n\u001b[1;37m    ^\u001b[0m\n\u001b[1;31mSyntaxError\u001b[0m\u001b[1;31m:\u001b[0m 'continue' not properly in loop\n"
     ]
    }
   ],
   "source": [
    "y = 6                             # continue is always work in loop\n",
    "if y>4:\n",
    "    continue\n",
    "print(\"xyz\")"
   ]
  },
  {
   "cell_type": "code",
   "execution_count": null,
   "id": "3f55f7da",
   "metadata": {},
   "outputs": [],
   "source": [
    "y = 6                             # break is always work in loop\n",
    "if y>4:\n",
    "    break\n",
    "print(\"xyz\")"
   ]
  },
  {
   "cell_type": "markdown",
   "id": "c219b1ee",
   "metadata": {},
   "source": [
    "# while Loops"
   ]
  },
  {
   "cell_type": "markdown",
   "id": "8b02f0b4",
   "metadata": {},
   "source": [
    "works till a certain condition is true."
   ]
  },
  {
   "cell_type": "markdown",
   "id": "bb19b7f4",
   "metadata": {},
   "source": [
    "Used for indefinite iterations."
   ]
  },
  {
   "cell_type": "code",
   "execution_count": 4,
   "id": "886d66e1",
   "metadata": {},
   "outputs": [
    {
     "name": "stdout",
     "output_type": "stream",
     "text": [
      "9\n",
      "10\n",
      "11\n",
      "12\n",
      "13\n",
      "14\n"
     ]
    }
   ],
   "source": [
    "x = 9\n",
    "while x<15:\n",
    "    print(x)\n",
    "    x = x+1"
   ]
  },
  {
   "cell_type": "code",
   "execution_count": 12,
   "id": "cbbf2aed",
   "metadata": {},
   "outputs": [
    {
     "name": "stdout",
     "output_type": "stream",
     "text": [
      "[1, 2, 3]\n",
      "[2, 3]\n",
      "[3]\n",
      "[]\n",
      "[1, 2, 3]\n",
      "[2, 3]\n",
      "[3]\n",
      "[]\n",
      "[1, 2, 3]\n",
      "[2, 3]\n",
      "[3]\n",
      "[]\n"
     ]
    }
   ],
   "source": [
    "i = 1\n",
    "while i<4:\n",
    "    lst=[1,2,3]\n",
    "    x = 1\n",
    "    print(lst)\n",
    "    while lst!=[]:\n",
    "        lst.remove(x)\n",
    "        print(lst)\n",
    "        x = x+1\n",
    "    i = i+1    "
   ]
  },
  {
   "cell_type": "code",
   "execution_count": null,
   "id": "b1ef2a8a",
   "metadata": {},
   "outputs": [],
   "source": [
    "# Take a positive integer(3-digit) as input from the user.\n",
    "# Check wheather the given number is an Armstrong number.\n",
    "# e.g.   153 = 1**3 + 5**3 + 3**3\n",
    "#        407 = 4**3 + 0**3 + 7**3"
   ]
  },
  {
   "cell_type": "code",
   "execution_count": null,
   "id": "ad27396d",
   "metadata": {},
   "outputs": [],
   "source": [
    "# Take a positive integer as input from the user . find the factorial of that number.\n",
    "# e.g.  factorial of 4 = 1*2*3*4\n",
    "# factorial of 0 = 1"
   ]
  }
 ],
 "metadata": {
  "kernelspec": {
   "display_name": "Python 3 (ipykernel)",
   "language": "python",
   "name": "python3"
  },
  "language_info": {
   "codemirror_mode": {
    "name": "ipython",
    "version": 3
   },
   "file_extension": ".py",
   "mimetype": "text/x-python",
   "name": "python",
   "nbconvert_exporter": "python",
   "pygments_lexer": "ipython3",
   "version": "3.10.9"
  }
 },
 "nbformat": 4,
 "nbformat_minor": 5
}
