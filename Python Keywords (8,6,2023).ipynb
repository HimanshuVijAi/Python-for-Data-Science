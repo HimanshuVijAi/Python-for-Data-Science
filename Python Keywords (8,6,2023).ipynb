{
 "cells": [
  {
   "cell_type": "markdown",
   "id": "9bfc0db0",
   "metadata": {},
   "source": [
    "What is Keywords?"
   ]
  },
  {
   "cell_type": "markdown",
   "id": "32be0756",
   "metadata": {},
   "source": [
    "Python keywords are reserved words"
   ]
  },
  {
   "cell_type": "code",
   "execution_count": 3,
   "id": "dedefcf5",
   "metadata": {},
   "outputs": [
    {
     "name": "stdout",
     "output_type": "stream",
     "text": [
      "\n",
      "Here is a list of the Python keywords.  Enter any keyword to get more help.\n",
      "\n",
      "False               class               from                or\n",
      "None                continue            global              pass\n",
      "True                def                 if                  raise\n",
      "and                 del                 import              return\n",
      "as                  elif                in                  try\n",
      "assert              else                is                  while\n",
      "async               except              lambda              with\n",
      "await               finally             nonlocal            yield\n",
      "break               for                 not                 \n",
      "\n"
     ]
    }
   ],
   "source": [
    "help(\"keywords\")"
   ]
  },
  {
   "cell_type": "code",
   "execution_count": 4,
   "id": "c9299ded",
   "metadata": {},
   "outputs": [
    {
     "name": "stdout",
     "output_type": "stream",
     "text": [
      "\n"
     ]
    }
   ],
   "source": [
    "print(\"print\")"
   ]
  },
  {
   "cell_type": "code",
   "execution_count": 6,
   "id": "c886ef63",
   "metadata": {},
   "outputs": [
    {
     "name": "stdout",
     "output_type": "stream",
     "text": [
      "str\n"
     ]
    }
   ],
   "source": [
    "print(\"str\")"
   ]
  },
  {
   "cell_type": "code",
   "execution_count": null,
   "id": "946fcddd",
   "metadata": {},
   "outputs": [],
   "source": [
    "i am going is True"
   ]
  },
  {
   "cell_type": "code",
   "execution_count": null,
   "id": "71d47248",
   "metadata": {},
   "outputs": [],
   "source": [
    "print(\"str\")"
   ]
  },
  {
   "cell_type": "code",
   "execution_count": 2,
   "id": "06b83ef9",
   "metadata": {},
   "outputs": [
    {
     "ename": "NameError",
     "evalue": "name 'a' is not defined",
     "output_type": "error",
     "traceback": [
      "\u001b[1;31m---------------------------------------------------------------------------\u001b[0m",
      "\u001b[1;31mNameError\u001b[0m                                 Traceback (most recent call last)",
      "Cell \u001b[1;32mIn[2], line 1\u001b[0m\n\u001b[1;32m----> 1\u001b[0m \u001b[38;5;28mprint\u001b[39m(\u001b[38;5;28mid\u001b[39m(\u001b[43ma\u001b[49m))\n",
      "\u001b[1;31mNameError\u001b[0m: name 'a' is not defined"
     ]
    }
   ],
   "source": [
    "print(id(a))"
   ]
  },
  {
   "cell_type": "code",
   "execution_count": 2,
   "id": "def2cf72",
   "metadata": {},
   "outputs": [
    {
     "data": {
      "text/plain": [
       "'xy'"
      ]
     },
     "execution_count": 2,
     "metadata": {},
     "output_type": "execute_result"
    }
   ],
   "source": [
    "(\"x\" + \"y\")"
   ]
  },
  {
   "cell_type": "code",
   "execution_count": 1,
   "id": "bcc0177a",
   "metadata": {},
   "outputs": [
    {
     "data": {
      "text/plain": [
       "False"
      ]
     },
     "execution_count": 1,
     "metadata": {},
     "output_type": "execute_result"
    }
   ],
   "source": [
    "False"
   ]
  },
  {
   "cell_type": "markdown",
   "id": "a85bd068",
   "metadata": {},
   "source": [
    " # Python Community"
   ]
  },
  {
   "cell_type": "markdown",
   "id": "fb3f5468",
   "metadata": {},
   "source": [
    "- discuss.python.org\n",
    "- stackoverflow.com\n",
    "- www.reddit.com/r/python/.\n",
    "- pythonistacafe.com\n",
    "- github.com\n",
    "- www.pythonweekly.com\n",
    "- www.pycon.org"
   ]
  },
  {
   "cell_type": "code",
   "execution_count": 1,
   "id": "6787d520",
   "metadata": {},
   "outputs": [
    {
     "data": {
      "text/plain": [
       "23"
      ]
     },
     "execution_count": 1,
     "metadata": {},
     "output_type": "execute_result"
    }
   ],
   "source": [
    "23%46"
   ]
  },
  {
   "cell_type": "code",
   "execution_count": null,
   "id": "5e6a24bd",
   "metadata": {},
   "outputs": [],
   "source": []
  }
 ],
 "metadata": {
  "kernelspec": {
   "display_name": "Python 3 (ipykernel)",
   "language": "python",
   "name": "python3"
  },
  "language_info": {
   "codemirror_mode": {
    "name": "ipython",
    "version": 3
   },
   "file_extension": ".py",
   "mimetype": "text/x-python",
   "name": "python",
   "nbconvert_exporter": "python",
   "pygments_lexer": "ipython3",
   "version": "3.10.9"
  }
 },
 "nbformat": 4,
 "nbformat_minor": 5
}
