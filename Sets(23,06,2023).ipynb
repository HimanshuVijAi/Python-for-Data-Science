{
 "cells": [
  {
   "cell_type": "markdown",
   "id": "4be6a6ce",
   "metadata": {},
   "source": [
    "# Sets"
   ]
  },
  {
   "cell_type": "markdown",
   "id": "65b633b9",
   "metadata": {},
   "source": [
    "- Unordered:The item in the sets are unordered ,i.e ,it will not maintain the order in which the item are inserted.\n",
    "- Unindexed:Set item are unindexed.\n",
    "- Unique:There cannot be two item with the same value in the set.\n",
    "- Set item must be immutable:We cannot change the same item.\n",
    "- Sets are mutable."
   ]
  },
  {
   "cell_type": "code",
   "execution_count": 4,
   "id": "886af23f",
   "metadata": {},
   "outputs": [
    {
     "name": "stdout",
     "output_type": "stream",
     "text": [
      "{1, 2, 'strings', 45}\n",
      "{1, 2, 'strings', 45, 's', 'r', 't'}\n",
      "{1, 2, 'strings', 's', 'r', 't'}\n"
     ]
    }
   ],
   "source": [
    "# set method\n",
    "\n",
    "set = {1,\"strings\",2}\n",
    "\n",
    "\n",
    "# .add(item)----This is same as .append() in lists.\n",
    "set.add(45)\n",
    "print(set) \n",
    "# .update(iterable)----This is same as .extend() in lists.\n",
    "set.update(\"str\")\n",
    "print(set)\n",
    "\n",
    "\n",
    "# .remove()\n",
    "set.remove(45)\n",
    "print(set)\n"
   ]
  },
  {
   "cell_type": "code",
   "execution_count": 3,
   "id": "27a45fc3",
   "metadata": {},
   "outputs": [
    {
     "name": "stdout",
     "output_type": "stream",
     "text": [
      "140736039317184\n",
      "None\n",
      "{'strings', 1, 2, 45}\n",
      "{1, 2, 'strings', 'r', 45, 't', 's'}\n",
      "{1, 2, 'strings', 'r', 't', 's'}\n"
     ]
    }
   ],
   "source": [
    "# set method\n",
    "\n",
    "set = {1,\"strings\",2}\n",
    "\n",
    "\n",
    "# .add(item)----This is same as .append() in lists.\n",
    "z = set.add(45)\n",
    "print(id(z))\n",
    "print(z)\n",
    "print(set) \n",
    "# .update(iterable)----This is same as .extend() in lists.\n",
    "set.update(\"str\")\n",
    "print(set)\n",
    "\n",
    "\n",
    "# .remove()\n",
    "set.remove(45)\n",
    "print(set)\n"
   ]
  },
  {
   "cell_type": "code",
   "execution_count": 1,
   "id": "663ab924",
   "metadata": {},
   "outputs": [
    {
     "name": "stdout",
     "output_type": "stream",
     "text": [
      "{1, 4, 'str'}\n"
     ]
    }
   ],
   "source": [
    "z = {1,4,\"str\"}\n",
    "print(z)"
   ]
  },
  {
   "cell_type": "code",
   "execution_count": 3,
   "id": "d13efce0",
   "metadata": {},
   "outputs": [
    {
     "name": "stdout",
     "output_type": "stream",
     "text": [
      "{67, 4, 5, 6, 8, 9}\n"
     ]
    }
   ],
   "source": [
    "z = {9,6,4,8,5,67}\n",
    "print(z)"
   ]
  },
  {
   "cell_type": "code",
   "execution_count": 2,
   "id": "435f5df6",
   "metadata": {},
   "outputs": [
    {
     "name": "stdout",
     "output_type": "stream",
     "text": [
      "Union Method has been used {1, 2, 3, 4, 5}\n",
      "Update method is used {1, 2, 3, 4, 5}\n",
      "{1, 2}\n",
      "{'hello'}\n",
      "{'Hello', 2, 3, 'hello'}\n"
     ]
    }
   ],
   "source": [
    "# Union\n",
    "a = {1,2,3}\n",
    "b = {1,2,4,5}\n",
    "print(\"Union Method has been used\",a.union(b))\n",
    "a.update(b)\n",
    "print(\"Update method is used\",a)\n",
    "\n",
    "# Intersection\n",
    "a = {1,2,3}\n",
    "b = {1,2,4,5}\n",
    "\n",
    "a.intersection(b)  # This will not apply the changes to a\n",
    "a.intersection_update(b)  # This will apply the changes to a\n",
    "print(a)\n",
    "\n",
    "# Difference\n",
    "x = {\"str\",\"hello\",True,1}\n",
    "y = {1,2,3,\"Hello\",\"str\"}\n",
    "x.difference(y)\n",
    "x.difference_update(y)\n",
    "print(x)\n",
    "\n",
    "# Symmetric Difference\n",
    "x = {\"str\",\"hello\",True,1}\n",
    "y = {1,2,3,\"Hello\",\"str\"}\n",
    "\n",
    "x.symmetric_difference(y)\n",
    "x.symmetric_difference_update(y)\n",
    "print(x)"
   ]
  },
  {
   "cell_type": "code",
   "execution_count": 7,
   "id": "d7399f50",
   "metadata": {},
   "outputs": [
    {
     "name": "stdout",
     "output_type": "stream",
     "text": [
      "3129940913152\n",
      "Union Method has been used {1, 2, 3, 4, 5}\n",
      "Update method is used {1, 2, 3, 4, 5}\n",
      "3129940913152\n",
      "3129940910912\n",
      "{1, 2}\n",
      "3129940910912\n",
      "{'hello'}\n",
      "{'Hello', 2, 3, 'hello'}\n"
     ]
    }
   ],
   "source": [
    "# Union\n",
    "a = {1,2,3}\n",
    "print(id(a))\n",
    "b = {1,2,4,5}\n",
    "print(\"Union Method has been used\",a.union(b))\n",
    "a.update(b)\n",
    "print(\"Update method is used\",a)\n",
    "print(id(a))\n",
    "# Intersection\n",
    "a = {1,2,3}\n",
    "b = {1,2,4,5}\n",
    "print(id(a))\n",
    "a.intersection(b)  # This will not apply the changes to a\n",
    "a.intersection_update(b)  # This will apply the changes to a\n",
    "print(a)\n",
    "print(id(a))\n",
    "# Difference\n",
    "x = {\"str\",\"hello\",True,1}\n",
    "y = {1,2,3,\"Hello\",\"str\"}\n",
    "x.difference(y)\n",
    "x.difference_update(y)\n",
    "print(x)\n",
    "\n",
    "# Symmetric Difference\n",
    "x = {\"str\",\"hello\",True,1}\n",
    "y = {1,2,3,\"Hello\",\"str\"}\n",
    "\n",
    "x.symmetric_difference(y)\n",
    "x.symmetric_difference_update(y)\n",
    "print(x)"
   ]
  },
  {
   "cell_type": "code",
   "execution_count": 8,
   "id": "7f8e031e",
   "metadata": {},
   "outputs": [
    {
     "name": "stdout",
     "output_type": "stream",
     "text": [
      "{1, 2}\n",
      "None\n"
     ]
    }
   ],
   "source": [
    "a = {1,2,3}\n",
    "b = {1,2,4,5}\n",
    "\n",
    "z = a.intersection(b)  # This will not apply the changes to a\n",
    "k = a.intersection_update(b)  # This will apply the changes to a\n",
    "print(z)\n",
    "print(k)"
   ]
  },
  {
   "cell_type": "markdown",
   "id": "75545850",
   "metadata": {},
   "source": [
    "# Subset and Superset"
   ]
  },
  {
   "cell_type": "code",
   "execution_count": 9,
   "id": "e0a0086a",
   "metadata": {},
   "outputs": [
    {
     "name": "stdout",
     "output_type": "stream",
     "text": [
      "False\n",
      "True\n",
      "True\n"
     ]
    }
   ],
   "source": [
    "p = {1,2,3,4,5}\n",
    "q = {1,2,3}\n",
    "\n",
    "print(p.issubset(q))\n",
    "print(p.issubset(p))\n",
    "print(q.issubset(p))"
   ]
  },
  {
   "cell_type": "code",
   "execution_count": 10,
   "id": "32233f43",
   "metadata": {},
   "outputs": [
    {
     "name": "stdout",
     "output_type": "stream",
     "text": [
      "True\n",
      "True\n",
      "False\n"
     ]
    }
   ],
   "source": [
    "p = {1,2,3,4,5}\n",
    "q = {1,2,3}\n",
    "\n",
    "print(p.issuperset(q))\n",
    "print(p.issuperset(p))\n",
    "print(q.issuperset(p))"
   ]
  },
  {
   "cell_type": "markdown",
   "id": "3dd8a62a",
   "metadata": {},
   "source": [
    "# Disjoint"
   ]
  },
  {
   "cell_type": "code",
   "execution_count": 11,
   "id": "f00027a5",
   "metadata": {},
   "outputs": [
    {
     "data": {
      "text/plain": [
       "True"
      ]
     },
     "execution_count": 11,
     "metadata": {},
     "output_type": "execute_result"
    }
   ],
   "source": [
    "p = {1,2,3,4,5}\n",
    "q = {6,7,8}\n",
    "p.isdisjoint(q)"
   ]
  },
  {
   "cell_type": "code",
   "execution_count": 12,
   "id": "a66a5d92",
   "metadata": {},
   "outputs": [
    {
     "data": {
      "text/plain": [
       "False"
      ]
     },
     "execution_count": 12,
     "metadata": {},
     "output_type": "execute_result"
    }
   ],
   "source": [
    "p.isdisjoint(p)"
   ]
  },
  {
   "cell_type": "code",
   "execution_count": 13,
   "id": "4d9581d9",
   "metadata": {},
   "outputs": [
    {
     "data": {
      "text/plain": [
       "True"
      ]
     },
     "execution_count": 13,
     "metadata": {},
     "output_type": "execute_result"
    }
   ],
   "source": [
    "q.isdisjoint(p)"
   ]
  },
  {
   "cell_type": "markdown",
   "id": "0ecffcd7",
   "metadata": {},
   "source": [
    "# Empty Set"
   ]
  },
  {
   "cell_type": "code",
   "execution_count": 2,
   "id": "10f4b900",
   "metadata": {},
   "outputs": [
    {
     "name": "stdout",
     "output_type": "stream",
     "text": [
      "{}\n"
     ]
    }
   ],
   "source": [
    "a = {}\n",
    "print(a)"
   ]
  },
  {
   "cell_type": "code",
   "execution_count": 4,
   "id": "d5e373ab",
   "metadata": {},
   "outputs": [
    {
     "name": "stdout",
     "output_type": "stream",
     "text": [
      "set()\n"
     ]
    }
   ],
   "source": [
    "s = set()\n",
    "print(s)"
   ]
  },
  {
   "cell_type": "code",
   "execution_count": 6,
   "id": "1192a841",
   "metadata": {},
   "outputs": [
    {
     "name": "stdout",
     "output_type": "stream",
     "text": [
      "<class 'set'>\n"
     ]
    }
   ],
   "source": [
    "s = set()\n",
    "print(type(s))"
   ]
  },
  {
   "cell_type": "code",
   "execution_count": 20,
   "id": "e42e0e55",
   "metadata": {},
   "outputs": [
    {
     "name": "stdout",
     "output_type": "stream",
     "text": [
      "{'Country': {'india': 'new delhi', 'pakistan': 'islamabad'}}\n"
     ]
    }
   ],
   "source": [
    "j = {}\n",
    "k = {\"india\": \"new delhi\", \"pakistan\": \"islamabad\"}\n",
    "j[\"Country\"] = k\n",
    "print(j)"
   ]
  },
  {
   "cell_type": "code",
   "execution_count": null,
   "id": "d3eaf366",
   "metadata": {},
   "outputs": [],
   "source": []
  },
  {
   "cell_type": "code",
   "execution_count": null,
   "id": "d18d27e1",
   "metadata": {},
   "outputs": [],
   "source": []
  }
 ],
 "metadata": {
  "kernelspec": {
   "display_name": "Python 3 (ipykernel)",
   "language": "python",
   "name": "python3"
  },
  "language_info": {
   "codemirror_mode": {
    "name": "ipython",
    "version": 3
   },
   "file_extension": ".py",
   "mimetype": "text/x-python",
   "name": "python",
   "nbconvert_exporter": "python",
   "pygments_lexer": "ipython3",
   "version": "3.10.9"
  }
 },
 "nbformat": 4,
 "nbformat_minor": 5
}
