{
 "cells": [
  {
   "cell_type": "markdown",
   "id": "4f2df7c0",
   "metadata": {},
   "source": [
    "Encapsulation involves bundling of data(attributes) and function(methods) within a single unit.\n",
    "\n",
    "Encapsulation is a way to restrict access to methods and attributes from outside of class.\n",
    "Whenever we are working with the class and dealing with sensitive data,providing access to all variables used\n",
    "within the class is not a good choice."
   ]
  },
  {
   "cell_type": "markdown",
   "id": "8df211be",
   "metadata": {},
   "source": [
    "# Access Modifiers in Python."
   ]
  },
  {
   "cell_type": "markdown",
   "id": "42ff1243",
   "metadata": {},
   "source": [
    "- Access modifiers limit access to the attributes and methods of a class.\n",
    "- Python provides three types of access modifiers public,private and protected"
   ]
  },
  {
   "cell_type": "markdown",
   "id": "9a0344cd",
   "metadata": {},
   "source": [
    "# Public member."
   ]
  },
  {
   "cell_type": "markdown",
   "id": "9c8cdbd9",
   "metadata": {},
   "source": [
    "- Accessible within outside of a class.\n",
    "- All variables and methods are public by default."
   ]
  },
  {
   "cell_type": "code",
   "execution_count": 21,
   "id": "fd1924c7",
   "metadata": {},
   "outputs": [
    {
     "ename": "AttributeError",
     "evalue": "'Aspirant' object has no attribute 'show'",
     "output_type": "error",
     "traceback": [
      "\u001b[1;31m---------------------------------------------------------------------------\u001b[0m",
      "\u001b[1;31mAttributeError\u001b[0m                            Traceback (most recent call last)",
      "Cell \u001b[1;32mIn[21], line 15\u001b[0m\n\u001b[0;32m     13\u001b[0m a1 \u001b[38;5;241m=\u001b[39m Aspirant(\u001b[38;5;124m\"\u001b[39m\u001b[38;5;124mXYZ\u001b[39m\u001b[38;5;124m\"\u001b[39m,\u001b[38;5;241m25\u001b[39m,\u001b[38;5;124m'\u001b[39m\u001b[38;5;124mCA\u001b[39m\u001b[38;5;124m'\u001b[39m)\n\u001b[0;32m     14\u001b[0m a1\u001b[38;5;241m.\u001b[39mprofession\n\u001b[1;32m---> 15\u001b[0m \u001b[38;5;28mprint\u001b[39m(\u001b[43ma1\u001b[49m\u001b[38;5;241;43m.\u001b[39;49m\u001b[43mshow\u001b[49m())\n",
      "\u001b[1;31mAttributeError\u001b[0m: 'Aspirant' object has no attribute 'show'"
     ]
    }
   ],
   "source": [
    "class Aspirant:\n",
    "    \n",
    "    def __init__(self,name,age,profession):\n",
    "        \n",
    "        # private variables\n",
    "        self.name = name\n",
    "        self.age = age\n",
    "        self.profession = profession \n",
    "        \n",
    "        def show(self):\n",
    "            print(self.name,self.age)\n",
    "        \n",
    "a1 = Aspirant(\"XYZ\",25,'CA')\n",
    "a1.profession\n",
    "print(a1.show())\n"
   ]
  },
  {
   "cell_type": "markdown",
   "id": "11b16abb",
   "metadata": {},
   "source": [
    "# Private member."
   ]
  },
  {
   "cell_type": "markdown",
   "id": "13096668",
   "metadata": {},
   "source": [
    "- Accessible only within the class.\n",
    "- Can't access them directly from the class objects.\n",
    "- We can create private members using double underscores."
   ]
  },
  {
   "cell_type": "code",
   "execution_count": 23,
   "id": "d65d5e34",
   "metadata": {},
   "outputs": [
    {
     "name": "stdout",
     "output_type": "stream",
     "text": [
      "XYZ with age 25 is a CA\n",
      "None\n"
     ]
    }
   ],
   "source": [
    "class Aspirant:\n",
    "    \n",
    "    def __init__(self,name,age,profession):\n",
    "        \n",
    "        self.name = name\n",
    "        self.age = age\n",
    "        self.__profession = profession             # private variables\n",
    "        \n",
    "    def show(self):\n",
    "        print(f\"{self.name} with age {self.age} is a {self.__profession}\")\n",
    "        \n",
    "a1 = Aspirant(\"XYZ\",25,\"CA\")\n",
    "print(a1.show())"
   ]
  },
  {
   "cell_type": "code",
   "execution_count": null,
   "id": "c71e2caf",
   "metadata": {},
   "outputs": [],
   "source": [
    "# accessing private method "
   ]
  },
  {
   "cell_type": "code",
   "execution_count": 4,
   "id": "0245f990",
   "metadata": {},
   "outputs": [
    {
     "ename": "AttributeError",
     "evalue": "'Aspirant' object has no attribute '__show'",
     "output_type": "error",
     "traceback": [
      "\u001b[1;31m---------------------------------------------------------------------------\u001b[0m",
      "\u001b[1;31mAttributeError\u001b[0m                            Traceback (most recent call last)",
      "Cell \u001b[1;32mIn[4], line 14\u001b[0m\n\u001b[0;32m     10\u001b[0m         \u001b[38;5;28mprint\u001b[39m(\u001b[38;5;124mf\u001b[39m\u001b[38;5;124m\"\u001b[39m\u001b[38;5;132;01m{\u001b[39;00m\u001b[38;5;28mself\u001b[39m\u001b[38;5;241m.\u001b[39mname\u001b[38;5;132;01m}\u001b[39;00m\u001b[38;5;124m with age \u001b[39m\u001b[38;5;132;01m{\u001b[39;00m\u001b[38;5;28mself\u001b[39m\u001b[38;5;241m.\u001b[39mage\u001b[38;5;132;01m}\u001b[39;00m\u001b[38;5;124m is a \u001b[39m\u001b[38;5;132;01m{\u001b[39;00m\u001b[38;5;28mself\u001b[39m\u001b[38;5;241m.\u001b[39m__profession\u001b[38;5;132;01m}\u001b[39;00m\u001b[38;5;124m\"\u001b[39m)\n\u001b[0;32m     13\u001b[0m a1 \u001b[38;5;241m=\u001b[39m Aspirant(\u001b[38;5;124m\"\u001b[39m\u001b[38;5;124mXYZ\u001b[39m\u001b[38;5;124m\"\u001b[39m,\u001b[38;5;241m25\u001b[39m,\u001b[38;5;124m\"\u001b[39m\u001b[38;5;124mCA\u001b[39m\u001b[38;5;124m\"\u001b[39m)\n\u001b[1;32m---> 14\u001b[0m \u001b[38;5;28mprint\u001b[39m(\u001b[43ma1\u001b[49m\u001b[38;5;241;43m.\u001b[39;49m\u001b[43m__show\u001b[49m())\n",
      "\u001b[1;31mAttributeError\u001b[0m: 'Aspirant' object has no attribute '__show'"
     ]
    }
   ],
   "source": [
    "class Aspirant:\n",
    "    \n",
    "    def __init__(self,name,age,profession):\n",
    "        \n",
    "        self.name = name\n",
    "        self.age = age\n",
    "        self.__profession = profession             # private variables\n",
    "        \n",
    "    def __show(self):\n",
    "        print(f\"{self.name} with age {self.age} is a {self.__profession}\")\n",
    "          \n",
    "        \n",
    "a1 = Aspirant(\"XYZ\",25,\"CA\")\n",
    "print(a1.__show())"
   ]
  },
  {
   "cell_type": "code",
   "execution_count": 5,
   "id": "45c169ed",
   "metadata": {
    "collapsed": true
   },
   "outputs": [
    {
     "name": "stdout",
     "output_type": "stream",
     "text": [
      "XYZ with age 25 is a CA\n"
     ]
    }
   ],
   "source": [
    "class Aspirant:\n",
    "    \n",
    "    def __init__(self,name,age,profession):\n",
    "        \n",
    "        self.name = name\n",
    "        self.age = age\n",
    "        self.__profession = profession             # private variables\n",
    "        \n",
    "    def __show(self):\n",
    "        print(f\"{self.name} with age {self.age} is a {self.__profession}\")\n",
    "        \n",
    "    def access_show(self):\n",
    "        self.__show()\n",
    "          \n",
    "        \n",
    "a1 = Aspirant(\"XYZ\",25,\"CA\")\n",
    "a1.access_show()"
   ]
  },
  {
   "cell_type": "markdown",
   "id": "53ccbf64",
   "metadata": {},
   "source": [
    "# Protected member."
   ]
  },
  {
   "cell_type": "markdown",
   "id": "cd26974b",
   "metadata": {},
   "source": [
    "- Accessible only within the class and its child classes.\n",
    "- Can't accesscthem directly from objects.\n",
    "- We can create protected members using a single underscores."
   ]
  },
  {
   "cell_type": "code",
   "execution_count": 2,
   "id": "04393169",
   "metadata": {
    "collapsed": true
   },
   "outputs": [
    {
     "name": "stdout",
     "output_type": "stream",
     "text": [
      "Employee name: Roy\n",
      "Working on project: NLP\n"
     ]
    }
   ],
   "source": [
    "# Protected Variables - Used with inheritance.\n",
    "\n",
    "class Company:\n",
    "    def __init__(self):\n",
    "        #Protected member\n",
    "        self._project = \"NLP\"\n",
    "        \n",
    "# child class\n",
    "\n",
    "class Employee(Company):\n",
    "    def __init__(self,name):\n",
    "        self.name = name\n",
    "        super().__init__()\n",
    "        \n",
    "    def show(self):\n",
    "        print(\"Employee name:\",self.name)\n",
    "        # Accessing protected member inside child class\n",
    "        print(\"Working on project:\",self._project)\n",
    "        \n",
    "c = Employee(\"Roy\")\n",
    "c.show()"
   ]
  },
  {
   "cell_type": "markdown",
   "id": "fe59854c",
   "metadata": {},
   "source": [
    "# Actually there is NO access modifiers in python."
   ]
  },
  {
   "cell_type": "code",
   "execution_count": 3,
   "id": "faae1f83",
   "metadata": {},
   "outputs": [],
   "source": [
    "# PYthon is for adults."
   ]
  },
  {
   "cell_type": "code",
   "execution_count": 4,
   "id": "3b8254e1",
   "metadata": {
    "collapsed": true
   },
   "outputs": [
    {
     "name": "stdout",
     "output_type": "stream",
     "text": [
      "Employee name: Roy\n",
      "Working on project: NLP\n"
     ]
    }
   ],
   "source": [
    "# Protected Variables - Used with inheritance.\n",
    "\n",
    "class Company:\n",
    "    def __init__(self):\n",
    "        #Protected member\n",
    "        self._project = \"NLP\"\n",
    "        \n",
    "# child class\n",
    "\n",
    "class Employee(Company):\n",
    "    def __init__(self,name):\n",
    "        self.name = name\n",
    "        super().__init__()\n",
    "        \n",
    "    def show(self):\n",
    "        print(\"Employee name:\",self.name)\n",
    "        # Accessing protected member inside child class\n",
    "        print(\"Working on project:\",self._project)\n",
    "        \n",
    "c = Employee(\"Roy\")\n",
    "c.show()"
   ]
  },
  {
   "cell_type": "code",
   "execution_count": 6,
   "id": "fa6f75a6",
   "metadata": {
    "collapsed": true
   },
   "outputs": [
    {
     "data": {
      "text/plain": [
       "['__class__',\n",
       " '__delattr__',\n",
       " '__dict__',\n",
       " '__dir__',\n",
       " '__doc__',\n",
       " '__eq__',\n",
       " '__format__',\n",
       " '__ge__',\n",
       " '__getattribute__',\n",
       " '__gt__',\n",
       " '__hash__',\n",
       " '__init__',\n",
       " '__init_subclass__',\n",
       " '__le__',\n",
       " '__lt__',\n",
       " '__module__',\n",
       " '__ne__',\n",
       " '__new__',\n",
       " '__reduce__',\n",
       " '__reduce_ex__',\n",
       " '__repr__',\n",
       " '__setattr__',\n",
       " '__sizeof__',\n",
       " '__str__',\n",
       " '__subclasshook__',\n",
       " '__weakref__',\n",
       " '_project',\n",
       " 'name',\n",
       " 'show']"
      ]
     },
     "execution_count": 6,
     "metadata": {},
     "output_type": "execute_result"
    }
   ],
   "source": [
    "c._project                     # can access protected members.\n",
    "dir(c)"
   ]
  },
  {
   "cell_type": "markdown",
   "id": "4d519c5f",
   "metadata": {},
   "source": [
    "# Accessing private variables using names Mangling."
   ]
  },
  {
   "cell_type": "markdown",
   "id": "c29def41",
   "metadata": {},
   "source": [
    "<font size=4> Name mangling is a mechanism which causes the attributes with double underscores to become _ClassName__attribute internally within python."
   ]
  },
  {
   "cell_type": "code",
   "execution_count": 9,
   "id": "9894b007",
   "metadata": {
    "collapsed": true
   },
   "outputs": [
    {
     "name": "stdout",
     "output_type": "stream",
     "text": [
      "Software\n"
     ]
    }
   ],
   "source": [
    "class Aspirant:\n",
    "    \n",
    "    def __init__(self,name,age,profession):\n",
    "        \n",
    "        self.name = name\n",
    "        self.age = age\n",
    "        self.__profession = profession             # private variables\n",
    "        \n",
    "a1 = Aspirant(\"XYZ\",45,\"CA\")\n",
    "a1._Aspirant__profession = \"Software\"\n",
    "print(a1._Aspirant__profession)            # object.__ClassName__VariableName"
   ]
  },
  {
   "cell_type": "markdown",
   "id": "6cf5523d",
   "metadata": {},
   "source": [
    "# Getters and Setters."
   ]
  },
  {
   "cell_type": "markdown",
   "id": "83cdf7ef",
   "metadata": {},
   "source": [
    "1.Getters are methods used to access the values of Private Attributes.\n",
    "2.Setters are methods used to Change the values of Private Attributes."
   ]
  },
  {
   "cell_type": "markdown",
   "id": "7122697b",
   "metadata": {},
   "source": [
    "- Used to achieve encapsulation. They control the access to the private Attributes.\n",
    "- Prevent any invalid values from being initialised to the variable.\n",
    "- We can hide the implementation details of a class from external users."
   ]
  },
  {
   "cell_type": "code",
   "execution_count": 2,
   "id": "92b03bc2",
   "metadata": {
    "collapsed": true
   },
   "outputs": [
    {
     "name": "stdout",
     "output_type": "stream",
     "text": [
      "22\n"
     ]
    },
    {
     "data": {
      "text/plain": [
       "78"
      ]
     },
     "execution_count": 2,
     "metadata": {},
     "output_type": "execute_result"
    }
   ],
   "source": [
    "class Number:\n",
    "    def __init__(self):\n",
    "        self.__num = 22\n",
    "        \n",
    "    @property\n",
    "    def num(self):\n",
    "        return self.__num\n",
    "    \n",
    "    @num.setter\n",
    "    def num(self,new_num):\n",
    "        self.__num = new_num\n",
    "        \n",
    "x = Number()\n",
    "y = Number()\n",
    "print(x.num)\n",
    "x.num = 78\n",
    "x.num"
   ]
  },
  {
   "cell_type": "code",
   "execution_count": 17,
   "id": "4ba798cf",
   "metadata": {},
   "outputs": [
    {
     "name": "stdout",
     "output_type": "stream",
     "text": [
      "Invalid value \n",
      "Enter the value b\\w 0-100\n"
     ]
    },
    {
     "data": {
      "text/plain": [
       "17"
      ]
     },
     "execution_count": 17,
     "metadata": {},
     "output_type": "execute_result"
    }
   ],
   "source": [
    "class Number:\n",
    "    def __init__(self):\n",
    "        self.__num = 22\n",
    "        self.__age = 17\n",
    "    @property\n",
    "    def num(self):\n",
    "        return self.__num\n",
    "    \n",
    "    @num.setter\n",
    "    def num(self,new_num):\n",
    "        self.__num = new_num\n",
    "        \n",
    "    @property\n",
    "    def age(self):\n",
    "        return self.__age\n",
    "    \n",
    "    @age.setter\n",
    "    def age(self,new_age):\n",
    "        if new_age > 100:\n",
    "            print(\"Invalid value \\nEnter the value b\\w 0-100\")\n",
    "        else:\n",
    "            self.__age = new_age\n",
    "        \n",
    "x = Number()\n",
    "y = Number()\n",
    "y.age = 344\n",
    "y.age"
   ]
  },
  {
   "cell_type": "code",
   "execution_count": null,
   "id": "ab500e37",
   "metadata": {},
   "outputs": [],
   "source": []
  }
 ],
 "metadata": {
  "kernelspec": {
   "display_name": "Python 3 (ipykernel)",
   "language": "python",
   "name": "python3"
  },
  "language_info": {
   "codemirror_mode": {
    "name": "ipython",
    "version": 3
   },
   "file_extension": ".py",
   "mimetype": "text/x-python",
   "name": "python",
   "nbconvert_exporter": "python",
   "pygments_lexer": "ipython3",
   "version": "3.10.9"
  }
 },
 "nbformat": 4,
 "nbformat_minor": 5
}
