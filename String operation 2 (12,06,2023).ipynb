{
 "cells": [
  {
   "cell_type": "markdown",
   "id": "38cdca37",
   "metadata": {},
   "source": [
    "- Strings Methods and Function\n",
    "- Concatenation of Strings"
   ]
  },
  {
   "cell_type": "code",
   "execution_count": 25,
   "id": "651e78f3",
   "metadata": {
    "scrolled": true
   },
   "outputs": [
    {
     "data": {
      "text/plain": [
       "'hello world'"
      ]
     },
     "execution_count": 25,
     "metadata": {},
     "output_type": "execute_result"
    }
   ],
   "source": [
    "x =\"hello world\"\n",
    "x"
   ]
  },
  {
   "cell_type": "code",
   "execution_count": 2,
   "id": "01290ce2",
   "metadata": {},
   "outputs": [
    {
     "data": {
      "text/plain": [
       "'hello world'"
      ]
     },
     "execution_count": 2,
     "metadata": {},
     "output_type": "execute_result"
    }
   ],
   "source": [
    "z =\"hello world\"\n",
    "z.upper()\n",
    "z"
   ]
  },
  {
   "cell_type": "code",
   "execution_count": 4,
   "id": "e0015527",
   "metadata": {},
   "outputs": [
    {
     "name": "stdout",
     "output_type": "stream",
     "text": [
      "HELLO WORLD\n",
      "hello world\n"
     ]
    }
   ],
   "source": [
    "z =\"hello world\"\n",
    "print(z.upper())\n",
    "print(z)"
   ]
  },
  {
   "cell_type": "code",
   "execution_count": 3,
   "id": "83454c8a",
   "metadata": {},
   "outputs": [
    {
     "data": {
      "text/plain": [
       "'HELLO WORLD'"
      ]
     },
     "execution_count": 3,
     "metadata": {},
     "output_type": "execute_result"
    }
   ],
   "source": [
    "z =\"hello world\"\n",
    "z  = z.upper()\n",
    "z"
   ]
  },
  {
   "cell_type": "code",
   "execution_count": 12,
   "id": "11557970",
   "metadata": {},
   "outputs": [
    {
     "name": "stdout",
     "output_type": "stream",
     "text": [
      "HELLO WORLD\n",
      "hello world\n"
     ]
    }
   ],
   "source": [
    "# .upper()\n",
    "print(x.upper())\n",
    "print(x)"
   ]
  },
  {
   "cell_type": "code",
   "execution_count": 8,
   "id": "e02f18fd",
   "metadata": {},
   "outputs": [
    {
     "name": "stdout",
     "output_type": "stream",
     "text": [
      "HELLO WORLD\n",
      "HELLO WORLD\n"
     ]
    }
   ],
   "source": [
    "# .upper()\n",
    "x =x.upper()\n",
    "print(x.upper())\n",
    "print(x)"
   ]
  },
  {
   "cell_type": "code",
   "execution_count": 2,
   "id": "e715662c",
   "metadata": {},
   "outputs": [
    {
     "data": {
      "text/plain": [
       "'HELLO WORLD'"
      ]
     },
     "execution_count": 2,
     "metadata": {},
     "output_type": "execute_result"
    }
   ],
   "source": [
    "# .upper()\n",
    "x.upper()"
   ]
  },
  {
   "cell_type": "code",
   "execution_count": 3,
   "id": "f56d2fa2",
   "metadata": {},
   "outputs": [
    {
     "data": {
      "text/plain": [
       "'hello world'"
      ]
     },
     "execution_count": 3,
     "metadata": {},
     "output_type": "execute_result"
    }
   ],
   "source": [
    "# .lower()\n",
    "x.lower()"
   ]
  },
  {
   "cell_type": "code",
   "execution_count": 16,
   "id": "ea4ead31",
   "metadata": {},
   "outputs": [
    {
     "data": {
      "text/plain": [
       "'nezzo worzd'"
      ]
     },
     "execution_count": 16,
     "metadata": {},
     "output_type": "execute_result"
    }
   ],
   "source": [
    "# .replace()\n",
    "x =x.replace(\"l\",'z')\n",
    "x"
   ]
  },
  {
   "cell_type": "code",
   "execution_count": 14,
   "id": "2ced2079",
   "metadata": {},
   "outputs": [
    {
     "data": {
      "text/plain": [
       "'nezzo worzd'"
      ]
     },
     "execution_count": 14,
     "metadata": {},
     "output_type": "execute_result"
    }
   ],
   "source": [
    "# .replace()\n",
    "x =x.replace(\"h\",'n')\n",
    "x"
   ]
  },
  {
   "cell_type": "code",
   "execution_count": 15,
   "id": "12394aa1",
   "metadata": {},
   "outputs": [
    {
     "data": {
      "text/plain": [
       "'nezzo worzd'"
      ]
     },
     "execution_count": 15,
     "metadata": {},
     "output_type": "execute_result"
    }
   ],
   "source": [
    "# .replace()\n",
    "x =x.replace(\"he\",'y')\n",
    "x"
   ]
  },
  {
   "cell_type": "code",
   "execution_count": 17,
   "id": "bf1eafa4",
   "metadata": {},
   "outputs": [
    {
     "data": {
      "text/plain": [
       "'a worzd'"
      ]
     },
     "execution_count": 17,
     "metadata": {},
     "output_type": "execute_result"
    }
   ],
   "source": [
    "# .replace()\n",
    "x =x.replace(\"nezzo\",'a')\n",
    "x"
   ]
  },
  {
   "cell_type": "code",
   "execution_count": 18,
   "id": "fb3aa32a",
   "metadata": {},
   "outputs": [
    {
     "data": {
      "text/plain": [
       "'aeworzd'"
      ]
     },
     "execution_count": 18,
     "metadata": {},
     "output_type": "execute_result"
    }
   ],
   "source": [
    "# .replace()\n",
    "x =x.replace(\" \",'e')\n",
    "x"
   ]
  },
  {
   "cell_type": "code",
   "execution_count": 20,
   "id": "f2b76c83",
   "metadata": {},
   "outputs": [
    {
     "data": {
      "text/plain": [
       "' '"
      ]
     },
     "execution_count": 20,
     "metadata": {},
     "output_type": "execute_result"
    }
   ],
   "source": [
    "# .replace()\n",
    "x =x.replace(\"aeworzd\",' ')         # whole variable will replace with space also\n",
    "x"
   ]
  },
  {
   "cell_type": "code",
   "execution_count": 7,
   "id": "ecd8eec9",
   "metadata": {},
   "outputs": [
    {
     "data": {
      "text/plain": [
       "True"
      ]
     },
     "execution_count": 7,
     "metadata": {},
     "output_type": "execute_result"
    }
   ],
   "source": [
    "# .endswith()\n",
    "x = \"Hello World\"\n",
    "x.endswith(\"World\")"
   ]
  },
  {
   "cell_type": "code",
   "execution_count": 5,
   "id": "b2a6beea",
   "metadata": {},
   "outputs": [
    {
     "ename": "AttributeError",
     "evalue": "'int' object has no attribute 'endswith'",
     "output_type": "error",
     "traceback": [
      "\u001b[1;31m---------------------------------------------------------------------------\u001b[0m",
      "\u001b[1;31mAttributeError\u001b[0m                            Traceback (most recent call last)",
      "Cell \u001b[1;32mIn[5], line 2\u001b[0m\n\u001b[0;32m      1\u001b[0m z \u001b[38;5;241m=\u001b[39m \u001b[38;5;241m123456\u001b[39m\n\u001b[1;32m----> 2\u001b[0m \u001b[43mz\u001b[49m\u001b[38;5;241;43m.\u001b[39;49m\u001b[43mendswith\u001b[49m(\u001b[38;5;241m4\u001b[39m)\n",
      "\u001b[1;31mAttributeError\u001b[0m: 'int' object has no attribute 'endswith'"
     ]
    }
   ],
   "source": [
    "z = 123456\n",
    "z.endswith(4)"
   ]
  },
  {
   "cell_type": "code",
   "execution_count": 6,
   "id": "212a1dea",
   "metadata": {},
   "outputs": [
    {
     "ename": "AttributeError",
     "evalue": "'int' object has no attribute 'endswith'",
     "output_type": "error",
     "traceback": [
      "\u001b[1;31m---------------------------------------------------------------------------\u001b[0m",
      "\u001b[1;31mAttributeError\u001b[0m                            Traceback (most recent call last)",
      "Cell \u001b[1;32mIn[6], line 2\u001b[0m\n\u001b[0;32m      1\u001b[0m z \u001b[38;5;241m=\u001b[39m \u001b[38;5;241m123456\u001b[39m\n\u001b[1;32m----> 2\u001b[0m \u001b[43mz\u001b[49m\u001b[38;5;241;43m.\u001b[39;49m\u001b[43mendswith\u001b[49m(\u001b[38;5;241m6\u001b[39m)\n",
      "\u001b[1;31mAttributeError\u001b[0m: 'int' object has no attribute 'endswith'"
     ]
    }
   ],
   "source": [
    "z = 123456\n",
    "z.endswith(6)"
   ]
  },
  {
   "cell_type": "code",
   "execution_count": 7,
   "id": "a6b7cdab",
   "metadata": {},
   "outputs": [
    {
     "ename": "AttributeError",
     "evalue": "'complex' object has no attribute 'endswith'",
     "output_type": "error",
     "traceback": [
      "\u001b[1;31m---------------------------------------------------------------------------\u001b[0m",
      "\u001b[1;31mAttributeError\u001b[0m                            Traceback (most recent call last)",
      "Cell \u001b[1;32mIn[7], line 2\u001b[0m\n\u001b[0;32m      1\u001b[0m k \u001b[38;5;241m=\u001b[39m \u001b[38;5;241m10\u001b[39m \u001b[38;5;241m+\u001b[39m\u001b[38;5;241m20\u001b[39mj\n\u001b[1;32m----> 2\u001b[0m \u001b[43mk\u001b[49m\u001b[38;5;241;43m.\u001b[39;49m\u001b[43mendswith\u001b[49m(\u001b[38;5;241m20\u001b[39mj)\n",
      "\u001b[1;31mAttributeError\u001b[0m: 'complex' object has no attribute 'endswith'"
     ]
    }
   ],
   "source": [
    "k = 10 +20j\n",
    "k.endswith(20j)"
   ]
  },
  {
   "cell_type": "code",
   "execution_count": 14,
   "id": "e308c751",
   "metadata": {},
   "outputs": [
    {
     "data": {
      "text/plain": [
       "True"
      ]
     },
     "execution_count": 14,
     "metadata": {},
     "output_type": "execute_result"
    }
   ],
   "source": [
    "# .endswith()\n",
    "x = \"Hello World\"\n",
    "x.startswith(\"H\")"
   ]
  },
  {
   "cell_type": "code",
   "execution_count": 8,
   "id": "dc934380",
   "metadata": {},
   "outputs": [
    {
     "data": {
      "text/plain": [
       "['10', '36']"
      ]
     },
     "execution_count": 8,
     "metadata": {},
     "output_type": "execute_result"
    }
   ],
   "source": [
    "p =\"10.36\"\n",
    "p.split(\".\")"
   ]
  },
  {
   "cell_type": "code",
   "execution_count": 1,
   "id": "632394ff",
   "metadata": {},
   "outputs": [
    {
     "data": {
      "text/plain": [
       "['Hello ', '']"
      ]
     },
     "execution_count": 1,
     "metadata": {},
     "output_type": "execute_result"
    }
   ],
   "source": [
    "# .split()                          # List Data Type(square bracket means list data type)\n",
    "x = \"Hello World\"\n",
    "x.split(\"World\")"
   ]
  },
  {
   "cell_type": "code",
   "execution_count": 9,
   "id": "25877e48",
   "metadata": {},
   "outputs": [
    {
     "ename": "ValueError",
     "evalue": "empty separator",
     "output_type": "error",
     "traceback": [
      "\u001b[1;31m---------------------------------------------------------------------------\u001b[0m",
      "\u001b[1;31mValueError\u001b[0m                                Traceback (most recent call last)",
      "Cell \u001b[1;32mIn[9], line 2\u001b[0m\n\u001b[0;32m      1\u001b[0m y \u001b[38;5;241m=\u001b[39m \u001b[38;5;124m'\u001b[39m\u001b[38;5;124mhello world\u001b[39m\u001b[38;5;124m'\u001b[39m\n\u001b[1;32m----> 2\u001b[0m \u001b[38;5;28mprint\u001b[39m(\u001b[43my\u001b[49m\u001b[38;5;241;43m.\u001b[39;49m\u001b[43msplit\u001b[49m\u001b[43m(\u001b[49m\u001b[38;5;124;43m\"\u001b[39;49m\u001b[38;5;124;43m\"\u001b[39;49m\u001b[43m)\u001b[49m)\n",
      "\u001b[1;31mValueError\u001b[0m: empty separator"
     ]
    }
   ],
   "source": [
    "y = 'hello world'\n",
    "print(y.split(\"\"))"
   ]
  },
  {
   "cell_type": "code",
   "execution_count": 13,
   "id": "604f4a92",
   "metadata": {},
   "outputs": [
    {
     "name": "stdout",
     "output_type": "stream",
     "text": [
      "['hello', 'world']\n"
     ]
    }
   ],
   "source": [
    "y = 'hello world'\n",
    "print(y.split())"
   ]
  },
  {
   "cell_type": "code",
   "execution_count": 2,
   "id": "a5a72159",
   "metadata": {},
   "outputs": [
    {
     "name": "stdout",
     "output_type": "stream",
     "text": [
      "['hello', 'world']\n"
     ]
    }
   ],
   "source": [
    "y = 'hello world'\n",
    "print(y.split(\" \"))"
   ]
  },
  {
   "cell_type": "code",
   "execution_count": 30,
   "id": "3280b744",
   "metadata": {},
   "outputs": [
    {
     "data": {
      "text/plain": [
       "4"
      ]
     },
     "execution_count": 30,
     "metadata": {},
     "output_type": "execute_result"
    }
   ],
   "source": [
    "x.find(\"o\")           # positive Indexing"
   ]
  },
  {
   "cell_type": "code",
   "execution_count": 31,
   "id": "f468a7c3",
   "metadata": {},
   "outputs": [
    {
     "data": {
      "text/plain": [
       "6"
      ]
     },
     "execution_count": 31,
     "metadata": {},
     "output_type": "execute_result"
    }
   ],
   "source": [
    "x.find(\"Wo\")           #  positive Indexing"
   ]
  },
  {
   "cell_type": "code",
   "execution_count": 32,
   "id": "153cced9",
   "metadata": {},
   "outputs": [
    {
     "data": {
      "text/plain": [
       "-1"
      ]
     },
     "execution_count": 32,
     "metadata": {},
     "output_type": "execute_result"
    }
   ],
   "source": [
    "x.find(\"lh\")             # Negative indexing"
   ]
  },
  {
   "cell_type": "code",
   "execution_count": 33,
   "id": "129dc942",
   "metadata": {},
   "outputs": [
    {
     "data": {
      "text/plain": [
       "-1"
      ]
     },
     "execution_count": 33,
     "metadata": {},
     "output_type": "execute_result"
    }
   ],
   "source": [
    "x.find(\"ro\")           # Indexing"
   ]
  },
  {
   "cell_type": "code",
   "execution_count": 34,
   "id": "e20cc901",
   "metadata": {},
   "outputs": [
    {
     "data": {
      "text/plain": [
       "-1"
      ]
     },
     "execution_count": 34,
     "metadata": {},
     "output_type": "execute_result"
    }
   ],
   "source": [
    "x.find(\"6\")           # Indexing"
   ]
  },
  {
   "cell_type": "code",
   "execution_count": 17,
   "id": "48baa857",
   "metadata": {},
   "outputs": [
    {
     "data": {
      "text/plain": [
       "['Hell', ' W', 'rld']"
      ]
     },
     "execution_count": 17,
     "metadata": {},
     "output_type": "execute_result"
    }
   ],
   "source": [
    "x.split(\"o\")"
   ]
  },
  {
   "cell_type": "code",
   "execution_count": 18,
   "id": "2c36801d",
   "metadata": {},
   "outputs": [
    {
     "data": {
      "text/plain": [
       "['He', '', 'o Wor', 'd']"
      ]
     },
     "execution_count": 18,
     "metadata": {},
     "output_type": "execute_result"
    }
   ],
   "source": [
    "x.split(\"l\")"
   ]
  },
  {
   "cell_type": "code",
   "execution_count": 19,
   "id": "5fdced35",
   "metadata": {},
   "outputs": [
    {
     "data": {
      "text/plain": [
       "['Hello Wo', 'ld']"
      ]
     },
     "execution_count": 19,
     "metadata": {},
     "output_type": "execute_result"
    }
   ],
   "source": [
    "x.split(\"r\")"
   ]
  },
  {
   "cell_type": "code",
   "execution_count": 22,
   "id": "16dc1735",
   "metadata": {},
   "outputs": [
    {
     "data": {
      "text/plain": [
       "['Potato', 'Tomato', 'Salt', 'Spices']"
      ]
     },
     "execution_count": 22,
     "metadata": {},
     "output_type": "execute_result"
    }
   ],
   "source": [
    "veg = \"Potato Tomato Salt Spices\"\n",
    "veg.split(\" \")"
   ]
  },
  {
   "cell_type": "code",
   "execution_count": 23,
   "id": "b5a54dbc",
   "metadata": {},
   "outputs": [
    {
     "data": {
      "text/plain": [
       "['Potato Tomato Salt Spices']"
      ]
     },
     "execution_count": 23,
     "metadata": {},
     "output_type": "execute_result"
    }
   ],
   "source": [
    "veg = \"Potato Tomato Salt Spices\"\n",
    "veg.split(\"x\")"
   ]
  },
  {
   "cell_type": "code",
   "execution_count": 24,
   "id": "6ef801ec",
   "metadata": {},
   "outputs": [
    {
     "data": {
      "text/plain": [
       "['Potato', 'Tomato', 'Salt', 'Spices']"
      ]
     },
     "execution_count": 24,
     "metadata": {},
     "output_type": "execute_result"
    }
   ],
   "source": [
    "veg = \"Potato,Tomato,Salt,Spices\"\n",
    "veg.split(\",\")"
   ]
  },
  {
   "cell_type": "code",
   "execution_count": null,
   "id": "065271fc",
   "metadata": {},
   "outputs": [],
   "source": []
  },
  {
   "cell_type": "code",
   "execution_count": 8,
   "id": "00c26189",
   "metadata": {},
   "outputs": [
    {
     "data": {
      "text/plain": [
       "False"
      ]
     },
     "execution_count": 8,
     "metadata": {},
     "output_type": "execute_result"
    }
   ],
   "source": [
    "x = \"Hello World\"\n",
    "x.endswith(\"g\")"
   ]
  },
  {
   "cell_type": "code",
   "execution_count": 9,
   "id": "deb81ca2",
   "metadata": {},
   "outputs": [
    {
     "data": {
      "text/plain": [
       "True"
      ]
     },
     "execution_count": 9,
     "metadata": {},
     "output_type": "execute_result"
    }
   ],
   "source": [
    "x = \"Hello World\"\n",
    "x.endswith(\"ld\")"
   ]
  },
  {
   "cell_type": "code",
   "execution_count": 10,
   "id": "820ad22d",
   "metadata": {},
   "outputs": [
    {
     "data": {
      "text/plain": [
       "False"
      ]
     },
     "execution_count": 10,
     "metadata": {},
     "output_type": "execute_result"
    }
   ],
   "source": [
    "x = \"Hello World\"\n",
    "x.endswith(\"Wo ld\")"
   ]
  },
  {
   "cell_type": "code",
   "execution_count": 5,
   "id": "02b9266d",
   "metadata": {},
   "outputs": [
    {
     "data": {
      "text/plain": [
       "'HelloDHelloAHelloTHelloAHello'"
      ]
     },
     "execution_count": 5,
     "metadata": {},
     "output_type": "execute_result"
    }
   ],
   "source": [
    "x =\"DATA\"\n",
    "x = x.replace(\"\",'Hello')\n",
    "x"
   ]
  },
  {
   "cell_type": "code",
   "execution_count": 22,
   "id": "0571ef4d",
   "metadata": {},
   "outputs": [
    {
     "data": {
      "text/plain": [
       "'st ide'"
      ]
     },
     "execution_count": 22,
     "metadata": {},
     "output_type": "execute_result"
    }
   ],
   "source": [
    "y =\"stride\"\n",
    "y =y.replace(\"r\",' ')\n",
    "y"
   ]
  },
  {
   "cell_type": "code",
   "execution_count": 4,
   "id": "0362bbf6",
   "metadata": {},
   "outputs": [
    {
     "data": {
      "text/plain": [
       "2"
      ]
     },
     "execution_count": 4,
     "metadata": {},
     "output_type": "execute_result"
    }
   ],
   "source": [
    "e = \"hello everyone\"\n",
    "e.count(\"l\")\n"
   ]
  },
  {
   "cell_type": "code",
   "execution_count": 7,
   "id": "3f7147ce",
   "metadata": {},
   "outputs": [],
   "source": [
    "x =\"Himanshu sharma\"\n",
    "y = \"ghadha hai\"\n"
   ]
  },
  {
   "cell_type": "code",
   "execution_count": 3,
   "id": "1ef994b5",
   "metadata": {},
   "outputs": [
    {
     "data": {
      "text/plain": [
       "'Hi'"
      ]
     },
     "execution_count": 3,
     "metadata": {},
     "output_type": "execute_result"
    }
   ],
   "source": [
    "z=x.replace(\"manshu sharma\",'')\n",
    "z"
   ]
  },
  {
   "cell_type": "code",
   "execution_count": 22,
   "id": "d7abb051",
   "metadata": {},
   "outputs": [
    {
     "data": {
      "text/plain": [
       "'ghadha  '"
      ]
     },
     "execution_count": 22,
     "metadata": {},
     "output_type": "execute_result"
    }
   ],
   "source": [
    "k=y.replace(\"hai\",' ')\n",
    "k"
   ]
  },
  {
   "cell_type": "code",
   "execution_count": 23,
   "id": "bbfa6fce",
   "metadata": {},
   "outputs": [
    {
     "name": "stdout",
     "output_type": "stream",
     "text": [
      "Highadha  \n"
     ]
    }
   ],
   "source": [
    "w = (z+k)\n",
    "print(w)"
   ]
  },
  {
   "cell_type": "code",
   "execution_count": 21,
   "id": "8447396c",
   "metadata": {},
   "outputs": [
    {
     "data": {
      "text/plain": [
       "3"
      ]
     },
     "execution_count": 21,
     "metadata": {},
     "output_type": "execute_result"
    }
   ],
   "source": [
    "w = \"iam learning python\"\n",
    "w.count(\"n\")"
   ]
  },
  {
   "cell_type": "code",
   "execution_count": 15,
   "id": "5f7a79bb",
   "metadata": {},
   "outputs": [
    {
     "data": {
      "text/plain": [
       "10"
      ]
     },
     "execution_count": 15,
     "metadata": {},
     "output_type": "execute_result"
    }
   ],
   "source": [
    "q = \"Chandu ke chacha ne chandu ki chachi ko chandi ki chammach se chatni chatayi\"\n",
    "q.count(\"c\")"
   ]
  },
  {
   "cell_type": "code",
   "execution_count": 29,
   "id": "67cec2a8",
   "metadata": {},
   "outputs": [
    {
     "data": {
      "text/plain": [
       "'HI GHADHA  '"
      ]
     },
     "execution_count": 29,
     "metadata": {},
     "output_type": "execute_result"
    }
   ],
   "source": [
    "w.upper()"
   ]
  },
  {
   "cell_type": "code",
   "execution_count": 30,
   "id": "eefe0381",
   "metadata": {},
   "outputs": [
    {
     "data": {
      "text/plain": [
       "'hi ghadha  '"
      ]
     },
     "execution_count": 30,
     "metadata": {},
     "output_type": "execute_result"
    }
   ],
   "source": [
    "w.lower()"
   ]
  },
  {
   "cell_type": "code",
   "execution_count": 5,
   "id": "b4409432",
   "metadata": {},
   "outputs": [
    {
     "name": "stdout",
     "output_type": "stream",
     "text": [
      "\n"
     ]
    }
   ],
   "source": [
    "x =\"Python is easy\"\n",
    "print(x[-1:-6])"
   ]
  },
  {
   "cell_type": "code",
   "execution_count": 1,
   "id": "5abf7dba",
   "metadata": {},
   "outputs": [
    {
     "data": {
      "text/plain": [
       "'hello everyone'"
      ]
     },
     "execution_count": 1,
     "metadata": {},
     "output_type": "execute_result"
    }
   ],
   "source": [
    "h = \"hello everyone\"\n",
    "h.replace(\"b\",'c')"
   ]
  },
  {
   "cell_type": "code",
   "execution_count": 2,
   "id": "9d39e0da",
   "metadata": {},
   "outputs": [
    {
     "data": {
      "text/plain": [
       "0"
      ]
     },
     "execution_count": 2,
     "metadata": {},
     "output_type": "execute_result"
    }
   ],
   "source": [
    "h = \"hello my name is Himanshu\"\n",
    "h.count('x')"
   ]
  },
  {
   "cell_type": "markdown",
   "id": "8648cb51",
   "metadata": {},
   "source": [
    "# Function"
   ]
  },
  {
   "cell_type": "code",
   "execution_count": 35,
   "id": "cccbaf98",
   "metadata": {},
   "outputs": [
    {
     "data": {
      "text/plain": [
       "6"
      ]
     },
     "execution_count": 35,
     "metadata": {},
     "output_type": "execute_result"
    }
   ],
   "source": [
    "len(\"python\")"
   ]
  },
  {
   "cell_type": "code",
   "execution_count": 36,
   "id": "17f2ea47",
   "metadata": {},
   "outputs": [
    {
     "data": {
      "text/plain": [
       "11"
      ]
     },
     "execution_count": 36,
     "metadata": {},
     "output_type": "execute_result"
    }
   ],
   "source": [
    "len(\"     python\")"
   ]
  },
  {
   "cell_type": "code",
   "execution_count": 39,
   "id": "a21cd4ad",
   "metadata": {},
   "outputs": [
    {
     "data": {
      "text/plain": [
       "34"
      ]
     },
     "execution_count": 39,
     "metadata": {},
     "output_type": "execute_result"
    }
   ],
   "source": [
    "len(\"hello everyone,Iam learning python\")"
   ]
  },
  {
   "cell_type": "code",
   "execution_count": 1,
   "id": "6a2f691a",
   "metadata": {},
   "outputs": [
    {
     "data": {
      "text/plain": [
       "'iam learning python'"
      ]
     },
     "execution_count": 1,
     "metadata": {},
     "output_type": "execute_result"
    }
   ],
   "source": [
    "x = \"iam learning python\"\n",
    "x"
   ]
  },
  {
   "cell_type": "code",
   "execution_count": 3,
   "id": "371fc5e6",
   "metadata": {},
   "outputs": [
    {
     "name": "stdout",
     "output_type": "stream",
     "text": [
      "True\n"
     ]
    }
   ],
   "source": [
    "print(x.endswith(\"on\"))"
   ]
  },
  {
   "cell_type": "code",
   "execution_count": 4,
   "id": "16bfd2c5",
   "metadata": {},
   "outputs": [
    {
     "name": "stdout",
     "output_type": "stream",
     "text": [
      "True\n"
     ]
    }
   ],
   "source": [
    "y = \"hello everyone\"\n",
    "print(y.endswith(\"one\"))"
   ]
  },
  {
   "cell_type": "code",
   "execution_count": 3,
   "id": "a1963957",
   "metadata": {},
   "outputs": [
    {
     "name": "stdout",
     "output_type": "stream",
     "text": [
      "a67\n",
      "b98\n",
      "enter a 98\n",
      "enter b 67\n"
     ]
    }
   ],
   "source": [
    "a = input(\"a\")\n",
    "b = input(\"b\")\n",
    "c = a\n",
    "a= b.replace(\"a\",\"b\")\n",
    "b= c.replace(\"c\",\"b\")\n",
    "print(\"enter a\",a)\n",
    "print(\"enter b\",b)"
   ]
  },
  {
   "cell_type": "code",
   "execution_count": 4,
   "id": "ec067dae",
   "metadata": {},
   "outputs": [
    {
     "name": "stdout",
     "output_type": "stream",
     "text": [
      "a67\n",
      "b98\n",
      "enter a ['98']\n",
      "enter b ['67']\n"
     ]
    }
   ],
   "source": [
    "a = input(\"a\")\n",
    "b = input(\"b\")\n",
    "c = a\n",
    "a= b.split()\n",
    "b= c.split()\n",
    "print(\"enter a\",a)\n",
    "print(\"enter b\",b)"
   ]
  },
  {
   "cell_type": "code",
   "execution_count": 3,
   "id": "32cf409c",
   "metadata": {},
   "outputs": [
    {
     "name": "stdout",
     "output_type": "stream",
     "text": [
      "a67\n",
      "b98\n",
      "enter a 98\n",
      "enter b 67\n"
     ]
    }
   ],
   "source": [
    "a = input(\"a\")\n",
    "b = input(\"b\")\n",
    "c = a\n",
    "a = b\n",
    "b = c\n",
    "print(\"enter a\",a)\n",
    "print(\"enter b\",b)"
   ]
  },
  {
   "cell_type": "code",
   "execution_count": null,
   "id": "752f148b",
   "metadata": {},
   "outputs": [],
   "source": []
  }
 ],
 "metadata": {
  "kernelspec": {
   "display_name": "Python 3 (ipykernel)",
   "language": "python",
   "name": "python3"
  },
  "language_info": {
   "codemirror_mode": {
    "name": "ipython",
    "version": 3
   },
   "file_extension": ".py",
   "mimetype": "text/x-python",
   "name": "python",
   "nbconvert_exporter": "python",
   "pygments_lexer": "ipython3",
   "version": "3.10.9"
  }
 },
 "nbformat": 4,
 "nbformat_minor": 5
}
