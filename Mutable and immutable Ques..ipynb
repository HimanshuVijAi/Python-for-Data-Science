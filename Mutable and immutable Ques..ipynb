{
 "cells": [
  {
   "cell_type": "markdown",
   "id": "c8c3d716",
   "metadata": {},
   "source": [
    "# What is mutable and immutable?"
   ]
  },
  {
   "cell_type": "markdown",
   "id": "bd41f3a2",
   "metadata": {},
   "source": [
    "- The value of some objects can change. objects whose value can change without changing the identity are said to be mutable.objects whose value is unchangable once they are created are called immutable"
   ]
  },
  {
   "cell_type": "code",
   "execution_count": 1,
   "id": "6a5b543a",
   "metadata": {},
   "outputs": [
    {
     "data": {
      "text/plain": [
       "2341231628976"
      ]
     },
     "execution_count": 1,
     "metadata": {},
     "output_type": "execute_result"
    }
   ],
   "source": [
    "id(\"strings\")"
   ]
  },
  {
   "cell_type": "markdown",
   "id": "caaffe9c",
   "metadata": {},
   "source": [
    "A variable is not a container but it points to an objects.\n"
   ]
  },
  {
   "cell_type": "code",
   "execution_count": 2,
   "id": "367e5ae6",
   "metadata": {},
   "outputs": [
    {
     "name": "stdout",
     "output_type": "stream",
     "text": [
      "2341242117744\n",
      "2341274303600\n"
     ]
    }
   ],
   "source": [
    "x = \"Data\"\n",
    "print(id(x))\n",
    "x = \"Science\"\n",
    "print(id(x))"
   ]
  },
  {
   "cell_type": "code",
   "execution_count": 3,
   "id": "dd218373",
   "metadata": {},
   "outputs": [
    {
     "name": "stdout",
     "output_type": "stream",
     "text": [
      "2341274303600\n"
     ]
    }
   ],
   "source": [
    "print(id(x))"
   ]
  },
  {
   "cell_type": "code",
   "execution_count": 3,
   "id": "eb098ba3",
   "metadata": {},
   "outputs": [
    {
     "name": "stdout",
     "output_type": "stream",
     "text": [
      "2451886206016\n",
      "2451886209792\n"
     ]
    }
   ],
   "source": [
    "y = [12,34]\n",
    "print(id(y))\n",
    "\n",
    "y = [89,56]\n",
    "print(id(y))"
   ]
  },
  {
   "cell_type": "code",
   "execution_count": 2,
   "id": "bde41ac8",
   "metadata": {},
   "outputs": [],
   "source": [
    "y[1]=88"
   ]
  },
  {
   "cell_type": "code",
   "execution_count": 4,
   "id": "75b1702b",
   "metadata": {},
   "outputs": [
    {
     "name": "stdout",
     "output_type": "stream",
     "text": [
      "2451886210240\n",
      "2451886019008\n"
     ]
    }
   ],
   "source": [
    "y = [12,34]\n",
    "print(id(y))\n",
    "\n",
    "y = [89,88]\n",
    "print(id(y))"
   ]
  },
  {
   "cell_type": "code",
   "execution_count": 5,
   "id": "744be384",
   "metadata": {},
   "outputs": [
    {
     "name": "stdout",
     "output_type": "stream",
     "text": [
      "Myself Data Scientist\n"
     ]
    },
    {
     "data": {
      "text/plain": [
       "'Myself:Data:Scientist'"
      ]
     },
     "execution_count": 5,
     "metadata": {},
     "output_type": "execute_result"
    }
   ],
   "source": [
    "p = \"Myself Data Scientist\"\n",
    "print(p)\n",
    "(p.replace(\" \",\":\"))"
   ]
  },
  {
   "cell_type": "code",
   "execution_count": 6,
   "id": "e4c4a53d",
   "metadata": {},
   "outputs": [
    {
     "name": "stdout",
     "output_type": "stream",
     "text": [
      "2451885832384\n"
     ]
    },
    {
     "data": {
      "text/plain": [
       "2451885459376"
      ]
     },
     "execution_count": 6,
     "metadata": {},
     "output_type": "execute_result"
    }
   ],
   "source": [
    "p = \"Myself Data Scientist\"\n",
    "print(id(p))\n",
    "id(p.replace(\" \",\":\"))"
   ]
  },
  {
   "cell_type": "code",
   "execution_count": 7,
   "id": "863ba5f7",
   "metadata": {},
   "outputs": [
    {
     "name": "stdout",
     "output_type": "stream",
     "text": [
      "2451885832384\n"
     ]
    }
   ],
   "source": [
    "p\n",
    "print(id(p))"
   ]
  },
  {
   "cell_type": "code",
   "execution_count": 10,
   "id": "4f4c7f6f",
   "metadata": {},
   "outputs": [
    {
     "name": "stdout",
     "output_type": "stream",
     "text": [
      "2341275081728\n"
     ]
    },
    {
     "data": {
      "text/plain": [
       "140717948628672"
      ]
     },
     "execution_count": 10,
     "metadata": {},
     "output_type": "execute_result"
    }
   ],
   "source": [
    "z = [1,2,3,4,5]\n",
    "print(id(z))\n",
    "id(z.reverse())"
   ]
  },
  {
   "cell_type": "code",
   "execution_count": 11,
   "id": "10949558",
   "metadata": {},
   "outputs": [
    {
     "data": {
      "text/plain": [
       "2341275081728"
      ]
     },
     "execution_count": 11,
     "metadata": {},
     "output_type": "execute_result"
    }
   ],
   "source": [
    "id(z)"
   ]
  },
  {
   "cell_type": "markdown",
   "id": "2ad33e9e",
   "metadata": {},
   "source": [
    "- An objects type determines the operations that the object supports and also defines the possible values for objects for that type."
   ]
  },
  {
   "cell_type": "markdown",
   "id": "ecab8e98",
   "metadata": {},
   "source": [
    "the object type will decide that what kind of operation will objects supports and also tells possible values of that object type"
   ]
  },
  {
   "cell_type": "code",
   "execution_count": 3,
   "id": "c5f907c6",
   "metadata": {},
   "outputs": [
    {
     "data": {
      "text/plain": [
       "'Rishi'"
      ]
     },
     "execution_count": 3,
     "metadata": {},
     "output_type": "execute_result"
    }
   ],
   "source": [
    "x=\"rishi\"\n",
    "x=x.replace(\"r\",\"R\")\n",
    "x\n"
   ]
  },
  {
   "cell_type": "code",
   "execution_count": 11,
   "id": "bb47b737",
   "metadata": {},
   "outputs": [
    {
     "ename": "SyntaxError",
     "evalue": "invalid syntax (2282337990.py, line 3)",
     "output_type": "error",
     "traceback": [
      "\u001b[1;36m  Cell \u001b[1;32mIn[11], line 3\u001b[1;36m\u001b[0m\n\u001b[1;33m    e = x.[1:8]\u001b[0m\n\u001b[1;37m          ^\u001b[0m\n\u001b[1;31mSyntaxError\u001b[0m\u001b[1;31m:\u001b[0m invalid syntax\n"
     ]
    }
   ],
   "source": [
    "x = \"himanshu \"\n",
    "x = [0]\n",
    "e = [1:8]\n",
    "a = x.upper()\n",
    "r = a+e\n",
    "print(r)"
   ]
  },
  {
   "cell_type": "code",
   "execution_count": null,
   "id": "90af9441",
   "metadata": {},
   "outputs": [],
   "source": []
  },
  {
   "cell_type": "code",
   "execution_count": null,
   "id": "f54987b0",
   "metadata": {},
   "outputs": [],
   "source": []
  }
 ],
 "metadata": {
  "kernelspec": {
   "display_name": "Python 3 (ipykernel)",
   "language": "python",
   "name": "python3"
  },
  "language_info": {
   "codemirror_mode": {
    "name": "ipython",
    "version": 3
   },
   "file_extension": ".py",
   "mimetype": "text/x-python",
   "name": "python",
   "nbconvert_exporter": "python",
   "pygments_lexer": "ipython3",
   "version": "3.10.9"
  }
 },
 "nbformat": 4,
 "nbformat_minor": 5
}
