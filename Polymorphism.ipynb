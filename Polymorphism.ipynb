{
 "cells": [
  {
   "cell_type": "markdown",
   "id": "b9b0d86a",
   "metadata": {},
   "source": [
    "<font size=5> The term \"polymorphism\" comes from the greek language and means \"something that takes on multiple forms\".\n",
    "\n",
    "Poly(many) + morph (forms) = Polymorphism.   \n",
    "    \n",
    "In OOP's .it refers to the ability of a method to exist in various forms(Beehaviour)."
   ]
  },
  {
   "cell_type": "markdown",
   "id": "3a1fb2d7",
   "metadata": {},
   "source": [
    "# Method Overriding."
   ]
  },
  {
   "cell_type": "markdown",
   "id": "eb1c056e",
   "metadata": {},
   "source": [
    "Method overriding is a powerful features that allows you to redefine a method of the parent class in the child class"
   ]
  },
  {
   "cell_type": "code",
   "execution_count": 10,
   "id": "d73bc20a",
   "metadata": {},
   "outputs": [
    {
     "name": "stdout",
     "output_type": "stream",
     "text": [
      "Roy is a Data Scientist\n"
     ]
    }
   ],
   "source": [
    "class Profession:\n",
    "    \n",
    "    def __init__(self,name,prof):\n",
    "        self.name = name\n",
    "        self.prof = prof\n",
    "        \n",
    "    def display_prof(self):\n",
    "        print(f\"{self.name} has profession {self.prof}\")\n",
    "        \n",
    "class Data_Scientist(Profession):\n",
    "    def display_prof(self):\n",
    "        print(f\"{self.name} is a Data Scientist\")\n",
    "              \n",
    "x = Data_Scientist(\"Roy\",\"Data scientist\")\n",
    "x.display_prof()"
   ]
  },
  {
   "cell_type": "markdown",
   "id": "f09494e2",
   "metadata": {},
   "source": [
    "# Method Overloading."
   ]
  },
  {
   "cell_type": "markdown",
   "id": "1367a99e",
   "metadata": {},
   "source": [
    "Two or more methods have the same name but different numbers of Parametres within the same class."
   ]
  },
  {
   "cell_type": "code",
   "execution_count": 16,
   "id": "7029addc",
   "metadata": {},
   "outputs": [
    {
     "name": "stdout",
     "output_type": "stream",
     "text": [
      "Roy has work experience of 4 years\n"
     ]
    },
    {
     "ename": "TypeError",
     "evalue": "Person.display() missing 1 required positional argument: 'new_exp'",
     "output_type": "error",
     "traceback": [
      "\u001b[1;31m---------------------------------------------------------------------------\u001b[0m",
      "\u001b[1;31mTypeError\u001b[0m                                 Traceback (most recent call last)",
      "Cell \u001b[1;32mIn[16], line 17\u001b[0m\n\u001b[0;32m     15\u001b[0m p1 \u001b[38;5;241m=\u001b[39m Person(\u001b[38;5;124m\"\u001b[39m\u001b[38;5;124mRoy\u001b[39m\u001b[38;5;124m\"\u001b[39m,\u001b[38;5;241m18\u001b[39m,\u001b[38;5;241m5\u001b[39m)\n\u001b[0;32m     16\u001b[0m p1\u001b[38;5;241m.\u001b[39mdisplay(\u001b[38;5;241m4\u001b[39m)\n\u001b[1;32m---> 17\u001b[0m \u001b[43mp1\u001b[49m\u001b[38;5;241;43m.\u001b[39;49m\u001b[43mdisplay\u001b[49m\u001b[43m(\u001b[49m\u001b[43m)\u001b[49m\n",
      "\u001b[1;31mTypeError\u001b[0m: Person.display() missing 1 required positional argument: 'new_exp'"
     ]
    }
   ],
   "source": [
    "class Person:\n",
    "    \n",
    "    def __init__(self,name,age,exp):\n",
    "        self.name = name\n",
    "        self.age = age\n",
    "        self.exp = exp\n",
    "        \n",
    "    def display(self):\n",
    "        print(f\"{self.name} has work experience of {self.exp} years\")\n",
    "        \n",
    "    def display(self,new_exp):\n",
    "        self.exp = new_exp\n",
    "        print(f\"{self.name} has work experience of {self.exp} years\")\n",
    "        \n",
    "p1 = Person(\"Roy\",18,5)\n",
    "p1.display(4)\n",
    "p1.display()    "
   ]
  },
  {
   "cell_type": "code",
   "execution_count": 21,
   "id": "d0a50a21",
   "metadata": {},
   "outputs": [
    {
     "name": "stdout",
     "output_type": "stream",
     "text": [
      "Roy has work experience of 5 years\n",
      "Roy has work experience of 10 years\n"
     ]
    }
   ],
   "source": [
    "class Person:\n",
    "    \n",
    "    def __init__(self,name,age,exp):\n",
    "        self.name = name\n",
    "        self.age = age\n",
    "        self.exp = exp\n",
    "        \n",
    "    def display(self,new_exp=None):\n",
    "        if new_exp != None:\n",
    "            self.exp = new_exp\n",
    "            print(f\"{self.name} has work experience of {self.exp} years\")\n",
    "        else:\n",
    "            print(f\"{self.name} has work experience of {self.exp} years\")\n",
    "            \n",
    "            self.display    \n",
    "\n",
    "        \n",
    "p1 = Person(\"Roy\",18,5)\n",
    "p1.display()\n",
    "p1.display(10)    "
   ]
  },
  {
   "cell_type": "markdown",
   "id": "482750fd",
   "metadata": {},
   "source": [
    "# Operator Overloading."
   ]
  },
  {
   "cell_type": "markdown",
   "id": "026d3619",
   "metadata": {},
   "source": [
    "Operator overloading is a feature in python that allows developers to redefined the behaviour of mathematical and comparison operators for custom data types. This means that you can use the standard mathematical operators(+,-,*,/,etc.) and comparison operators (>,<,==,etc.) in your own classes. "
   ]
  },
  {
   "cell_type": "raw",
   "id": "7b4153f2",
   "metadata": {},
   "source": [
    "Addition           +        __add__(self,other)\n",
    "Subtraction        -        __sub__(self,other)\n",
    "Multiplication     *        __mul__(self,other)\n",
    "Division           /        __truediv__(self,other)\n",
    "Floor division     //       __floordiv__(self,other)     # without decimal value.\n",
    "Less than          <        __lt__(self,other)\n",
    "Greater than       >        __gt__(self,other)\n",
    "Equal to           ==       __eq__(self,other)\n",
    "Not equal          !=       __ne__(self,other)"
   ]
  },
  {
   "cell_type": "code",
   "execution_count": null,
   "id": "262440bc",
   "metadata": {},
   "outputs": [],
   "source": [
    "class "
   ]
  },
  {
   "cell_type": "code",
   "execution_count": 23,
   "id": "33fd2ed2",
   "metadata": {
    "scrolled": true
   },
   "outputs": [
    {
     "data": {
      "text/plain": [
       "'helloworld'"
      ]
     },
     "execution_count": 23,
     "metadata": {},
     "output_type": "execute_result"
    }
   ],
   "source": [
    "str.__add__(\"hello\",\"world\")"
   ]
  },
  {
   "cell_type": "code",
   "execution_count": 24,
   "id": "82fa809c",
   "metadata": {},
   "outputs": [
    {
     "data": {
      "text/plain": [
       "57"
      ]
     },
     "execution_count": 24,
     "metadata": {},
     "output_type": "execute_result"
    }
   ],
   "source": [
    "12+45"
   ]
  },
  {
   "cell_type": "code",
   "execution_count": 25,
   "id": "f3a0d3e8",
   "metadata": {},
   "outputs": [
    {
     "data": {
      "text/plain": [
       "'helloworld'"
      ]
     },
     "execution_count": 25,
     "metadata": {},
     "output_type": "execute_result"
    }
   ],
   "source": [
    "\"hello\"+\"world\""
   ]
  },
  {
   "cell_type": "code",
   "execution_count": 26,
   "id": "07ee30c4",
   "metadata": {},
   "outputs": [
    {
     "data": {
      "text/plain": [
       "[1, 2, 3, 4, 5, 6, 7]"
      ]
     },
     "execution_count": 26,
     "metadata": {},
     "output_type": "execute_result"
    }
   ],
   "source": [
    "[1,2,3,4]+[5,6,7]"
   ]
  },
  {
   "cell_type": "code",
   "execution_count": 27,
   "id": "5cf15ded",
   "metadata": {},
   "outputs": [
    {
     "data": {
      "text/plain": [
       "int"
      ]
     },
     "execution_count": 27,
     "metadata": {},
     "output_type": "execute_result"
    }
   ],
   "source": [
    "type(12)"
   ]
  },
  {
   "cell_type": "code",
   "execution_count": 28,
   "id": "0368ac28",
   "metadata": {},
   "outputs": [
    {
     "data": {
      "text/plain": [
       "0.5217391304347826"
      ]
     },
     "execution_count": 28,
     "metadata": {},
     "output_type": "execute_result"
    }
   ],
   "source": [
    "12/23"
   ]
  },
  {
   "cell_type": "code",
   "execution_count": 29,
   "id": "64c19613",
   "metadata": {},
   "outputs": [
    {
     "data": {
      "text/plain": [
       "0.5217391304347826"
      ]
     },
     "execution_count": 29,
     "metadata": {},
     "output_type": "execute_result"
    }
   ],
   "source": [
    "int.__truediv__(12,23)"
   ]
  },
  {
   "cell_type": "code",
   "execution_count": 16,
   "id": "223d6905",
   "metadata": {},
   "outputs": [
    {
     "name": "stdout",
     "output_type": "stream",
     "text": [
      "[4, 6]\n",
      "[-2, -2]\n"
     ]
    }
   ],
   "source": [
    "class Poly:\n",
    "    def __init__(self,a,b):\n",
    "        self.a = a \n",
    "        self.b = b\n",
    "        \n",
    "    def __add__(self,other):\n",
    "        sum_a = self.a + other.a\n",
    "        sum_b = self.b + other.b\n",
    "        return [sum_a,sum_b]\n",
    "    \n",
    "    def __sub__(self,other):\n",
    "        diff_a = self.a - other.a\n",
    "        diff_b = self.b - other.b\n",
    "        return [diff_a,diff_b]\n",
    "    \n",
    "p  = Poly(1,2)\n",
    "p1 = Poly(3,4)\n",
    "print(p+p1)    \n",
    "print(p-p1)    "
   ]
  },
  {
   "cell_type": "code",
   "execution_count": 10,
   "id": "82ab7518",
   "metadata": {},
   "outputs": [
    {
     "name": "stdout",
     "output_type": "stream",
     "text": [
      "[12.5, 16.666666666666668]\n",
      "[12, 16]\n"
     ]
    }
   ],
   "source": [
    "class Person:\n",
    "    def __init__(self,a,b):\n",
    "        self.a = a \n",
    "        self.b = b\n",
    "        \n",
    "    def __truediv__(self,other):\n",
    "        div_a = self.a / other.a\n",
    "        div_b = self.b / other.b\n",
    "        return [div_a,div_b]\n",
    "    \n",
    "    def __floordiv__(self,other):\n",
    "        fdiv_a = self.a // other.a\n",
    "        fdiv_b = self.b // other.b\n",
    "        return [fdiv_a,fdiv_b]\n",
    "    \n",
    "p1  = Person(25,50)\n",
    "p2 = Person(2,3)\n",
    "print(p1/p2)    \n",
    "print(p1//p2)    "
   ]
  },
  {
   "cell_type": "code",
   "execution_count": 1,
   "id": "0a397932",
   "metadata": {},
   "outputs": [
    {
     "data": {
      "text/plain": [
       "builtin_function_or_method"
      ]
     },
     "execution_count": 1,
     "metadata": {},
     "output_type": "execute_result"
    }
   ],
   "source": [
    "type(len)"
   ]
  },
  {
   "cell_type": "code",
   "execution_count": 4,
   "id": "3eb02923",
   "metadata": {},
   "outputs": [
    {
     "name": "stdout",
     "output_type": "stream",
     "text": [
      "<class 'builtin_function_or_method'>\n"
     ]
    }
   ],
   "source": [
    "print(type(print))"
   ]
  },
  {
   "cell_type": "code",
   "execution_count": 1,
   "id": "8a2d770f",
   "metadata": {},
   "outputs": [
    {
     "data": {
      "text/plain": [
       "method"
      ]
     },
     "execution_count": 1,
     "metadata": {},
     "output_type": "execute_result"
    }
   ],
   "source": [
    "type(input)"
   ]
  },
  {
   "cell_type": "markdown",
   "id": "d0647c62",
   "metadata": {},
   "source": [
    "# Magic / Dunder / Special Methods."
   ]
  },
  {
   "cell_type": "markdown",
   "id": "c543732e",
   "metadata": {},
   "source": [
    "- These are specila methods thatt you can define in your classes,and when invoked.they give you a powerful way to\n",
    "  manipulate objectss and their behaviour.\n",
    "- These methods begin and end with double underscores.  "
   ]
  },
  {
   "cell_type": "raw",
   "id": "9866565a",
   "metadata": {},
   "source": [
    "Most common magic methods used-\n",
    "1. __init__() --- return None.\n",
    "2. __str__()  --- return string.\n",
    "3. __repr__() --- return string.\n",
    "4. __len__()  --- return integer/bool.\n",
    "5. __call__() --- return any type."
   ]
  },
  {
   "cell_type": "code",
   "execution_count": 7,
   "id": "b83d938e",
   "metadata": {},
   "outputs": [],
   "source": [
    "# __init__\n",
    "class Employee:\n",
    "    def __init__(self,name):\n",
    "        self.name = name\n",
    "        \n",
    "    def show_name(self):\n",
    "        print(self.name)\n",
    "        self.age = 18\n",
    "        \n",
    "x = Employee(123) # magic of __init__ "
   ]
  },
  {
   "cell_type": "code",
   "execution_count": 8,
   "id": "90baa7cc",
   "metadata": {},
   "outputs": [
    {
     "ename": "TypeError",
     "evalue": "object of type 'Employee' has no len()",
     "output_type": "error",
     "traceback": [
      "\u001b[1;31m---------------------------------------------------------------------------\u001b[0m",
      "\u001b[1;31mTypeError\u001b[0m                                 Traceback (most recent call last)",
      "Cell \u001b[1;32mIn[8], line 11\u001b[0m\n\u001b[0;32m      8\u001b[0m         \u001b[38;5;28mself\u001b[39m\u001b[38;5;241m.\u001b[39mage \u001b[38;5;241m=\u001b[39m \u001b[38;5;241m18\u001b[39m\n\u001b[0;32m     10\u001b[0m x \u001b[38;5;241m=\u001b[39m Employee(\u001b[38;5;241m123\u001b[39m) \u001b[38;5;66;03m# magic of __init__ \u001b[39;00m\n\u001b[1;32m---> 11\u001b[0m \u001b[38;5;28;43mlen\u001b[39;49m\u001b[43m(\u001b[49m\u001b[43mx\u001b[49m\u001b[43m)\u001b[49m\n",
      "\u001b[1;31mTypeError\u001b[0m: object of type 'Employee' has no len()"
     ]
    }
   ],
   "source": [
    "# __len__\n",
    "class Employee:\n",
    "    def __init__(self,name):\n",
    "        self.name = name\n",
    "        \n",
    "    def show_name(self):\n",
    "        print(self.name)\n",
    "        self.age = 18\n",
    "        \n",
    "x = Employee(123) # magic of __init__ \n",
    "len(x)"
   ]
  },
  {
   "cell_type": "code",
   "execution_count": 9,
   "id": "bbc52c03",
   "metadata": {},
   "outputs": [
    {
     "data": {
      "text/plain": [
       "str"
      ]
     },
     "execution_count": 9,
     "metadata": {},
     "output_type": "execute_result"
    }
   ],
   "source": [
    "type(\"34\")"
   ]
  },
  {
   "cell_type": "code",
   "execution_count": 10,
   "id": "b2f690e8",
   "metadata": {},
   "outputs": [
    {
     "data": {
      "text/plain": [
       "2"
      ]
     },
     "execution_count": 10,
     "metadata": {},
     "output_type": "execute_result"
    }
   ],
   "source": [
    "len(\"34\")"
   ]
  },
  {
   "cell_type": "code",
   "execution_count": 11,
   "id": "4242dc8b",
   "metadata": {},
   "outputs": [
    {
     "data": {
      "text/plain": [
       "2"
      ]
     },
     "execution_count": 11,
     "metadata": {},
     "output_type": "execute_result"
    }
   ],
   "source": [
    "str.__len__(\"34\")"
   ]
  },
  {
   "cell_type": "code",
   "execution_count": 13,
   "id": "f4bb4765",
   "metadata": {},
   "outputs": [
    {
     "ename": "TypeError",
     "evalue": "object of type 'bool' has no len()",
     "output_type": "error",
     "traceback": [
      "\u001b[1;31m---------------------------------------------------------------------------\u001b[0m",
      "\u001b[1;31mTypeError\u001b[0m                                 Traceback (most recent call last)",
      "Cell \u001b[1;32mIn[13], line 1\u001b[0m\n\u001b[1;32m----> 1\u001b[0m \u001b[38;5;28;43mlen\u001b[39;49m\u001b[43m(\u001b[49m\u001b[38;5;28;43;01mTrue\u001b[39;49;00m\u001b[43m)\u001b[49m\n",
      "\u001b[1;31mTypeError\u001b[0m: object of type 'bool' has no len()"
     ]
    }
   ],
   "source": [
    "len(True)"
   ]
  },
  {
   "cell_type": "code",
   "execution_count": 11,
   "id": "f1a54411",
   "metadata": {},
   "outputs": [
    {
     "data": {
      "text/plain": [
       "7"
      ]
     },
     "execution_count": 11,
     "metadata": {},
     "output_type": "execute_result"
    }
   ],
   "source": [
    "class Employee:\n",
    "    def __init__(self,name):\n",
    "        self.name = name\n",
    "        \n",
    "    def __len__(self):\n",
    "        return len(self.name)\n",
    "x = Employee(\"Pranjal\")\n",
    "len(x)"
   ]
  },
  {
   "cell_type": "code",
   "execution_count": 4,
   "id": "9a22cd5d",
   "metadata": {},
   "outputs": [
    {
     "data": {
      "text/plain": [
       "7"
      ]
     },
     "execution_count": 4,
     "metadata": {},
     "output_type": "execute_result"
    }
   ],
   "source": [
    "class Employee:\n",
    "    def __init__(self,name):\n",
    "        self.name = name\n",
    "        \n",
    "    def __len__(self):\n",
    "        return len(self.name)\n",
    "x = Employee(\"Pranjal\")\n",
    "x.__len__()"
   ]
  },
  {
   "cell_type": "code",
   "execution_count": 10,
   "id": "bb921876",
   "metadata": {},
   "outputs": [
    {
     "data": {
      "text/plain": [
       "7"
      ]
     },
     "execution_count": 10,
     "metadata": {},
     "output_type": "execute_result"
    }
   ],
   "source": [
    "class Employee:\n",
    "    def __init__(self,name):\n",
    "        self.name = name\n",
    "        \n",
    "    def __len__(self):\n",
    "        x = Employee(\"Pranjal\")\n",
    "x.__len__()"
   ]
  },
  {
   "cell_type": "code",
   "execution_count": 3,
   "id": "f9545978",
   "metadata": {},
   "outputs": [
    {
     "ename": "TypeError",
     "evalue": "Employee.__init__() missing 1 required positional argument: 'name'",
     "output_type": "error",
     "traceback": [
      "\u001b[1;31m---------------------------------------------------------------------------\u001b[0m",
      "\u001b[1;31mTypeError\u001b[0m                                 Traceback (most recent call last)",
      "Cell \u001b[1;32mIn[3], line 8\u001b[0m\n\u001b[0;32m      5\u001b[0m     \u001b[38;5;28;01mdef\u001b[39;00m \u001b[38;5;21m__len__\u001b[39m(\u001b[38;5;28mself\u001b[39m,name):\n\u001b[0;32m      6\u001b[0m         \u001b[38;5;28mself\u001b[39m\u001b[38;5;241m.\u001b[39mname \u001b[38;5;241m=\u001b[39m name\n\u001b[1;32m----> 8\u001b[0m x \u001b[38;5;241m=\u001b[39m \u001b[43mEmployee\u001b[49m\u001b[43m(\u001b[49m\u001b[43m)\u001b[49m\n\u001b[0;32m      9\u001b[0m x\u001b[38;5;241m.\u001b[39m\u001b[38;5;21m__len__\u001b[39m(\u001b[38;5;124m\"\u001b[39m\u001b[38;5;124mPranjal\u001b[39m\u001b[38;5;124m\"\u001b[39m)\n",
      "\u001b[1;31mTypeError\u001b[0m: Employee.__init__() missing 1 required positional argument: 'name'"
     ]
    }
   ],
   "source": [
    "class Employee:\n",
    "    def __init__(self,name):\n",
    "        self.name = name\n",
    "        \n",
    "    def __len__(self,name):\n",
    "        self.name = name\n",
    "        \n",
    "x = Employee()\n",
    "x.__len__(\"Pranjal\")"
   ]
  },
  {
   "cell_type": "code",
   "execution_count": 6,
   "id": "94a17a51",
   "metadata": {},
   "outputs": [
    {
     "name": "stdout",
     "output_type": "stream",
     "text": [
      "This is an object.\n"
     ]
    },
    {
     "data": {
      "text/plain": [
       "<__main__.Employee at 0x29010af86a0>"
      ]
     },
     "execution_count": 6,
     "metadata": {},
     "output_type": "execute_result"
    }
   ],
   "source": [
    "# __str__  -  returns the informal string representation of an object.\n",
    "\n",
    "class Employee:\n",
    "    def __init__(self,name):\n",
    "        self.name = name\n",
    "        \n",
    "    def __len__(self):\n",
    "        return len(self.name)\n",
    "    \n",
    "    def __str__(self):\n",
    "        return \"This is an object.\"\n",
    "x = Employee(\"pranjal\")\n",
    "print(x) # informal string representation.\n",
    "x   # formal string representation."
   ]
  },
  {
   "cell_type": "code",
   "execution_count": 7,
   "id": "3c865626",
   "metadata": {},
   "outputs": [
    {
     "ename": "TypeError",
     "evalue": "__str__ returned non-string (type int)",
     "output_type": "error",
     "traceback": [
      "\u001b[1;31m---------------------------------------------------------------------------\u001b[0m",
      "\u001b[1;31mTypeError\u001b[0m                                 Traceback (most recent call last)",
      "Cell \u001b[1;32mIn[7], line 13\u001b[0m\n\u001b[0;32m     11\u001b[0m         \u001b[38;5;28;01mreturn\u001b[39;00m \u001b[38;5;241m123\u001b[39m\n\u001b[0;32m     12\u001b[0m x \u001b[38;5;241m=\u001b[39m Employee(\u001b[38;5;124m\"\u001b[39m\u001b[38;5;124mpranjal\u001b[39m\u001b[38;5;124m\"\u001b[39m)\n\u001b[1;32m---> 13\u001b[0m \u001b[38;5;28;43mprint\u001b[39;49m\u001b[43m(\u001b[49m\u001b[43mx\u001b[49m\u001b[43m)\u001b[49m \u001b[38;5;66;03m#\u001b[39;00m\n\u001b[0;32m     14\u001b[0m x\n",
      "\u001b[1;31mTypeError\u001b[0m: __str__ returned non-string (type int)"
     ]
    }
   ],
   "source": [
    "# __str__  -  returns the informal string representation of an object.\n",
    "\n",
    "class Employee:\n",
    "    def __init__(self,name):\n",
    "        self.name = name\n",
    "        \n",
    "    def __len__(self):\n",
    "        return len(self.name)\n",
    "    \n",
    "    def __str__(self):\n",
    "        return 123\n",
    "x = Employee(\"pranjal\")\n",
    "print(x) #\n",
    "x"
   ]
  },
  {
   "cell_type": "code",
   "execution_count": 8,
   "id": "936f7f65",
   "metadata": {},
   "outputs": [
    {
     "ename": "TypeError",
     "evalue": "__str__ returned non-string (type bool)",
     "output_type": "error",
     "traceback": [
      "\u001b[1;31m---------------------------------------------------------------------------\u001b[0m",
      "\u001b[1;31mTypeError\u001b[0m                                 Traceback (most recent call last)",
      "Cell \u001b[1;32mIn[8], line 13\u001b[0m\n\u001b[0;32m     11\u001b[0m         \u001b[38;5;28;01mreturn\u001b[39;00m \u001b[38;5;28;01mTrue\u001b[39;00m\n\u001b[0;32m     12\u001b[0m x \u001b[38;5;241m=\u001b[39m Employee(\u001b[38;5;124m\"\u001b[39m\u001b[38;5;124mpranjal\u001b[39m\u001b[38;5;124m\"\u001b[39m)\n\u001b[1;32m---> 13\u001b[0m \u001b[38;5;28;43mprint\u001b[39;49m\u001b[43m(\u001b[49m\u001b[43mx\u001b[49m\u001b[43m)\u001b[49m \u001b[38;5;66;03m#\u001b[39;00m\n\u001b[0;32m     14\u001b[0m x\n",
      "\u001b[1;31mTypeError\u001b[0m: __str__ returned non-string (type bool)"
     ]
    }
   ],
   "source": [
    "# __str__  -  returns the informal string representation of an object.\n",
    "\n",
    "class Employee:\n",
    "    def __init__(self,name):\n",
    "        self.name = name\n",
    "        \n",
    "    def __len__(self):\n",
    "        return len(self.name)\n",
    "    \n",
    "    def __str__(self):\n",
    "        return True\n",
    "x = Employee(\"pranjal\")\n",
    "print(x) #\n",
    "x"
   ]
  },
  {
   "cell_type": "code",
   "execution_count": 10,
   "id": "4dc1f0bb",
   "metadata": {},
   "outputs": [
    {
     "name": "stdout",
     "output_type": "stream",
     "text": [
      "Pranjal Dahiya is an employee of the company\n"
     ]
    },
    {
     "data": {
      "text/plain": [
       "We have an employee Pranjal Dahiya"
      ]
     },
     "execution_count": 10,
     "metadata": {},
     "output_type": "execute_result"
    }
   ],
   "source": [
    "# __repr__  -  returns the \"official\" string representation of an object.\n",
    "class Employee:\n",
    "    def __init__(self,name):\n",
    "        self.name = name\n",
    "        \n",
    "    def __len__(self):\n",
    "        return len(self.name)\n",
    "    \n",
    "    def __str__(self):\n",
    "        return f\"{self.name} is an employee of the company\"\n",
    "    \n",
    "    def __repr__(self):\n",
    "        return f\"We have an employee {self.name}\"\n",
    "    \n",
    "x = Employee(\"Pranjal Dahiya\")\n",
    "\n",
    "print(x)\n",
    "x"
   ]
  },
  {
   "cell_type": "code",
   "execution_count": 11,
   "id": "fe127fc9",
   "metadata": {},
   "outputs": [
    {
     "name": "stdout",
     "output_type": "stream",
     "text": [
      "Hey Iam good\n"
     ]
    },
    {
     "data": {
      "text/plain": [
       "True"
      ]
     },
     "execution_count": 11,
     "metadata": {},
     "output_type": "execute_result"
    }
   ],
   "source": [
    "# __call__  -  The call method is used to make an object callable.\n",
    "class Employee:\n",
    "    def __init__(self,name):\n",
    "        self.name = name\n",
    "        \n",
    "    def __len__(self):\n",
    "        return len(self.name)\n",
    "    \n",
    "    def __str__(self):\n",
    "        return f\"{self.name} is an employee of the company\"\n",
    "    \n",
    "    def __repr__(self):\n",
    "        return f\"We have an employee {self.name}\"\n",
    "    \n",
    "    def __call__(self):\n",
    "        print(\"Hey Iam good\")\n",
    "        return True\n",
    "    \n",
    "x = Employee(\"Pranjal Dahiya\")\n",
    "x()"
   ]
  },
  {
   "cell_type": "code",
   "execution_count": 17,
   "id": "9b04e5eb",
   "metadata": {},
   "outputs": [
    {
     "data": {
      "text/plain": [
       "2817778484896"
      ]
     },
     "execution_count": 17,
     "metadata": {},
     "output_type": "execute_result"
    }
   ],
   "source": [
    "0x29010af86a0"
   ]
  },
  {
   "cell_type": "code",
   "execution_count": null,
   "id": "0afd681c",
   "metadata": {},
   "outputs": [],
   "source": []
  }
 ],
 "metadata": {
  "kernelspec": {
   "display_name": "Python 3 (ipykernel)",
   "language": "python",
   "name": "python3"
  },
  "language_info": {
   "codemirror_mode": {
    "name": "ipython",
    "version": 3
   },
   "file_extension": ".py",
   "mimetype": "text/x-python",
   "name": "python",
   "nbconvert_exporter": "python",
   "pygments_lexer": "ipython3",
   "version": "3.10.9"
  }
 },
 "nbformat": 4,
 "nbformat_minor": 5
}
