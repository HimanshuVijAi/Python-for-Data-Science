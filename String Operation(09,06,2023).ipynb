{
 "cells": [
  {
   "cell_type": "markdown",
   "id": "8b9eee7c",
   "metadata": {},
   "source": [
    "# What is String? (\" \" , ' ')"
   ]
  },
  {
   "cell_type": "markdown",
   "id": "208dee34",
   "metadata": {},
   "source": [
    "- A string is a Sequence of Character.\n",
    "- Strings can be Created by enclosing Characters inside a single quote or Double quotes.\n",
    "- Triple quotes can be used to represent multiline Strings or which we can call Docstrings."
   ]
  },
  {
   "cell_type": "markdown",
   "id": "d68df457",
   "metadata": {},
   "source": [
    "# Indexing"
   ]
  },
  {
   "cell_type": "markdown",
   "id": "b1d665a9",
   "metadata": {},
   "source": [
    "- Indexing means accessing individual characters(elements) of a string by its position within the string"
   ]
  },
  {
   "cell_type": "code",
   "execution_count": null,
   "id": "aaf3e7ce",
   "metadata": {},
   "outputs": [],
   "source": [
    "# Note:Positive indexing numbers are always starts"
   ]
  },
  {
   "cell_type": "markdown",
   "id": "d82e46a5",
   "metadata": {},
   "source": [
    "1.Positive Indexing"
   ]
  },
  {
   "cell_type": "code",
   "execution_count": 1,
   "id": "8ee88eb9",
   "metadata": {},
   "outputs": [
    {
     "name": "stdout",
     "output_type": "stream",
     "text": [
      "E\n"
     ]
    }
   ],
   "source": [
    "example = \"PYTHON IS EASY\"\n",
    "print(example[10])"
   ]
  },
  {
   "cell_type": "code",
   "execution_count": 14,
   "id": "cc2f4ffb",
   "metadata": {},
   "outputs": [
    {
     "name": "stdout",
     "output_type": "stream",
     "text": [
      "Y\n"
     ]
    }
   ],
   "source": [
    "example = \"PYTHON IS EASY\"\n",
    "print(example[-1])"
   ]
  },
  {
   "cell_type": "code",
   "execution_count": 22,
   "id": "8ecfa5b3",
   "metadata": {},
   "outputs": [
    {
     "name": "stdout",
     "output_type": "stream",
     "text": [
      "is \n"
     ]
    }
   ],
   "source": [
    "print(example[7:-5])"
   ]
  },
  {
   "cell_type": "code",
   "execution_count": 5,
   "id": "86bfa36f",
   "metadata": {},
   "outputs": [
    {
     "name": "stdout",
     "output_type": "stream",
     "text": [
      "Y\n"
     ]
    }
   ],
   "source": [
    "example = \"PYTHON IS EASY\"\n",
    "print(example[13])"
   ]
  },
  {
   "cell_type": "code",
   "execution_count": 8,
   "id": "0743fac2",
   "metadata": {},
   "outputs": [
    {
     "name": "stdout",
     "output_type": "stream",
     "text": [
      " \n"
     ]
    }
   ],
   "source": [
    "example = \"PYTHON IS EASY\"\n",
    "print(example[6])"
   ]
  },
  {
   "cell_type": "code",
   "execution_count": 19,
   "id": "21313372",
   "metadata": {},
   "outputs": [
    {
     "name": "stdout",
     "output_type": "stream",
     "text": [
      "S\n"
     ]
    }
   ],
   "source": [
    "example = \"PYTHON IS EASY \"\n",
    "print(example[8])"
   ]
  },
  {
   "cell_type": "markdown",
   "id": "26a4823c",
   "metadata": {},
   "source": [
    "2.Negative Indexing"
   ]
  },
  {
   "cell_type": "code",
   "execution_count": 17,
   "id": "5adc8a11",
   "metadata": {},
   "outputs": [
    {
     "data": {
      "text/plain": [
       "'P'"
      ]
     },
     "execution_count": 17,
     "metadata": {},
     "output_type": "execute_result"
    }
   ],
   "source": [
    "example[-15]"
   ]
  },
  {
   "cell_type": "code",
   "execution_count": 18,
   "id": "464c45e2",
   "metadata": {},
   "outputs": [
    {
     "data": {
      "text/plain": [
       "'S'"
      ]
     },
     "execution_count": 18,
     "metadata": {},
     "output_type": "execute_result"
    }
   ],
   "source": [
    "example[-3]"
   ]
  },
  {
   "cell_type": "code",
   "execution_count": 20,
   "id": "531f886e",
   "metadata": {},
   "outputs": [
    {
     "data": {
      "text/plain": [
       "' '"
      ]
     },
     "execution_count": 20,
     "metadata": {},
     "output_type": "execute_result"
    }
   ],
   "source": [
    "example[-1]"
   ]
  },
  {
   "cell_type": "code",
   "execution_count": 21,
   "id": "53428939",
   "metadata": {},
   "outputs": [
    {
     "data": {
      "text/plain": [
       "' '"
      ]
     },
     "execution_count": 21,
     "metadata": {},
     "output_type": "execute_result"
    }
   ],
   "source": [
    "example[-6]"
   ]
  },
  {
   "cell_type": "markdown",
   "id": "c2d9c346",
   "metadata": {},
   "source": [
    "# Slicing"
   ]
  },
  {
   "cell_type": "markdown",
   "id": "c247acfd",
   "metadata": {},
   "source": [
    "- Slicing means accessing a subset of a string based on its indices"
   ]
  },
  {
   "cell_type": "markdown",
   "id": "0c212eed",
   "metadata": {},
   "source": [
    "1.Positive Slicing"
   ]
  },
  {
   "cell_type": "code",
   "execution_count": 24,
   "id": "98473571",
   "metadata": {},
   "outputs": [
    {
     "data": {
      "text/plain": [
       "'python'"
      ]
     },
     "execution_count": 24,
     "metadata": {},
     "output_type": "execute_result"
    }
   ],
   "source": [
    "# string[start index : stop index ]\n",
    "example =  \"python is easy\"\n",
    "example[0:6]  # printing \"python\""
   ]
  },
  {
   "cell_type": "code",
   "execution_count": 9,
   "id": "3070793c",
   "metadata": {},
   "outputs": [
    {
     "data": {
      "text/plain": [
       "' is'"
      ]
     },
     "execution_count": 9,
     "metadata": {},
     "output_type": "execute_result"
    }
   ],
   "source": [
    "example =  \"python is easy \"\n",
    "example[6:9] "
   ]
  },
  {
   "cell_type": "code",
   "execution_count": 32,
   "id": "b242cd2c",
   "metadata": {},
   "outputs": [
    {
     "data": {
      "text/plain": [
       "' is '"
      ]
     },
     "execution_count": 32,
     "metadata": {},
     "output_type": "execute_result"
    }
   ],
   "source": [
    "example =  \"python is easy\"\n",
    "example[6:10] "
   ]
  },
  {
   "cell_type": "code",
   "execution_count": 23,
   "id": "d8198d28",
   "metadata": {},
   "outputs": [
    {
     "data": {
      "text/plain": [
       "'python'"
      ]
     },
     "execution_count": 23,
     "metadata": {},
     "output_type": "execute_result"
    }
   ],
   "source": [
    "example =  \"python is easy \"\n",
    "example[0:6] "
   ]
  },
  {
   "cell_type": "code",
   "execution_count": 36,
   "id": "d8402e0e",
   "metadata": {},
   "outputs": [
    {
     "data": {
      "text/plain": [
       "'easy'"
      ]
     },
     "execution_count": 36,
     "metadata": {},
     "output_type": "execute_result"
    }
   ],
   "source": [
    "example[10:]"
   ]
  },
  {
   "cell_type": "code",
   "execution_count": 37,
   "id": "2940d5a0",
   "metadata": {},
   "outputs": [
    {
     "data": {
      "text/plain": [
       "'s easy'"
      ]
     },
     "execution_count": 37,
     "metadata": {},
     "output_type": "execute_result"
    }
   ],
   "source": [
    "example[8:]"
   ]
  },
  {
   "cell_type": "code",
   "execution_count": 38,
   "id": "0bfc1039",
   "metadata": {},
   "outputs": [
    {
     "data": {
      "text/plain": [
       "'easy'"
      ]
     },
     "execution_count": 38,
     "metadata": {},
     "output_type": "execute_result"
    }
   ],
   "source": [
    "example[10:20]"
   ]
  },
  {
   "cell_type": "code",
   "execution_count": 39,
   "id": "f92cadc5",
   "metadata": {},
   "outputs": [
    {
     "data": {
      "text/plain": [
       "'python is easy'"
      ]
     },
     "execution_count": 39,
     "metadata": {},
     "output_type": "execute_result"
    }
   ],
   "source": [
    "example[0:2000]"
   ]
  },
  {
   "cell_type": "code",
   "execution_count": 20,
   "id": "f4248227",
   "metadata": {},
   "outputs": [
    {
     "data": {
      "text/plain": [
       "'easy'"
      ]
     },
     "execution_count": 20,
     "metadata": {},
     "output_type": "execute_result"
    }
   ],
   "source": [
    "example[-5:-1]"
   ]
  },
  {
   "cell_type": "code",
   "execution_count": 42,
   "id": "7da0ad40",
   "metadata": {},
   "outputs": [
    {
     "data": {
      "text/plain": [
       "'python i'"
      ]
     },
     "execution_count": 42,
     "metadata": {},
     "output_type": "execute_result"
    }
   ],
   "source": [
    "example[:8]"
   ]
  },
  {
   "cell_type": "code",
   "execution_count": 24,
   "id": "a81bbd26",
   "metadata": {},
   "outputs": [
    {
     "data": {
      "text/plain": [
       "'python is easy '"
      ]
     },
     "execution_count": 24,
     "metadata": {},
     "output_type": "execute_result"
    }
   ],
   "source": [
    "example[0:]"
   ]
  },
  {
   "cell_type": "code",
   "execution_count": 43,
   "id": "21920967",
   "metadata": {},
   "outputs": [
    {
     "data": {
      "text/plain": [
       "'python is easy'"
      ]
     },
     "execution_count": 43,
     "metadata": {},
     "output_type": "execute_result"
    }
   ],
   "source": [
    "example[:]"
   ]
  },
  {
   "cell_type": "markdown",
   "id": "8fe19056",
   "metadata": {},
   "source": [
    "2.Negative Slicing"
   ]
  },
  {
   "cell_type": "code",
   "execution_count": 56,
   "id": "e5f9bce7",
   "metadata": {},
   "outputs": [
    {
     "data": {
      "text/plain": [
       "'s '"
      ]
     },
     "execution_count": 56,
     "metadata": {},
     "output_type": "execute_result"
    }
   ],
   "source": [
    "example[-6:-4]"
   ]
  },
  {
   "cell_type": "code",
   "execution_count": 58,
   "id": "40da1361",
   "metadata": {},
   "outputs": [
    {
     "data": {
      "text/plain": [
       "'python'"
      ]
     },
     "execution_count": 58,
     "metadata": {},
     "output_type": "execute_result"
    }
   ],
   "source": [
    "example[-15:-8]"
   ]
  },
  {
   "cell_type": "code",
   "execution_count": 59,
   "id": "38afb54e",
   "metadata": {},
   "outputs": [
    {
     "data": {
      "text/plain": [
       "''"
      ]
     },
     "execution_count": 59,
     "metadata": {},
     "output_type": "execute_result"
    }
   ],
   "source": [
    "example[-9:-15]"
   ]
  },
  {
   "cell_type": "code",
   "execution_count": 63,
   "id": "25033230",
   "metadata": {},
   "outputs": [
    {
     "data": {
      "text/plain": [
       "'python is easy'"
      ]
     },
     "execution_count": 63,
     "metadata": {},
     "output_type": "execute_result"
    }
   ],
   "source": [
    "example[-15:14]"
   ]
  },
  {
   "cell_type": "code",
   "execution_count": 67,
   "id": "66ab1905",
   "metadata": {},
   "outputs": [
    {
     "data": {
      "text/plain": [
       "' is '"
      ]
     },
     "execution_count": 67,
     "metadata": {},
     "output_type": "execute_result"
    }
   ],
   "source": [
    "example[-8:10]"
   ]
  },
  {
   "cell_type": "code",
   "execution_count": 69,
   "id": "9cd9d513",
   "metadata": {},
   "outputs": [
    {
     "data": {
      "text/plain": [
       "'is'"
      ]
     },
     "execution_count": 69,
     "metadata": {},
     "output_type": "execute_result"
    }
   ],
   "source": [
    "example[7:-5]"
   ]
  },
  {
   "cell_type": "code",
   "execution_count": 3,
   "id": "a246acdb",
   "metadata": {},
   "outputs": [
    {
     "name": "stdout",
     "output_type": "stream",
     "text": [
      " LEARNING\n"
     ]
    }
   ],
   "source": [
    "w = \" IAM LEARNING PYTHON \"\n",
    "print(w[4:13])"
   ]
  },
  {
   "cell_type": "code",
   "execution_count": 15,
   "id": "e8183843",
   "metadata": {},
   "outputs": [
    {
     "name": "stdout",
     "output_type": "stream",
     "text": [
      "ING PYTHO\n"
     ]
    }
   ],
   "source": [
    "print(w[-10:-1])"
   ]
  },
  {
   "cell_type": "code",
   "execution_count": 2,
   "id": "95db9d9f",
   "metadata": {},
   "outputs": [
    {
     "name": "stdout",
     "output_type": "stream",
     "text": [
      "iam learning ython\n"
     ]
    }
   ],
   "source": [
    "n = \"iam learning python \"\n",
    "print(n[0:3],n[4:12],n[143:19])"
   ]
  },
  {
   "cell_type": "code",
   "execution_count": 21,
   "id": "f5fee867",
   "metadata": {},
   "outputs": [
    {
     "name": "stdout",
     "output_type": "stream",
     "text": [
      "PYTHON\n"
     ]
    }
   ],
   "source": [
    "print(w[-7:-1])"
   ]
  },
  {
   "cell_type": "code",
   "execution_count": 5,
   "id": "9b2a1357",
   "metadata": {},
   "outputs": [
    {
     "name": "stdout",
     "output_type": "stream",
     "text": [
      "LEARNING\n"
     ]
    }
   ],
   "source": [
    "print(w[-16:-8])"
   ]
  },
  {
   "cell_type": "code",
   "execution_count": 8,
   "id": "cd818b3c",
   "metadata": {},
   "outputs": [
    {
     "name": "stdout",
     "output_type": "stream",
     "text": [
      " LEARNING PYTHON \n"
     ]
    }
   ],
   "source": [
    "print(w[-17:])"
   ]
  },
  {
   "cell_type": "code",
   "execution_count": 9,
   "id": "576eda4d",
   "metadata": {},
   "outputs": [
    {
     "name": "stdout",
     "output_type": "stream",
     "text": [
      " LEARNING \n"
     ]
    }
   ],
   "source": [
    "print(w[4:-7])"
   ]
  },
  {
   "cell_type": "code",
   "execution_count": 6,
   "id": "cfeb4541",
   "metadata": {},
   "outputs": [
    {
     "name": "stdout",
     "output_type": "stream",
     "text": [
      "python is easy\n"
     ]
    }
   ],
   "source": [
    "x = \"python is easy\"\n",
    "print(x[0:100])"
   ]
  },
  {
   "cell_type": "code",
   "execution_count": 19,
   "id": "73a48b53",
   "metadata": {},
   "outputs": [
    {
     "name": "stdout",
     "output_type": "stream",
     "text": [
      "iam learning python\n"
     ]
    }
   ],
   "source": [
    "d = \"iam learning python\"\n",
    "print(d[-22:])"
   ]
  },
  {
   "cell_type": "code",
   "execution_count": 20,
   "id": "7a4161e8",
   "metadata": {},
   "outputs": [
    {
     "name": "stdout",
     "output_type": "stream",
     "text": [
      "pyhton is easy\n"
     ]
    }
   ],
   "source": [
    "X = \"pyhton is easy\"\n",
    "print(X[:])"
   ]
  },
  {
   "cell_type": "code",
   "execution_count": 21,
   "id": "5bd1831d",
   "metadata": {},
   "outputs": [
    {
     "name": "stdout",
     "output_type": "stream",
     "text": [
      "i\n"
     ]
    }
   ],
   "source": [
    "d = \"iam learning python\"\n",
    "print(d[0:-18])"
   ]
  },
  {
   "cell_type": "code",
   "execution_count": 22,
   "id": "52e5b0b2",
   "metadata": {},
   "outputs": [
    {
     "name": "stdout",
     "output_type": "stream",
     "text": [
      "iam learn\n"
     ]
    }
   ],
   "source": [
    "print(d[0:-10])"
   ]
  },
  {
   "cell_type": "code",
   "execution_count": 23,
   "id": "a1807560",
   "metadata": {},
   "outputs": [
    {
     "name": "stdout",
     "output_type": "stream",
     "text": [
      "iam learning python\n"
     ]
    }
   ],
   "source": [
    "d = \"iam learning python\"\n",
    "print(d[0:])"
   ]
  },
  {
   "cell_type": "code",
   "execution_count": 24,
   "id": "601020ff",
   "metadata": {},
   "outputs": [
    {
     "name": "stdout",
     "output_type": "stream",
     "text": [
      "iam learning python\n"
     ]
    }
   ],
   "source": [
    "print(d[:])"
   ]
  },
  {
   "cell_type": "code",
   "execution_count": 5,
   "id": "cb24cf22",
   "metadata": {},
   "outputs": [
    {
     "name": "stdout",
     "output_type": "stream",
     "text": [
      "i am learning python\n"
     ]
    }
   ],
   "source": [
    "a = \"i am learning python\"\n",
    "print(a[-20:20])"
   ]
  },
  {
   "cell_type": "code",
   "execution_count": 6,
   "id": "f8a4593d",
   "metadata": {},
   "outputs": [
    {
     "name": "stdout",
     "output_type": "stream",
     "text": [
      "i am learning pytho\n"
     ]
    }
   ],
   "source": [
    "a = \"i am learning python\"\n",
    "print(a[-20:19])"
   ]
  },
  {
   "cell_type": "markdown",
   "id": "4f8b6a96",
   "metadata": {},
   "source": [
    "# Stride"
   ]
  },
  {
   "cell_type": "markdown",
   "id": "e46f7a45",
   "metadata": {},
   "source": [
    "- String slicing can also accept a third parameter,the stride,which refers to how many steps you want to take from the first character of the string"
   ]
  },
  {
   "cell_type": "markdown",
   "id": "718a0b98",
   "metadata": {},
   "source": [
    "1.Positive Stride"
   ]
  },
  {
   "cell_type": "code",
   "execution_count": 7,
   "id": "3b7c738c",
   "metadata": {},
   "outputs": [
    {
     "data": {
      "text/plain": [
       "'PYTHON IS EASY'"
      ]
     },
     "execution_count": 7,
     "metadata": {},
     "output_type": "execute_result"
    }
   ],
   "source": [
    "#### string(start index : stop index : stride/step value)\n",
    "example =\"PYTHON IS EASY\"\n",
    "example[0:15:1]"
   ]
  },
  {
   "cell_type": "code",
   "execution_count": 8,
   "id": "2cae4a55",
   "metadata": {},
   "outputs": [
    {
     "data": {
      "text/plain": [
       "'PYTHON IS EASY'"
      ]
     },
     "execution_count": 8,
     "metadata": {},
     "output_type": "execute_result"
    }
   ],
   "source": [
    "example =\"PYTHON IS EASY\"\n",
    "example[0::1]"
   ]
  },
  {
   "cell_type": "code",
   "execution_count": 30,
   "id": "e2aa431a",
   "metadata": {},
   "outputs": [
    {
     "data": {
      "text/plain": [
       "'POSS'"
      ]
     },
     "execution_count": 30,
     "metadata": {},
     "output_type": "execute_result"
    }
   ],
   "source": [
    "example =\"PYTHON IS EASY \"\n",
    "example[0:15:4]"
   ]
  },
  {
   "cell_type": "code",
   "execution_count": 31,
   "id": "74fdbf96",
   "metadata": {},
   "outputs": [
    {
     "data": {
      "text/plain": [
       "'PTO SES'"
      ]
     },
     "execution_count": 31,
     "metadata": {},
     "output_type": "execute_result"
    }
   ],
   "source": [
    "example =\"PYTHON IS EASY \"\n",
    "example[0:14:2]"
   ]
  },
  {
   "cell_type": "code",
   "execution_count": 32,
   "id": "85a1b554",
   "metadata": {},
   "outputs": [
    {
     "data": {
      "text/plain": [
       "'PH  S'"
      ]
     },
     "execution_count": 32,
     "metadata": {},
     "output_type": "execute_result"
    }
   ],
   "source": [
    "example =\"PYTHON IS EASY\"\n",
    "example[0:14:3]"
   ]
  },
  {
   "cell_type": "markdown",
   "id": "877076d7",
   "metadata": {},
   "source": [
    "2.Negative Stride"
   ]
  },
  {
   "cell_type": "code",
   "execution_count": 38,
   "id": "3c7b725f",
   "metadata": {},
   "outputs": [
    {
     "name": "stdout",
     "output_type": "stream",
     "text": [
      "p\n"
     ]
    }
   ],
   "source": [
    "x = \"python is easy \"\n",
    "print(x[0::-1])"
   ]
  },
  {
   "cell_type": "code",
   "execution_count": 10,
   "id": "ef0bacf4",
   "metadata": {},
   "outputs": [
    {
     "data": {
      "text/plain": [
       "'NOHTYP'"
      ]
     },
     "execution_count": 10,
     "metadata": {},
     "output_type": "execute_result"
    }
   ],
   "source": [
    "example =\"PYTHON IS EASY\"\n",
    "example[-9::-1]"
   ]
  },
  {
   "cell_type": "code",
   "execution_count": 14,
   "id": "f1f844df",
   "metadata": {},
   "outputs": [
    {
     "data": {
      "text/plain": [
       "'SI'"
      ]
     },
     "execution_count": 14,
     "metadata": {},
     "output_type": "execute_result"
    }
   ],
   "source": [
    "example =\"PYTHON IS EASY\"\n",
    "example[-6:-8:-1]"
   ]
  },
  {
   "cell_type": "code",
   "execution_count": 33,
   "id": "5a605899",
   "metadata": {},
   "outputs": [
    {
     "data": {
      "text/plain": [
       "'YSAE SI NOHTYP'"
      ]
     },
     "execution_count": 33,
     "metadata": {},
     "output_type": "execute_result"
    }
   ],
   "source": [
    "example =\"PYTHON IS EASY\"\n",
    "example[::-1]"
   ]
  },
  {
   "cell_type": "code",
   "execution_count": 26,
   "id": "c16f7eef",
   "metadata": {},
   "outputs": [
    {
     "data": {
      "text/plain": [
       "' A'"
      ]
     },
     "execution_count": 26,
     "metadata": {},
     "output_type": "execute_result"
    }
   ],
   "source": [
    "example =\"PYTHON IS EASY\"\n",
    "example[-5:-1:2]"
   ]
  },
  {
   "cell_type": "code",
   "execution_count": 27,
   "id": "44ceb491",
   "metadata": {},
   "outputs": [
    {
     "data": {
      "text/plain": [
       "'PTO SES '"
      ]
     },
     "execution_count": 27,
     "metadata": {},
     "output_type": "execute_result"
    }
   ],
   "source": [
    "example =\"PYTHON IS EASY \"\n",
    "example[0:15:2]"
   ]
  },
  {
   "cell_type": "code",
   "execution_count": 24,
   "id": "aecbcea5",
   "metadata": {},
   "outputs": [
    {
     "data": {
      "text/plain": [
       "' SES OTP'"
      ]
     },
     "execution_count": 24,
     "metadata": {},
     "output_type": "execute_result"
    }
   ],
   "source": [
    "example =\"PYTHON IS EASY \"\n",
    "example[::-2]"
   ]
  },
  {
   "cell_type": "code",
   "execution_count": 13,
   "id": "8b796cea",
   "metadata": {},
   "outputs": [
    {
     "name": "stdout",
     "output_type": "stream",
     "text": [
      " ysae\n"
     ]
    }
   ],
   "source": [
    "x = \"python is easy \"\n",
    "print(x[-1:-6:-1])"
   ]
  },
  {
   "cell_type": "code",
   "execution_count": 14,
   "id": "080d0b0a",
   "metadata": {},
   "outputs": [
    {
     "name": "stdout",
     "output_type": "stream",
     "text": [
      "\n"
     ]
    }
   ],
   "source": [
    "x = \"python is easy \"\n",
    "print(x[-1:-6:1])"
   ]
  },
  {
   "cell_type": "code",
   "execution_count": 35,
   "id": "c5f04ace",
   "metadata": {},
   "outputs": [
    {
     "name": "stdout",
     "output_type": "stream",
     "text": [
      " ysae\n"
     ]
    }
   ],
   "source": [
    "x = \"python is easy \"\n",
    "print(x[-1:-6:-1])"
   ]
  },
  {
   "cell_type": "code",
   "execution_count": 36,
   "id": "eb1a23bd",
   "metadata": {},
   "outputs": [
    {
     "name": "stdout",
     "output_type": "stream",
     "text": [
      "ya inhy\n"
     ]
    }
   ],
   "source": [
    "x = \"python is easy \"\n",
    "print(x[-2::-2])"
   ]
  },
  {
   "cell_type": "code",
   "execution_count": 37,
   "id": "1848fe7a",
   "metadata": {},
   "outputs": [
    {
     "name": "stdout",
     "output_type": "stream",
     "text": [
      " asnt\n"
     ]
    }
   ],
   "source": [
    "x = \"python is easy \"\n",
    "print(x[-1::-3])"
   ]
  },
  {
   "cell_type": "code",
   "execution_count": 20,
   "id": "5827ad4c",
   "metadata": {},
   "outputs": [
    {
     "name": "stdout",
     "output_type": "stream",
     "text": [
      "python\n"
     ]
    }
   ],
   "source": [
    "x = \"python is easy \"\n",
    "print(x[0:6])"
   ]
  },
  {
   "cell_type": "code",
   "execution_count": 26,
   "id": "1670533c",
   "metadata": {},
   "outputs": [
    {
     "name": "stdout",
     "output_type": "stream",
     "text": [
      "\n"
     ]
    }
   ],
   "source": [
    "x = \"python is easy \"\n",
    "print(x[-8:3])"
   ]
  },
  {
   "cell_type": "code",
   "execution_count": 28,
   "id": "19b78673",
   "metadata": {},
   "outputs": [
    {
     "data": {
      "text/plain": [
       "''"
      ]
     },
     "execution_count": 28,
     "metadata": {},
     "output_type": "execute_result"
    }
   ],
   "source": [
    "example[-5:-5]"
   ]
  },
  {
   "cell_type": "code",
   "execution_count": 29,
   "id": "9368fc81",
   "metadata": {},
   "outputs": [
    {
     "data": {
      "text/plain": [
       "''"
      ]
     },
     "execution_count": 29,
     "metadata": {},
     "output_type": "execute_result"
    }
   ],
   "source": [
    "example[5:5]"
   ]
  },
  {
   "cell_type": "code",
   "execution_count": 1,
   "id": "c3ab71a6",
   "metadata": {},
   "outputs": [
    {
     "ename": "ValueError",
     "evalue": "slice step cannot be zero",
     "output_type": "error",
     "traceback": [
      "\u001b[1;31m---------------------------------------------------------------------------\u001b[0m",
      "\u001b[1;31mValueError\u001b[0m                                Traceback (most recent call last)",
      "Cell \u001b[1;32mIn[1], line 2\u001b[0m\n\u001b[0;32m      1\u001b[0m example \u001b[38;5;241m=\u001b[39m\u001b[38;5;124m\"\u001b[39m\u001b[38;5;124mPYTHON IS EASY\u001b[39m\u001b[38;5;124m\"\u001b[39m\n\u001b[1;32m----> 2\u001b[0m \u001b[43mexample\u001b[49m\u001b[43m[\u001b[49m\u001b[43m:\u001b[49m\u001b[43m:\u001b[49m\u001b[38;5;241;43m0\u001b[39;49m\u001b[43m]\u001b[49m\n",
      "\u001b[1;31mValueError\u001b[0m: slice step cannot be zero"
     ]
    }
   ],
   "source": [
    "example =\"PYTHON IS EASY\"\n",
    "example[::0]"
   ]
  },
  {
   "cell_type": "code",
   "execution_count": 6,
   "id": "4465b07b",
   "metadata": {},
   "outputs": [
    {
     "ename": "TypeError",
     "evalue": "str.upper() takes no arguments (1 given)",
     "output_type": "error",
     "traceback": [
      "\u001b[1;31m---------------------------------------------------------------------------\u001b[0m",
      "\u001b[1;31mTypeError\u001b[0m                                 Traceback (most recent call last)",
      "Cell \u001b[1;32mIn[6], line 2\u001b[0m\n\u001b[0;32m      1\u001b[0m nam \u001b[38;5;241m=\u001b[39m \u001b[38;5;124m\"\u001b[39m\u001b[38;5;124mhello sir, my name is rishi\u001b[39m\u001b[38;5;124m\"\u001b[39m\n\u001b[1;32m----> 2\u001b[0m \u001b[43mnam\u001b[49m\u001b[38;5;241;43m.\u001b[39;49m\u001b[43mupper\u001b[49m\u001b[43m(\u001b[49m\u001b[38;5;241;43m0\u001b[39;49m\u001b[43m)\u001b[49m\n\u001b[0;32m      3\u001b[0m \u001b[38;5;28mprint\u001b[39m(nam[\u001b[38;5;241m0\u001b[39m:\u001b[38;5;241m27\u001b[39m])\n",
      "\u001b[1;31mTypeError\u001b[0m: str.upper() takes no arguments (1 given)"
     ]
    }
   ],
   "source": [
    "nam = \"hello sir, my name is rishi\"\n",
    "nam.upper(0)\n",
    "print(nam[0:27])"
   ]
  },
  {
   "cell_type": "code",
   "execution_count": null,
   "id": "609c1b3b",
   "metadata": {},
   "outputs": [],
   "source": []
  },
  {
   "cell_type": "code",
   "execution_count": null,
   "id": "988b6e20",
   "metadata": {},
   "outputs": [],
   "source": []
  },
  {
   "cell_type": "code",
   "execution_count": null,
   "id": "d18f6704",
   "metadata": {},
   "outputs": [],
   "source": []
  }
 ],
 "metadata": {
  "kernelspec": {
   "display_name": "Python 3 (ipykernel)",
   "language": "python",
   "name": "python3"
  },
  "language_info": {
   "codemirror_mode": {
    "name": "ipython",
    "version": 3
   },
   "file_extension": ".py",
   "mimetype": "text/x-python",
   "name": "python",
   "nbconvert_exporter": "python",
   "pygments_lexer": "ipython3",
   "version": "3.10.9"
  }
 },
 "nbformat": 4,
 "nbformat_minor": 5
}
