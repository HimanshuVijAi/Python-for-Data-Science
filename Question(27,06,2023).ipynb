{
 "cells": [
  {
   "cell_type": "markdown",
   "id": "ce70261f",
   "metadata": {},
   "source": [
    "1.Calculate the multiplication and sum of two numbers."
   ]
  },
  {
   "cell_type": "code",
   "execution_count": 2,
   "id": "95f93834",
   "metadata": {},
   "outputs": [
    {
     "name": "stdout",
     "output_type": "stream",
     "text": [
      "45\n",
      "14\n"
     ]
    }
   ],
   "source": [
    "a = (5)\n",
    "b = (9)\n",
    "print(a*b)\n",
    "print(a+b)"
   ]
  },
  {
   "cell_type": "markdown",
   "id": "d502e60e",
   "metadata": {},
   "source": [
    "3.Print characters from the strings that are present at an even index numbers."
   ]
  },
  {
   "cell_type": "code",
   "execution_count": 2,
   "id": "449458d9",
   "metadata": {},
   "outputs": [
    {
     "data": {
      "text/plain": [
       "'HLOEEYN'"
      ]
     },
     "execution_count": 2,
     "metadata": {},
     "output_type": "execute_result"
    }
   ],
   "source": [
    "d = \"HeLlO EvErYoNe\"\n",
    "d[::2]"
   ]
  },
  {
   "cell_type": "markdown",
   "id": "ecc5e924",
   "metadata": {},
   "source": [
    "4.Remove first n character from the string."
   ]
  },
  {
   "cell_type": "code",
   "execution_count": 6,
   "id": "0178f9ce",
   "metadata": {},
   "outputs": [
    {
     "data": {
      "text/plain": [
       "['Hello ', 'ew World']"
      ]
     },
     "execution_count": 6,
     "metadata": {},
     "output_type": "execute_result"
    }
   ],
   "source": [
    "d = \"Hello New World\"\n",
    "d.split(\"N\")"
   ]
  },
  {
   "cell_type": "markdown",
   "id": "caa9de71",
   "metadata": {},
   "source": [
    "5.Check if the first and last number of a list is the same."
   ]
  },
  {
   "cell_type": "code",
   "execution_count": 4,
   "id": "fd53d167",
   "metadata": {},
   "outputs": [
    {
     "ename": "AttributeError",
     "evalue": "'tuple' object has no attribute 'endswith'",
     "output_type": "error",
     "traceback": [
      "\u001b[1;31m---------------------------------------------------------------------------\u001b[0m",
      "\u001b[1;31mAttributeError\u001b[0m                            Traceback (most recent call last)",
      "Cell \u001b[1;32mIn[4], line 2\u001b[0m\n\u001b[0;32m      1\u001b[0m e \u001b[38;5;241m=\u001b[39m (\u001b[38;5;241m1\u001b[39m,\u001b[38;5;241m2\u001b[39m,\u001b[38;5;241m3\u001b[39m,\u001b[38;5;241m4\u001b[39m,\u001b[38;5;241m5\u001b[39m,\u001b[38;5;241m1\u001b[39m)\n\u001b[1;32m----> 2\u001b[0m \u001b[43me\u001b[49m\u001b[38;5;241;43m.\u001b[39;49m\u001b[43mendswith\u001b[49m()\n",
      "\u001b[1;31mAttributeError\u001b[0m: 'tuple' object has no attribute 'endswith'"
     ]
    }
   ],
   "source": [
    "e = (1,2,3,4,5,1)\n",
    "e.endswith()"
   ]
  },
  {
   "cell_type": "markdown",
   "id": "4a3a74e6",
   "metadata": {},
   "source": [
    "8.Print the following fuction."
   ]
  },
  {
   "cell_type": "code",
   "execution_count": 4,
   "id": "cfca3e81",
   "metadata": {},
   "outputs": [
    {
     "name": "stdout",
     "output_type": "stream",
     "text": [
      "1\n",
      "2 2\n",
      "3 3 3\n",
      "4 4 4 4\n",
      "5 5 5 5 5\n"
     ]
    }
   ],
   "source": [
    "print(\"1\")\n",
    "print(\"2 2\")\n",
    "print(\"3 3 3\")\n",
    "print(\"4 4 4 4\")\n",
    "print(\"5 5 5 5 5\")"
   ]
  },
  {
   "cell_type": "code",
   "execution_count": 24,
   "id": "39b95694",
   "metadata": {},
   "outputs": [
    {
     "name": "stdout",
     "output_type": "stream",
     "text": [
      "5 5 5 5 5\n",
      "4 4 4 4\n",
      "3 3 3\n",
      "2 2\n",
      "1\n"
     ]
    }
   ],
   "source": [
    "print(\"5 5 5 5 5\")\n",
    "print(\"4 4 4 4\")\n",
    "print(\"3 3 3\")\n",
    "print(\"2 2\")\n",
    "print(\"1\")"
   ]
  },
  {
   "cell_type": "code",
   "execution_count": 1,
   "id": "5bf28f21",
   "metadata": {},
   "outputs": [
    {
     "name": "stdout",
     "output_type": "stream",
     "text": [
      "1 \n",
      "2 2 \n",
      "3 3 3 \n",
      "4 4 4 4 \n",
      "5 5 5 5 5 \n"
     ]
    }
   ],
   "source": [
    "for i in range(1, 6):                         \n",
    "    for j in range(i):\n",
    "        print(i, end=\" \")\n",
    "    print()"
   ]
  },
  {
   "cell_type": "code",
   "execution_count": 26,
   "id": "cc889bcb",
   "metadata": {},
   "outputs": [
    {
     "name": "stdout",
     "output_type": "stream",
     "text": [
      "* * * * * \n",
      "* * * * \n",
      "* * * \n",
      "* * \n",
      "* \n"
     ]
    }
   ],
   "source": [
    "for i in range(5,0,-1):\n",
    "    for j in range(i):\n",
    "            print(\"*\", end=\" \")\n",
    "    print()"
   ]
  },
  {
   "cell_type": "markdown",
   "id": "1fb126f7",
   "metadata": {},
   "source": [
    "Make a program which is used in calculator."
   ]
  },
  {
   "cell_type": "code",
   "execution_count": 7,
   "id": "36476c50",
   "metadata": {},
   "outputs": [
    {
     "name": "stdout",
     "output_type": "stream",
     "text": [
      "105 -75 1350 0.16666666666666666 0 15\n"
     ]
    }
   ],
   "source": [
    "a = 15\n",
    "b = 90\n",
    "\n",
    "print(a+b,a-b,a*b,a/b,a//b,a%b)            # calculator program\n"
   ]
  },
  {
   "cell_type": "markdown",
   "id": "6a582a60",
   "metadata": {},
   "source": [
    "# Empty set"
   ]
  },
  {
   "cell_type": "code",
   "execution_count": 2,
   "id": "d1de1bc3",
   "metadata": {},
   "outputs": [
    {
     "name": "stdout",
     "output_type": "stream",
     "text": [
      "set()\n"
     ]
    }
   ],
   "source": [
    "s = set()\n",
    "print(s)"
   ]
  },
  {
   "cell_type": "code",
   "execution_count": 3,
   "id": "0bbd3734",
   "metadata": {},
   "outputs": [
    {
     "name": "stdout",
     "output_type": "stream",
     "text": [
      "<class 'set'>\n"
     ]
    }
   ],
   "source": [
    "s = set()          \n",
    "print(type(s))"
   ]
  },
  {
   "cell_type": "code",
   "execution_count": null,
   "id": "01e9624a",
   "metadata": {},
   "outputs": [],
   "source": [
    "e = {}\n"
   ]
  },
  {
   "cell_type": "code",
   "execution_count": 22,
   "id": "0d3274b5",
   "metadata": {
    "scrolled": true
   },
   "outputs": [
    {
     "name": "stdout",
     "output_type": "stream",
     "text": [
      "()\n",
      "<class 'tuple'>\n"
     ]
    }
   ],
   "source": [
    "g = tuple()\n",
    "print(g)\n",
    "print(type(g))"
   ]
  },
  {
   "cell_type": "code",
   "execution_count": 27,
   "id": "85d868f1",
   "metadata": {},
   "outputs": [
    {
     "name": "stdout",
     "output_type": "stream",
     "text": [
      "{}\n",
      "<class 'dict'>\n"
     ]
    }
   ],
   "source": [
    "t = dict()\n",
    "print(t)\n",
    "print(type(t))"
   ]
  },
  {
   "cell_type": "code",
   "execution_count": 5,
   "id": "f6160b5a",
   "metadata": {},
   "outputs": [
    {
     "name": "stdout",
     "output_type": "stream",
     "text": [
      "[]\n",
      "<class 'list'>\n"
     ]
    }
   ],
   "source": [
    "q = list()\n",
    "print(q)\n",
    "print(type(q))"
   ]
  },
  {
   "cell_type": "markdown",
   "id": "6746ae63",
   "metadata": {},
   "source": [
    "# add dict into dict"
   ]
  },
  {
   "cell_type": "code",
   "execution_count": 4,
   "id": "8242666d",
   "metadata": {},
   "outputs": [
    {
     "name": "stdout",
     "output_type": "stream",
     "text": [
      "{'Country': {'india': 'new delhi', 'pakistan': 'islamabad'}}\n"
     ]
    }
   ],
   "source": [
    "j = {}\n",
    "k = {\"india\": \"new delhi\", \"pakistan\": \"islamabad\"}\n",
    "j[\"Country\"] = k\n",
    "print(j)"
   ]
  },
  {
   "cell_type": "code",
   "execution_count": 20,
   "id": "81d1a027",
   "metadata": {},
   "outputs": [
    {
     "name": "stdout",
     "output_type": "stream",
     "text": [
      "{'Country': {'india': 'new delhi', 'pakistan': 'islamabad'}}\n"
     ]
    },
    {
     "data": {
      "text/plain": [
       "'new delhi'"
      ]
     },
     "execution_count": 20,
     "metadata": {},
     "output_type": "execute_result"
    }
   ],
   "source": [
    "j = {}\n",
    "k = {\"india\": \"new delhi\", \"pakistan\": \"islamabad\"}\n",
    "j[\"Country\"] = k\n",
    "print(j)\n",
    "k[\"india\"]"
   ]
  },
  {
   "cell_type": "code",
   "execution_count": 11,
   "id": "a6840004",
   "metadata": {},
   "outputs": [
    {
     "name": "stdout",
     "output_type": "stream",
     "text": [
      "<class 'dict_keys'>\n",
      "1799108853424\n",
      "<class 'dict_values'>\n",
      "1799108853424\n",
      "<class 'dict_items'>\n",
      "1799108853424\n"
     ]
    }
   ],
   "source": [
    "# keys\n",
    "print(type(a.keys()))\n",
    "print(id(a.keys()))            # objects whose value can change without changing the identity are said to be mutable.\n",
    "\n",
    "# Values\n",
    "print(type(a.values()))\n",
    "print(id(a.values()))          # objects whose value can change without changing the identity are said to be mutable.\n",
    "\n",
    "# items\n",
    "print(type(a.items()))\n",
    "print(id(a.items()))           # objects whose value can change without changing the identity are said to be mutable."
   ]
  },
  {
   "cell_type": "code",
   "execution_count": 1,
   "id": "4a7f72db",
   "metadata": {},
   "outputs": [
    {
     "name": "stdout",
     "output_type": "stream",
     "text": [
      "enter a number between 0 and 11:  9\n",
      "Himanshu\n"
     ]
    }
   ],
   "source": [
    "# Write a code to display names of 10 students through their roll no.\n",
    "a = int(input(\"enter a number between 0 and 11: \"))\n",
    "if a == 1:\n",
    "    print(\"Rishi\")\n",
    "elif a ==2:\n",
    "    print(\"Rohit\")\n",
    "elif a ==3:\n",
    "    print(\"Gaurav\")\n",
    "elif a ==4:\n",
    "    print(\"Rahul\")\n",
    "elif a ==5:\n",
    "    print(\"Arjun\")\n",
    "elif a ==6:\n",
    "    print(\"Bhumika\")\n",
    "elif a ==7:\n",
    "    print(\"Priyanshu\")\n",
    "elif a ==8:\n",
    "    print(\"Pushpendra\")\n",
    "elif a ==9:\n",
    "    print(\"Himanshu\")\n",
    "elif a ==10:\n",
    "    print(\"Nitin\")\n",
    "else:\n",
    "    print(\"end\")"
   ]
  },
  {
   "cell_type": "code",
   "execution_count": 3,
   "id": "64f49385",
   "metadata": {},
   "outputs": [
    {
     "name": "stdout",
     "output_type": "stream",
     "text": [
      "Students 2\n"
     ]
    },
    {
     "data": {
      "text/plain": [
       "'Parth'"
      ]
     },
     "execution_count": 3,
     "metadata": {},
     "output_type": "execute_result"
    }
   ],
   "source": [
    "Students = {1:\"Rohit\",2:\"Parth\",3:\"Ronak\",4:\"Pushpendra\",5:\"Gaurav\",6:\"Nitin\",7:\"Arjun\",8:\"Sanchit\",9:\"Sparsh\",10:\"Mukesh\"}\n",
    "\n",
    "x = int(input(\"Students\"))\n",
    "Students[x]"
   ]
  },
  {
   "cell_type": "code",
   "execution_count": 5,
   "id": "fc5d8a77",
   "metadata": {},
   "outputs": [
    {
     "name": "stdout",
     "output_type": "stream",
     "text": [
      "Rohit\n"
     ]
    }
   ],
   "source": [
    "# Make the first letter of a string in uppercase(.)\n",
    "x = \"rohit\"\n",
    "y = x[0]\n",
    "z = x[1:]\n",
    "n = y.upper()\n",
    "a = n+z\n",
    "print(a)"
   ]
  },
  {
   "cell_type": "code",
   "execution_count": 1,
   "id": "6fe248b2",
   "metadata": {},
   "outputs": [
    {
     "data": {
      "text/plain": [
       "'Rohit'"
      ]
     },
     "execution_count": 1,
     "metadata": {},
     "output_type": "execute_result"
    }
   ],
   "source": [
    "x = \"rohit\"                  \n",
    "x.capitalize()"
   ]
  },
  {
   "cell_type": "code",
   "execution_count": 4,
   "id": "2c7276f3",
   "metadata": {},
   "outputs": [
    {
     "name": "stdout",
     "output_type": "stream",
     "text": [
      "78\n",
      "the no is even\n"
     ]
    }
   ],
   "source": [
    "# program to check wheather a number is even or odd\n",
    "a = int(input())\n",
    "if a%2==0:\n",
    "    print('the no is even')\n",
    "else:\n",
    "    print(\"the no is odd\")"
   ]
  },
  {
   "cell_type": "code",
   "execution_count": 3,
   "id": "da1bfe20",
   "metadata": {},
   "outputs": [
    {
     "ename": "SyntaxError",
     "evalue": "invalid syntax (2992850308.py, line 2)",
     "output_type": "error",
     "traceback": [
      "\u001b[1;36m  Cell \u001b[1;32mIn[3], line 2\u001b[1;36m\u001b[0m\n\u001b[1;33m    if x == range(1, ,2):\u001b[0m\n\u001b[1;37m                     ^\u001b[0m\n\u001b[1;31mSyntaxError\u001b[0m\u001b[1;31m:\u001b[0m invalid syntax\n"
     ]
    }
   ],
   "source": [
    "x = int(input(\"odd\",\"even\"))\n",
    "if x == range(1, ,2):\n",
    "    print(\"x is odd\"x)\n",
    "else x ==range(1, ,1):\n",
    "    print(\"x is even\"x)\n"
   ]
  },
  {
   "cell_type": "code",
   "execution_count": 3,
   "id": "42691ee4",
   "metadata": {},
   "outputs": [
    {
     "name": "stdout",
     "output_type": "stream",
     "text": [
      "2\n",
      "it is a pallindrom\n"
     ]
    }
   ],
   "source": [
    "a = input()\n",
    "if a==a[::-1]:\n",
    "    print(\"it is a pallindrom\")\n",
    "else:\n",
    "    print(\"it is not pallindrom\")"
   ]
  },
  {
   "cell_type": "code",
   "execution_count": 1,
   "id": "662f2070",
   "metadata": {},
   "outputs": [
    {
     "name": "stdout",
     "output_type": "stream",
     "text": [
      "131\n",
      "it is a pallindrom\n"
     ]
    }
   ],
   "source": [
    "a = input()\n",
    "if a[::]==a[::-1]:\n",
    "    print(\"it is a pallindrom\")\n",
    "else:\n",
    "    print(\"it is not pallindrom\")"
   ]
  },
  {
   "cell_type": "code",
   "execution_count": 11,
   "id": "2b06ac43",
   "metadata": {},
   "outputs": [
    {
     "data": {
      "text/plain": [
       "'sparsh'"
      ]
     },
     "execution_count": 11,
     "metadata": {},
     "output_type": "execute_result"
    }
   ],
   "source": [
    "a[::]"
   ]
  },
  {
   "cell_type": "code",
   "execution_count": 12,
   "id": "e2624e39",
   "metadata": {},
   "outputs": [
    {
     "data": {
      "text/plain": [
       "'hsraps'"
      ]
     },
     "execution_count": 12,
     "metadata": {},
     "output_type": "execute_result"
    }
   ],
   "source": [
    "a[::-1]"
   ]
  },
  {
   "cell_type": "code",
   "execution_count": null,
   "id": "10cb68d3",
   "metadata": {},
   "outputs": [],
   "source": [
    "# Make a table with input method."
   ]
  },
  {
   "cell_type": "code",
   "execution_count": 8,
   "id": "184be3ce",
   "metadata": {},
   "outputs": [
    {
     "name": "stdout",
     "output_type": "stream",
     "text": [
      "9\n",
      "18\n",
      "27\n",
      "36\n",
      "45\n",
      "54\n",
      "63\n",
      "72\n",
      "81\n",
      "90\n"
     ]
    }
   ],
   "source": [
    "a =int(input())\n",
    "print(a*2)\n",
    "print(a*3)\n",
    "print(a*4)\n",
    "print(a*5)\n",
    "print(a*6)\n",
    "print(a*7)\n",
    "print(a*8)\n",
    "print(a*9)\n",
    "print(a*10)"
   ]
  },
  {
   "cell_type": "code",
   "execution_count": 6,
   "id": "307d37f8",
   "metadata": {},
   "outputs": [
    {
     "name": "stdout",
     "output_type": "stream",
     "text": [
      "First value:5\n",
      "Second value:10\n",
      "Operation +,-,*,/:/\n",
      "5 / 10 = 0.5\n"
     ]
    }
   ],
   "source": [
    "# build a calculator in python\n",
    "\n",
    "e = int(input(\"First value:\"))\n",
    "y = int(input(\"Second value:\"))\n",
    "u = input(\"Operation +,-,*,/:\")\n",
    "\n",
    "if u==\"+\":\n",
    "    print(e,\"+\",y,\"=\",e+y)\n",
    "elif u==\"-\":\n",
    "    print(e,\"-\",y,\"=\",e-y)\n",
    "elif u==\"*\":\n",
    "    print(e,\"*\",y,\"=\",e*y)\n",
    "elif u==\"/\":\n",
    "    print(e,\"/\",y,\"=\",e/y)\n",
    "else:\n",
    "    print(\"end\")    "
   ]
  },
  {
   "cell_type": "code",
   "execution_count": 6,
   "id": "c60e9c9b",
   "metadata": {},
   "outputs": [
    {
     "name": "stdout",
     "output_type": "stream",
     "text": [
      "range(1, 20) is even\n",
      "range(1, 20) is even\n",
      "range(1, 20) is even\n",
      "range(1, 20) is even\n",
      "range(1, 20) is even\n",
      "range(1, 20) is even\n",
      "range(1, 20) is even\n",
      "range(1, 20) is even\n",
      "range(1, 20) is even\n"
     ]
    }
   ],
   "source": [
    "\n",
    "for i in range(1,20):\n",
    "    if i%2==0:\n",
    "        print(w,\"is even\")\n"
   ]
  },
  {
   "cell_type": "code",
   "execution_count": 2,
   "id": "d394b0e7",
   "metadata": {},
   "outputs": [
    {
     "name": "stdout",
     "output_type": "stream",
     "text": [
      "{1: 'Rohit', 2: 'Parth', 3: 'Ronak', 4: 'Pushpendra', 5: 'Gaurav', 6: 'Nitin', 7: 'Arjun', 8: 'Sanchit', 9: 'Sparsh', 10: 'Mukesh', 11: 'Sachin'}\n",
      "Students11\n"
     ]
    },
    {
     "data": {
      "text/plain": [
       "'Sachin'"
      ]
     },
     "execution_count": 2,
     "metadata": {},
     "output_type": "execute_result"
    }
   ],
   "source": [
    "Students = {1:\"Rohit\",2:\"Parth\",3:\"Ronak\",4:\"Pushpendra\",5:\"Gaurav\",6:\"Nitin\",7:\"Arjun\",8:\"Sanchit\",9:\"Sparsh\",10:\"Mukesh\"}\n",
    "Students.update({11:\"Sachin\"})\n",
    "print(Students)\n",
    "\n",
    "x = int(input(\"Students\"))\n",
    "\n",
    "Students[x]"
   ]
  },
  {
   "cell_type": "code",
   "execution_count": 20,
   "id": "a8083b8d",
   "metadata": {},
   "outputs": [
    {
     "name": "stdout",
     "output_type": "stream",
     "text": [
      "{1: 'Rohit', 2: 'Parth', 3: 'Ronak', 4: 'Pushpendra', 5: 'Gaurav', 6: 'Nitin', 7: 'Arjun', 8: 'Sanchit', 9: 'Sparsh', 10: 'Mukesh', 11: 'Sachin'}\n"
     ]
    }
   ],
   "source": [
    "Students = {1:\"Rohit\",2:\"Parth\",3:\"Ronak\",4:\"Pushpendra\",5:\"Gaurav\",6:\"Nitin\",7:\"Arjun\",8:\"Sanchit\",9:\"Sparsh\",10:\"Mukesh\"}\n",
    "Students.update({11:\"Sachin\"})\n",
    "\n",
    "\n",
    "print(Students)"
   ]
  },
  {
   "cell_type": "code",
   "execution_count": 17,
   "id": "007af561",
   "metadata": {},
   "outputs": [
    {
     "name": "stdout",
     "output_type": "stream",
     "text": [
      "The key with value 2 is '({'a': 1, 'b': 2, 'c': 3, 'd': 2}, 2)'.\n"
     ]
    }
   ],
   "source": [
    "r = {'a': 1, 'b': 2, 'c': 3, 'd': 2}\n",
    "value = 2\n",
    "key = (r,value)\n",
    "\n",
    "if key is not None:\n",
    "    print(f\"The key with value {desired_value} is '{key}'.\")\n",
    "else:\n",
    "    print(f\"No key found with value {desired_value}.\")\n"
   ]
  },
  {
   "cell_type": "code",
   "execution_count": null,
   "id": "d87ef106",
   "metadata": {},
   "outputs": [],
   "source": [
    "x = input()\n",
    "if x==8:\n",
    "    print(\"x is \")\n",
    "    "
   ]
  },
  {
   "cell_type": "code",
   "execution_count": null,
   "id": "a2e5ac59",
   "metadata": {},
   "outputs": [],
   "source": [
    "x = 10\n",
    "if x==8:\n",
    "    print(\"x is \", x)\n",
    "else    "
   ]
  },
  {
   "cell_type": "code",
   "execution_count": 1,
   "id": "9ddbc333",
   "metadata": {},
   "outputs": [
    {
     "data": {
      "text/plain": [
       "list"
      ]
     },
     "execution_count": 1,
     "metadata": {},
     "output_type": "execute_result"
    }
   ],
   "source": [
    "x = [1,2,3,4]\n",
    "type(x)"
   ]
  },
  {
   "cell_type": "code",
   "execution_count": 2,
   "id": "d93b4bee",
   "metadata": {},
   "outputs": [
    {
     "data": {
      "text/plain": [
       "int"
      ]
     },
     "execution_count": 2,
     "metadata": {},
     "output_type": "execute_result"
    }
   ],
   "source": [
    "c  = 45\n",
    "type(c)"
   ]
  },
  {
   "cell_type": "code",
   "execution_count": null,
   "id": "45db89ea",
   "metadata": {},
   "outputs": [],
   "source": []
  }
 ],
 "metadata": {
  "kernelspec": {
   "display_name": "Python 3 (ipykernel)",
   "language": "python",
   "name": "python3"
  },
  "language_info": {
   "codemirror_mode": {
    "name": "ipython",
    "version": 3
   },
   "file_extension": ".py",
   "mimetype": "text/x-python",
   "name": "python",
   "nbconvert_exporter": "python",
   "pygments_lexer": "ipython3",
   "version": "3.10.9"
  }
 },
 "nbformat": 4,
 "nbformat_minor": 5
}
