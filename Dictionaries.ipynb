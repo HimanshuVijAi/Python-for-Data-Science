{
 "cells": [
  {
   "cell_type": "markdown",
   "id": "1425deda",
   "metadata": {},
   "source": [
    "# Dictionaries"
   ]
  },
  {
   "cell_type": "markdown",
   "id": "05c4a2f7",
   "metadata": {},
   "source": [
    "Dictionaries are ordered collection of unique items stored in (key-value)pairs.\n",
    "the pairs of key values is 1 item"
   ]
  },
  {
   "cell_type": "markdown",
   "id": "56752ac6",
   "metadata": {},
   "source": [
    "##### Ordered:Dictionaries are ordered ,which means that the items have a defined order,and that order will not change.\n",
    "##### unique:The keys in dictionaries should be unique,if we store any value with a key that already exists.\n",
    "##### Keys must be immutable data types.\n",
    "##### Mutable"
   ]
  },
  {
   "cell_type": "raw",
   "id": "5a9b857d",
   "metadata": {},
   "source": [
    "x = {\"apple\":12,\"banana\":34}\n",
    "x"
   ]
  },
  {
   "cell_type": "code",
   "execution_count": 2,
   "id": "31a142cf",
   "metadata": {},
   "outputs": [
    {
     "name": "stdout",
     "output_type": "stream",
     "text": [
      "{'apple': 45, 56: True, 'tuple': (1, 2, 3)}\n"
     ]
    }
   ],
   "source": [
    "x = {\"apple\":45,56:True,\"tuple\":(1,2,3)}\n",
    "print(x)"
   ]
  },
  {
   "cell_type": "code",
   "execution_count": null,
   "id": "098d3137",
   "metadata": {},
   "outputs": [],
   "source": [
    "x = {\"apple\":45}"
   ]
  },
  {
   "cell_type": "code",
   "execution_count": 2,
   "id": "216ce46a",
   "metadata": {},
   "outputs": [
    {
     "name": "stdout",
     "output_type": "stream",
     "text": [
      "{8171: 'gagan', 9231: 'suresh'}\n"
     ]
    }
   ],
   "source": [
    "x = {8171:\"Himanshu\",9231:\"suresh\",8171:\"gagan\"}\n",
    "print(x)"
   ]
  },
  {
   "cell_type": "code",
   "execution_count": 6,
   "id": "f8cc8ba2",
   "metadata": {},
   "outputs": [
    {
     "name": "stdout",
     "output_type": "stream",
     "text": [
      "{1, 2, 3, 4, 5, 6}\n",
      "{1, 4, 5, 6}\n"
     ]
    }
   ],
   "source": [
    "x = {2,3,1,4}\n",
    "y = {1,4,5,6}\n",
    "\n",
    "x.update(y)\n",
    "print(x)\n",
    "\n",
    "print(y)"
   ]
  },
  {
   "cell_type": "markdown",
   "id": "d109578c",
   "metadata": {},
   "source": [
    "# Accessing items in a dictionary"
   ]
  },
  {
   "cell_type": "code",
   "execution_count": 2,
   "id": "06b11343",
   "metadata": {},
   "outputs": [
    {
     "data": {
      "text/plain": [
       "'Washington'"
      ]
     },
     "execution_count": 2,
     "metadata": {},
     "output_type": "execute_result"
    }
   ],
   "source": [
    "a = {\"india\":\"New Delhi\",\"US\":\"Washington\"}\n",
    "a[\"US\"]"
   ]
  },
  {
   "cell_type": "code",
   "execution_count": 6,
   "id": "b3891499",
   "metadata": {},
   "outputs": [
    {
     "name": "stdout",
     "output_type": "stream",
     "text": [
      "dict_keys(['india', 'US'])\n",
      "dict_values(['New Delhi', 'Washington'])\n",
      "dict_items([('india', 'New Delhi'), ('US', 'Washington')])\n"
     ]
    }
   ],
   "source": [
    "# keys\n",
    "print(a.keys())\n",
    "\n",
    "\n",
    "# Values\n",
    "print(a.values())\n",
    "\n",
    "\n",
    "# items\n",
    "print(a.items())"
   ]
  },
  {
   "cell_type": "markdown",
   "id": "714c8784",
   "metadata": {},
   "source": [
    "# adding new items to a dictionary"
   ]
  },
  {
   "cell_type": "code",
   "execution_count": 7,
   "id": "075543a4",
   "metadata": {},
   "outputs": [
    {
     "name": "stdout",
     "output_type": "stream",
     "text": [
      "{'india': 'New Delhi', 'US': 'Washington'}\n"
     ]
    }
   ],
   "source": [
    "#  key-value assignment\n",
    "print(a)"
   ]
  },
  {
   "cell_type": "code",
   "execution_count": 11,
   "id": "b084c259",
   "metadata": {},
   "outputs": [
    {
     "data": {
      "text/plain": [
       "'New Delhi'"
      ]
     },
     "execution_count": 11,
     "metadata": {},
     "output_type": "execute_result"
    }
   ],
   "source": [
    "a[\"india\"]"
   ]
  },
  {
   "cell_type": "code",
   "execution_count": 12,
   "id": "7b39cc2b",
   "metadata": {},
   "outputs": [
    {
     "name": "stdout",
     "output_type": "stream",
     "text": [
      "{'india': 'New Delhi', 'US': 'Washington', 'Pakistan': 'Islamabad'}\n"
     ]
    }
   ],
   "source": [
    "a[\"Pakistan\"] = \"Islamabad\"\n",
    "print(a)"
   ]
  },
  {
   "cell_type": "code",
   "execution_count": 14,
   "id": "789843a0",
   "metadata": {},
   "outputs": [
    {
     "name": "stdout",
     "output_type": "stream",
     "text": [
      "{'india': 'New Delhi', 'US': 'Washington', 'Pakistan': 'Islamabad', 'England': 'London'}\n"
     ]
    }
   ],
   "source": [
    "# .update\n",
    "a.update({\"England\":\"London\"})\n",
    "print(a)"
   ]
  },
  {
   "cell_type": "markdown",
   "id": "11ba3415",
   "metadata": {},
   "source": [
    "# Removing items from a dictionary"
   ]
  },
  {
   "cell_type": "code",
   "execution_count": 25,
   "id": "015d8369",
   "metadata": {},
   "outputs": [],
   "source": [
    "# .popitem() - Returns and Remove the last inserted item from the dictionary\n",
    "a = {\"india\": \"New Delhi\", \"US\": \"Washington\", \"Pakistan\": \"Islamabad\", \"England\": \"London'\"}\n",
    "x = a.popitem()"
   ]
  },
  {
   "cell_type": "code",
   "execution_count": 26,
   "id": "00248f3f",
   "metadata": {},
   "outputs": [
    {
     "name": "stdout",
     "output_type": "stream",
     "text": [
      "{'india': 'New Delhi', 'US': 'Washington', 'Pakistan': 'Islamabad'}\n",
      "('England', \"London'\")\n"
     ]
    }
   ],
   "source": [
    "print(a)\n",
    "print(x)"
   ]
  },
  {
   "cell_type": "code",
   "execution_count": 27,
   "id": "b56d8cf4",
   "metadata": {},
   "outputs": [
    {
     "data": {
      "text/plain": [
       "'Washington'"
      ]
     },
     "execution_count": 27,
     "metadata": {},
     "output_type": "execute_result"
    }
   ],
   "source": [
    "# .pop() - Removes the item with the key and return its value.\n",
    "a.pop(\"US\")"
   ]
  },
  {
   "cell_type": "code",
   "execution_count": 28,
   "id": "9fcf63c5",
   "metadata": {},
   "outputs": [
    {
     "data": {
      "text/plain": [
       "{'india': 'New Delhi', 'Pakistan': 'Islamabad'}"
      ]
     },
     "execution_count": 28,
     "metadata": {},
     "output_type": "execute_result"
    }
   ],
   "source": [
    "a"
   ]
  },
  {
   "cell_type": "code",
   "execution_count": 29,
   "id": "75eea673",
   "metadata": {},
   "outputs": [
    {
     "data": {
      "text/plain": [
       "{'india': 'New Delhi', 'Pakistan': 'Islamabad'}"
      ]
     },
     "execution_count": 29,
     "metadata": {},
     "output_type": "execute_result"
    }
   ],
   "source": [
    "# del\n",
    "a"
   ]
  },
  {
   "cell_type": "code",
   "execution_count": 30,
   "id": "ca119338",
   "metadata": {},
   "outputs": [
    {
     "name": "stdout",
     "output_type": "stream",
     "text": [
      "{'india': 'New Delhi'}\n"
     ]
    }
   ],
   "source": [
    "del a['Pakistan']\n",
    "print(a)"
   ]
  },
  {
   "cell_type": "code",
   "execution_count": 1,
   "id": "7af74c2e",
   "metadata": {
    "scrolled": true
   },
   "outputs": [
    {
     "ename": "SyntaxError",
     "evalue": "':' expected after dictionary key (2292114419.py, line 1)",
     "output_type": "error",
     "traceback": [
      "\u001b[1;36m  Cell \u001b[1;32mIn[1], line 1\u001b[1;36m\u001b[0m\n\u001b[1;33m    o = {\"india\": \"New Delhi\", \"US\": \"Washington\", \"Pakistan\": \"Islamabad\", \"England\":\"London\",{\"England\":\"europe\"}}\u001b[0m\n\u001b[1;37m                                                                                                                  ^\u001b[0m\n\u001b[1;31mSyntaxError\u001b[0m\u001b[1;31m:\u001b[0m ':' expected after dictionary key\n"
     ]
    }
   ],
   "source": [
    "o = {\"india\": \"New Delhi\", \"US\": \"Washington\", \"Pakistan\": \"Islamabad\", \"England\":\"London\",{\"England\":\"europe\"}}\n",
    "o"
   ]
  },
  {
   "cell_type": "code",
   "execution_count": null,
   "id": "3b4b951c",
   "metadata": {},
   "outputs": [],
   "source": []
  },
  {
   "cell_type": "code",
   "execution_count": null,
   "id": "4c5ac3b6",
   "metadata": {},
   "outputs": [],
   "source": []
  }
 ],
 "metadata": {
  "kernelspec": {
   "display_name": "Python 3 (ipykernel)",
   "language": "python",
   "name": "python3"
  },
  "language_info": {
   "codemirror_mode": {
    "name": "ipython",
    "version": 3
   },
   "file_extension": ".py",
   "mimetype": "text/x-python",
   "name": "python",
   "nbconvert_exporter": "python",
   "pygments_lexer": "ipython3",
   "version": "3.10.9"
  }
 },
 "nbformat": 4,
 "nbformat_minor": 5
}
