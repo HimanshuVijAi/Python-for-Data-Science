{
 "cells": [
  {
   "cell_type": "markdown",
   "id": "e299cab5",
   "metadata": {},
   "source": [
    "<font size=10> Inheritance."
   ]
  },
  {
   "cell_type": "markdown",
   "id": "bfac506b",
   "metadata": {},
   "source": [
    "Process of inheriting the properties of the parent class into a child class is called inheritance."
   ]
  },
  {
   "cell_type": "markdown",
   "id": "2008da33",
   "metadata": {},
   "source": [
    "The child class acquires all the attributes and methods from the parent class,Also a child class can provide its specific implementation to the method of the parent class."
   ]
  },
  {
   "cell_type": "code",
   "execution_count": 1,
   "id": "85e7de5f",
   "metadata": {},
   "outputs": [],
   "source": [
    "class Parentclass:\n",
    "    pass\n",
    "class childclass(Parentclass):\n",
    "    pass"
   ]
  },
  {
   "cell_type": "code",
   "execution_count": null,
   "id": "94fce230",
   "metadata": {},
   "outputs": [],
   "source": [
    "# example."
   ]
  },
  {
   "cell_type": "code",
   "execution_count": 17,
   "id": "3f99867d",
   "metadata": {},
   "outputs": [],
   "source": [
    "class Employee:\n",
    "    def __init__(self,name,age,gender,id,salary):\n",
    "        self.name = name\n",
    "        self.age = age\n",
    "        self.gender = gender\n",
    "        self.id = id\n",
    "        self.salary = salary\n",
    "    \n",
    "class Programmer(Employee):\n",
    "    def set_prog_lang(self,prog_lang):\n",
    "        self.prog_lang = prog_lang\n",
    "    \n",
    "class Manager(Programmer):\n",
    "    def set_domain(self,domain):\n",
    "        self.domain = domain"
   ]
  },
  {
   "cell_type": "code",
   "execution_count": 18,
   "id": "2791dd21",
   "metadata": {},
   "outputs": [],
   "source": [
    "prog1 = Programmer(\"XYZ\",12,\"Male\",1244,45000)"
   ]
  },
  {
   "cell_type": "code",
   "execution_count": 19,
   "id": "17036e79",
   "metadata": {},
   "outputs": [
    {
     "data": {
      "text/plain": [
       "12"
      ]
     },
     "execution_count": 19,
     "metadata": {},
     "output_type": "execute_result"
    }
   ],
   "source": [
    "prog1.age"
   ]
  },
  {
   "cell_type": "code",
   "execution_count": 20,
   "id": "8a814267",
   "metadata": {},
   "outputs": [],
   "source": [
    "mang1 = Manager(\"ABC\",34,\"Male\",8956,56734)"
   ]
  },
  {
   "cell_type": "code",
   "execution_count": 21,
   "id": "bd3cfb88",
   "metadata": {},
   "outputs": [
    {
     "data": {
      "text/plain": [
       "8956"
      ]
     },
     "execution_count": 21,
     "metadata": {},
     "output_type": "execute_result"
    }
   ],
   "source": [
    "mang1.id"
   ]
  },
  {
   "cell_type": "code",
   "execution_count": 22,
   "id": "50a40ccd",
   "metadata": {},
   "outputs": [
    {
     "ename": "AttributeError",
     "evalue": "'Programmer' object has no attribute 'prog_lang'",
     "output_type": "error",
     "traceback": [
      "\u001b[1;31m---------------------------------------------------------------------------\u001b[0m",
      "\u001b[1;31mAttributeError\u001b[0m                            Traceback (most recent call last)",
      "Cell \u001b[1;32mIn[22], line 1\u001b[0m\n\u001b[1;32m----> 1\u001b[0m \u001b[43mprog1\u001b[49m\u001b[38;5;241;43m.\u001b[39;49m\u001b[43mprog_lang\u001b[49m\n",
      "\u001b[1;31mAttributeError\u001b[0m: 'Programmer' object has no attribute 'prog_lang'"
     ]
    }
   ],
   "source": [
    "prog1.prog_lang"
   ]
  },
  {
   "cell_type": "markdown",
   "id": "771d3125",
   "metadata": {},
   "source": [
    "## Types of inheritance."
   ]
  },
  {
   "cell_type": "markdown",
   "id": "c1dff23b",
   "metadata": {},
   "source": [
    "- Single inheritance.\n",
    "- Multiple inheritance.\n",
    "- Multilevel Inheritance.\n",
    "- Hierarical Inheritance.\n",
    "- Hybrid inheritance."
   ]
  },
  {
   "cell_type": "markdown",
   "id": "74511c3b",
   "metadata": {},
   "source": [
    "# Single \n"
   ]
  },
  {
   "cell_type": "code",
   "execution_count": 1,
   "id": "faf029ee",
   "metadata": {},
   "outputs": [
    {
     "name": "stdout",
     "output_type": "stream",
     "text": [
      "Inside vehicle class\n",
      "Inside car class\n"
     ]
    }
   ],
   "source": [
    "# Parent class\n",
    "class vehicle:\n",
    "    \n",
    "    def vehicle_info(self):\n",
    "        print(\"Inside vehicle class\")\n",
    "    \n",
    "# child class\n",
    "class Car(vehicle):\n",
    "    \n",
    "    def car_info(self):\n",
    "        print(\"Inside car class\")\n",
    "        \n",
    "car = Car()\n",
    "car.vehicle_info()\n",
    "car.car_info()"
   ]
  },
  {
   "cell_type": "code",
   "execution_count": null,
   "id": "a51d6090",
   "metadata": {},
   "outputs": [],
   "source": [
    "# Question - Can the parent class object access the child class attributes and methods?"
   ]
  },
  {
   "cell_type": "code",
   "execution_count": 2,
   "id": "f396babc",
   "metadata": {},
   "outputs": [
    {
     "name": "stdout",
     "output_type": "stream",
     "text": [
      "Inside vehicle class\n"
     ]
    },
    {
     "ename": "AttributeError",
     "evalue": "'vehicle' object has no attribute 'car_info'",
     "output_type": "error",
     "traceback": [
      "\u001b[1;31m---------------------------------------------------------------------------\u001b[0m",
      "\u001b[1;31mAttributeError\u001b[0m                            Traceback (most recent call last)",
      "Cell \u001b[1;32mIn[2], line 3\u001b[0m\n\u001b[0;32m      1\u001b[0m u \u001b[38;5;241m=\u001b[39m vehicle()\n\u001b[0;32m      2\u001b[0m u\u001b[38;5;241m.\u001b[39mvehicle_info()\n\u001b[1;32m----> 3\u001b[0m \u001b[43mu\u001b[49m\u001b[38;5;241;43m.\u001b[39;49m\u001b[43mcar_info\u001b[49m()\n",
      "\u001b[1;31mAttributeError\u001b[0m: 'vehicle' object has no attribute 'car_info'"
     ]
    }
   ],
   "source": [
    "u = vehicle()\n",
    "u.vehicle_info()\n",
    "u.car_info()"
   ]
  },
  {
   "cell_type": "code",
   "execution_count": 14,
   "id": "831cb7df",
   "metadata": {},
   "outputs": [
    {
     "name": "stdout",
     "output_type": "stream",
     "text": [
      "Mercedes Benz\n"
     ]
    },
    {
     "data": {
      "text/plain": [
       "'Mercedes Benz'"
      ]
     },
     "execution_count": 14,
     "metadata": {},
     "output_type": "execute_result"
    }
   ],
   "source": [
    "# parent class\n",
    "class vehicle:\n",
    "    \n",
    "    def __init__(self):\n",
    "        self.brand = \"Mercedes Benz\"\n",
    "        print(self.brand)\n",
    "        \n",
    "    def vehicle_info(self):\n",
    "        print(\"Inside Vehicle class\")\n",
    "        \n",
    "# child class \n",
    "class Car(vehicle):\n",
    "    \n",
    "    def car_info(self):\n",
    "        print(\"Inside Car class\")\n",
    "        \n",
    "c1 = Car()\n",
    "c1.brand"
   ]
  },
  {
   "cell_type": "code",
   "execution_count": null,
   "id": "8749b857",
   "metadata": {},
   "outputs": [],
   "source": [
    "# Question - Make constructor both in parent and child classes.\n",
    "# create an object of the child class.\n",
    "# Do both the constructors run?"
   ]
  },
  {
   "cell_type": "code",
   "execution_count": 15,
   "id": "857883ce",
   "metadata": {},
   "outputs": [
    {
     "name": "stdout",
     "output_type": "stream",
     "text": [
      "Mercedes M3\n"
     ]
    },
    {
     "ename": "AttributeError",
     "evalue": "'Car' object has no attribute 'brand'",
     "output_type": "error",
     "traceback": [
      "\u001b[1;31m---------------------------------------------------------------------------\u001b[0m",
      "\u001b[1;31mAttributeError\u001b[0m                            Traceback (most recent call last)",
      "Cell \u001b[1;32mIn[15], line 22\u001b[0m\n\u001b[0;32m     19\u001b[0m         \u001b[38;5;28mprint\u001b[39m(\u001b[38;5;124m\"\u001b[39m\u001b[38;5;124mInside Car class\u001b[39m\u001b[38;5;124m\"\u001b[39m)\n\u001b[0;32m     21\u001b[0m c1 \u001b[38;5;241m=\u001b[39m Car()\n\u001b[1;32m---> 22\u001b[0m \u001b[43mc1\u001b[49m\u001b[38;5;241;43m.\u001b[39;49m\u001b[43mbrand\u001b[49m\n",
      "\u001b[1;31mAttributeError\u001b[0m: 'Car' object has no attribute 'brand'"
     ]
    }
   ],
   "source": [
    "# parent class\n",
    "class vehicle:\n",
    "    \n",
    "    def __init__(self):\n",
    "        self.brand = \"Mercedes Benz\"\n",
    "        print(self.brand)\n",
    "        \n",
    "    def vehicle_info(self):\n",
    "        print(\"Inside Vehicle class\")\n",
    "        \n",
    "# child class \n",
    "class Car(vehicle):\n",
    "    \n",
    "    def __init__(self):\n",
    "        self.model = \"Mercedes M3\"\n",
    "        print(self.model)\n",
    "    \n",
    "    def car_info(self):\n",
    "        print(\"Inside Car class\")\n",
    "        \n",
    "c1 = Car()\n",
    "c1.brand"
   ]
  },
  {
   "cell_type": "markdown",
   "id": "160b03ad",
   "metadata": {},
   "source": [
    "# Multilevel."
   ]
  },
  {
   "cell_type": "code",
   "execution_count": 16,
   "id": "44c28197",
   "metadata": {},
   "outputs": [
    {
     "name": "stdout",
     "output_type": "stream",
     "text": [
      "BMW\n",
      "Inside Vehicle class\n",
      "Inside Car class\n",
      "Inside bike class\n"
     ]
    }
   ],
   "source": [
    "# parent class\n",
    "class vehicle:\n",
    "            \n",
    "    def __init__(self):\n",
    "        self.brand = \"BMW\"\n",
    "        print(self.brand)\n",
    "        \n",
    "    def vehicle_info(self):\n",
    "        print(\"Inside Vehicle class\")\n",
    "        \n",
    "# child class \n",
    "class Car(vehicle):\n",
    "    \n",
    "    def car_info(self):\n",
    "        print(\"Inside Car class\")\n",
    "\n",
    "# child class\n",
    "class bike(Car):\n",
    "    \n",
    "    def bike_info(self):\n",
    "        print(\"Inside bike class\")\n",
    "        \n",
    "# Create object of bike.        \n",
    "c1 = bike()\n",
    "\n",
    "# access vehicle's and Car info using bike object.\n",
    "c1.vehicle_info()\n",
    "c1.car_info()\n",
    "c1.bike_info()"
   ]
  },
  {
   "cell_type": "markdown",
   "id": "660df058",
   "metadata": {},
   "source": [
    "# Hierarical"
   ]
  },
  {
   "cell_type": "code",
   "execution_count": 35,
   "id": "ef4b041b",
   "metadata": {},
   "outputs": [
    {
     "name": "stdout",
     "output_type": "stream",
     "text": [
      "BMW\n",
      "Inside Vehicle class\n",
      "BMW\n",
      "Inside Vehicle class\n"
     ]
    }
   ],
   "source": [
    "# parent class\n",
    "class vehicle:\n",
    "            \n",
    "    def __init__(self):\n",
    "        self.brand = \"BMW\"\n",
    "        print(self.brand)\n",
    "        \n",
    "    def vehicle_info(self):\n",
    "        print(\"Inside Vehicle class\")\n",
    "        \n",
    "# child class \n",
    "class Car(vehicle):\n",
    "    \n",
    "    def car_info(self):\n",
    "        print(\"Inside Car class\")\n",
    "\n",
    "# child class\n",
    "class bike(vehicle):\n",
    "    \n",
    "    def bike_info(self):\n",
    "        print(\"Inside bike class\")\n",
    "              \n",
    "c1 = bike()\n",
    "c1.vehicle_info()\n",
    "\n",
    "c2 = Car()\n",
    "c2.vehicle_info()"
   ]
  },
  {
   "cell_type": "markdown",
   "id": "5f04594b",
   "metadata": {},
   "source": [
    "# Multiple."
   ]
  },
  {
   "cell_type": "code",
   "execution_count": 2,
   "id": "77e3e29f",
   "metadata": {},
   "outputs": [
    {
     "name": "stdout",
     "output_type": "stream",
     "text": [
      "BMW\n",
      "Inside Vehicle class\n",
      "BMW\n",
      "Inside Vehicle class\n"
     ]
    }
   ],
   "source": [
    "# parent class 1\n",
    "class vehicle:\n",
    "            \n",
    "    def __init__(self):\n",
    "        self.brand = \"BMW\"\n",
    "        print(self.brand)\n",
    "        \n",
    "    def vehicle_info(self):\n",
    "        print(\"Inside Vehicle class\")\n",
    "        \n",
    "# child class \n",
    "class Car(vehicle):\n",
    "    \n",
    "    def car_info(self):\n",
    "        print(\"Inside Car class\")\n",
    "\n",
    "# child class\n",
    "class bike(vehicle):\n",
    "    \n",
    "    def bike_info(self):\n",
    "        print(\"Inside bike class\")\n",
    "              \n",
    "c1 = bike()\n",
    "c1.vehicle_info()\n",
    "\n",
    "c2 = Car()\n",
    "c2.vehicle_info()"
   ]
  },
  {
   "cell_type": "markdown",
   "id": "64fdac6a",
   "metadata": {},
   "source": [
    "# Hybrid."
   ]
  },
  {
   "cell_type": "code",
   "execution_count": 11,
   "id": "74999c03",
   "metadata": {},
   "outputs": [],
   "source": [
    "# parent class 1.                    \n",
    "class vehicle:\n",
    "        \n",
    "    def vehicle_info(self):\n",
    "        print(\"Inside Vehicle class\")\n",
    "        \n",
    "# child class 1.                                           # Hierarical inheritance as well as Multilevel inheritance.\n",
    "class Car(vehicle):\n",
    "    \n",
    "    def car_info(self):\n",
    "        print(\"Inside Car class\")\n",
    "\n",
    "# child class 2.                                           # Hierarical inheritance.\n",
    "class bike(vehicle):\n",
    "    \n",
    "    def bike_info(self):\n",
    "        print(\"Inside bike class\")\n",
    "        \n",
    "# child class 3.                                           # Hierarical inheritance.\n",
    "class Scooty(vehicle):\n",
    "    \n",
    "    def scooty_info(self):\n",
    "        print(\"Inside scooty class\")\n",
    "        \n",
    "# child class 4.                                           # multilevel inheritance. \n",
    "class Truck(Car):\n",
    "    \n",
    "    def Truck_info(self):\n",
    "        print(\"Inside Truck class\") \n",
    "        \n",
    "# child class 5.                                           # multilevel inheritance.\n",
    "class van(Truck):\n",
    "    \n",
    "    def van_info(self):\n",
    "        print(\"Inside van class\")                "
   ]
  },
  {
   "cell_type": "code",
   "execution_count": 15,
   "id": "61bd407f",
   "metadata": {},
   "outputs": [
    {
     "name": "stdout",
     "output_type": "stream",
     "text": [
      "Inside Vehicle class\n",
      "Inside Vehicle class\n",
      "Inside Vehicle class\n",
      "Inside Car class\n",
      "Inside Vehicle class\n"
     ]
    }
   ],
   "source": [
    "c1 = Car()\n",
    "c1.vehicle_info()\n",
    "\n",
    "c2 = bike()\n",
    "c2.vehicle_info()\n",
    "\n",
    "c3 = Scooty()\n",
    "c3.vehicle_info()\n",
    "\n",
    "c4 = Truck()\n",
    "c4.car_info()\n",
    "\n",
    "c5 = van()\n",
    "c5.vehicle_info()"
   ]
  },
  {
   "cell_type": "markdown",
   "id": "660aefc0",
   "metadata": {},
   "source": [
    "# Super()"
   ]
  },
  {
   "cell_type": "markdown",
   "id": "5872befa",
   "metadata": {},
   "source": [
    "The super() function is used to refer to the parent class."
   ]
  },
  {
   "cell_type": "code",
   "execution_count": 1,
   "id": "ee77e293",
   "metadata": {},
   "outputs": [
    {
     "name": "stdout",
     "output_type": "stream",
     "text": [
      "This is Tech Dept\n",
      "This is a Programmer\n"
     ]
    }
   ],
   "source": [
    "class Tech_Dept:\n",
    "    def descrip(self):\n",
    "        print(\"This is Tech Dept\")\n",
    "        \n",
    "class Programmer(Tech_Dept):\n",
    "    def descrip(self):\n",
    "        print(\"This is Tech Dept\")\n",
    "        print(\"This is a Programmer\")\n",
    " \n",
    "tech1 = Programmer()\n",
    "tech1.descrip()"
   ]
  },
  {
   "cell_type": "code",
   "execution_count": 2,
   "id": "3d36f03f",
   "metadata": {},
   "outputs": [
    {
     "name": "stdout",
     "output_type": "stream",
     "text": [
      "This is Tech Dept\n",
      "This is a Programmer\n"
     ]
    }
   ],
   "source": [
    "class Tech_Dept:\n",
    "    def descrip(self):\n",
    "        print(\"This is Tech Dept\")\n",
    "        \n",
    "class Programmer(Tech_Dept):\n",
    "    def descrip(self):\n",
    "        super().descrip()                 # try to write here self.descrip()\n",
    "        print(\"This is a Programmer\")\n",
    " \n",
    "tech1 = Programmer()\n",
    "tech1.descrip()"
   ]
  },
  {
   "cell_type": "code",
   "execution_count": null,
   "id": "ad90ea7d",
   "metadata": {},
   "outputs": [],
   "source": [
    "class Tech_Dept:\n",
    "    def descrip(self):\n",
    "        print(\"This is Tech Dept\")\n",
    "        \n",
    "class Programmer(Tech_Dept):\n",
    "    def descrip(self):\n",
    "        self.descrip()                 # try to write here self.descrip()\n",
    "        print(\"This is a Programmer\")\n",
    " \n",
    "tech1 = Programmer()\n",
    "tech1.descrip()"
   ]
  },
  {
   "cell_type": "code",
   "execution_count": null,
   "id": "d4722ee0",
   "metadata": {},
   "outputs": [],
   "source": [
    "# exercise - how to reduce this code using super()"
   ]
  },
  {
   "cell_type": "markdown",
   "id": "971c4a09",
   "metadata": {},
   "source": [
    "# Method Overriding."
   ]
  },
  {
   "cell_type": "markdown",
   "id": "023777d7",
   "metadata": {},
   "source": [
    "Method overriding is a powerful feature that allow you to redefined a method of the parent class in the child class.\n",
    "\n",
    "When a child class method has the same name,same parameters, and same return type as a method in its parent class,then the method in the child is said to be override the method in the parent class."
   ]
  },
  {
   "cell_type": "code",
   "execution_count": 3,
   "id": "26d69b84",
   "metadata": {},
   "outputs": [],
   "source": [
    "class Animal:\n",
    "    def show_name(self):\n",
    "        print(\"This is Animal Class\")\n",
    "        \n",
    "class Dog(Animal):\n",
    "    def show_name(self):\n",
    "        print(\"This is dog class\")"
   ]
  },
  {
   "cell_type": "code",
   "execution_count": 4,
   "id": "f7b5d999",
   "metadata": {},
   "outputs": [
    {
     "name": "stdout",
     "output_type": "stream",
     "text": [
      "This is dog class\n"
     ]
    }
   ],
   "source": [
    "dog1 = Dog()\n",
    "dog1.show_name()"
   ]
  },
  {
   "cell_type": "markdown",
   "id": "b0a6c074",
   "metadata": {},
   "source": [
    "# Method Resolution Order."
   ]
  },
  {
   "cell_type": "markdown",
   "id": "a543a058",
   "metadata": {},
   "source": [
    "It is the order in which methods are searched for an object. "
   ]
  },
  {
   "cell_type": "code",
   "execution_count": 1,
   "id": "a34aa426",
   "metadata": {},
   "outputs": [
    {
     "name": "stdout",
     "output_type": "stream",
     "text": [
      "In class C\n"
     ]
    }
   ],
   "source": [
    "class A:\n",
    "    def process(self):\n",
    "        print(\"In class A\")\n",
    "        \n",
    "class B(A):\n",
    "    def process(self):\n",
    "        print(\"In class B\")\n",
    "        \n",
    "class C(B,A):\n",
    "    def process(self):\n",
    "        print(\"In class C\")\n",
    "        \n",
    "        \n",
    "# creting objecg of C class \n",
    "c1 = C()\n",
    "c1.process()"
   ]
  },
  {
   "cell_type": "code",
   "execution_count": 4,
   "id": "8c646c59",
   "metadata": {},
   "outputs": [
    {
     "data": {
      "text/plain": [
       "(object,)"
      ]
     },
     "execution_count": 4,
     "metadata": {},
     "output_type": "execute_result"
    }
   ],
   "source": [
    "object.__mro__"
   ]
  },
  {
   "cell_type": "code",
   "execution_count": 3,
   "id": "dcc4093b",
   "metadata": {},
   "outputs": [
    {
     "ename": "TypeError",
     "evalue": "Cannot create a consistent method resolution\norder (MRO) for bases A, B",
     "output_type": "error",
     "traceback": [
      "\u001b[1;31m---------------------------------------------------------------------------\u001b[0m",
      "\u001b[1;31mTypeError\u001b[0m                                 Traceback (most recent call last)",
      "Cell \u001b[1;32mIn[3], line 9\u001b[0m\n\u001b[0;32m      6\u001b[0m     \u001b[38;5;28;01mdef\u001b[39;00m \u001b[38;5;21mprocess\u001b[39m(\u001b[38;5;28mself\u001b[39m):\n\u001b[0;32m      7\u001b[0m         \u001b[38;5;28mprint\u001b[39m(\u001b[38;5;124m\"\u001b[39m\u001b[38;5;124mIn class B\u001b[39m\u001b[38;5;124m\"\u001b[39m)\n\u001b[1;32m----> 9\u001b[0m \u001b[38;5;28;01mclass\u001b[39;00m \u001b[38;5;21;01mC\u001b[39;00m(A,B):\n\u001b[0;32m     10\u001b[0m     \u001b[38;5;28;01mdef\u001b[39;00m \u001b[38;5;21mprocess\u001b[39m(\u001b[38;5;28mself\u001b[39m):\n\u001b[0;32m     11\u001b[0m         \u001b[38;5;28mprint\u001b[39m(\u001b[38;5;124m\"\u001b[39m\u001b[38;5;124mIn class C\u001b[39m\u001b[38;5;124m\"\u001b[39m)\n",
      "\u001b[1;31mTypeError\u001b[0m: Cannot create a consistent method resolution\norder (MRO) for bases A, B"
     ]
    }
   ],
   "source": [
    "class A:\n",
    "    def process(self):\n",
    "        print(\"In class A\")\n",
    "        \n",
    "class B(A):\n",
    "    def process(self):\n",
    "        print(\"In class B\")\n",
    "        \n",
    "class C(A,B):\n",
    "    def process(self):\n",
    "        print(\"In class C\")\n",
    "        \n",
    "        \n",
    "# creting objecg of C class \n",
    "c1 = C()\n",
    "c1.process()"
   ]
  },
  {
   "cell_type": "code",
   "execution_count": null,
   "id": "2b21d6aa",
   "metadata": {},
   "outputs": [],
   "source": [
    "C.__mro__"
   ]
  },
  {
   "cell_type": "code",
   "execution_count": 16,
   "id": "d5f2d665",
   "metadata": {},
   "outputs": [
    {
     "name": "stdout",
     "output_type": "stream",
     "text": [
      "In class C\n"
     ]
    }
   ],
   "source": [
    "class A:\n",
    "    def process(self):\n",
    "        print(\"In class A\")\n",
    "        \n",
    "class B:\n",
    "    def process(self):\n",
    "        print(\"In class B\")\n",
    "        \n",
    "class C(A,B):\n",
    "    def process(self):\n",
    "        print(\"In class C\")\n",
    "        \n",
    "        \n",
    "# creting objecg of C class \n",
    "c1 = C()\n",
    "c1.process()\n"
   ]
  },
  {
   "cell_type": "code",
   "execution_count": 17,
   "id": "7b8e6e5b",
   "metadata": {},
   "outputs": [
    {
     "data": {
      "text/plain": [
       "(__main__.C, __main__.A, __main__.B, object)"
      ]
     },
     "execution_count": 17,
     "metadata": {},
     "output_type": "execute_result"
    }
   ],
   "source": [
    "C.__mro__"
   ]
  },
  {
   "cell_type": "code",
   "execution_count": 18,
   "id": "a69fe8a4",
   "metadata": {},
   "outputs": [
    {
     "data": {
      "text/plain": [
       "(__main__.A, object)"
      ]
     },
     "execution_count": 18,
     "metadata": {},
     "output_type": "execute_result"
    }
   ],
   "source": [
    "A.__mro__   # All object inherit the object class."
   ]
  },
  {
   "cell_type": "code",
   "execution_count": 8,
   "id": "88b03e8f",
   "metadata": {},
   "outputs": [
    {
     "name": "stdout",
     "output_type": "stream",
     "text": [
      "<class 'type'>\n"
     ]
    }
   ],
   "source": [
    "print(type(B))"
   ]
  },
  {
   "cell_type": "markdown",
   "id": "00d6d30a",
   "metadata": {},
   "source": [
    "1.parent class             2.Child class\n",
    "- Super class              - Sub class\n",
    "- Base class               - Derived class"
   ]
  },
  {
   "cell_type": "code",
   "execution_count": 13,
   "id": "08b266cc",
   "metadata": {},
   "outputs": [
    {
     "name": "stdout",
     "output_type": "stream",
     "text": [
      "<class 'function'>\n"
     ]
    }
   ],
   "source": [
    "class cycle():\n",
    "    pass\n",
    "def my_func(cycle):\n",
    "    pass\n",
    "print(type(my_func))"
   ]
  },
  {
   "cell_type": "code",
   "execution_count": null,
   "id": "0ee984b1",
   "metadata": {},
   "outputs": [],
   "source": []
  }
 ],
 "metadata": {
  "kernelspec": {
   "display_name": "Python 3 (ipykernel)",
   "language": "python",
   "name": "python3"
  },
  "language_info": {
   "codemirror_mode": {
    "name": "ipython",
    "version": 3
   },
   "file_extension": ".py",
   "mimetype": "text/x-python",
   "name": "python",
   "nbconvert_exporter": "python",
   "pygments_lexer": "ipython3",
   "version": "3.10.9"
  }
 },
 "nbformat": 4,
 "nbformat_minor": 5
}
