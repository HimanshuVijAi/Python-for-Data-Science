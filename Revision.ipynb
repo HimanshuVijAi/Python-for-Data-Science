{
 "cells": [
  {
   "cell_type": "code",
   "execution_count": 1,
   "id": "4276ef1b",
   "metadata": {},
   "outputs": [
    {
     "name": "stdout",
     "output_type": "stream",
     "text": [
      "123\n"
     ]
    }
   ],
   "source": [
    "print(123)"
   ]
  },
  {
   "cell_type": "code",
   "execution_count": 2,
   "id": "edb4dc21",
   "metadata": {},
   "outputs": [
    {
     "name": "stdout",
     "output_type": "stream",
     "text": [
      "abc\n"
     ]
    }
   ],
   "source": [
    "print(\"abc\")"
   ]
  },
  {
   "cell_type": "code",
   "execution_count": 3,
   "id": "052dd822",
   "metadata": {},
   "outputs": [
    {
     "name": "stdout",
     "output_type": "stream",
     "text": [
      "114\n"
     ]
    }
   ],
   "source": [
    "print(47+67)"
   ]
  },
  {
   "cell_type": "code",
   "execution_count": 4,
   "id": "3d53084a",
   "metadata": {},
   "outputs": [
    {
     "name": "stdout",
     "output_type": "stream",
     "text": [
      "True\n"
     ]
    }
   ],
   "source": [
    "print(True)"
   ]
  },
  {
   "cell_type": "code",
   "execution_count": 6,
   "id": "fe87a57f",
   "metadata": {},
   "outputs": [
    {
     "name": "stdout",
     "output_type": "stream",
     "text": [
      "11\n"
     ]
    }
   ],
   "source": [
    "print(45-34)"
   ]
  },
  {
   "cell_type": "code",
   "execution_count": 7,
   "id": "b6ed53f4",
   "metadata": {},
   "outputs": [
    {
     "name": "stdout",
     "output_type": "stream",
     "text": [
      "i am himanshu sharma \n",
      " i am learni ng oythin \n"
     ]
    }
   ],
   "source": [
    "print(\"i am himanshu sharma \\n i am learni ng oythin \")"
   ]
  },
  {
   "cell_type": "code",
   "execution_count": 8,
   "id": "3eae2096",
   "metadata": {},
   "outputs": [
    {
     "ename": "SyntaxError",
     "evalue": "invalid syntax. Perhaps you forgot a comma? (1428474354.py, line 1)",
     "output_type": "error",
     "traceback": [
      "\u001b[1;36m  Cell \u001b[1;32mIn[8], line 1\u001b[1;36m\u001b[0m\n\u001b[1;33m    print(this mt )\u001b[0m\n\u001b[1;37m          ^\u001b[0m\n\u001b[1;31mSyntaxError\u001b[0m\u001b[1;31m:\u001b[0m invalid syntax. Perhaps you forgot a comma?\n"
     ]
    }
   ],
   "source": [
    "print(this m)"
   ]
  },
  {
   "cell_type": "code",
   "execution_count": 11,
   "id": "5d093a1e",
   "metadata": {},
   "outputs": [
    {
     "data": {
      "text/plain": [
       "22.0"
      ]
     },
     "execution_count": 11,
     "metadata": {},
     "output_type": "execute_result"
    }
   ],
   "source": [
    "a = 22\n",
    "float(a)"
   ]
  },
  {
   "cell_type": "code",
   "execution_count": 13,
   "id": "42c0b7ce",
   "metadata": {},
   "outputs": [
    {
     "data": {
      "text/plain": [
       "34"
      ]
     },
     "execution_count": 13,
     "metadata": {},
     "output_type": "execute_result"
    }
   ],
   "source": [
    "x =34.4\n",
    "int(x)"
   ]
  },
  {
   "cell_type": "code",
   "execution_count": 14,
   "id": "1d5a10c0",
   "metadata": {},
   "outputs": [
    {
     "ename": "TypeError",
     "evalue": "int() argument must be a string, a bytes-like object or a real number, not 'complex'",
     "output_type": "error",
     "traceback": [
      "\u001b[1;31m---------------------------------------------------------------------------\u001b[0m",
      "\u001b[1;31mTypeError\u001b[0m                                 Traceback (most recent call last)",
      "Cell \u001b[1;32mIn[14], line 2\u001b[0m\n\u001b[0;32m      1\u001b[0m x \u001b[38;5;241m=\u001b[39m \u001b[38;5;241m43\u001b[39mj\n\u001b[1;32m----> 2\u001b[0m \u001b[38;5;28;43mint\u001b[39;49m\u001b[43m(\u001b[49m\u001b[43mx\u001b[49m\u001b[43m)\u001b[49m\n",
      "\u001b[1;31mTypeError\u001b[0m: int() argument must be a string, a bytes-like object or a real number, not 'complex'"
     ]
    }
   ],
   "source": [
    "x = 43j\n",
    "int(x)"
   ]
  },
  {
   "cell_type": "code",
   "execution_count": 17,
   "id": "c6427a1b",
   "metadata": {},
   "outputs": [
    {
     "ename": "ValueError",
     "evalue": "invalid literal for int() with base 10: '43j'",
     "output_type": "error",
     "traceback": [
      "\u001b[1;31m---------------------------------------------------------------------------\u001b[0m",
      "\u001b[1;31mValueError\u001b[0m                                Traceback (most recent call last)",
      "Cell \u001b[1;32mIn[17], line 2\u001b[0m\n\u001b[0;32m      1\u001b[0m x \u001b[38;5;241m=\u001b[39m \u001b[38;5;124m\"\u001b[39m\u001b[38;5;124m43j\u001b[39m\u001b[38;5;124m\"\u001b[39m\n\u001b[1;32m----> 2\u001b[0m \u001b[38;5;28;43mint\u001b[39;49m\u001b[43m(\u001b[49m\u001b[43mx\u001b[49m\u001b[43m)\u001b[49m\n",
      "\u001b[1;31mValueError\u001b[0m: invalid literal for int() with base 10: '43j'"
     ]
    }
   ],
   "source": [
    "x = \"43j\"\n",
    "int(x)"
   ]
  },
  {
   "cell_type": "code",
   "execution_count": 15,
   "id": "60ceb891",
   "metadata": {},
   "outputs": [
    {
     "data": {
      "text/plain": [
       "34"
      ]
     },
     "execution_count": 15,
     "metadata": {},
     "output_type": "execute_result"
    }
   ],
   "source": [
    "int(\"34\")"
   ]
  },
  {
   "cell_type": "code",
   "execution_count": 18,
   "id": "becf397d",
   "metadata": {},
   "outputs": [
    {
     "name": "stdout",
     "output_type": "stream",
     "text": [
      "ri\n"
     ]
    }
   ],
   "source": [
    "print(\"r\"+ \"i\")"
   ]
  },
  {
   "cell_type": "code",
   "execution_count": 20,
   "id": "25c2f9e9",
   "metadata": {},
   "outputs": [
    {
     "data": {
      "text/plain": [
       "1.0"
      ]
     },
     "execution_count": 20,
     "metadata": {},
     "output_type": "execute_result"
    }
   ],
   "source": [
    "x = True\n",
    "float(x)"
   ]
  },
  {
   "cell_type": "code",
   "execution_count": 22,
   "id": "da701d9d",
   "metadata": {},
   "outputs": [
    {
     "data": {
      "text/plain": [
       "0"
      ]
     },
     "execution_count": 22,
     "metadata": {},
     "output_type": "execute_result"
    }
   ],
   "source": [
    "y = False\n",
    "int(y)"
   ]
  },
  {
   "cell_type": "code",
   "execution_count": 23,
   "id": "a12a1117",
   "metadata": {},
   "outputs": [
    {
     "data": {
      "text/plain": [
       "'rishi'"
      ]
     },
     "execution_count": 23,
     "metadata": {},
     "output_type": "execute_result"
    }
   ],
   "source": [
    "('r'+ \"i\" +'s'+ 'h' + 'i')"
   ]
  },
  {
   "cell_type": "code",
   "execution_count": null,
   "id": "5c46b9f4",
   "metadata": {},
   "outputs": [],
   "source": [
    "print('A' + \"R\" + 'j\")"
   ]
  },
  {
   "cell_type": "code",
   "execution_count": 25,
   "id": "5b6b5648",
   "metadata": {},
   "outputs": [
    {
     "ename": "SyntaxError",
     "evalue": "unterminated string literal (detected at line 1) (1881521093.py, line 1)",
     "output_type": "error",
     "traceback": [
      "\u001b[1;36m  Cell \u001b[1;32mIn[25], line 1\u001b[1;36m\u001b[0m\n\u001b[1;33m    print('U\")\u001b[0m\n\u001b[1;37m          ^\u001b[0m\n\u001b[1;31mSyntaxError\u001b[0m\u001b[1;31m:\u001b[0m unterminated string literal (detected at line 1)\n"
     ]
    }
   ],
   "source": [
    "print('U\")"
   ]
  },
  {
   "cell_type": "code",
   "execution_count": 26,
   "id": "7cb10851",
   "metadata": {},
   "outputs": [
    {
     "name": "stdout",
     "output_type": "stream",
     "text": [
      "<class 'bool'>\n",
      "0\n"
     ]
    }
   ],
   "source": [
    "print(bool)\n",
    "print(0)"
   ]
  },
  {
   "cell_type": "code",
   "execution_count": 27,
   "id": "8b9a87b6",
   "metadata": {},
   "outputs": [
    {
     "data": {
      "text/plain": [
       "True"
      ]
     },
     "execution_count": 27,
     "metadata": {},
     "output_type": "execute_result"
    }
   ],
   "source": [
    "bool(43j)"
   ]
  },
  {
   "cell_type": "code",
   "execution_count": 28,
   "id": "70cc7a80",
   "metadata": {},
   "outputs": [
    {
     "data": {
      "text/plain": [
       "43j"
      ]
     },
     "execution_count": 28,
     "metadata": {},
     "output_type": "execute_result"
    }
   ],
   "source": [
    "43j"
   ]
  },
  {
   "cell_type": "code",
   "execution_count": 29,
   "id": "63a4b461",
   "metadata": {},
   "outputs": [
    {
     "name": "stdout",
     "output_type": "stream",
     "text": [
      "2020775625552\n"
     ]
    }
   ],
   "source": [
    "a = 20\n",
    "print(id(a))"
   ]
  },
  {
   "cell_type": "code",
   "execution_count": 31,
   "id": "a44cfe59",
   "metadata": {},
   "outputs": [
    {
     "ename": "SyntaxError",
     "evalue": "cannot delete function call (1562884251.py, line 1)",
     "output_type": "error",
     "traceback": [
      "\u001b[1;36m  Cell \u001b[1;32mIn[31], line 1\u001b[1;36m\u001b[0m\n\u001b[1;33m    del(id(a))\u001b[0m\n\u001b[1;37m        ^\u001b[0m\n\u001b[1;31mSyntaxError\u001b[0m\u001b[1;31m:\u001b[0m cannot delete function call\n"
     ]
    }
   ],
   "source": [
    "del(id(a))"
   ]
  },
  {
   "cell_type": "code",
   "execution_count": 32,
   "id": "db1c6267",
   "metadata": {},
   "outputs": [
    {
     "ename": "NameError",
     "evalue": "name 'c' is not defined",
     "output_type": "error",
     "traceback": [
      "\u001b[1;31m---------------------------------------------------------------------------\u001b[0m",
      "\u001b[1;31mNameError\u001b[0m                                 Traceback (most recent call last)",
      "Cell \u001b[1;32mIn[32], line 1\u001b[0m\n\u001b[1;32m----> 1\u001b[0m \u001b[38;5;28mid\u001b[39m(\u001b[43mc\u001b[49m)\n",
      "\u001b[1;31mNameError\u001b[0m: name 'c' is not defined"
     ]
    }
   ],
   "source": [
    "id(c)"
   ]
  },
  {
   "cell_type": "code",
   "execution_count": 33,
   "id": "6b32135f",
   "metadata": {},
   "outputs": [
    {
     "name": "stdout",
     "output_type": "stream",
     "text": [
      "himan\r",
      "shu\n"
     ]
    }
   ],
   "source": [
    "print(\"himan\\rshu\")"
   ]
  },
  {
   "cell_type": "code",
   "execution_count": 8,
   "id": "a74f2acf",
   "metadata": {},
   "outputs": [
    {
     "name": "stdout",
     "output_type": "stream",
     "text": [
      "enter employe name:himanshu\n",
      "enter employe age:19\n",
      "enter employe salary:260000\n"
     ]
    }
   ],
   "source": [
    "name = input(\"enter employe name\")\n",
    "age = input(\"enter employe age\")\n",
    "salary = input(\"enter employe salary\")"
   ]
  },
  {
   "cell_type": "code",
   "execution_count": 2,
   "id": "5a1669be",
   "metadata": {},
   "outputs": [
    {
     "name": "stdout",
     "output_type": "stream",
     "text": [
      "2\n"
     ]
    }
   ],
   "source": [
    "x = input()"
   ]
  },
  {
   "cell_type": "code",
   "execution_count": 1,
   "id": "1ccf5713",
   "metadata": {},
   "outputs": [
    {
     "name": "stdout",
     "output_type": "stream",
     "text": [
      "5\n"
     ]
    }
   ],
   "source": [
    "y = input()"
   ]
  },
  {
   "cell_type": "code",
   "execution_count": 9,
   "id": "84c13a68",
   "metadata": {},
   "outputs": [
    {
     "name": "stdout",
     "output_type": "stream",
     "text": [
      "Even number:2\n",
      "odd number;5\n",
      "25\n"
     ]
    }
   ],
   "source": [
    "a = input('Even number:')     \n",
    "b = input('odd number;')\n",
    "\n",
    "z=a+b\n",
    "print(z)\n",
    "\n"
   ]
  },
  {
   "cell_type": "code",
   "execution_count": 1,
   "id": "dd69868d",
   "metadata": {},
   "outputs": [
    {
     "name": "stdout",
     "output_type": "stream",
     "text": [
      "23\n"
     ]
    }
   ],
   "source": [
    "print(\"23\")"
   ]
  },
  {
   "cell_type": "code",
   "execution_count": 2,
   "id": "cad308b1",
   "metadata": {},
   "outputs": [
    {
     "name": "stdout",
     "output_type": "stream",
     "text": [
      "23.0\n"
     ]
    }
   ],
   "source": [
    "print(\"23.0\")"
   ]
  },
  {
   "cell_type": "code",
   "execution_count": 3,
   "id": "938f97db",
   "metadata": {},
   "outputs": [
    {
     "name": "stdout",
     "output_type": "stream",
     "text": [
      "<class 'bool'>\n"
     ]
    }
   ],
   "source": [
    "print(bool)"
   ]
  },
  {
   "cell_type": "code",
   "execution_count": 4,
   "id": "a69f4d37",
   "metadata": {},
   "outputs": [
    {
     "name": "stdout",
     "output_type": "stream",
     "text": [
      "5j\n"
     ]
    }
   ],
   "source": [
    "print(\"5j\")"
   ]
  },
  {
   "cell_type": "code",
   "execution_count": 5,
   "id": "da9219f6",
   "metadata": {},
   "outputs": [
    {
     "name": "stdout",
     "output_type": "stream",
     "text": [
      "Himanshu\n"
     ]
    }
   ],
   "source": [
    "print(\"Himanshu\")"
   ]
  },
  {
   "cell_type": "code",
   "execution_count": 7,
   "id": "74bb0732",
   "metadata": {},
   "outputs": [
    {
     "name": "stdout",
     "output_type": "stream",
     "text": [
      "Hello\n"
     ]
    }
   ],
   "source": [
    "print(\"Hello\")  # here i will use print fnction"
   ]
  },
  {
   "cell_type": "code",
   "execution_count": 9,
   "id": "79dd1ff3",
   "metadata": {},
   "outputs": [
    {
     "name": "stdout",
     "output_type": "stream",
     "text": [
      "34\n"
     ]
    }
   ],
   "source": [
    "'''i am learning python'''\n",
    "print(\"34\")"
   ]
  },
  {
   "cell_type": "code",
   "execution_count": 17,
   "id": "ff43ebbd",
   "metadata": {},
   "outputs": [
    {
     "ename": "SyntaxError",
     "evalue": "invalid syntax (4235485119.py, line 1)",
     "output_type": "error",
     "traceback": [
      "\u001b[1;36m  Cell \u001b[1;32mIn[17], line 1\u001b[1;36m\u001b[0m\n\u001b[1;33m    print(\"himanshu\")   '''i am learning python'''\u001b[0m\n\u001b[1;37m                        ^\u001b[0m\n\u001b[1;31mSyntaxError\u001b[0m\u001b[1;31m:\u001b[0m invalid syntax\n"
     ]
    }
   ],
   "source": [
    "print(\"himanshu\")   '''i am learning python'''"
   ]
  },
  {
   "cell_type": "code",
   "execution_count": 10,
   "id": "b880b0f3",
   "metadata": {},
   "outputs": [
    {
     "name": "stdout",
     "output_type": "stream",
     "text": [
      "himanshu\n"
     ]
    },
    {
     "data": {
      "text/plain": [
       "'i am learning python'"
      ]
     },
     "execution_count": 10,
     "metadata": {},
     "output_type": "execute_result"
    }
   ],
   "source": [
    "print(\"himanshu\")\n",
    "'''i am learning python'''"
   ]
  },
  {
   "cell_type": "code",
   "execution_count": 16,
   "id": "068af911",
   "metadata": {
    "scrolled": true
   },
   "outputs": [
    {
     "name": "stdout",
     "output_type": "stream",
     "text": [
      "Himanshu\n",
      "Here I use print function\n"
     ]
    },
    {
     "data": {
      "text/plain": [
       "(None, None)"
      ]
     },
     "execution_count": 16,
     "metadata": {},
     "output_type": "execute_result"
    }
   ],
   "source": [
    "print(\"Himanshu\") ,  print('''Here I use print function''')"
   ]
  },
  {
   "cell_type": "code",
   "execution_count": 18,
   "id": "29e01451",
   "metadata": {},
   "outputs": [
    {
     "name": "stdout",
     "output_type": "stream",
     "text": [
      "23\n"
     ]
    }
   ],
   "source": [
    "print(23)"
   ]
  },
  {
   "cell_type": "code",
   "execution_count": 19,
   "id": "e5f1c672",
   "metadata": {},
   "outputs": [
    {
     "name": "stdout",
     "output_type": "stream",
     "text": [
      "23.0\n"
     ]
    }
   ],
   "source": [
    "print(23.0)"
   ]
  },
  {
   "cell_type": "code",
   "execution_count": 20,
   "id": "6368c29c",
   "metadata": {},
   "outputs": [
    {
     "name": "stdout",
     "output_type": "stream",
     "text": [
      "1\n"
     ]
    }
   ],
   "source": [
    "print(True+False)"
   ]
  },
  {
   "cell_type": "code",
   "execution_count": 22,
   "id": "b2fe24f5",
   "metadata": {},
   "outputs": [
    {
     "data": {
      "text/plain": [
       "23"
      ]
     },
     "execution_count": 22,
     "metadata": {},
     "output_type": "execute_result"
    }
   ],
   "source": [
    "int(23.0)"
   ]
  },
  {
   "cell_type": "code",
   "execution_count": 23,
   "id": "462c2bf4",
   "metadata": {},
   "outputs": [
    {
     "data": {
      "text/plain": [
       "35.0"
      ]
     },
     "execution_count": 23,
     "metadata": {},
     "output_type": "execute_result"
    }
   ],
   "source": [
    "float(35)"
   ]
  },
  {
   "cell_type": "code",
   "execution_count": 25,
   "id": "97795e1c",
   "metadata": {},
   "outputs": [
    {
     "data": {
      "text/plain": [
       "True"
      ]
     },
     "execution_count": 25,
     "metadata": {},
     "output_type": "execute_result"
    }
   ],
   "source": [
    "bool(34)"
   ]
  },
  {
   "cell_type": "code",
   "execution_count": 24,
   "id": "9f1e6b57",
   "metadata": {},
   "outputs": [
    {
     "data": {
      "text/plain": [
       "(567+0j)"
      ]
     },
     "execution_count": 24,
     "metadata": {},
     "output_type": "execute_result"
    }
   ],
   "source": [
    "complex(567)"
   ]
  },
  {
   "cell_type": "code",
   "execution_count": 28,
   "id": "33c0ac27",
   "metadata": {},
   "outputs": [
    {
     "name": "stdout",
     "output_type": "stream",
     "text": [
      "<class 'str'>\n"
     ]
    }
   ],
   "source": [
    "print(type(str(23)))"
   ]
  },
  {
   "cell_type": "code",
   "execution_count": 27,
   "id": "7699efd1",
   "metadata": {},
   "outputs": [
    {
     "name": "stdout",
     "output_type": "stream",
     "text": [
      "str(23)\n"
     ]
    }
   ],
   "source": [
    "print('str(23)')"
   ]
  },
  {
   "cell_type": "code",
   "execution_count": 29,
   "id": "64d9197b",
   "metadata": {},
   "outputs": [
    {
     "data": {
      "text/plain": [
       "int"
      ]
     },
     "execution_count": 29,
     "metadata": {},
     "output_type": "execute_result"
    }
   ],
   "source": [
    "type(12)"
   ]
  },
  {
   "cell_type": "code",
   "execution_count": 30,
   "id": "c17ffe29",
   "metadata": {},
   "outputs": [
    {
     "data": {
      "text/plain": [
       "complex"
      ]
     },
     "execution_count": 30,
     "metadata": {},
     "output_type": "execute_result"
    }
   ],
   "source": [
    "type(45j)"
   ]
  },
  {
   "cell_type": "code",
   "execution_count": 31,
   "id": "b06697fd",
   "metadata": {},
   "outputs": [
    {
     "data": {
      "text/plain": [
       "float"
      ]
     },
     "execution_count": 31,
     "metadata": {},
     "output_type": "execute_result"
    }
   ],
   "source": [
    "type(34.7)"
   ]
  },
  {
   "cell_type": "code",
   "execution_count": 33,
   "id": "5ece9ea1",
   "metadata": {},
   "outputs": [
    {
     "data": {
      "text/plain": [
       "bool"
      ]
     },
     "execution_count": 33,
     "metadata": {},
     "output_type": "execute_result"
    }
   ],
   "source": [
    "type(True)"
   ]
  },
  {
   "cell_type": "code",
   "execution_count": 34,
   "id": "b4901cf2",
   "metadata": {},
   "outputs": [
    {
     "data": {
      "text/plain": [
       "bool"
      ]
     },
     "execution_count": 34,
     "metadata": {},
     "output_type": "execute_result"
    }
   ],
   "source": [
    "type(False)"
   ]
  },
  {
   "cell_type": "code",
   "execution_count": 36,
   "id": "396c0bbc",
   "metadata": {},
   "outputs": [
    {
     "data": {
      "text/plain": [
       "str"
      ]
     },
     "execution_count": 36,
     "metadata": {},
     "output_type": "execute_result"
    }
   ],
   "source": [
    "type(\"strings\")"
   ]
  },
  {
   "cell_type": "code",
   "execution_count": 37,
   "id": "4b25e7e5",
   "metadata": {},
   "outputs": [
    {
     "data": {
      "text/plain": [
       "NoneType"
      ]
     },
     "execution_count": 37,
     "metadata": {},
     "output_type": "execute_result"
    }
   ],
   "source": [
    "type(None)"
   ]
  },
  {
   "cell_type": "code",
   "execution_count": 38,
   "id": "2dc2c672",
   "metadata": {},
   "outputs": [
    {
     "name": "stdout",
     "output_type": "stream",
     "text": [
      "2149432427472\n",
      "2149432427824\n"
     ]
    }
   ],
   "source": [
    "a = 24\n",
    "b = 35\n",
    "\n",
    "print(id(a))\n",
    "print(id(b))"
   ]
  },
  {
   "cell_type": "markdown",
   "id": "22460c4d",
   "metadata": {},
   "source": [
    "# Expression\n",
    "\n",
    "- An expression is a piece of code(must include operand and operators)that evaluates t"
   ]
  },
  {
   "cell_type": "code",
   "execution_count": 4,
   "id": "ed2e807b",
   "metadata": {},
   "outputs": [
    {
     "name": "stdout",
     "output_type": "stream",
     "text": [
      "what is your number235\n",
      "what is your salary30000\n",
      "what is your namehimanshu\n",
      "23530000himanshu\n"
     ]
    }
   ],
   "source": [
    "q = input(\"what is your number\")\n",
    "e = input(\"what is your salary\")\n",
    "s = input(\"what is your name\")\n",
    "\n",
    "r = q+e+s\n",
    "print(r)"
   ]
  },
  {
   "cell_type": "code",
   "execution_count": 1,
   "id": "545380e2",
   "metadata": {},
   "outputs": [
    {
     "ename": "NameError",
     "evalue": "name 'a' is not defined",
     "output_type": "error",
     "traceback": [
      "\u001b[1;31m---------------------------------------------------------------------------\u001b[0m",
      "\u001b[1;31mNameError\u001b[0m                                 Traceback (most recent call last)",
      "Cell \u001b[1;32mIn[1], line 1\u001b[0m\n\u001b[1;32m----> 1\u001b[0m \u001b[38;5;28mprint\u001b[39m(\u001b[43ma\u001b[49m)\n",
      "\u001b[1;31mNameError\u001b[0m: name 'a' is not defined"
     ]
    }
   ],
   "source": [
    "print(a)"
   ]
  },
  {
   "cell_type": "code",
   "execution_count": 6,
   "id": "5a0c3509",
   "metadata": {},
   "outputs": [
    {
     "name": "stdout",
     "output_type": "stream",
     "text": [
      "Enter your namesdfdferf\n",
      "Enter your ageweqfef\n",
      "Enter your salaryewfwef\n",
      "\n",
      "\n",
      "printing employe details\n",
      "Name\t\n",
      "name\n"
     ]
    },
    {
     "data": {
      "text/plain": [
       "(None, None)"
      ]
     },
     "execution_count": 6,
     "metadata": {},
     "output_type": "execute_result"
    }
   ],
   "source": [
    "name = input(\"Enter your name\")\n",
    "age = input(\"Enter your age\")\n",
    "Salary= input(\"Enter your salary\")\n",
    "\n",
    " \n",
    "print(\"\\n\")\n",
    "print(\"printing employe details\")\n",
    "print(\"Name\\t\")\n",
    "                                                                                             \n"
   ]
  },
  {
   "cell_type": "code",
   "execution_count": null,
   "id": "370d89c7",
   "metadata": {},
   "outputs": [],
   "source": []
  },
  {
   "cell_type": "code",
   "execution_count": 3,
   "id": "f0457f11",
   "metadata": {},
   "outputs": [
    {
     "name": "stdout",
     "output_type": "stream",
     "text": [
      "enter nameparth\n",
      "enter namerohit\n",
      "enter namekaran\n",
      "\n",
      "\n",
      "printing students name\n",
      "Name Name Name\n",
      "dlfsifhdsl dlfsifhdsl dlfsifhdsl\n"
     ]
    }
   ],
   "source": [
    "x = input(\"enter name\")\n",
    "y = input(\"enter name\")\n",
    "z = input(\"enter name\")\n",
    "\n",
    "print(\"\\n\")\n",
    "print(\"printing students name\")\n",
    "print(\"Name\" ,\"Name\" ,\"Name\")\n",
    "print(name,name,name)"
   ]
  },
  {
   "cell_type": "code",
   "execution_count": 1,
   "id": "9abcb601",
   "metadata": {},
   "outputs": [
    {
     "name": "stdout",
     "output_type": "stream",
     "text": [
      "enter employe namedlfsifhdsl\n",
      "enter employe agedflkmmge;\n",
      "enter employe salarye;kfe'r\n"
     ]
    }
   ],
   "source": [
    "name = input(\"enter employe name\")\n",
    "age = input(\"enter employe age\")\n",
    "salary = input(\"enter employe salary\")"
   ]
  },
  {
   "cell_type": "code",
   "execution_count": 1,
   "id": "b08d5f2d",
   "metadata": {},
   "outputs": [
    {
     "name": "stdout",
     "output_type": "stream",
     "text": [
      "values given : dfjgf\n",
      "<class 'type'>\n"
     ]
    }
   ],
   "source": [
    "q = input(\"values given : \")\n",
    "print(type(float))"
   ]
  },
  {
   "cell_type": "code",
   "execution_count": null,
   "id": "0533c884",
   "metadata": {},
   "outputs": [],
   "source": [
    "flowers = complex(input(\" name of flowers : \"))"
   ]
  },
  {
   "cell_type": "code",
   "execution_count": null,
   "id": "b6ae77e7",
   "metadata": {},
   "outputs": [],
   "source": []
  }
 ],
 "metadata": {
  "kernelspec": {
   "display_name": "Python 3 (ipykernel)",
   "language": "python",
   "name": "python3"
  },
  "language_info": {
   "codemirror_mode": {
    "name": "ipython",
    "version": 3
   },
   "file_extension": ".py",
   "mimetype": "text/x-python",
   "name": "python",
   "nbconvert_exporter": "python",
   "pygments_lexer": "ipython3",
   "version": "3.10.9"
  }
 },
 "nbformat": 4,
 "nbformat_minor": 5
}
