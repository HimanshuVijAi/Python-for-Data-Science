{
 "cells": [
  {
   "cell_type": "raw",
   "id": "328233fd",
   "metadata": {},
   "source": [
    "\t\t                               Library Management System\n",
    "\n",
    "You are the librarian of “vijAI Robotics Library”. Make a python program to create a Library Management System. The system should contain the list of the books in the library (at least 10 books). Also maintain a record of the customers who are borrowing books from the library by taking their necessary details (name, age, gender, address, phone no) and give each one of them a suitable Library ID. \n",
    "Your program must contain the following functionalities:\n",
    "1.\tDefine a class Library with \n",
    "a.\tInstance Methods -  borrow_book( ) and return_book( )\n",
    "b.\tClass method – books_present( )\n",
    "2.\tThe objects of the class library will refer to the customers.\n",
    "3.\tWhenever a new customer comes, display the list of the books currently present in the library. \n",
    "4.\tImplement a method borrow_book( ) which displays the details of the customer with the book name. The method should at the end display the books currently present in the library\n",
    "5.\tImplement a method return_book( ) which displays the details of the customer returning the book with the book name. The method should at the end display the books currently present in the library.\n",
    "6.\tImplement a method books_present( ) to show the books currently present in the library.\n",
    "\n",
    "Show the functioning of your class by taking various scenarios into consideration, i.e., by creating objects. \n",
    "\n",
    "Good Luck !!!"
   ]
  },
  {
   "cell_type": "code",
   "execution_count": null,
   "id": "6f666059",
   "metadata": {},
   "outputs": [
    {
     "name": "stdout",
     "output_type": "stream",
     "text": [
      "Enter customer name:Himanshu\n",
      "Enter Customer age:20\n",
      "Enter Customer Gender:Male\n",
      "Enter Customer address:Hld\n",
      "Enter Phone number:XXXXXXXXXX\n",
      "Books in a library: ['Book 1', 'Book 2', 'Book 3', 'Book 4', 'Book 5', 'Book 6', 'Book 7', 'Book 8', 'Book 9', 'Book 10']\n",
      "Book borrowed by Customer:Book 1\n",
      "Customer id: 1\n",
      "This books are Present in library: ['Book 2', 'Book 3', 'Book 4', 'Book 5', 'Book 6', 'Book 7', 'Book 8', 'Book 9', 'Book 10']\n",
      "enter book name:Book 1\n",
      "book is present in library ['Book 2', 'Book 3', 'Book 4', 'Book 5', 'Book 6', 'Book 7', 'Book 8', 'Book 9', 'Book 10']\n",
      "enter returned book name:Book 1\n",
      "Book has been return ['Book 2', 'Book 3', 'Book 4', 'Book 5', 'Book 6', 'Book 7', 'Book 8', 'Book 9', 'Book 10', 'Book 1']\n",
      "\n",
      "\n"
     ]
    }
   ],
   "source": [
    "class Vijai_Robotics_Library:\n",
    "    Book_Name = [\"Book 1\",\"Book 2\",\"Book 3\",\"Book 4\",\"Book 5\",\"Book 6\",\"Book 7\",\"Book 8\",\"Book 9\",\"Book 10\"]\n",
    "\n",
    "    def __init__(self):\n",
    "        pass\n",
    "    \n",
    "    def borrow_book(self):\n",
    "        Book_Name = [\"Book 1\",\"Book 2\",\"Book 3\",\"Book 4\",\"Book 5\",\"Book 6\",\"Book 7\",\"Book 8\",\"Book 9\",\"Book 10\"]\n",
    "        Cus_name = input(\"Enter customer name:\")\n",
    "        Cus_age = input(\"Enter Customer age:\")\n",
    "        Cus_gender = input(\"Enter Customer Gender:\")\n",
    "        Cus_add = input(\"Enter Customer address:\")\n",
    "        Cus_mob_no = input(\"Enter Phone number:\")\n",
    "        print(\"Books in a library:\",self.Book_Name)\n",
    "        book_name = input(\"Book borrowed by Customer:\")\n",
    "        for Cus_id in range(1,1000):\n",
    "            if Cus_id > 1000:\n",
    "                print(\"Customer id:\",Cus_id)\n",
    "            else:\n",
    "                print(\"Customer id:\",Cus_id)\n",
    "                break\n",
    "        if book_name in Vijai_Robotics_Library.Book_Name:\n",
    "            Vijai_Robotics_Library.Book_Name.remove(book_name)\n",
    "            print(\"This books are Present in library:\",Vijai_Robotics_Library.Book_Name)\n",
    "        else:\n",
    "            print(\"This book is not present in library:\")\n",
    "            \n",
    "    @classmethod\n",
    "    def present_book(cls):\n",
    "        book_name = input(\"enter book name:\")\n",
    "        print(\"book is present in library\",cls.Book_Name)\n",
    "    def return_book(self):\n",
    "        return_book = input(\"enter returned book name:\")\n",
    "        Vijai_Robotics_Library.Book_Name.append(return_book)\n",
    "        \n",
    "        print(\"Book has been return\",self.Book_Name)\n",
    "        \n",
    "Lib2 = Vijai_Robotics_Library() \n",
    "\n",
    "Lib2.borrow_book()\n",
    "Lib2.present_book()\n",
    "Lib2.return_book()\n",
    "print(\"\\n\")\n",
    "Lib3 = Vijai_Robotics_Library()\n",
    "\n",
    "Lib3.borrow_book()\n",
    "Lib3.present_book()\n",
    "Lib3.return_book()"
   ]
  }
 ],
 "metadata": {
  "kernelspec": {
   "display_name": "Python 3 (ipykernel)",
   "language": "python",
   "name": "python3"
  },
  "language_info": {
   "codemirror_mode": {
    "name": "ipython",
    "version": 3
   },
   "file_extension": ".py",
   "mimetype": "text/x-python",
   "name": "python",
   "nbconvert_exporter": "python",
   "pygments_lexer": "ipython3",
   "version": "3.10.9"
  }
 },
 "nbformat": 4,
 "nbformat_minor": 5
}
