{
 "cells": [
  {
   "cell_type": "code",
   "execution_count": 3,
   "id": "1f50363a",
   "metadata": {},
   "outputs": [],
   "source": [
    "x= 63"
   ]
  },
  {
   "cell_type": "code",
   "execution_count": 5,
   "id": "57addc38",
   "metadata": {},
   "outputs": [
    {
     "name": "stdout",
     "output_type": "stream",
     "text": [
      "63\n"
     ]
    }
   ],
   "source": [
    "print(x)"
   ]
  },
  {
   "cell_type": "code",
   "execution_count": 6,
   "id": "a60d17e2",
   "metadata": {},
   "outputs": [
    {
     "data": {
      "text/plain": [
       "45j"
      ]
     },
     "execution_count": 6,
     "metadata": {},
     "output_type": "execute_result"
    }
   ],
   "source": [
    "45j"
   ]
  },
  {
   "cell_type": "code",
   "execution_count": 8,
   "id": "3dd423bd",
   "metadata": {},
   "outputs": [],
   "source": [
    "y=43"
   ]
  },
  {
   "cell_type": "code",
   "execution_count": 9,
   "id": "e258f4fb",
   "metadata": {},
   "outputs": [
    {
     "name": "stdout",
     "output_type": "stream",
     "text": [
      "43\n"
     ]
    }
   ],
   "source": [
    "print(y)"
   ]
  },
  {
   "cell_type": "code",
   "execution_count": 11,
   "id": "512fb1f4",
   "metadata": {},
   "outputs": [
    {
     "name": "stdout",
     "output_type": "stream",
     "text": [
      "64\n"
     ]
    }
   ],
   "source": [
    "print(True+x)"
   ]
  },
  {
   "cell_type": "code",
   "execution_count": 12,
   "id": "a9add884",
   "metadata": {},
   "outputs": [
    {
     "data": {
      "text/plain": [
       "int"
      ]
     },
     "execution_count": 12,
     "metadata": {},
     "output_type": "execute_result"
    }
   ],
   "source": [
    "type(56)"
   ]
  },
  {
   "cell_type": "code",
   "execution_count": 13,
   "id": "37839023",
   "metadata": {},
   "outputs": [
    {
     "data": {
      "text/plain": [
       "complex"
      ]
     },
     "execution_count": 13,
     "metadata": {},
     "output_type": "execute_result"
    }
   ],
   "source": [
    "type(45j)"
   ]
  },
  {
   "cell_type": "code",
   "execution_count": 16,
   "id": "775d119d",
   "metadata": {},
   "outputs": [
    {
     "ename": "SyntaxError",
     "evalue": "invalid decimal literal (4267717266.py, line 1)",
     "output_type": "error",
     "traceback": [
      "\u001b[1;36m  Cell \u001b[1;32mIn[16], line 1\u001b[1;36m\u001b[0m\n\u001b[1;33m    78abc =\"str\"\u001b[0m\n\u001b[1;37m     ^\u001b[0m\n\u001b[1;31mSyntaxError\u001b[0m\u001b[1;31m:\u001b[0m invalid decimal literal\n"
     ]
    }
   ],
   "source": [
    "78abc =\"str\""
   ]
  },
  {
   "cell_type": "markdown",
   "id": "25a15a47",
   "metadata": {},
   "source": [
    "# Variable"
   ]
  },
  {
   "cell_type": "markdown",
   "id": "784fcc1a",
   "metadata": {},
   "source": [
    "\n",
    "A variable is a quantity which we can store a value or data. "
   ]
  },
  {
   "cell_type": "markdown",
   "id": "c207cc1d",
   "metadata": {},
   "source": [
    "\n",
    "         \n",
    " - A variable name must start with an alphabet or an  underscore\n",
    " - A variable name cannot Start with a number or any special character (@,#,$,%,^)\n",
    " - A variable name can only contain alphabets, numbers, and underscores\n",
    " - Python keywords cannot be used as variable names.\n",
    " - variable names are case-sensitive in python"
   ]
  },
  {
   "cell_type": "code",
   "execution_count": 1,
   "id": "ee2e3139",
   "metadata": {},
   "outputs": [],
   "source": [
    "__string = 67"
   ]
  },
  {
   "cell_type": "code",
   "execution_count": 2,
   "id": "6500d661",
   "metadata": {},
   "outputs": [
    {
     "ename": "SyntaxError",
     "evalue": "cannot assign to expression here. Maybe you meant '==' instead of '='? (1803748396.py, line 1)",
     "output_type": "error",
     "traceback": [
      "\u001b[1;36m  Cell \u001b[1;32mIn[2], line 1\u001b[1;36m\u001b[0m\n\u001b[1;33m    _@bc = 95\u001b[0m\n\u001b[1;37m    ^\u001b[0m\n\u001b[1;31mSyntaxError\u001b[0m\u001b[1;31m:\u001b[0m cannot assign to expression here. Maybe you meant '==' instead of '='?\n"
     ]
    }
   ],
   "source": [
    "_@bc = 95\n",
    "print(_@bc)"
   ]
  },
  {
   "cell_type": "code",
   "execution_count": 3,
   "id": "4ee47561",
   "metadata": {},
   "outputs": [],
   "source": [
    "_45xyz = 64"
   ]
  },
  {
   "cell_type": "code",
   "execution_count": 3,
   "id": "20d43d79",
   "metadata": {},
   "outputs": [
    {
     "ename": "SyntaxError",
     "evalue": "cannot assign to True (210645994.py, line 1)",
     "output_type": "error",
     "traceback": [
      "\u001b[1;36m  Cell \u001b[1;32mIn[3], line 1\u001b[1;36m\u001b[0m\n\u001b[1;33m    True = \"23\"\u001b[0m\n\u001b[1;37m    ^\u001b[0m\n\u001b[1;31mSyntaxError\u001b[0m\u001b[1;31m:\u001b[0m cannot assign to True\n"
     ]
    }
   ],
   "source": [
    "True = \"23\""
   ]
  },
  {
   "cell_type": "code",
   "execution_count": 8,
   "id": "b909a832",
   "metadata": {},
   "outputs": [],
   "source": [
    "23 = True"
   ]
  },
  {
   "cell_type": "code",
   "execution_count": 9,
   "id": "3afb42fa",
   "metadata": {},
   "outputs": [],
   "source": [
    "true = 23"
   ]
  },
  {
   "cell_type": "code",
   "execution_count": 21,
   "id": "b39588ac",
   "metadata": {},
   "outputs": [
    {
     "ename": "SyntaxError",
     "evalue": "cannot assign to None (3454673272.py, line 1)",
     "output_type": "error",
     "traceback": [
      "\u001b[1;36m  Cell \u001b[1;32mIn[21], line 1\u001b[1;36m\u001b[0m\n\u001b[1;33m    None= 34\u001b[0m\n\u001b[1;37m    ^\u001b[0m\n\u001b[1;31mSyntaxError\u001b[0m\u001b[1;31m:\u001b[0m cannot assign to None\n"
     ]
    }
   ],
   "source": [
    "None= 34"
   ]
  },
  {
   "cell_type": "code",
   "execution_count": 22,
   "id": "105940ae",
   "metadata": {},
   "outputs": [
    {
     "ename": "SyntaxError",
     "evalue": "invalid syntax (1849463999.py, line 1)",
     "output_type": "error",
     "traceback": [
      "\u001b[1;36m  Cell \u001b[1;32mIn[22], line 1\u001b[1;36m\u001b[0m\n\u001b[1;33m    elif = 46\u001b[0m\n\u001b[1;37m    ^\u001b[0m\n\u001b[1;31mSyntaxError\u001b[0m\u001b[1;31m:\u001b[0m invalid syntax\n"
     ]
    }
   ],
   "source": [
    "elif = 46"
   ]
  },
  {
   "cell_type": "code",
   "execution_count": 23,
   "id": "d1123307",
   "metadata": {},
   "outputs": [
    {
     "ename": "SyntaxError",
     "evalue": "invalid syntax (3082545148.py, line 1)",
     "output_type": "error",
     "traceback": [
      "\u001b[1;36m  Cell \u001b[1;32mIn[23], line 1\u001b[1;36m\u001b[0m\n\u001b[1;33m    nonlocal = 46\u001b[0m\n\u001b[1;37m             ^\u001b[0m\n\u001b[1;31mSyntaxError\u001b[0m\u001b[1;31m:\u001b[0m invalid syntax\n"
     ]
    }
   ],
   "source": [
    "nonlocal = 46"
   ]
  },
  {
   "cell_type": "code",
   "execution_count": 24,
   "id": "15da0ca8",
   "metadata": {},
   "outputs": [
    {
     "ename": "SyntaxError",
     "evalue": "assignment to yield expression not possible (1740702842.py, line 1)",
     "output_type": "error",
     "traceback": [
      "\u001b[1;36m  Cell \u001b[1;32mIn[24], line 1\u001b[1;36m\u001b[0m\n\u001b[1;33m    yield = 39\u001b[0m\n\u001b[1;37m    ^\u001b[0m\n\u001b[1;31mSyntaxError\u001b[0m\u001b[1;31m:\u001b[0m assignment to yield expression not possible\n"
     ]
    }
   ],
   "source": [
    "yield = 39"
   ]
  },
  {
   "cell_type": "code",
   "execution_count": 25,
   "id": "c3ecc4ea",
   "metadata": {},
   "outputs": [
    {
     "ename": "SyntaxError",
     "evalue": "invalid syntax (2008633469.py, line 1)",
     "output_type": "error",
     "traceback": [
      "\u001b[1;36m  Cell \u001b[1;32mIn[25], line 1\u001b[1;36m\u001b[0m\n\u001b[1;33m    lambda = 35\u001b[0m\n\u001b[1;37m           ^\u001b[0m\n\u001b[1;31mSyntaxError\u001b[0m\u001b[1;31m:\u001b[0m invalid syntax\n"
     ]
    }
   ],
   "source": [
    "lambda = 35"
   ]
  },
  {
   "cell_type": "code",
   "execution_count": 36,
   "id": "664ad2d1",
   "metadata": {},
   "outputs": [],
   "source": [
    "__class = 32"
   ]
  },
  {
   "cell_type": "code",
   "execution_count": 29,
   "id": "ccdf6ec7",
   "metadata": {},
   "outputs": [
    {
     "ename": "SyntaxError",
     "evalue": "invalid syntax (2325149027.py, line 1)",
     "output_type": "error",
     "traceback": [
      "\u001b[1;36m  Cell \u001b[1;32mIn[29], line 1\u001b[1;36m\u001b[0m\n\u001b[1;33m    class = 45\u001b[0m\n\u001b[1;37m          ^\u001b[0m\n\u001b[1;31mSyntaxError\u001b[0m\u001b[1;31m:\u001b[0m invalid syntax\n"
     ]
    }
   ],
   "source": [
    "class = 45"
   ]
  },
  {
   "cell_type": "code",
   "execution_count": 37,
   "id": "a2dc931a",
   "metadata": {},
   "outputs": [
    {
     "ename": "SyntaxError",
     "evalue": "cannot assign to literal here. Maybe you meant '==' instead of '='? (297252763.py, line 1)",
     "output_type": "error",
     "traceback": [
      "\u001b[1;36m  Cell \u001b[1;32mIn[37], line 1\u001b[1;36m\u001b[0m\n\u001b[1;33m    'class'= 34\u001b[0m\n\u001b[1;37m    ^\u001b[0m\n\u001b[1;31mSyntaxError\u001b[0m\u001b[1;31m:\u001b[0m cannot assign to literal here. Maybe you meant '==' instead of '='?\n"
     ]
    }
   ],
   "source": [
    "'class'= 34"
   ]
  },
  {
   "cell_type": "code",
   "execution_count": 43,
   "id": "cdf447da",
   "metadata": {},
   "outputs": [
    {
     "data": {
      "text/plain": [
       "'i am \\n going'"
      ]
     },
     "execution_count": 43,
     "metadata": {},
     "output_type": "execute_result"
    }
   ],
   "source": [
    "('i am \\n going')"
   ]
  },
  {
   "cell_type": "code",
   "execution_count": 5,
   "id": "15910c75",
   "metadata": {},
   "outputs": [],
   "source": [
    "a123=9"
   ]
  },
  {
   "cell_type": "code",
   "execution_count": 6,
   "id": "b9762514",
   "metadata": {},
   "outputs": [
    {
     "ename": "SyntaxError",
     "evalue": "cannot assign to expression here. Maybe you meant '==' instead of '='? (3692749945.py, line 1)",
     "output_type": "error",
     "traceback": [
      "\u001b[1;36m  Cell \u001b[1;32mIn[6], line 1\u001b[1;36m\u001b[0m\n\u001b[1;33m    python@gmail =65\u001b[0m\n\u001b[1;37m    ^\u001b[0m\n\u001b[1;31mSyntaxError\u001b[0m\u001b[1;31m:\u001b[0m cannot assign to expression here. Maybe you meant '==' instead of '='?\n"
     ]
    }
   ],
   "source": [
    "python@gmail =65"
   ]
  },
  {
   "cell_type": "code",
   "execution_count": 9,
   "id": "f4b40d4b",
   "metadata": {},
   "outputs": [
    {
     "name": "stdout",
     "output_type": "stream",
     "text": [
      "2600022311440\n",
      "2600022311440\n"
     ]
    }
   ],
   "source": [
    "a=10\n",
    "b=10\n",
    "print(id(a))\n",
    "print(id(b))"
   ]
  },
  {
   "cell_type": "code",
   "execution_count": 11,
   "id": "065444cd",
   "metadata": {},
   "outputs": [
    {
     "name": "stdout",
     "output_type": "stream",
     "text": [
      "2600022311440\n",
      "2600022311440\n",
      "2600022311440\n"
     ]
    }
   ],
   "source": [
    "x=10\n",
    "y=10\n",
    "z=x\n",
    "\n",
    "print(id(x))\n",
    "print(id(y))      \n",
    "print(id(z))\n"
   ]
  },
  {
   "cell_type": "code",
   "execution_count": 12,
   "id": "c8630b4c",
   "metadata": {},
   "outputs": [
    {
     "name": "stdout",
     "output_type": "stream",
     "text": [
      "2600022312208 2600022312208 2600022312208\n"
     ]
    }
   ],
   "source": [
    "a=b=c=34\n",
    "print(id(a),id(b),id(c))"
   ]
  },
  {
   "cell_type": "code",
   "execution_count": 14,
   "id": "0342c5be",
   "metadata": {},
   "outputs": [
    {
     "name": "stdout",
     "output_type": "stream",
     "text": [
      "Himanshu\n",
      "17\n",
      "250000800.6\n"
     ]
    }
   ],
   "source": [
    "name = \"Himanshu\"       # string assignment\n",
    "age = 17                 # Integer assignment\n",
    "Salary = 250000800.60     # float assignment \n",
    "  \n",
    "print(name)\n",
    "print(age)\n",
    "print(Salary)"
   ]
  },
  {
   "cell_type": "code",
   "execution_count": 23,
   "id": "de0de3bb",
   "metadata": {},
   "outputs": [
    {
     "name": "stdout",
     "output_type": "stream",
     "text": [
      "34\n",
      "<class 'int'>\n"
     ]
    }
   ],
   "source": [
    "x=34\n",
    "print(x)\n",
    "print(type(x))"
   ]
  },
  {
   "cell_type": "code",
   "execution_count": 17,
   "id": "d9ec2882",
   "metadata": {},
   "outputs": [
    {
     "name": "stdout",
     "output_type": "stream",
     "text": [
      "34.5\n"
     ]
    }
   ],
   "source": [
    "x=34.5\n",
    "print(x)"
   ]
  },
  {
   "cell_type": "code",
   "execution_count": 18,
   "id": "efb67e9a",
   "metadata": {},
   "outputs": [
    {
     "name": "stdout",
     "output_type": "stream",
     "text": [
      "<class 'float'>\n"
     ]
    }
   ],
   "source": [
    "print(type(x))"
   ]
  },
  {
   "cell_type": "code",
   "execution_count": 22,
   "id": "e7ee653e",
   "metadata": {},
   "outputs": [
    {
     "name": "stdout",
     "output_type": "stream",
     "text": [
      "i am string\n",
      "<class 'str'>\n"
     ]
    }
   ],
   "source": [
    "x = \"i am string\"\n",
    "print(x)\n",
    "print(type(x))"
   ]
  },
  {
   "cell_type": "code",
   "execution_count": 25,
   "id": "bbf5da0c",
   "metadata": {},
   "outputs": [
    {
     "ename": "NameError",
     "evalue": "name 'h' is not defined",
     "output_type": "error",
     "traceback": [
      "\u001b[1;31m---------------------------------------------------------------------------\u001b[0m",
      "\u001b[1;31mNameError\u001b[0m                                 Traceback (most recent call last)",
      "Cell \u001b[1;32mIn[25], line 1\u001b[0m\n\u001b[1;32m----> 1\u001b[0m \u001b[38;5;28mprint\u001b[39m(\u001b[43mh\u001b[49m)\n",
      "\u001b[1;31mNameError\u001b[0m: name 'h' is not defined"
     ]
    }
   ],
   "source": [
    "print(h)"
   ]
  },
  {
   "cell_type": "code",
   "execution_count": 4,
   "id": "212bb8ae",
   "metadata": {},
   "outputs": [
    {
     "data": {
      "text/plain": [
       "''"
      ]
     },
     "execution_count": 4,
     "metadata": {},
     "output_type": "execute_result"
    }
   ],
   "source": [
    "_#  python is adynamically typed language\n",
    " # while in other example is c,c++, is statically typed language\n",
    "    \n",
    "  #  in dynamically typed language we have to define to the interpreter what you written in cell(define means assingning to the variable)\n",
    " #   and in c,c++ we have to declare to interpreter that what type of data types you have been written in cell(declare means )\n",
    "    "
   ]
  },
  {
   "cell_type": "code",
   "execution_count": 31,
   "id": "69f14ce9",
   "metadata": {},
   "outputs": [
    {
     "name": "stdout",
     "output_type": "stream",
     "text": [
      "abc\n"
     ]
    }
   ],
   "source": [
    "print(\"abc\")"
   ]
  },
  {
   "cell_type": "markdown",
   "id": "d19274eb",
   "metadata": {},
   "source": [
    "# Expression\n",
    "- an expression is a piece of code (must include operators and operand )that evaluates to a value."
   ]
  },
  {
   "cell_type": "code",
   "execution_count": 3,
   "id": "94bbc3d6",
   "metadata": {},
   "outputs": [
    {
     "name": "stdout",
     "output_type": "stream",
     "text": [
      "abc\n"
     ]
    }
   ],
   "source": [
    "print('abc')"
   ]
  },
  {
   "cell_type": "code",
   "execution_count": null,
   "id": "2a35d7cc",
   "metadata": {},
   "outputs": [],
   "source": []
  },
  {
   "cell_type": "code",
   "execution_count": null,
   "id": "8b5d9e3f",
   "metadata": {},
   "outputs": [],
   "source": []
  },
  {
   "cell_type": "code",
   "execution_count": null,
   "id": "057f5ad1",
   "metadata": {},
   "outputs": [],
   "source": []
  },
  {
   "cell_type": "code",
   "execution_count": null,
   "id": "cab7076d",
   "metadata": {},
   "outputs": [],
   "source": []
  },
  {
   "cell_type": "code",
   "execution_count": null,
   "id": "e91fe0ea",
   "metadata": {},
   "outputs": [],
   "source": []
  }
 ],
 "metadata": {
  "kernelspec": {
   "display_name": "Python 3 (ipykernel)",
   "language": "python",
   "name": "python3"
  },
  "language_info": {
   "codemirror_mode": {
    "name": "ipython",
    "version": 3
   },
   "file_extension": ".py",
   "mimetype": "text/x-python",
   "name": "python",
   "nbconvert_exporter": "python",
   "pygments_lexer": "ipython3",
   "version": "3.10.9"
  }
 },
 "nbformat": 4,
 "nbformat_minor": 5
}
