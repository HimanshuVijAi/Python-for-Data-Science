{
 "cells": [
  {
   "cell_type": "markdown",
   "id": "b7401447",
   "metadata": {},
   "source": [
    "1 - Take a two digit integer from the user and print the digit at ones place separately."
   ]
  },
  {
   "cell_type": "code",
   "execution_count": null,
   "id": "1b92af61",
   "metadata": {},
   "outputs": [],
   "source": [
    "h = input(\"Two digit integer:\")          \n",
    "print(\"Two digit ones place:\",h[1])"
   ]
  },
  {
   "cell_type": "markdown",
   "id": "3817a18a",
   "metadata": {},
   "source": [
    "2 - Swapping of two values. Take input from the user."
   ]
  },
  {
   "cell_type": "code",
   "execution_count": 5,
   "id": "fd91a018",
   "metadata": {},
   "outputs": [
    {
     "name": "stdout",
     "output_type": "stream",
     "text": [
      "First value:456\n",
      "Second Value:999\n",
      "After Swapping:-\n",
      "First value: 999\n",
      "Second value: 456\n"
     ]
    }
   ],
   "source": [
    "a = input(\"First value:\")\n",
    "b = input(\"Second Value:\")\n",
    "\n",
    "r = a\n",
    "a = b\n",
    "b = r\n",
    "\n",
    "print(\"After Swapping:-\")\n",
    "print(\"First value:\",a)\n",
    "print(\"Second value:\",b)"
   ]
  },
  {
   "cell_type": "markdown",
   "id": "46f64cce",
   "metadata": {},
   "source": [
    "3 - Take any two numbers (two digit positive numbers) as inputs from the users multiply the numbers in this way."
   ]
  },
  {
   "cell_type": "code",
   "execution_count": 21,
   "id": "c8dcda9c",
   "metadata": {},
   "outputs": [],
   "source": [
    "# 25\n",
    "# 35\n",
    "# 5*3 + 2*5 = 25"
   ]
  },
  {
   "cell_type": "code",
   "execution_count": 3,
   "id": "4ccea499",
   "metadata": {
    "scrolled": true
   },
   "outputs": [
    {
     "name": "stdout",
     "output_type": "stream",
     "text": [
      "First value:35\n",
      "Second value:67\n",
      "Cross Multiplication: 51\n"
     ]
    }
   ],
   "source": [
    "e = input(\"First value:\")\n",
    "t = input(\"Second value:\")\n",
    "\n",
    "r = int(e[0])\n",
    "q = int(e[1])\n",
    "y = int(t[0])\n",
    "z = int(t[1])\n",
    "\n",
    "k = r*z\n",
    "u = q*y\n",
    "print(\"Cross Multiplication:\",k+u)"
   ]
  },
  {
   "cell_type": "markdown",
   "id": "9be437df",
   "metadata": {},
   "source": [
    "4 - Find average of two numbers"
   ]
  },
  {
   "cell_type": "code",
   "execution_count": 5,
   "id": "202bc2e1",
   "metadata": {},
   "outputs": [
    {
     "name": "stdout",
     "output_type": "stream",
     "text": [
      "15.0\n"
     ]
    }
   ],
   "source": [
    "a = 20\n",
    "b = 10\n",
    "\n",
    "r = (a+b)/2\n",
    "print(r)"
   ]
  },
  {
   "cell_type": "markdown",
   "id": "289cefe6",
   "metadata": {},
   "source": [
    "5 - Take two numbers (two digit positive numbers)as inputs from the users and add two numbers in this way x+y = z\n",
    "\n",
    "e.g. 25+36 = 2536"
   ]
  },
  {
   "cell_type": "code",
   "execution_count": 1,
   "id": "d0017294",
   "metadata": {},
   "outputs": [
    {
     "name": "stdout",
     "output_type": "stream",
     "text": [
      "First numbers :25\n",
      "Second numbers:35\n",
      "\n",
      "\n",
      "Adding two numbers: 2535\n"
     ]
    }
   ],
   "source": [
    "a = input(\"First numbers :\")\n",
    "b = input(\"Second numbers:\")\n",
    "\n",
    "t = a+b\n",
    "print(\"\\n\")\n",
    "print(\"Adding two numbers:\",t)"
   ]
  },
  {
   "cell_type": "markdown",
   "id": "cc29edd9",
   "metadata": {},
   "source": [
    "6 - program to check wheather a number is even or odd"
   ]
  },
  {
   "cell_type": "code",
   "execution_count": 19,
   "id": "c3206682",
   "metadata": {},
   "outputs": [
    {
     "name": "stdout",
     "output_type": "stream",
     "text": [
      "4567575759\n",
      "The number is odd\n"
     ]
    }
   ],
   "source": [
    "a = int(input())\n",
    "if a%2==0:\n",
    "    print(\"The number is even\")\n",
    "else:\n",
    "    print(\"The number is odd\")"
   ]
  },
  {
   "cell_type": "markdown",
   "id": "47319404",
   "metadata": {},
   "source": [
    "7 - Program to check wheather a number is 'Pallindrome number'.\n",
    "\n",
    "e.g. 121,131,555,23432"
   ]
  },
  {
   "cell_type": "code",
   "execution_count": 17,
   "id": "a794d278",
   "metadata": {},
   "outputs": [
    {
     "name": "stdout",
     "output_type": "stream",
     "text": [
      "23\n",
      "No,It Is Not a Pallindrome Number\n"
     ]
    }
   ],
   "source": [
    "a = input()\n",
    "if a==a[::-1]:\n",
    "    \n",
    "    print(\"Yes,It Is a Pallindrome Number\")\n",
    "else:\n",
    "    print(\"No,It Is Not a Pallindrome Number\")"
   ]
  },
  {
   "cell_type": "markdown",
   "id": "3516ff0b",
   "metadata": {},
   "source": [
    "8 - Write a code to display the name of 10 students through their Roll Number(by user)."
   ]
  },
  {
   "cell_type": "code",
   "execution_count": 15,
   "id": "0322c5ad",
   "metadata": {},
   "outputs": [
    {
     "name": "stdout",
     "output_type": "stream",
     "text": [
      "Roll Number: 4\n",
      "Sansu\n"
     ]
    }
   ],
   "source": [
    "a = int(input(\"Roll Number: \"))\n",
    "if a == 1:\n",
    "    print(\"Rishi\")\n",
    "elif a ==2:\n",
    "    print(\"Rohit\")\n",
    "elif a ==3:\n",
    "    print(\"Gaurav\")\n",
    "elif a ==4:\n",
    "    print(\"Sansu\")\n",
    "elif a ==5:\n",
    "    print(\"Arjun\")\n",
    "elif a ==6:\n",
    "    print(\"Bhumika\")\n",
    "elif a ==7:\n",
    "    print(\"Priyanshu\")\n",
    "elif a ==8:\n",
    "    print(\"Pushpendra\")\n",
    "elif a ==9:\n",
    "    print(\"Himanshu\")\n",
    "elif a ==10:\n",
    "    print(\"Nitin\")\n",
    "else:\n",
    "    print(\"end\")"
   ]
  },
  {
   "cell_type": "markdown",
   "id": "b10cc995",
   "metadata": {},
   "source": [
    "9 - Remove first 'N' Characters from a String."
   ]
  },
  {
   "cell_type": "code",
   "execution_count": 9,
   "id": "215d80df",
   "metadata": {},
   "outputs": [
    {
     "data": {
      "text/plain": [
       "['', 'World']"
      ]
     },
     "execution_count": 9,
     "metadata": {},
     "output_type": "execute_result"
    }
   ],
   "source": [
    "d = \"Hello New World\"\n",
    "d.split(\"Hello New \")"
   ]
  },
  {
   "cell_type": "code",
   "execution_count": 3,
   "id": "0f96651d",
   "metadata": {},
   "outputs": [
    {
     "name": "stdout",
     "output_type": "stream",
     "text": [
      "[1, 2, 3, 4, 5, 7]\n"
     ]
    }
   ],
   "source": [
    "d = [1,2,3,4,5]\n",
    "d.insert(6,7)\n",
    "print(d)"
   ]
  },
  {
   "cell_type": "markdown",
   "id": "b09d6cac",
   "metadata": {},
   "source": [
    "10 - Return the 'COUNT' of a given SUBSTRING from the String."
   ]
  },
  {
   "cell_type": "code",
   "execution_count": null,
   "id": "4d93cb0d",
   "metadata": {},
   "outputs": [],
   "source": []
  },
  {
   "cell_type": "markdown",
   "id": "226ea75b",
   "metadata": {},
   "source": [
    "11 - Print characters from the strings that are present at an even index numbers."
   ]
  },
  {
   "cell_type": "code",
   "execution_count": 2,
   "id": "accc59a2",
   "metadata": {},
   "outputs": [
    {
     "data": {
      "text/plain": [
       "'HLOEEYN'"
      ]
     },
     "execution_count": 2,
     "metadata": {},
     "output_type": "execute_result"
    }
   ],
   "source": [
    "d = \"HeLlO EvErYoNe\"\n",
    "d[::2]"
   ]
  }
 ],
 "metadata": {
  "kernelspec": {
   "display_name": "Python 3 (ipykernel)",
   "language": "python",
   "name": "python3"
  },
  "language_info": {
   "codemirror_mode": {
    "name": "ipython",
    "version": 3
   },
   "file_extension": ".py",
   "mimetype": "text/x-python",
   "name": "python",
   "nbconvert_exporter": "python",
   "pygments_lexer": "ipython3",
   "version": "3.10.9"
  }
 },
 "nbformat": 4,
 "nbformat_minor": 5
}
