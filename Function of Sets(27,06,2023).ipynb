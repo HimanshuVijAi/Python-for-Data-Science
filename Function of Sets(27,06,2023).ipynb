{
 "cells": [
  {
   "cell_type": "markdown",
   "id": "c6afcff8",
   "metadata": {},
   "source": [
    "# Function For Sets"
   ]
  },
  {
   "cell_type": "code",
   "execution_count": 3,
   "id": "923641a1",
   "metadata": {
    "scrolled": true
   },
   "outputs": [
    {
     "data": {
      "text/plain": [
       "3"
      ]
     },
     "execution_count": 3,
     "metadata": {},
     "output_type": "execute_result"
    }
   ],
   "source": [
    "# finding length of the set\n",
    "a = {1,2,3}\n",
    "len(a)"
   ]
  },
  {
   "cell_type": "code",
   "execution_count": 4,
   "id": "cb02fcf3",
   "metadata": {},
   "outputs": [
    {
     "name": "stdout",
     "output_type": "stream",
     "text": [
      "1\n",
      "78\n"
     ]
    }
   ],
   "source": [
    "# minimum and maximum values\n",
    "a = {1,2,3,4,5,78}\n",
    "print(min(a))\n",
    "print(max(a))"
   ]
  },
  {
   "cell_type": "code",
   "execution_count": 6,
   "id": "cbd3497f",
   "metadata": {},
   "outputs": [
    {
     "name": "stdout",
     "output_type": "stream",
     "text": [
      "224\n"
     ]
    }
   ],
   "source": [
    "# Adding all the values inside a set\n",
    "x = {45,89,90}\n",
    "print(sum(x))"
   ]
  },
  {
   "cell_type": "code",
   "execution_count": 7,
   "id": "8cdea086",
   "metadata": {},
   "outputs": [
    {
     "data": {
      "text/plain": [
       "'A'"
      ]
     },
     "execution_count": 7,
     "metadata": {},
     "output_type": "execute_result"
    }
   ],
   "source": [
    "min({\"A\",\"a\"})"
   ]
  },
  {
   "cell_type": "code",
   "execution_count": 8,
   "id": "cbf7a31f",
   "metadata": {},
   "outputs": [
    {
     "data": {
      "text/plain": [
       "'a'"
      ]
     },
     "execution_count": 8,
     "metadata": {},
     "output_type": "execute_result"
    }
   ],
   "source": [
    "min({\"a\",\"b\"})"
   ]
  },
  {
   "cell_type": "code",
   "execution_count": 9,
   "id": "41d02da6",
   "metadata": {},
   "outputs": [
    {
     "data": {
      "text/plain": [
       "'a'"
      ]
     },
     "execution_count": 9,
     "metadata": {},
     "output_type": "execute_result"
    }
   ],
   "source": [
    "max({\"A\",\"a\"})"
   ]
  },
  {
   "cell_type": "code",
   "execution_count": 10,
   "id": "4bf942ed",
   "metadata": {},
   "outputs": [
    {
     "data": {
      "text/plain": [
       "'b'"
      ]
     },
     "execution_count": 10,
     "metadata": {},
     "output_type": "execute_result"
    }
   ],
   "source": [
    "max({\"B\",\"b\"})"
   ]
  },
  {
   "cell_type": "code",
   "execution_count": 8,
   "id": "685f1ad1",
   "metadata": {},
   "outputs": [
    {
     "ename": "AttributeError",
     "evalue": "'set' object has no attribute 'isempty'",
     "output_type": "error",
     "traceback": [
      "\u001b[1;31m---------------------------------------------------------------------------\u001b[0m",
      "\u001b[1;31mAttributeError\u001b[0m                            Traceback (most recent call last)",
      "Cell \u001b[1;32mIn[8], line 3\u001b[0m\n\u001b[0;32m      1\u001b[0m x \u001b[38;5;241m=\u001b[39m {\u001b[38;5;241m1\u001b[39m,\u001b[38;5;241m2\u001b[39m,\u001b[38;5;241m3\u001b[39m,\u001b[38;5;241m4\u001b[39m}\n\u001b[0;32m      2\u001b[0m y \u001b[38;5;241m=\u001b[39m {\u001b[38;5;241m5\u001b[39m,\u001b[38;5;241m6\u001b[39m,\u001b[38;5;241m7\u001b[39m,\u001b[38;5;241m8\u001b[39m}\n\u001b[1;32m----> 3\u001b[0m \u001b[43mx\u001b[49m\u001b[38;5;241;43m.\u001b[39;49m\u001b[43misempty\u001b[49m(y)\n",
      "\u001b[1;31mAttributeError\u001b[0m: 'set' object has no attribute 'isempty'"
     ]
    }
   ],
   "source": [
    "x = {1,2,3,4}\n",
    "y = {5,6,7,8}\n",
    "x.isempty(y)"
   ]
  },
  {
   "cell_type": "code",
   "execution_count": null,
   "id": "26d09629",
   "metadata": {},
   "outputs": [],
   "source": []
  }
 ],
 "metadata": {
  "kernelspec": {
   "display_name": "Python 3 (ipykernel)",
   "language": "python",
   "name": "python3"
  },
  "language_info": {
   "codemirror_mode": {
    "name": "ipython",
    "version": 3
   },
   "file_extension": ".py",
   "mimetype": "text/x-python",
   "name": "python",
   "nbconvert_exporter": "python",
   "pygments_lexer": "ipython3",
   "version": "3.10.9"
  }
 },
 "nbformat": 4,
 "nbformat_minor": 5
}
