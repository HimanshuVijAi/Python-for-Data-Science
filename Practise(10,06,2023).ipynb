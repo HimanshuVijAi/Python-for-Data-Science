{
 "cells": [
  {
   "cell_type": "code",
   "execution_count": 1,
   "id": "d9170df4",
   "metadata": {},
   "outputs": [
    {
     "ename": "NameError",
     "evalue": "name 'x' is not defined",
     "output_type": "error",
     "traceback": [
      "\u001b[1;31m---------------------------------------------------------------------------\u001b[0m",
      "\u001b[1;31mNameError\u001b[0m                                 Traceback (most recent call last)",
      "Cell \u001b[1;32mIn[1], line 1\u001b[0m\n\u001b[1;32m----> 1\u001b[0m \u001b[38;5;28mprint\u001b[39m(\u001b[43mx\u001b[49m\u001b[38;5;241m+\u001b[39m\u001b[38;5;241m23\u001b[39m)\n",
      "\u001b[1;31mNameError\u001b[0m: name 'x' is not defined"
     ]
    }
   ],
   "source": [
    "print(x+23)"
   ]
  },
  {
   "cell_type": "code",
   "execution_count": 2,
   "id": "73f41b86",
   "metadata": {},
   "outputs": [
    {
     "ename": "NameError",
     "evalue": "name 'x' is not defined",
     "output_type": "error",
     "traceback": [
      "\u001b[1;31m---------------------------------------------------------------------------\u001b[0m",
      "\u001b[1;31mNameError\u001b[0m                                 Traceback (most recent call last)",
      "Cell \u001b[1;32mIn[2], line 1\u001b[0m\n\u001b[1;32m----> 1\u001b[0m \u001b[38;5;28mprint\u001b[39m(\u001b[38;5;241m23\u001b[39m\u001b[38;5;241m+\u001b[39m\u001b[43mx\u001b[49m)\n",
      "\u001b[1;31mNameError\u001b[0m: name 'x' is not defined"
     ]
    }
   ],
   "source": [
    "print(23+x)"
   ]
  },
  {
   "cell_type": "code",
   "execution_count": 3,
   "id": "6b02f29b",
   "metadata": {
    "scrolled": true
   },
   "outputs": [
    {
     "ename": "TypeError",
     "evalue": "can only concatenate str (not \"int\") to str",
     "output_type": "error",
     "traceback": [
      "\u001b[1;31m---------------------------------------------------------------------------\u001b[0m",
      "\u001b[1;31mTypeError\u001b[0m                                 Traceback (most recent call last)",
      "Cell \u001b[1;32mIn[3], line 1\u001b[0m\n\u001b[1;32m----> 1\u001b[0m \u001b[38;5;28mprint\u001b[39m(\u001b[38;5;124;43m'\u001b[39;49m\u001b[38;5;124;43mx\u001b[39;49m\u001b[38;5;124;43m'\u001b[39;49m\u001b[38;5;241;43m+\u001b[39;49m\u001b[38;5;241;43m23\u001b[39;49m)\n",
      "\u001b[1;31mTypeError\u001b[0m: can only concatenate str (not \"int\") to str"
     ]
    }
   ],
   "source": [
    "print('x'+23)"
   ]
  },
  {
   "cell_type": "code",
   "execution_count": 4,
   "id": "a24941c4",
   "metadata": {},
   "outputs": [
    {
     "ename": "NameError",
     "evalue": "name 'x' is not defined",
     "output_type": "error",
     "traceback": [
      "\u001b[1;31m---------------------------------------------------------------------------\u001b[0m",
      "\u001b[1;31mNameError\u001b[0m                                 Traceback (most recent call last)",
      "Cell \u001b[1;32mIn[4], line 1\u001b[0m\n\u001b[1;32m----> 1\u001b[0m \u001b[38;5;28mprint\u001b[39m(\u001b[43mx\u001b[49m\u001b[38;5;241m+\u001b[39m\u001b[38;5;28;01mTrue\u001b[39;00m)\n",
      "\u001b[1;31mNameError\u001b[0m: name 'x' is not defined"
     ]
    }
   ],
   "source": [
    "print(x+True)"
   ]
  },
  {
   "cell_type": "code",
   "execution_count": 5,
   "id": "c66259fe",
   "metadata": {},
   "outputs": [
    {
     "ename": "NameError",
     "evalue": "name 'x' is not defined",
     "output_type": "error",
     "traceback": [
      "\u001b[1;31m---------------------------------------------------------------------------\u001b[0m",
      "\u001b[1;31mNameError\u001b[0m                                 Traceback (most recent call last)",
      "Cell \u001b[1;32mIn[5], line 1\u001b[0m\n\u001b[1;32m----> 1\u001b[0m \u001b[38;5;28mprint\u001b[39m(\u001b[38;5;28;01mFalse\u001b[39;00m\u001b[38;5;241m+\u001b[39m\u001b[43mx\u001b[49m)\n",
      "\u001b[1;31mNameError\u001b[0m: name 'x' is not defined"
     ]
    }
   ],
   "source": [
    "print(False+x)"
   ]
  },
  {
   "cell_type": "code",
   "execution_count": 7,
   "id": "ef6e75d8",
   "metadata": {},
   "outputs": [
    {
     "ename": "NameError",
     "evalue": "name 'x' is not defined",
     "output_type": "error",
     "traceback": [
      "\u001b[1;31m---------------------------------------------------------------------------\u001b[0m",
      "\u001b[1;31mNameError\u001b[0m                                 Traceback (most recent call last)",
      "Cell \u001b[1;32mIn[7], line 1\u001b[0m\n\u001b[1;32m----> 1\u001b[0m \u001b[38;5;28mprint\u001b[39m(\u001b[43mx\u001b[49m\u001b[38;5;241m+\u001b[39m\u001b[38;5;241m43\u001b[39mj)\n",
      "\u001b[1;31mNameError\u001b[0m: name 'x' is not defined"
     ]
    }
   ],
   "source": [
    "print(x+43j)"
   ]
  },
  {
   "cell_type": "code",
   "execution_count": 8,
   "id": "28d7ff22",
   "metadata": {},
   "outputs": [
    {
     "ename": "NameError",
     "evalue": "name 'x' is not defined",
     "output_type": "error",
     "traceback": [
      "\u001b[1;31m---------------------------------------------------------------------------\u001b[0m",
      "\u001b[1;31mNameError\u001b[0m                                 Traceback (most recent call last)",
      "Cell \u001b[1;32mIn[8], line 1\u001b[0m\n\u001b[1;32m----> 1\u001b[0m \u001b[38;5;28mprint\u001b[39m(\u001b[38;5;241m34\u001b[39mj\u001b[38;5;241m+\u001b[39m\u001b[43mx\u001b[49m)\n",
      "\u001b[1;31mNameError\u001b[0m: name 'x' is not defined"
     ]
    }
   ],
   "source": [
    "print(34j+x)"
   ]
  },
  {
   "cell_type": "code",
   "execution_count": 10,
   "id": "96cf8a4a",
   "metadata": {},
   "outputs": [],
   "source": [
    "None"
   ]
  },
  {
   "cell_type": "code",
   "execution_count": 11,
   "id": "1322428b",
   "metadata": {},
   "outputs": [
    {
     "data": {
      "text/plain": [
       "'x'"
      ]
     },
     "execution_count": 11,
     "metadata": {},
     "output_type": "execute_result"
    }
   ],
   "source": [
    "\"x\""
   ]
  },
  {
   "cell_type": "code",
   "execution_count": 1,
   "id": "8f95de20",
   "metadata": {},
   "outputs": [
    {
     "name": "stdout",
     "output_type": "stream",
     "text": [
      "Enter salary; 11111\n"
     ]
    },
    {
     "ename": "TypeError",
     "evalue": "'salary' is an invalid keyword argument for print()",
     "output_type": "error",
     "traceback": [
      "\u001b[1;31m---------------------------------------------------------------------------\u001b[0m",
      "\u001b[1;31mTypeError\u001b[0m                                 Traceback (most recent call last)",
      "Cell \u001b[1;32mIn[1], line 1\u001b[0m\n\u001b[1;32m----> 1\u001b[0m \u001b[38;5;28;43mprint\u001b[39;49m\u001b[43m(\u001b[49m\u001b[38;5;124;43m'\u001b[39;49m\u001b[38;5;130;43;01m\\n\u001b[39;49;00m\u001b[38;5;124;43m'\u001b[39;49m\u001b[43m \u001b[49m\u001b[43m,\u001b[49m\u001b[43m \u001b[49m\u001b[43msalary\u001b[49m\u001b[43m \u001b[49m\u001b[38;5;241;43m=\u001b[39;49m\u001b[43m \u001b[49m\u001b[38;5;28;43mint\u001b[39;49m\u001b[43m(\u001b[49m\u001b[38;5;28;43minput\u001b[39;49m\u001b[43m(\u001b[49m\u001b[38;5;124;43m'\u001b[39;49m\u001b[38;5;124;43mEnter salary; \u001b[39;49m\u001b[38;5;124;43m'\u001b[39;49m\u001b[43m)\u001b[49m\u001b[43m)\u001b[49m\u001b[43m)\u001b[49m\n",
      "\u001b[1;31mTypeError\u001b[0m: 'salary' is an invalid keyword argument for print()"
     ]
    }
   ],
   "source": [
    "print('\\n' , salary = int(input('Enter salary; ')))"
   ]
  },
  {
   "cell_type": "code",
   "execution_count": 10,
   "id": "37ffc6c7",
   "metadata": {},
   "outputs": [
    {
     "name": "stdout",
     "output_type": "stream",
     "text": [
      "\n",
      "\n",
      "Enter salary; 111111\n"
     ]
    }
   ],
   "source": [
    "print(\"\\n\") \n",
    "employe = int(input('Enter salary; '))"
   ]
  },
  {
   "cell_type": "code",
   "execution_count": 5,
   "id": "ca412bec",
   "metadata": {},
   "outputs": [
    {
     "name": "stdout",
     "output_type": "stream",
     "text": [
      "Enter salary; 11111\n"
     ]
    }
   ],
   "source": [
    "employe = int(input('Enter salary; '))"
   ]
  },
  {
   "cell_type": "code",
   "execution_count": 11,
   "id": "0708bf32",
   "metadata": {},
   "outputs": [
    {
     "ename": "TypeError",
     "evalue": "'x' is an invalid keyword argument for print()",
     "output_type": "error",
     "traceback": [
      "\u001b[1;31m---------------------------------------------------------------------------\u001b[0m",
      "\u001b[1;31mTypeError\u001b[0m                                 Traceback (most recent call last)",
      "Cell \u001b[1;32mIn[11], line 1\u001b[0m\n\u001b[1;32m----> 1\u001b[0m \u001b[38;5;28;43mprint\u001b[39;49m\u001b[43m(\u001b[49m\u001b[43mx\u001b[49m\u001b[43m \u001b[49m\u001b[38;5;241;43m=\u001b[39;49m\u001b[43m \u001b[49m\u001b[38;5;241;43m10\u001b[39;49m\u001b[43m)\u001b[49m\n",
      "\u001b[1;31mTypeError\u001b[0m: 'x' is an invalid keyword argument for print()"
     ]
    }
   ],
   "source": [
    "print(x = 10)      # "
   ]
  },
  {
   "cell_type": "code",
   "execution_count": 3,
   "id": "c682afbe",
   "metadata": {},
   "outputs": [
    {
     "name": "stdout",
     "output_type": "stream",
     "text": [
      "Name\\Subjects      :\tphysics      \tchemistry\tMaths\n",
      "parth              :   \t34          \t56        \t38  \n",
      "Rohit              :   \t56          \t96        \t86  \n",
      "Nitin              :   \t46          \t67        \t77  \n"
     ]
    }
   ],
   "source": [
    "print(\"Name\\\\Subjects      :\\tphysics      \\tchemistry\\tMaths\") \n",
    "print(\"parth              :   \\t34          \\t56        \\t38  \")\n",
    "print(\"Rohit              :   \\t56          \\t96        \\t86  \")\n",
    "print(\"Nitin              :   \\t46          \\t67        \\t77  \")"
   ]
  },
  {
   "cell_type": "markdown",
   "id": "51e1485e",
   "metadata": {},
   "source": [
    "Question.Take a 2 digit integer as input from the user print the digit the ones place separately "
   ]
  },
  {
   "cell_type": "code",
   "execution_count": 14,
   "id": "9b8f3d7f",
   "metadata": {},
   "outputs": [
    {
     "name": "stdout",
     "output_type": "stream",
     "text": [
      "2\n"
     ]
    }
   ],
   "source": [
    "n = 2%12\n",
    "print(n)"
   ]
  },
  {
   "cell_type": "markdown",
   "id": "cbc6999c",
   "metadata": {},
   "source": [
    "Question.Take two numbers(positive integers)as input take feom the user add the two numbers in this way 25+59:2559"
   ]
  },
  {
   "cell_type": "code",
   "execution_count": 1,
   "id": "e8ec3d57",
   "metadata": {},
   "outputs": [
    {
     "name": "stdout",
     "output_type": "stream",
     "text": [
      "295+369=295369\n"
     ]
    }
   ],
   "source": [
    "w = input(\"295+369\")"
   ]
  },
  {
   "cell_type": "code",
   "execution_count": 1,
   "id": "d093d0ef",
   "metadata": {},
   "outputs": [
    {
     "name": "stdout",
     "output_type": "stream",
     "text": [
      "Positive integer25\n",
      "Positive integer59\n",
      "\n",
      "\n",
      "2559\n",
      "2559=25+59\n"
     ]
    }
   ],
   "source": [
    "s = input(\"Positive integer\")\n",
    "e = input(\"Positive integer\")\n",
    "print(\"\\n\")\n",
    "\n",
    "q = s+e\n",
    "print(q)\n",
    "t =input(\"25\"+\"59\")"
   ]
  },
  {
   "cell_type": "code",
   "execution_count": 4,
   "id": "6edd1f0a",
   "metadata": {},
   "outputs": [
    {
     "name": "stdout",
     "output_type": "stream",
     "text": [
      "2559=25+59\n"
     ]
    }
   ],
   "source": [
    "t =input(\"25\"+\"59\")"
   ]
  },
  {
   "cell_type": "markdown",
   "id": "0434720f",
   "metadata": {},
   "source": [
    "Question.Take any two numbers(two digit positive integer)as input from the user? as 25   (cross multiplication)\n",
    "                                                                                    35\n",
    "        5*3+2*5=25\n",
    "\n"
   ]
  },
  {
   "cell_type": "code",
   "execution_count": 4,
   "id": "b1f584ea",
   "metadata": {},
   "outputs": [
    {
     "name": "stdout",
     "output_type": "stream",
     "text": [
      "5*3+2*5=25\n"
     ]
    }
   ],
   "source": [
    "q = input(\"5*3+2*5\")"
   ]
  },
  {
   "cell_type": "code",
   "execution_count": 9,
   "id": "031ec855",
   "metadata": {},
   "outputs": [
    {
     "name": "stdout",
     "output_type": "stream",
     "text": [
      "Two numbers51\n",
      "Two numbers61\n",
      "5161\n"
     ]
    }
   ],
   "source": [
    "s = input(\"Two numbers\")\n",
    "e = input(\"Two numbers\")\n",
    "\n",
    "print(s+e)\n"
   ]
  },
  {
   "cell_type": "code",
   "execution_count": 4,
   "id": "415a3120",
   "metadata": {},
   "outputs": [
    {
     "name": "stdout",
     "output_type": "stream",
     "text": [
      "D [11]\n"
     ]
    }
   ],
   "source": [
    "example = \"iam a Data scientist \"\n",
    "print(example[6],[11])"
   ]
  },
  {
   "cell_type": "code",
   "execution_count": 5,
   "id": "e5211ab0",
   "metadata": {},
   "outputs": [
    {
     "name": "stdout",
     "output_type": "stream",
     "text": [
      "D s\n"
     ]
    }
   ],
   "source": [
    "example = \"iam a Data scientist \"\n",
    "print(example[6],example[11])"
   ]
  },
  {
   "cell_type": "code",
   "execution_count": 9,
   "id": "9d7133c4",
   "metadata": {},
   "outputs": [
    {
     "name": "stdout",
     "output_type": "stream",
     "text": [
      "T E E N\n"
     ]
    }
   ],
   "source": [
    "A = \"PYTHON IS EASY\"\n",
    "print(A[-12],A[10],A[-4],A[5])"
   ]
  },
  {
   "cell_type": "code",
   "execution_count": null,
   "id": "8ae2dfe9",
   "metadata": {},
   "outputs": [],
   "source": []
  },
  {
   "cell_type": "code",
   "execution_count": null,
   "id": "07475178",
   "metadata": {},
   "outputs": [],
   "source": []
  },
  {
   "cell_type": "code",
   "execution_count": null,
   "id": "b2435af6",
   "metadata": {},
   "outputs": [],
   "source": []
  }
 ],
 "metadata": {
  "kernelspec": {
   "display_name": "Python 3 (ipykernel)",
   "language": "python",
   "name": "python3"
  },
  "language_info": {
   "codemirror_mode": {
    "name": "ipython",
    "version": 3
   },
   "file_extension": ".py",
   "mimetype": "text/x-python",
   "name": "python",
   "nbconvert_exporter": "python",
   "pygments_lexer": "ipython3",
   "version": "3.10.9"
  }
 },
 "nbformat": 4,
 "nbformat_minor": 5
}
