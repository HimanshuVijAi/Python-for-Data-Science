{
 "cells": [
  {
   "cell_type": "code",
   "execution_count": 3,
   "id": "0509ae0a",
   "metadata": {},
   "outputs": [
    {
     "name": "stdout",
     "output_type": "stream",
     "text": [
      "hello world\n"
     ]
    }
   ],
   "source": [
    "print(\"hello world\")"
   ]
  },
  {
   "cell_type": "code",
   "execution_count": 4,
   "id": "14bba1ca",
   "metadata": {},
   "outputs": [
    {
     "name": "stdout",
     "output_type": "stream",
     "text": [
      "hello world\n"
     ]
    },
    {
     "data": {
      "text/plain": [
       "NoneType"
      ]
     },
     "execution_count": 4,
     "metadata": {},
     "output_type": "execute_result"
    }
   ],
   "source": [
    "type(print(\"hello world\"))"
   ]
  },
  {
   "cell_type": "code",
   "execution_count": 6,
   "id": "2a12b415",
   "metadata": {},
   "outputs": [
    {
     "name": "stdout",
     "output_type": "stream",
     "text": [
      "123j\n"
     ]
    },
    {
     "data": {
      "text/plain": [
       "NoneType"
      ]
     },
     "execution_count": 6,
     "metadata": {},
     "output_type": "execute_result"
    }
   ],
   "source": [
    "type(print(123j))"
   ]
  },
  {
   "cell_type": "code",
   "execution_count": 10,
   "id": "c73c5a45",
   "metadata": {},
   "outputs": [
    {
     "name": "stdout",
     "output_type": "stream",
     "text": [
      "123\n"
     ]
    },
    {
     "data": {
      "text/plain": [
       "str"
      ]
     },
     "execution_count": 10,
     "metadata": {},
     "output_type": "execute_result"
    }
   ],
   "source": [
    "r = input()\n",
    "type(r)"
   ]
  },
  {
   "cell_type": "code",
   "execution_count": 8,
   "id": "806a983b",
   "metadata": {},
   "outputs": [
    {
     "data": {
      "text/plain": [
       "int"
      ]
     },
     "execution_count": 8,
     "metadata": {},
     "output_type": "execute_result"
    }
   ],
   "source": [
    "type(123)"
   ]
  },
  {
   "cell_type": "code",
   "execution_count": 14,
   "id": "efad1299",
   "metadata": {},
   "outputs": [
    {
     "name": "stdout",
     "output_type": "stream",
     "text": [
      "123\n"
     ]
    },
    {
     "data": {
      "text/plain": [
       "123"
      ]
     },
     "execution_count": 14,
     "metadata": {},
     "output_type": "execute_result"
    }
   ],
   "source": [
    "def add(a,b):\n",
    "    sum = a+b\n",
    "    print(sum)\n",
    "    return 123\n",
    "add(45,78)    "
   ]
  },
  {
   "cell_type": "code",
   "execution_count": 20,
   "id": "64ec3fb6",
   "metadata": {},
   "outputs": [
    {
     "name": "stdout",
     "output_type": "stream",
     "text": [
      "<built-in function sum>\n",
      "123\n"
     ]
    }
   ],
   "source": [
    "def add(a,b):\n",
    "    sum = a+b\n",
    "    print(sum)\n",
    "    \n",
    "\n",
    "    \n",
    "type(print(sum))\n",
    "add(45,78)    "
   ]
  },
  {
   "cell_type": "code",
   "execution_count": 15,
   "id": "c1f80a35",
   "metadata": {},
   "outputs": [
    {
     "name": "stdout",
     "output_type": "stream",
     "text": [
      "<built-in function sum>\n"
     ]
    },
    {
     "data": {
      "text/plain": [
       "NoneType"
      ]
     },
     "execution_count": 15,
     "metadata": {},
     "output_type": "execute_result"
    }
   ],
   "source": [
    "type(print(sum))"
   ]
  },
  {
   "cell_type": "markdown",
   "id": "d2943dea",
   "metadata": {},
   "source": [
    "# Returning multiple values from a function"
   ]
  },
  {
   "cell_type": "code",
   "execution_count": 1,
   "id": "e2fd4a33",
   "metadata": {},
   "outputs": [
    {
     "name": "stdout",
     "output_type": "stream",
     "text": [
      "hello\n",
      "67\n"
     ]
    }
   ],
   "source": [
    "a,b = (\"hello\",67)\n",
    "print(a)\n",
    "print(b)"
   ]
  },
  {
   "cell_type": "code",
   "execution_count": 9,
   "id": "39997edc",
   "metadata": {},
   "outputs": [
    {
     "name": "stdout",
     "output_type": "stream",
     "text": [
      "(12, 8, 20, 5.0)\n"
     ]
    }
   ],
   "source": [
    "def calculator(a,b):\n",
    "    sum = a+b\n",
    "    diff = a-b\n",
    "    product = a*b\n",
    "    div = a/b\n",
    "    \n",
    "    return sum,diff,product,div   # returns the values in the form of a tuple\n",
    "\n",
    "x = calculator(10,2)\n",
    "print(x)"
   ]
  },
  {
   "cell_type": "code",
   "execution_count": 10,
   "id": "7494fc67",
   "metadata": {},
   "outputs": [
    {
     "name": "stdout",
     "output_type": "stream",
     "text": [
      "[12, 8, 20, 5.0]\n"
     ]
    }
   ],
   "source": [
    "def calculator(a,b):\n",
    "    sum = a+b\n",
    "    diff = a-b\n",
    "    product = a*b\n",
    "    div = a/b\n",
    "    \n",
    "    return [sum,diff,product,div]   # returns the values in the form of a list\n",
    "\n",
    "x = calculator(10,2)\n",
    "print(x)"
   ]
  },
  {
   "cell_type": "code",
   "execution_count": 12,
   "id": "dfd6d865",
   "metadata": {},
   "outputs": [
    {
     "name": "stdout",
     "output_type": "stream",
     "text": [
      "{8, 5.0, 12, 20}\n"
     ]
    }
   ],
   "source": [
    "def calculator(a,b):\n",
    "    sum = a+b\n",
    "    diff = a-b\n",
    "    product = a*b\n",
    "    div = a/b\n",
    "    \n",
    "    return {sum,diff,product,div}   # returns the values in the form of a set.\n",
    "\n",
    "x = calculator(10,2)\n",
    "print(x)\n"
   ]
  },
  {
   "cell_type": "code",
   "execution_count": 14,
   "id": "faa6fc0c",
   "metadata": {},
   "outputs": [
    {
     "name": "stdout",
     "output_type": "stream",
     "text": [
      "12 8 20 5.0\n"
     ]
    }
   ],
   "source": [
    "def calculator(a,b):\n",
    "    sum = a+b\n",
    "    diff = a-b\n",
    "    product = a*b\n",
    "    div = a/b\n",
    "    \n",
    "    return sum,diff,product,div   # returns the values in the form of a set.\n",
    "\n",
    "p,q,r,s = calculator(10,2)\n",
    "print(p,q,r,s)\n"
   ]
  },
  {
   "cell_type": "code",
   "execution_count": 2,
   "id": "6c4fd416",
   "metadata": {},
   "outputs": [
    {
     "ename": "IndentationError",
     "evalue": "unexpected indent (1686539825.py, line 4)",
     "output_type": "error",
     "traceback": [
      "\u001b[1;36m  Cell \u001b[1;32mIn[2], line 4\u001b[1;36m\u001b[0m\n\u001b[1;33m    return product\u001b[0m\n\u001b[1;37m    ^\u001b[0m\n\u001b[1;31mIndentationError\u001b[0m\u001b[1;31m:\u001b[0m unexpected indent\n"
     ]
    }
   ],
   "source": [
    "y = calculator(8,4)\n",
    "    \n",
    "\n",
    "    return product\n",
    "print(y)"
   ]
  },
  {
   "cell_type": "markdown",
   "id": "ced827a0",
   "metadata": {},
   "source": [
    "# Using Docstrings in Functions"
   ]
  },
  {
   "cell_type": "markdown",
   "id": "26aa85f1",
   "metadata": {},
   "source": [
    "#### Single-line docstrings"
   ]
  },
  {
   "cell_type": "code",
   "execution_count": 3,
   "id": "85084e99",
   "metadata": {},
   "outputs": [],
   "source": [
    "def show_result():\n",
    "    \"\"\"Let us understand docstrinngs\"\"\"\n",
    "    print(\"This is a Test program\")"
   ]
  },
  {
   "cell_type": "code",
   "execution_count": 37,
   "id": "d6aae2c1",
   "metadata": {},
   "outputs": [
    {
     "data": {
      "text/plain": [
       "'Let us understand docstrinngs'"
      ]
     },
     "execution_count": 37,
     "metadata": {},
     "output_type": "execute_result"
    }
   ],
   "source": [
    "def show_result():\n",
    "    print(\"This is a Test program\")\n",
    "        \n",
    "\"\"\"Let us understand docstrinngs\"\"\""
   ]
  },
  {
   "cell_type": "code",
   "execution_count": 40,
   "id": "73d12853",
   "metadata": {},
   "outputs": [],
   "source": [
    "\"\"\"Let us understand docstrinngs\"\"\"\n",
    "def show_result():\n",
    "    print(\"This is a Test program\")        "
   ]
  },
  {
   "cell_type": "code",
   "execution_count": 30,
   "id": "90dc4da9",
   "metadata": {},
   "outputs": [
    {
     "name": "stdout",
     "output_type": "stream",
     "text": [
      "<function show_result at 0x0000015952F709D0>\n"
     ]
    }
   ],
   "source": [
    "print(show_result)"
   ]
  },
  {
   "cell_type": "code",
   "execution_count": 25,
   "id": "62aae3e4",
   "metadata": {},
   "outputs": [
    {
     "data": {
      "text/plain": [
       "'Let us understand docstrinngs'"
      ]
     },
     "execution_count": 25,
     "metadata": {},
     "output_type": "execute_result"
    }
   ],
   "source": [
    "show_result.__doc__"
   ]
  },
  {
   "cell_type": "code",
   "execution_count": 26,
   "id": "86e6d4ab",
   "metadata": {},
   "outputs": [
    {
     "name": "stdout",
     "output_type": "stream",
     "text": [
      "Help on function show_result in module __main__:\n",
      "\n",
      "show_result()\n",
      "    Let us understand docstrinngs\n",
      "\n"
     ]
    }
   ],
   "source": [
    "help(show_result)"
   ]
  },
  {
   "cell_type": "markdown",
   "id": "a8e3ae37",
   "metadata": {},
   "source": [
    "#### Multi-line docstrings"
   ]
  },
  {
   "cell_type": "code",
   "execution_count": 27,
   "id": "65a2cd14",
   "metadata": {},
   "outputs": [],
   "source": [
    "def show_result():\n",
    "    \"\"\"Let us understand docstrinngs\n",
    "    \n",
    "    I am using this function to understand about docstrings\n",
    "    Docstrings are used to document function\"\"\"\n",
    "    print(\"This is a Test program\")"
   ]
  },
  {
   "cell_type": "code",
   "execution_count": 31,
   "id": "12b9960a",
   "metadata": {},
   "outputs": [
    {
     "data": {
      "text/plain": [
       "'Let us understand docstrinngs\\n    \\n    I am using this function to understand about docstrings\\n    Docstrings are used to document function'"
      ]
     },
     "execution_count": 31,
     "metadata": {},
     "output_type": "execute_result"
    }
   ],
   "source": [
    "show_result.__doc__"
   ]
  },
  {
   "cell_type": "code",
   "execution_count": 28,
   "id": "bfec5629",
   "metadata": {},
   "outputs": [
    {
     "name": "stdout",
     "output_type": "stream",
     "text": [
      "Let us understand docstrinngs\n",
      "    \n",
      "    I am using this function to understand about docstrings\n",
      "    Docstrings are used to document function\n"
     ]
    }
   ],
   "source": [
    "print(show_result.__doc__)"
   ]
  },
  {
   "cell_type": "code",
   "execution_count": 29,
   "id": "88999cfe",
   "metadata": {},
   "outputs": [
    {
     "name": "stdout",
     "output_type": "stream",
     "text": [
      "Help on function show_result in module __main__:\n",
      "\n",
      "show_result()\n",
      "    Let us understand docstrinngs\n",
      "    \n",
      "    I am using this function to understand about docstrings\n",
      "    Docstrings are used to document function\n",
      "\n"
     ]
    }
   ],
   "source": [
    "help(show_result)"
   ]
  },
  {
   "cell_type": "markdown",
   "id": "398d0868",
   "metadata": {},
   "source": [
    "# Scope of Variables"
   ]
  },
  {
   "cell_type": "code",
   "execution_count": 49,
   "id": "95118959",
   "metadata": {},
   "outputs": [
    {
     "name": "stdout",
     "output_type": "stream",
     "text": [
      "T is python\n",
      "The value of t is  python\n",
      "The value of u is  analytics\n"
     ]
    }
   ],
   "source": [
    "t = \"python\"                            # global\n",
    "\n",
    "def scope_var():\n",
    "    u = \"analytics\"                     # local\n",
    "    print(\"T is\",t)\n",
    "scope_var()\n",
    "\n",
    "print(\"The value of t is \",t)\n",
    "print(\"The value of u is \",u)"
   ]
  },
  {
   "cell_type": "code",
   "execution_count": 44,
   "id": "7c62e5d3",
   "metadata": {},
   "outputs": [
    {
     "name": "stdout",
     "output_type": "stream",
     "text": [
      "data science\n",
      "T is python\n",
      "The value of t is  python\n",
      "The value of u is  analytics\n"
     ]
    }
   ],
   "source": [
    "t = \"python\"                            # global variable\n",
    "u = \"analytics\"                         # global variable u\n",
    "def scope_var():\n",
    "    u = \"data science\"\n",
    "    print(u)                             # local variable u\n",
    "    print(\"T is\",t)\n",
    "scope_var()\n",
    "\n",
    "print(\"The value of t is \",t)\n",
    "\n",
    "print(\"The value of u is \",u)             # global variable u"
   ]
  },
  {
   "cell_type": "code",
   "execution_count": 47,
   "id": "dcf0e495",
   "metadata": {},
   "outputs": [
    {
     "ename": "UnboundLocalError",
     "evalue": "local variable 'u' referenced before assignment",
     "output_type": "error",
     "traceback": [
      "\u001b[1;31m---------------------------------------------------------------------------\u001b[0m",
      "\u001b[1;31mUnboundLocalError\u001b[0m                         Traceback (most recent call last)",
      "Cell \u001b[1;32mIn[47], line 8\u001b[0m\n\u001b[0;32m      6\u001b[0m     \u001b[38;5;28mprint\u001b[39m(u)                            \u001b[38;5;66;03m# local \u001b[39;00m\n\u001b[0;32m      7\u001b[0m     \u001b[38;5;28mprint\u001b[39m(\u001b[38;5;124m\"\u001b[39m\u001b[38;5;124mT is\u001b[39m\u001b[38;5;124m\"\u001b[39m,t)\n\u001b[1;32m----> 8\u001b[0m \u001b[43mscope_var\u001b[49m\u001b[43m(\u001b[49m\u001b[43m)\u001b[49m\n\u001b[0;32m     10\u001b[0m \u001b[38;5;28mprint\u001b[39m(\u001b[38;5;124m\"\u001b[39m\u001b[38;5;124mThe value of t is \u001b[39m\u001b[38;5;124m\"\u001b[39m,t)\n\u001b[0;32m     12\u001b[0m \u001b[38;5;28mprint\u001b[39m(\u001b[38;5;124m\"\u001b[39m\u001b[38;5;124mThe value of u is \u001b[39m\u001b[38;5;124m\"\u001b[39m,u)\n",
      "Cell \u001b[1;32mIn[47], line 4\u001b[0m, in \u001b[0;36mscope_var\u001b[1;34m()\u001b[0m\n\u001b[0;32m      3\u001b[0m \u001b[38;5;28;01mdef\u001b[39;00m \u001b[38;5;21mscope_var\u001b[39m():\n\u001b[1;32m----> 4\u001b[0m     \u001b[38;5;28mprint\u001b[39m(\u001b[38;5;124m\"\u001b[39m\u001b[38;5;124mvalue of u inside function beforedeclaring it as local is \u001b[39m\u001b[38;5;124m\"\u001b[39m,\u001b[43mu\u001b[49m)\n\u001b[0;32m      5\u001b[0m     u \u001b[38;5;241m=\u001b[39m \u001b[38;5;124m\"\u001b[39m\u001b[38;5;124mdata science\u001b[39m\u001b[38;5;124m\"\u001b[39m\n\u001b[0;32m      6\u001b[0m     \u001b[38;5;28mprint\u001b[39m(u)                            \u001b[38;5;66;03m# local \u001b[39;00m\n",
      "\u001b[1;31mUnboundLocalError\u001b[0m: local variable 'u' referenced before assignment"
     ]
    }
   ],
   "source": [
    "t = \"python\"                            # global \n",
    "u = \"analytics\"                        \n",
    "def scope_var():\n",
    "    print(\"value of u inside function beforedeclaring it as local is \",u)\n",
    "    u = \"data science\"\n",
    "    print(u)                            # local \n",
    "    print(\"T is\",t)\n",
    "scope_var()\n",
    "\n",
    "print(\"The value of t is \",t)\n",
    "\n",
    "print(\"The value of u is \",u)         "
   ]
  },
  {
   "cell_type": "code",
   "execution_count": 50,
   "id": "0149e403",
   "metadata": {},
   "outputs": [
    {
     "name": "stdout",
     "output_type": "stream",
     "text": [
      "\n",
      "Here is a list of the Python keywords.  Enter any keyword to get more help.\n",
      "\n",
      "False               class               from                or\n",
      "None                continue            global              pass\n",
      "True                def                 if                  raise\n",
      "and                 del                 import              return\n",
      "as                  elif                in                  try\n",
      "assert              else                is                  while\n",
      "async               except              lambda              with\n",
      "await               finally             nonlocal            yield\n",
      "break               for                 not                 \n",
      "\n"
     ]
    }
   ],
   "source": [
    "help(\"keywords\")"
   ]
  },
  {
   "cell_type": "markdown",
   "id": "076bed14",
   "metadata": {},
   "source": [
    "# Global variable"
   ]
  },
  {
   "cell_type": "code",
   "execution_count": 5,
   "id": "77dbeb8c",
   "metadata": {},
   "outputs": [
    {
     "name": "stdout",
     "output_type": "stream",
     "text": [
      "x inside functionn is 78\n",
      "x outside function is 78\n"
     ]
    }
   ],
   "source": [
    "# creating a global variable inside a function \n",
    "def test_global():\n",
    "    global x \n",
    "    x = 78 \n",
    "    print(f\"x inside functionn is {x}\")\n",
    "    \n",
    "test_global()\n",
    "print(f\"x outside function is {x}\")"
   ]
  },
  {
   "cell_type": "code",
   "execution_count": 52,
   "id": "bfb4900f",
   "metadata": {},
   "outputs": [
    {
     "ename": "SyntaxError",
     "evalue": "invalid syntax (3919849067.py, line 3)",
     "output_type": "error",
     "traceback": [
      "\u001b[1;36m  Cell \u001b[1;32mIn[52], line 3\u001b[1;36m\u001b[0m\n\u001b[1;33m    global x = 78\u001b[0m\n\u001b[1;37m             ^\u001b[0m\n\u001b[1;31mSyntaxError\u001b[0m\u001b[1;31m:\u001b[0m invalid syntax\n"
     ]
    }
   ],
   "source": [
    "# creating a global variable inside a function \n",
    "def test_global():\n",
    "    global x = 78\n",
    "\n",
    "    print(\"x inside function is \",x)\n",
    "    \n",
    "test_global()\n",
    "print(\"x outside function is \",x)"
   ]
  },
  {
   "cell_type": "code",
   "execution_count": null,
   "id": "44e984a3",
   "metadata": {},
   "outputs": [],
   "source": [
    "# make a function inside a function."
   ]
  },
  {
   "cell_type": "code",
   "execution_count": 2,
   "id": "d48f373e",
   "metadata": {},
   "outputs": [
    {
     "name": "stdout",
     "output_type": "stream",
     "text": [
      "88\n",
      "10\n"
     ]
    }
   ],
   "source": [
    "def show_result():\n",
    "    global a\n",
    "    a = 10\n",
    "    sum = a+78\n",
    "    print(sum)\n",
    "    \n",
    "show_result()\n",
    "print(a)"
   ]
  },
  {
   "cell_type": "code",
   "execution_count": 3,
   "id": "aa36018e",
   "metadata": {},
   "outputs": [
    {
     "name": "stdout",
     "output_type": "stream",
     "text": [
      "hello world\n",
      "hii\n"
     ]
    }
   ],
   "source": [
    "x = \"hello world\"\n",
    "\n",
    "def print_result():\n",
    "    x = \"hii\"\n",
    "    print(x)\n",
    "    \n",
    "print(x)\n",
    "print_result()"
   ]
  },
  {
   "cell_type": "markdown",
   "id": "a7ff06d4",
   "metadata": {},
   "source": [
    "# Non-local Variables."
   ]
  },
  {
   "cell_type": "code",
   "execution_count": 4,
   "id": "50561a01",
   "metadata": {},
   "outputs": [
    {
     "name": "stdout",
     "output_type": "stream",
     "text": [
      "67\n",
      "89\n"
     ]
    }
   ],
   "source": [
    "def outer():                                    # firstly the first function is run, then after inner function will run.\n",
    "    w=89  # local vari.of 1st func.                           # or the first gate is not open how can you go to the second door.\n",
    "    def inner():\n",
    "        w=67   # Local vari. of 2nd func.                               \n",
    "        print(w)\n",
    "    inner()\n",
    "    print(w)\n",
    "    \n",
    "outer()    "
   ]
  },
  {
   "cell_type": "code",
   "execution_count": 1,
   "id": "fb50d0a6",
   "metadata": {},
   "outputs": [
    {
     "name": "stdout",
     "output_type": "stream",
     "text": [
      "67\n",
      "67\n"
     ]
    }
   ],
   "source": [
    "def outer():\n",
    "    w=89\n",
    "    def inner():\n",
    "        nonlocal w\n",
    "        w=67\n",
    "        print(w)\n",
    "    inner()\n",
    "    print(w)\n",
    "\n",
    "outer()    "
   ]
  },
  {
   "cell_type": "code",
   "execution_count": 2,
   "id": "1df3ed50",
   "metadata": {},
   "outputs": [
    {
     "ename": "SyntaxError",
     "evalue": "no binding for nonlocal 'w' found (4137828805.py, line 4)",
     "output_type": "error",
     "traceback": [
      "\u001b[1;36m  Cell \u001b[1;32mIn[2], line 4\u001b[1;36m\u001b[0m\n\u001b[1;33m    nonlocal w\u001b[0m\n\u001b[1;37m    ^\u001b[0m\n\u001b[1;31mSyntaxError\u001b[0m\u001b[1;31m:\u001b[0m no binding for nonlocal 'w' found\n"
     ]
    }
   ],
   "source": [
    "def outer():\n",
    "    #w=89\n",
    "    def inner():\n",
    "        nonlocal w\n",
    "        w=67\n",
    "        print(w)\n",
    "    inner()\n",
    "    print(w)\n",
    "\n",
    "outer()    "
   ]
  },
  {
   "cell_type": "code",
   "execution_count": 6,
   "id": "9d1d7361",
   "metadata": {},
   "outputs": [
    {
     "data": {
      "text/plain": [
       "'helloworld'"
      ]
     },
     "execution_count": 6,
     "metadata": {},
     "output_type": "execute_result"
    }
   ],
   "source": [
    "def my_func(x,y):\n",
    "    return x+y\n",
    "\n",
    "my_func(\"hello\",\"world\")"
   ]
  },
  {
   "cell_type": "code",
   "execution_count": 4,
   "id": "01b78036",
   "metadata": {},
   "outputs": [
    {
     "data": {
      "text/plain": [
       "112"
      ]
     },
     "execution_count": 4,
     "metadata": {},
     "output_type": "execute_result"
    }
   ],
   "source": [
    "# argument vs parametres\n",
    "def my_func(x,y):          # here x and y are the parametres.\n",
    "    return x+y\n",
    "\n",
    "my_func(45,67)            # here 45 and 67 are the arguments."
   ]
  },
  {
   "cell_type": "markdown",
   "id": "17d150bc",
   "metadata": {},
   "source": [
    "# Python Function Arguments"
   ]
  },
  {
   "cell_type": "markdown",
   "id": "0c6ffa0b",
   "metadata": {},
   "source": [
    "- Positional arguments.\n",
    "- Keyword arguments.\n",
    "- Default arguments.\n",
    "- Variable-length arguments."
   ]
  },
  {
   "cell_type": "code",
   "execution_count": 18,
   "id": "5007ab6a",
   "metadata": {},
   "outputs": [
    {
     "ename": "TypeError",
     "evalue": "my_function() takes 0 positional arguments but 1 was given",
     "output_type": "error",
     "traceback": [
      "\u001b[1;31m---------------------------------------------------------------------------\u001b[0m",
      "\u001b[1;31mTypeError\u001b[0m                                 Traceback (most recent call last)",
      "Cell \u001b[1;32mIn[18], line 4\u001b[0m\n\u001b[0;32m      1\u001b[0m \u001b[38;5;28;01mdef\u001b[39;00m \u001b[38;5;21mmy_function\u001b[39m():\n\u001b[0;32m      2\u001b[0m     \u001b[38;5;28;01mpass\u001b[39;00m\n\u001b[1;32m----> 4\u001b[0m \u001b[43mmy_function\u001b[49m\u001b[43m(\u001b[49m\u001b[38;5;241;43m56\u001b[39;49m\u001b[43m)\u001b[49m\n",
      "\u001b[1;31mTypeError\u001b[0m: my_function() takes 0 positional arguments but 1 was given"
     ]
    }
   ],
   "source": [
    "def my_function():\n",
    "    pass\n",
    "\n",
    "my_function(56)"
   ]
  },
  {
   "cell_type": "markdown",
   "id": "024be06b",
   "metadata": {},
   "source": [
    "<font size=7> Positional argumets. \n",
    "- Positional argumets are arguments that are passed to a function in proper positional order."
   ]
  },
  {
   "cell_type": "code",
   "execution_count": 11,
   "id": "ca9b96df",
   "metadata": {},
   "outputs": [
    {
     "data": {
      "text/plain": [
       "44"
      ]
     },
     "execution_count": 11,
     "metadata": {},
     "output_type": "execute_result"
    }
   ],
   "source": [
    "def calc(p,q):\n",
    "    diff = p-q\n",
    "    return diff\n",
    "\n",
    "calc(89,45)     # p = 89, q = 45"
   ]
  },
  {
   "cell_type": "code",
   "execution_count": 12,
   "id": "3dfa6810",
   "metadata": {},
   "outputs": [
    {
     "data": {
      "text/plain": [
       "-44"
      ]
     },
     "execution_count": 12,
     "metadata": {},
     "output_type": "execute_result"
    }
   ],
   "source": [
    "calc(45,89)     # p = 45, q = 89"
   ]
  },
  {
   "cell_type": "code",
   "execution_count": 13,
   "id": "296ca63a",
   "metadata": {},
   "outputs": [
    {
     "ename": "TypeError",
     "evalue": "calc() takes 2 positional arguments but 3 were given",
     "output_type": "error",
     "traceback": [
      "\u001b[1;31m---------------------------------------------------------------------------\u001b[0m",
      "\u001b[1;31mTypeError\u001b[0m                                 Traceback (most recent call last)",
      "Cell \u001b[1;32mIn[13], line 1\u001b[0m\n\u001b[1;32m----> 1\u001b[0m \u001b[43mcalc\u001b[49m\u001b[43m(\u001b[49m\u001b[38;5;241;43m89\u001b[39;49m\u001b[43m,\u001b[49m\u001b[38;5;241;43m45\u001b[39;49m\u001b[43m,\u001b[49m\u001b[38;5;241;43m56\u001b[39;49m\u001b[43m)\u001b[49m\n",
      "\u001b[1;31mTypeError\u001b[0m: calc() takes 2 positional arguments but 3 were given"
     ]
    }
   ],
   "source": [
    "calc(89,45,56)"
   ]
  },
  {
   "cell_type": "markdown",
   "id": "d68e1373",
   "metadata": {},
   "source": [
    "<font size=7> Keywords Arguments.\n",
    "- Values get assigned to the parametres but their name(keywords).\n",
    "- Here the order of the arguments does not matter."
   ]
  },
  {
   "cell_type": "code",
   "execution_count": 19,
   "id": "27d8a87a",
   "metadata": {},
   "outputs": [
    {
     "data": {
      "text/plain": [
       "8"
      ]
     },
     "execution_count": 19,
     "metadata": {},
     "output_type": "execute_result"
    }
   ],
   "source": [
    "def calc(p,q):\n",
    "    diff = p-q\n",
    "    return diff\n",
    "\n",
    "calc(p=10,q=2)"
   ]
  },
  {
   "cell_type": "code",
   "execution_count": 20,
   "id": "ccafc6c4",
   "metadata": {},
   "outputs": [
    {
     "data": {
      "text/plain": [
       "8"
      ]
     },
     "execution_count": 20,
     "metadata": {},
     "output_type": "execute_result"
    }
   ],
   "source": [
    "calc(q=2,p=10)"
   ]
  },
  {
   "cell_type": "code",
   "execution_count": 21,
   "id": "4beb82b3",
   "metadata": {},
   "outputs": [
    {
     "ename": "TypeError",
     "evalue": "calc() got an unexpected keyword argument 'a'",
     "output_type": "error",
     "traceback": [
      "\u001b[1;31m---------------------------------------------------------------------------\u001b[0m",
      "\u001b[1;31mTypeError\u001b[0m                                 Traceback (most recent call last)",
      "Cell \u001b[1;32mIn[21], line 1\u001b[0m\n\u001b[1;32m----> 1\u001b[0m \u001b[43mcalc\u001b[49m\u001b[43m(\u001b[49m\u001b[43ma\u001b[49m\u001b[38;5;241;43m=\u001b[39;49m\u001b[38;5;241;43m10\u001b[39;49m\u001b[43m,\u001b[49m\u001b[43mb\u001b[49m\u001b[38;5;241;43m=\u001b[39;49m\u001b[38;5;241;43m2\u001b[39;49m\u001b[43m)\u001b[49m\n",
      "\u001b[1;31mTypeError\u001b[0m: calc() got an unexpected keyword argument 'a'"
     ]
    }
   ],
   "source": [
    "calc(a=10,b=2)"
   ]
  },
  {
   "cell_type": "markdown",
   "id": "776fd49b",
   "metadata": {},
   "source": [
    "<font size=7> Default arguments.\n",
    "- Take the default values during the function call if we do not pass them."
   ]
  },
  {
   "cell_type": "code",
   "execution_count": 22,
   "id": "c445d729",
   "metadata": {},
   "outputs": [
    {
     "ename": "TypeError",
     "evalue": "get_message() takes from 0 to 1 positional arguments but 2 were given",
     "output_type": "error",
     "traceback": [
      "\u001b[1;31m---------------------------------------------------------------------------\u001b[0m",
      "\u001b[1;31mTypeError\u001b[0m                                 Traceback (most recent call last)",
      "Cell \u001b[1;32mIn[22], line 4\u001b[0m\n\u001b[0;32m      1\u001b[0m \u001b[38;5;28;01mdef\u001b[39;00m \u001b[38;5;21mget_message\u001b[39m(msg\u001b[38;5;241m=\u001b[39m\u001b[38;5;124m\"\u001b[39m\u001b[38;5;124mhello world\u001b[39m\u001b[38;5;124m\"\u001b[39m):\n\u001b[0;32m      2\u001b[0m     \u001b[38;5;28mprint\u001b[39m(msg)\n\u001b[1;32m----> 4\u001b[0m \u001b[43mget_message\u001b[49m\u001b[43m(\u001b[49m\u001b[38;5;124;43m\"\u001b[39;49m\u001b[38;5;124;43mHi\u001b[39;49m\u001b[38;5;124;43m\"\u001b[39;49m\u001b[43m,\u001b[49m\u001b[38;5;124;43m\"\u001b[39;49m\u001b[38;5;124;43mhello\u001b[39;49m\u001b[38;5;124;43m\"\u001b[39;49m\u001b[43m)\u001b[49m\n",
      "\u001b[1;31mTypeError\u001b[0m: get_message() takes from 0 to 1 positional arguments but 2 were given"
     ]
    }
   ],
   "source": [
    "def get_message(msg=\"hello world\"):\n",
    "    print(msg)\n",
    "    \n",
    "get_message(\"Hi\",\"hello\")    "
   ]
  },
  {
   "cell_type": "code",
   "execution_count": 23,
   "id": "6c430ae4",
   "metadata": {},
   "outputs": [
    {
     "name": "stdout",
     "output_type": "stream",
     "text": [
      "Hi\n"
     ]
    }
   ],
   "source": [
    "def get_message(msg=\"hello world\"):\n",
    "    print(msg)\n",
    "    \n",
    "get_message(\"Hi\")    "
   ]
  },
  {
   "cell_type": "code",
   "execution_count": 24,
   "id": "b31541fc",
   "metadata": {},
   "outputs": [
    {
     "name": "stdout",
     "output_type": "stream",
     "text": [
      "hello world\n"
     ]
    }
   ],
   "source": [
    "get_message() "
   ]
  },
  {
   "cell_type": "code",
   "execution_count": 26,
   "id": "8f6ac9e0",
   "metadata": {},
   "outputs": [
    {
     "ename": "TypeError",
     "evalue": "get_message() missing 1 required positional argument: 'msg'",
     "output_type": "error",
     "traceback": [
      "\u001b[1;31m---------------------------------------------------------------------------\u001b[0m",
      "\u001b[1;31mTypeError\u001b[0m                                 Traceback (most recent call last)",
      "Cell \u001b[1;32mIn[26], line 4\u001b[0m\n\u001b[0;32m      1\u001b[0m \u001b[38;5;28;01mdef\u001b[39;00m \u001b[38;5;21mget_message\u001b[39m(msg):\n\u001b[0;32m      2\u001b[0m     \u001b[38;5;28mprint\u001b[39m(msg)\n\u001b[1;32m----> 4\u001b[0m \u001b[43mget_message\u001b[49m\u001b[43m(\u001b[49m\u001b[43m)\u001b[49m\n",
      "\u001b[1;31mTypeError\u001b[0m: get_message() missing 1 required positional argument: 'msg'"
     ]
    }
   ],
   "source": [
    "def get_message(msg):\n",
    "    print(msg)\n",
    "    \n",
    "get_message()    "
   ]
  },
  {
   "cell_type": "code",
   "execution_count": 27,
   "id": "1d25aef4",
   "metadata": {},
   "outputs": [
    {
     "name": "stdout",
     "output_type": "stream",
     "text": [
      "Hi\n"
     ]
    }
   ],
   "source": [
    "def get_message(msg=\"hello world\",q=35):\n",
    "    print(msg)\n",
    "    \n",
    "get_message(\"Hi\")    "
   ]
  },
  {
   "cell_type": "code",
   "execution_count": 28,
   "id": "4ff02fe5",
   "metadata": {},
   "outputs": [
    {
     "name": "stdout",
     "output_type": "stream",
     "text": [
      "\n"
     ]
    }
   ],
   "source": [
    "def get_message(msg=\"hello world\",q=35):\n",
    "    print()\n",
    "    \n",
    "get_message(\"Hi\")    "
   ]
  },
  {
   "cell_type": "code",
   "execution_count": 29,
   "id": "4dc7eebf",
   "metadata": {},
   "outputs": [
    {
     "name": "stdout",
     "output_type": "stream",
     "text": [
      "hello world\n"
     ]
    }
   ],
   "source": [
    "def get_message(msg=\"hello world\",q=35):\n",
    "    print(msg)\n",
    "    \n",
    "get_message()    "
   ]
  },
  {
   "cell_type": "code",
   "execution_count": 31,
   "id": "c51bf182",
   "metadata": {},
   "outputs": [
    {
     "name": "stdout",
     "output_type": "stream",
     "text": [
      "helloworld 35\n"
     ]
    }
   ],
   "source": [
    "def get_message(msg=\"helloworld\",q=35):\n",
    "    print(msg,q)\n",
    "    \n",
    "get_message()    "
   ]
  },
  {
   "cell_type": "code",
   "execution_count": 34,
   "id": "8e9f7015",
   "metadata": {},
   "outputs": [
    {
     "ename": "TypeError",
     "evalue": "get_message() missing 1 required positional argument: 'msg'",
     "output_type": "error",
     "traceback": [
      "\u001b[1;31m---------------------------------------------------------------------------\u001b[0m",
      "\u001b[1;31mTypeError\u001b[0m                                 Traceback (most recent call last)",
      "Cell \u001b[1;32mIn[34], line 4\u001b[0m\n\u001b[0;32m      1\u001b[0m \u001b[38;5;28;01mdef\u001b[39;00m \u001b[38;5;21mget_message\u001b[39m(msg,q\u001b[38;5;241m=\u001b[39m\u001b[38;5;241m35\u001b[39m):\n\u001b[0;32m      2\u001b[0m     \u001b[38;5;28mprint\u001b[39m(msg,q)\n\u001b[1;32m----> 4\u001b[0m \u001b[43mget_message\u001b[49m\u001b[43m(\u001b[49m\u001b[43m)\u001b[49m\n",
      "\u001b[1;31mTypeError\u001b[0m: get_message() missing 1 required positional argument: 'msg'"
     ]
    }
   ],
   "source": [
    "def get_message(msg,q=35):\n",
    "    print(msg,q)\n",
    "    \n",
    "get_message()    "
   ]
  },
  {
   "cell_type": "code",
   "execution_count": 35,
   "id": "e0660033",
   "metadata": {},
   "outputs": [
    {
     "name": "stdout",
     "output_type": "stream",
     "text": [
      "hi 78\n"
     ]
    }
   ],
   "source": [
    "def get_message(msg,q=35):\n",
    "    print(msg,q)\n",
    "    \n",
    "get_message(\"hi\",q=78)    "
   ]
  },
  {
   "cell_type": "markdown",
   "id": "29e22fa1",
   "metadata": {},
   "source": [
    "<font size=7> Variable-length arguments or Arbitary arguments.\n",
    "- When we need to pass multiple arguments to the function, we can use varable-length arguments."
   ]
  },
  {
   "cell_type": "code",
   "execution_count": 8,
   "id": "b1407afe",
   "metadata": {},
   "outputs": [
    {
     "name": "stdout",
     "output_type": "stream",
     "text": [
      "(9, 4, 12)\n"
     ]
    },
    {
     "ename": "UnboundLocalError",
     "evalue": "local variable 'sum' referenced before assignment",
     "output_type": "error",
     "traceback": [
      "\u001b[1;31m---------------------------------------------------------------------------\u001b[0m",
      "\u001b[1;31mUnboundLocalError\u001b[0m                         Traceback (most recent call last)",
      "Cell \u001b[1;32mIn[8], line 9\u001b[0m\n\u001b[0;32m      6\u001b[0m         \u001b[38;5;28msum\u001b[39m \u001b[38;5;241m=\u001b[39m \u001b[38;5;28msum\u001b[39m \u001b[38;5;241m-\u001b[39m x\n\u001b[0;32m      7\u001b[0m     \u001b[38;5;28mprint\u001b[39m(\u001b[38;5;28msum\u001b[39m)\n\u001b[1;32m----> 9\u001b[0m \u001b[43maverage\u001b[49m\u001b[43m(\u001b[49m\u001b[38;5;241;43m9\u001b[39;49m\u001b[43m,\u001b[49m\u001b[38;5;241;43m4\u001b[39;49m\u001b[43m,\u001b[49m\u001b[38;5;241;43m12\u001b[39;49m\u001b[43m)\u001b[49m\n",
      "Cell \u001b[1;32mIn[8], line 6\u001b[0m, in \u001b[0;36maverage\u001b[1;34m(*numbers)\u001b[0m\n\u001b[0;32m      4\u001b[0m sub\u001b[38;5;241m=\u001b[39m\u001b[38;5;241m20\u001b[39m\n\u001b[0;32m      5\u001b[0m \u001b[38;5;28;01mfor\u001b[39;00m x \u001b[38;5;129;01min\u001b[39;00m numbers:\n\u001b[1;32m----> 6\u001b[0m     \u001b[38;5;28msum\u001b[39m \u001b[38;5;241m=\u001b[39m \u001b[38;5;28;43msum\u001b[39;49m \u001b[38;5;241m-\u001b[39m x\n\u001b[0;32m      7\u001b[0m \u001b[38;5;28mprint\u001b[39m(\u001b[38;5;28msum\u001b[39m)\n",
      "\u001b[1;31mUnboundLocalError\u001b[0m: local variable 'sum' referenced before assignment"
     ]
    }
   ],
   "source": [
    "# Arbitary positional arguments.\n",
    "def average(*numbers):                                # numbers is a tuple\n",
    "    print(numbers)\n",
    "    sub=20\n",
    "    for x in numbers:\n",
    "        sum = sum - x\n",
    "    print(sum)\n",
    "    \n",
    "average(9,4,12)    "
   ]
  },
  {
   "cell_type": "code",
   "execution_count": 10,
   "id": "b34b5bc4",
   "metadata": {},
   "outputs": [
    {
     "name": "stdout",
     "output_type": "stream",
     "text": [
      "(9, 4, 12)\n",
      "-5\n"
     ]
    }
   ],
   "source": [
    "# Arbitary positional arguments.\n",
    "def average(*numbers):                                # numbers is a tuple\n",
    "    print(numbers)\n",
    "    sum=20\n",
    "    for x in numbers:\n",
    "        sum = sum - x\n",
    "    print(sum)\n",
    "    \n",
    "average(9,4,12)    "
   ]
  },
  {
   "cell_type": "code",
   "execution_count": 18,
   "id": "cff5ee97",
   "metadata": {},
   "outputs": [
    {
     "name": "stdout",
     "output_type": "stream",
     "text": [
      "{'math': 20, 'English': 50, 'Science': 45}\n",
      "math\n",
      "math = 20\n",
      "English\n",
      "English = 50\n",
      "Science\n",
      "Science = 45\n"
     ]
    }
   ],
   "source": [
    "# Arbitary Keywords arguments.\n",
    "def my_func(**key_word):\n",
    "    print(key_word)\n",
    "    for sub in key_word:\n",
    "        print(sub)\n",
    "        # get argument value\n",
    "        sub_marks = key_word[sub]\n",
    "        print(sub, \"=\" , sub_marks)\n",
    "        \n",
    "# pass multiple keywords arguments.\n",
    "my_func(math=20,English=50,Science=45)"
   ]
  },
  {
   "cell_type": "code",
   "execution_count": 16,
   "id": "60ebd260",
   "metadata": {},
   "outputs": [
    {
     "ename": "NameError",
     "evalue": "name 'key_word' is not defined",
     "output_type": "error",
     "traceback": [
      "\u001b[1;31m---------------------------------------------------------------------------\u001b[0m",
      "\u001b[1;31mNameError\u001b[0m                                 Traceback (most recent call last)",
      "Cell \u001b[1;32mIn[16], line 1\u001b[0m\n\u001b[1;32m----> 1\u001b[0m \u001b[38;5;28mtype\u001b[39m(\u001b[38;5;241m*\u001b[39m\u001b[38;5;241m*\u001b[39m\u001b[43mkey_word\u001b[49m)\n",
      "\u001b[1;31mNameError\u001b[0m: name 'key_word' is not defined"
     ]
    }
   ],
   "source": [
    "type(**key_word)"
   ]
  },
  {
   "cell_type": "code",
   "execution_count": 19,
   "id": "4bbff1cc",
   "metadata": {},
   "outputs": [
    {
     "ename": "SyntaxError",
     "evalue": "expected ':' (3011425965.py, line 2)",
     "output_type": "error",
     "traceback": [
      "\u001b[1;36m  Cell \u001b[1;32mIn[19], line 2\u001b[1;36m\u001b[0m\n\u001b[1;33m    if x==10\u001b[0m\n\u001b[1;37m            ^\u001b[0m\n\u001b[1;31mSyntaxError\u001b[0m\u001b[1;31m:\u001b[0m expected ':'\n"
     ]
    }
   ],
   "source": [
    "def testing(x):\n",
    "    if x==10:\n",
    "        return \"hello world\"\n",
    "    "
   ]
  },
  {
   "cell_type": "code",
   "execution_count": 2,
   "id": "96b19cdb",
   "metadata": {},
   "outputs": [
    {
     "name": "stdout",
     "output_type": "stream",
     "text": [
      "14\n",
      "10\n",
      "6.0\n"
     ]
    },
    {
     "data": {
      "text/plain": [
       "NoneType"
      ]
     },
     "execution_count": 2,
     "metadata": {},
     "output_type": "execute_result"
    }
   ],
   "source": [
    "def first_func(x,y):\n",
    "    print(x+y)\n",
    "    print(x-y)\n",
    "    print(x/y)\n",
    "    \n",
    "type(first_func(12,2))    \n"
   ]
  },
  {
   "cell_type": "markdown",
   "id": "20d0577b",
   "metadata": {},
   "source": [
    "# Lambda Function (anonymous)"
   ]
  },
  {
   "cell_type": "code",
   "execution_count": 1,
   "id": "1557d298",
   "metadata": {},
   "outputs": [],
   "source": [
    "# Used for instant and one-time use.\n",
    "# Written in just one line."
   ]
  },
  {
   "cell_type": "code",
   "execution_count": 2,
   "id": "57a0bf73",
   "metadata": {},
   "outputs": [],
   "source": [
    "def function():\n",
    "    print('hello')"
   ]
  },
  {
   "cell_type": "code",
   "execution_count": 3,
   "id": "27399e5a",
   "metadata": {},
   "outputs": [],
   "source": [
    "# Lambda Parameters : expression"
   ]
  },
  {
   "cell_type": "code",
   "execution_count": 4,
   "id": "4430ce08",
   "metadata": {},
   "outputs": [
    {
     "data": {
      "text/plain": [
       "<function __main__.<lambda>()>"
      ]
     },
     "execution_count": 4,
     "metadata": {},
     "output_type": "execute_result"
    }
   ],
   "source": [
    "lambda : print(\"hello world\")"
   ]
  },
  {
   "cell_type": "code",
   "execution_count": 5,
   "id": "2013d168",
   "metadata": {},
   "outputs": [
    {
     "name": "stdout",
     "output_type": "stream",
     "text": [
      "hello world\n"
     ]
    }
   ],
   "source": [
    "(lambda : print(\"hello world\"))()"
   ]
  },
  {
   "cell_type": "code",
   "execution_count": 12,
   "id": "327f1d59",
   "metadata": {},
   "outputs": [
    {
     "ename": "SyntaxError",
     "evalue": "cannot assign to lambda (63604583.py, line 2)",
     "output_type": "error",
     "traceback": [
      "\u001b[1;36m  Cell \u001b[1;32mIn[12], line 2\u001b[1;36m\u001b[0m\n\u001b[1;33m    lambda a : sum = 9\u001b[0m\n\u001b[1;37m    ^\u001b[0m\n\u001b[1;31mSyntaxError\u001b[0m\u001b[1;31m:\u001b[0m cannot assign to lambda\n"
     ]
    }
   ],
   "source": [
    "sum = 12\n",
    "lambda a : sum = 9"
   ]
  },
  {
   "cell_type": "code",
   "execution_count": 8,
   "id": "0e771c9e",
   "metadata": {},
   "outputs": [
    {
     "name": "stdout",
     "output_type": "stream",
     "text": [
      "15\n"
     ]
    }
   ],
   "source": [
    "(lambda x,y : print(x+y))(10,5)                                "
   ]
  },
  {
   "cell_type": "code",
   "execution_count": null,
   "id": "9dddda5a",
   "metadata": {},
   "outputs": [],
   "source": []
  },
  {
   "cell_type": "markdown",
   "id": "c9ed0926",
   "metadata": {},
   "source": [
    "###### Filter"
   ]
  },
  {
   "cell_type": "code",
   "execution_count": 29,
   "id": "ad0a4809",
   "metadata": {},
   "outputs": [
    {
     "data": {
      "text/plain": [
       "[2, 4, 6, 8]"
      ]
     },
     "execution_count": 29,
     "metadata": {},
     "output_type": "execute_result"
    }
   ],
   "source": [
    "# filter(function,iterable)                           # list,set,tuple,dictionary,range\n",
    "list(filter(lambda x : x%2==0 , range(1,10)))"
   ]
  },
  {
   "cell_type": "code",
   "execution_count": 21,
   "id": "8760e1c0",
   "metadata": {},
   "outputs": [
    {
     "data": {
      "text/plain": [
       "<filter at 0x25bd0980070>"
      ]
     },
     "execution_count": 21,
     "metadata": {},
     "output_type": "execute_result"
    }
   ],
   "source": [
    "# filter(function,iterable)\n",
    "(filter(lambda x : x%2==0 , {1,2,3,4,5,6}))"
   ]
  },
  {
   "cell_type": "code",
   "execution_count": 14,
   "id": "ea4a2cf8",
   "metadata": {},
   "outputs": [
    {
     "data": {
      "text/plain": [
       "[2, 4, 6]"
      ]
     },
     "execution_count": 14,
     "metadata": {},
     "output_type": "execute_result"
    }
   ],
   "source": [
    "list(filter(lambda x : x%2==0 , (1,2,3,4,5,6)))"
   ]
  },
  {
   "cell_type": "code",
   "execution_count": 15,
   "id": "d765918c",
   "metadata": {},
   "outputs": [
    {
     "data": {
      "text/plain": [
       "True"
      ]
     },
     "execution_count": 15,
     "metadata": {},
     "output_type": "execute_result"
    }
   ],
   "source": [
    "(lambda x : x%2==0)(8)"
   ]
  },
  {
   "cell_type": "code",
   "execution_count": 16,
   "id": "a3910602",
   "metadata": {},
   "outputs": [
    {
     "data": {
      "text/plain": [
       "[1, 2, 3, 4, 5, 6]"
      ]
     },
     "execution_count": 16,
     "metadata": {},
     "output_type": "execute_result"
    }
   ],
   "source": [
    "list(filter(lambda x : True , (1,2,3,4,5,6)))"
   ]
  },
  {
   "cell_type": "code",
   "execution_count": 17,
   "id": "d8b39244",
   "metadata": {},
   "outputs": [
    {
     "data": {
      "text/plain": [
       "[]"
      ]
     },
     "execution_count": 17,
     "metadata": {},
     "output_type": "execute_result"
    }
   ],
   "source": [
    "list(filter(lambda x : False , (1,2,3,4,5,6)))"
   ]
  },
  {
   "cell_type": "code",
   "execution_count": 18,
   "id": "306f71ab",
   "metadata": {},
   "outputs": [
    {
     "data": {
      "text/plain": [
       "[]"
      ]
     },
     "execution_count": 18,
     "metadata": {},
     "output_type": "execute_result"
    }
   ],
   "source": [
    "list(filter(lambda x : None , (1,2,3,4,5,6)))"
   ]
  },
  {
   "cell_type": "code",
   "execution_count": 22,
   "id": "e5fabec2",
   "metadata": {},
   "outputs": [
    {
     "data": {
      "text/plain": [
       "[1, 2, 3, 4, 5, 6]"
      ]
     },
     "execution_count": 22,
     "metadata": {},
     "output_type": "execute_result"
    }
   ],
   "source": [
    "list(filter(lambda x : \"string\" , (1,2,3,4,5,6)))"
   ]
  },
  {
   "cell_type": "code",
   "execution_count": 23,
   "id": "d94343e0",
   "metadata": {},
   "outputs": [
    {
     "data": {
      "text/plain": [
       "[]"
      ]
     },
     "execution_count": 23,
     "metadata": {},
     "output_type": "execute_result"
    }
   ],
   "source": [
    "list(filter(lambda x : 0 , (1,2,3,4,5,6)))                     # Here Zero represents False"
   ]
  },
  {
   "cell_type": "code",
   "execution_count": 26,
   "id": "c8ff71eb",
   "metadata": {},
   "outputs": [
    {
     "data": {
      "text/plain": [
       "[1, 2, 3, 4, 5, 6]"
      ]
     },
     "execution_count": 26,
     "metadata": {},
     "output_type": "execute_result"
    }
   ],
   "source": [
    "list(filter(lambda x : 34 , (1,2,3,4,5,6)))                     # Here any number is greater than one or equals to one represents True"
   ]
  },
  {
   "cell_type": "markdown",
   "id": "29327b38",
   "metadata": {},
   "source": [
    "###### Map"
   ]
  },
  {
   "cell_type": "code",
   "execution_count": 30,
   "id": "081f6b63",
   "metadata": {},
   "outputs": [
    {
     "name": "stdout",
     "output_type": "stream",
     "text": [
      "Result is : [4, 5, 6, 10, 11]\n"
     ]
    }
   ],
   "source": [
    "# map(function,iterable)\n",
    "# Take a function as a first argument and applies it to each of the elements of the iterable.\n",
    "list1 = [2,3,4,8,9]\n",
    "list2 = list(map(lambda x : x+2 , list1))\n",
    "print(\"Result is :\", list2)"
   ]
  },
  {
   "cell_type": "code",
   "execution_count": 31,
   "id": "b7f70b21",
   "metadata": {},
   "outputs": [
    {
     "name": "stdout",
     "output_type": "stream",
     "text": [
      "Result is : ['Data Science', 'Data Science', 'Data Science', 'Data Science', 'Data Science']\n"
     ]
    }
   ],
   "source": [
    "list1 = [2,3,4,8,9]\n",
    "list2 = list(map(lambda x : \"Data Science\" , list1))\n",
    "print(\"Result is :\", list2)"
   ]
  },
  {
   "cell_type": "code",
   "execution_count": 44,
   "id": "de2b4985",
   "metadata": {},
   "outputs": [
    {
     "ename": "SyntaxError",
     "evalue": "invalid syntax. Perhaps you forgot a comma? (1175697898.py, line 1)",
     "output_type": "error",
     "traceback": [
      "\u001b[1;36m  Cell \u001b[1;32mIn[44], line 1\u001b[1;36m\u001b[0m\n\u001b[1;33m    (lambda x=(1,2,3,4,5): (x%2==0) print(x))\u001b[0m\n\u001b[1;37m                            ^\u001b[0m\n\u001b[1;31mSyntaxError\u001b[0m\u001b[1;31m:\u001b[0m invalid syntax. Perhaps you forgot a comma?\n"
     ]
    }
   ],
   "source": [
    "(lambda x=(1,2,3,4,5): (x%2==0) print(x))"
   ]
  }
 ],
 "metadata": {
  "kernelspec": {
   "display_name": "Python 3 (ipykernel)",
   "language": "python",
   "name": "python3"
  },
  "language_info": {
   "codemirror_mode": {
    "name": "ipython",
    "version": 3
   },
   "file_extension": ".py",
   "mimetype": "text/x-python",
   "name": "python",
   "nbconvert_exporter": "python",
   "pygments_lexer": "ipython3",
   "version": "3.10.9"
  }
 },
 "nbformat": 4,
 "nbformat_minor": 5
}
