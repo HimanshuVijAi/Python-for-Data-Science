{
 "cells": [
  {
   "cell_type": "code",
   "execution_count": 1,
   "id": "f43115ee",
   "metadata": {},
   "outputs": [
    {
     "data": {
      "text/plain": [
       "7.5"
      ]
     },
     "execution_count": 1,
     "metadata": {},
     "output_type": "execute_result"
    }
   ],
   "source": [
    "15/2"
   ]
  },
  {
   "cell_type": "code",
   "execution_count": 2,
   "id": "49c12f82",
   "metadata": {},
   "outputs": [
    {
     "data": {
      "text/plain": [
       "7"
      ]
     },
     "execution_count": 2,
     "metadata": {},
     "output_type": "execute_result"
    }
   ],
   "source": [
    "15//2"
   ]
  },
  {
   "cell_type": "markdown",
   "id": "b81ada06",
   "metadata": {},
   "source": [
    "Floor division"
   ]
  },
  {
   "cell_type": "code",
   "execution_count": 3,
   "id": "6ba0ca9b",
   "metadata": {},
   "outputs": [
    {
     "name": "stdout",
     "output_type": "stream",
     "text": [
      "190\n"
     ]
    }
   ],
   "source": [
    "addition = 10 + 20 + \\\n",
    "           40 + 50 + \\\n",
    "           70\n",
    "print(addition)"
   ]
  },
  {
   "cell_type": "code",
   "execution_count": 4,
   "id": "3afddf95",
   "metadata": {},
   "outputs": [
    {
     "ename": "SyntaxError",
     "evalue": "unexpected character after line continuation character (207300981.py, line 1)",
     "output_type": "error",
     "traceback": [
      "\u001b[1;36m  Cell \u001b[1;32mIn[4], line 1\u001b[1;36m\u001b[0m\n\u001b[1;33m    addition = 10 + 20 + \\\\\u001b[0m\n\u001b[1;37m                          ^\u001b[0m\n\u001b[1;31mSyntaxError\u001b[0m\u001b[1;31m:\u001b[0m unexpected character after line continuation character\n"
     ]
    }
   ],
   "source": [
    "addition = 10 + 20 + \\\\\n",
    "           40 + 50 + \\\\\n",
    "           70\n",
    "print(addition)"
   ]
  },
  {
   "cell_type": "code",
   "execution_count": 5,
   "id": "0f2ae06c",
   "metadata": {},
   "outputs": [
    {
     "ename": "SyntaxError",
     "evalue": "unexpected character after line continuation character (3005229353.py, line 1)",
     "output_type": "error",
     "traceback": [
      "\u001b[1;36m  Cell \u001b[1;32mIn[5], line 1\u001b[1;36m\u001b[0m\n\u001b[1;33m    addition = 10 + 20 + \\n\u001b[0m\n\u001b[1;37m                          ^\u001b[0m\n\u001b[1;31mSyntaxError\u001b[0m\u001b[1;31m:\u001b[0m unexpected character after line continuation character\n"
     ]
    }
   ],
   "source": [
    "addition = 10 + 20 + \\n\n",
    "           40 + 50 + \\n\n",
    "           70\n",
    "print(addition)"
   ]
  },
  {
   "cell_type": "code",
   "execution_count": 10,
   "id": "6f464c48",
   "metadata": {},
   "outputs": [
    {
     "name": "stdout",
     "output_type": "stream",
     "text": [
      "190\n"
     ]
    }
   ],
   "source": [
    "addition = 10 + 20 + \\\n",
    "           40 + 50 + \\\n",
    "           70\n",
    "print(addition)"
   ]
  },
  {
   "cell_type": "code",
   "execution_count": 9,
   "id": "56bc4c6e",
   "metadata": {},
   "outputs": [
    {
     "name": "stdout",
     "output_type": "stream",
     "text": [
      "sum: 50\n"
     ]
    }
   ],
   "source": [
    "x = 10\n",
    "y = 40\n",
    "\n",
    "\n",
    "z = x + y\n",
    "print('sum:' , z)"
   ]
  },
  {
   "cell_type": "code",
   "execution_count": 18,
   "id": "df342a92",
   "metadata": {},
   "outputs": [
    {
     "name": "stdout",
     "output_type": "stream",
     "text": [
      "I am going to marketi am going to schooli am going to college\n"
     ]
    }
   ],
   "source": [
    "x = \"\"\"I am going to market\\\n",
    "i am going to school\\\n",
    "i am going to college\"\"\"\n",
    "\n",
    "print(x)"
   ]
  },
  {
   "cell_type": "code",
   "execution_count": 19,
   "id": "a01ac8a3",
   "metadata": {},
   "outputs": [
    {
     "ename": "SyntaxError",
     "evalue": "invalid syntax (2030539882.py, line 1)",
     "output_type": "error",
     "traceback": [
      "\u001b[1;36m  Cell \u001b[1;32mIn[19], line 1\u001b[1;36m\u001b[0m\n\u001b[1;33m    x = I am going to market\\\u001b[0m\n\u001b[1;37m          ^\u001b[0m\n\u001b[1;31mSyntaxError\u001b[0m\u001b[1;31m:\u001b[0m invalid syntax\n"
     ]
    }
   ],
   "source": [
    "x = I am going to market\\\n",
    "i am going to school\\\n",
    "i am going to college\n",
    "\n",
    "print(x)"
   ]
  },
  {
   "cell_type": "code",
   "execution_count": 21,
   "id": "da1191ee",
   "metadata": {},
   "outputs": [
    {
     "name": "stdout",
     "output_type": "stream",
     "text": [
      "I am going to\n",
      " marketi am going to schooliam going to college\n"
     ]
    }
   ],
   "source": [
    "x = \"\"\"I am going to\\n market\\\n",
    "i am going to school\\\n",
    "iam going to college\"\"\"\n",
    "\n",
    "print(x)"
   ]
  },
  {
   "cell_type": "code",
   "execution_count": 23,
   "id": "e26d4e64",
   "metadata": {},
   "outputs": [
    {
     "name": "stdout",
     "output_type": "stream",
     "text": [
      "its a good idea\n"
     ]
    }
   ],
   "source": [
    "print('its a good idea')"
   ]
  },
  {
   "cell_type": "code",
   "execution_count": 24,
   "id": "08d776a2",
   "metadata": {},
   "outputs": [
    {
     "data": {
      "text/plain": [
       "7"
      ]
     },
     "execution_count": 24,
     "metadata": {},
     "output_type": "execute_result"
    }
   ],
   "source": [
    "15//2\n"
   ]
  },
  {
   "cell_type": "markdown",
   "id": "18ea1d50",
   "metadata": {},
   "source": [
    "Floor division"
   ]
  },
  {
   "cell_type": "code",
   "execution_count": 25,
   "id": "bb37e612",
   "metadata": {},
   "outputs": [
    {
     "data": {
      "text/plain": [
       "1"
      ]
     },
     "execution_count": 25,
     "metadata": {},
     "output_type": "execute_result"
    }
   ],
   "source": [
    "5%2"
   ]
  },
  {
   "cell_type": "code",
   "execution_count": 1,
   "id": "1283d333",
   "metadata": {},
   "outputs": [
    {
     "data": {
      "text/plain": [
       "2"
      ]
     },
     "execution_count": 1,
     "metadata": {},
     "output_type": "execute_result"
    }
   ],
   "source": []
  },
  {
   "cell_type": "markdown",
   "id": "11da1d21",
   "metadata": {},
   "source": [
    "Modulo operation"
   ]
  },
  {
   "cell_type": "code",
   "execution_count": 26,
   "id": "65559426",
   "metadata": {},
   "outputs": [
    {
     "name": "stdout",
     "output_type": "stream",
     "text": [
      "2.0\n"
     ]
    }
   ],
   "source": [
    "print(10/5)"
   ]
  },
  {
   "cell_type": "code",
   "execution_count": 27,
   "id": "d6962626",
   "metadata": {},
   "outputs": [
    {
     "name": "stdout",
     "output_type": "stream",
     "text": [
      "2\n"
     ]
    }
   ],
   "source": [
    "print(10//5)"
   ]
  },
  {
   "cell_type": "code",
   "execution_count": 29,
   "id": "9b2cb64d",
   "metadata": {},
   "outputs": [
    {
     "data": {
      "text/plain": [
       "'45+56'"
      ]
     },
     "execution_count": 29,
     "metadata": {},
     "output_type": "execute_result"
    }
   ],
   "source": [
    "'45+56'\n"
   ]
  },
  {
   "cell_type": "code",
   "execution_count": 31,
   "id": "294c42b8",
   "metadata": {},
   "outputs": [
    {
     "data": {
      "text/plain": [
       "591"
      ]
     },
     "execution_count": 31,
     "metadata": {},
     "output_type": "execute_result"
    }
   ],
   "source": [
    "           45+546"
   ]
  },
  {
   "cell_type": "code",
   "execution_count": 1,
   "id": "a209ad48",
   "metadata": {},
   "outputs": [
    {
     "name": "stdout",
     "output_type": "stream",
     "text": [
      "90\n"
     ]
    }
   ],
   "source": [
    "print             (56+34)"
   ]
  },
  {
   "cell_type": "code",
   "execution_count": 2,
   "id": "1061e7b5",
   "metadata": {},
   "outputs": [
    {
     "data": {
      "text/plain": [
       "True"
      ]
     },
     "execution_count": 2,
     "metadata": {},
     "output_type": "execute_result"
    }
   ],
   "source": [
    "True"
   ]
  },
  {
   "cell_type": "markdown",
   "id": "23976d54",
   "metadata": {},
   "source": [
    "Boolean where(true represents 1)"
   ]
  },
  {
   "cell_type": "code",
   "execution_count": 3,
   "id": "78a1c453",
   "metadata": {},
   "outputs": [
    {
     "data": {
      "text/plain": [
       "False"
      ]
     },
     "execution_count": 3,
     "metadata": {},
     "output_type": "execute_result"
    }
   ],
   "source": [
    "False"
   ]
  },
  {
   "cell_type": "markdown",
   "id": "42384cac",
   "metadata": {},
   "source": [
    "Boolean where(false represents 0)"
   ]
  },
  {
   "cell_type": "code",
   "execution_count": 4,
   "id": "e6d77b43",
   "metadata": {},
   "outputs": [
    {
     "ename": "NameError",
     "evalue": "name 'true' is not defined",
     "output_type": "error",
     "traceback": [
      "\u001b[1;31m---------------------------------------------------------------------------\u001b[0m",
      "\u001b[1;31mNameError\u001b[0m                                 Traceback (most recent call last)",
      "Cell \u001b[1;32mIn[4], line 1\u001b[0m\n\u001b[1;32m----> 1\u001b[0m \u001b[43mtrue\u001b[49m\n",
      "\u001b[1;31mNameError\u001b[0m: name 'true' is not defined"
     ]
    }
   ],
   "source": [
    "true"
   ]
  },
  {
   "cell_type": "code",
   "execution_count": null,
   "id": "765b9297",
   "metadata": {},
   "outputs": [],
   "source": [
    "78j"
   ]
  },
  {
   "cell_type": "markdown",
   "id": "5b5320d2",
   "metadata": {},
   "source": [
    "any number  starts with 'j' is (complex number)"
   ]
  },
  {
   "cell_type": "code",
   "execution_count": 22,
   "id": "e2cb9155",
   "metadata": {},
   "outputs": [
    {
     "data": {
      "text/plain": [
       "(30+40j)"
      ]
     },
     "execution_count": 22,
     "metadata": {},
     "output_type": "execute_result"
    }
   ],
   "source": [
    "30+40j"
   ]
  },
  {
   "cell_type": "code",
   "execution_count": 1,
   "id": "5b6cb805",
   "metadata": {},
   "outputs": [
    {
     "name": "stdout",
     "output_type": "stream",
     "text": [
      "class\n"
     ]
    }
   ],
   "source": [
    "print(\"class\")"
   ]
  },
  {
   "cell_type": "markdown",
   "id": "ca234b63",
   "metadata": {},
   "source": [
    "# Non-Primitive or Data Structure "
   ]
  },
  {
   "cell_type": "markdown",
   "id": "abf32fc8",
   "metadata": {},
   "source": [
    "# List"
   ]
  },
  {
   "cell_type": "markdown",
   "id": "68a74316",
   "metadata": {},
   "source": [
    "- List Data types are used to store multiple items or elements in a single variable.\n",
    "- To create a list data type in Python language, we use square brackets [ ]"
   ]
  },
  {
   "cell_type": "code",
   "execution_count": 7,
   "id": "15f33297",
   "metadata": {},
   "outputs": [],
   "source": [
    "# Non-primitive data types are also called Data structure.\n",
    "# In Data structure primitive and non-primitive data types can both be stored in a sequence or structure."
   ]
  },
  {
   "cell_type": "code",
   "execution_count": 3,
   "id": "f64b6cb3",
   "metadata": {},
   "outputs": [
    {
     "data": {
      "text/plain": [
       "['hello', 'world', True, [1, 2, 3, 4]]"
      ]
     },
     "execution_count": 3,
     "metadata": {},
     "output_type": "execute_result"
    }
   ],
   "source": [
    "# list\n",
    "x = [\"hello\" , \"world\" , True,[1,2,3,4]]\n",
    "x"
   ]
  },
  {
   "cell_type": "code",
   "execution_count": 6,
   "id": "a4bd924c",
   "metadata": {},
   "outputs": [
    {
     "data": {
      "text/plain": [
       "['hello', 'world', True, [1, 2, [3, 4]]]"
      ]
     },
     "execution_count": 6,
     "metadata": {},
     "output_type": "execute_result"
    }
   ],
   "source": [
    "# List indexing\n",
    "x = [\"hello\" , \"world\" , True,[1,2,[3,4]]]\n",
    "\n",
    "x"
   ]
  },
  {
   "cell_type": "code",
   "execution_count": 1,
   "id": "f72d9858",
   "metadata": {},
   "outputs": [
    {
     "name": "stdout",
     "output_type": "stream",
     "text": [
      "3\n"
     ]
    }
   ],
   "source": [
    "x = [\"hello\" , \"world\" , True,[1,2,[3,4]]]\n",
    "\n",
    "print(x[3][2][0])"
   ]
  },
  {
   "cell_type": "code",
   "execution_count": 2,
   "id": "23c188d7",
   "metadata": {},
   "outputs": [
    {
     "name": "stdout",
     "output_type": "stream",
     "text": [
      "[1, 2, [3, 4]]\n"
     ]
    }
   ],
   "source": [
    "x = [\"hello\" , \"world\" , True,[1,2,[3,4]]]\n",
    "print(x[3])"
   ]
  },
  {
   "cell_type": "code",
   "execution_count": 5,
   "id": "25216ddf",
   "metadata": {},
   "outputs": [
    {
     "name": "stdout",
     "output_type": "stream",
     "text": [
      "[1, 2, 123]\n"
     ]
    }
   ],
   "source": [
    "x = [1,2]\n",
    "x.append(123)\n",
    "print(x)"
   ]
  },
  {
   "cell_type": "code",
   "execution_count": 1,
   "id": "4095d397",
   "metadata": {},
   "outputs": [
    {
     "data": {
      "text/plain": [
       "[1, 2, 3, 'h', 'e', 'l', 'l', 'o']"
      ]
     },
     "execution_count": 1,
     "metadata": {},
     "output_type": "execute_result"
    }
   ],
   "source": [
    "# List.extend(iterable)\n",
    "# iterable - strings, list, tuples, sets, Dictionary\n",
    "lst = [1,2,3]\n",
    "lst.extend(\"hello\")\n",
    "lst"
   ]
  },
  {
   "cell_type": "code",
   "execution_count": 3,
   "id": "5f74c575",
   "metadata": {},
   "outputs": [
    {
     "data": {
      "text/plain": [
       "[1, 2, 3, 'hello']"
      ]
     },
     "execution_count": 3,
     "metadata": {},
     "output_type": "execute_result"
    }
   ],
   "source": [
    "lst = [1,2,3]\n",
    "lst.extend([\"hello\"])\n",
    "lst"
   ]
  },
  {
   "cell_type": "code",
   "execution_count": 6,
   "id": "bd99b09d",
   "metadata": {},
   "outputs": [
    {
     "ename": "TypeError",
     "evalue": "list.append() takes exactly one argument (6 given)",
     "output_type": "error",
     "traceback": [
      "\u001b[1;31m---------------------------------------------------------------------------\u001b[0m",
      "\u001b[1;31mTypeError\u001b[0m                                 Traceback (most recent call last)",
      "Cell \u001b[1;32mIn[6], line 2\u001b[0m\n\u001b[0;32m      1\u001b[0m x \u001b[38;5;241m=\u001b[39m [\u001b[38;5;241m1\u001b[39m,\u001b[38;5;241m2\u001b[39m]\n\u001b[1;32m----> 2\u001b[0m \u001b[43mx\u001b[49m\u001b[38;5;241;43m.\u001b[39;49m\u001b[43mappend\u001b[49m\u001b[43m(\u001b[49m\u001b[38;5;241;43m123\u001b[39;49m\u001b[43m,\u001b[49m\u001b[38;5;241;43m4\u001b[39;49m\u001b[43m,\u001b[49m\u001b[38;5;241;43m5\u001b[39;49m\u001b[43m,\u001b[49m\u001b[38;5;241;43m6\u001b[39;49m\u001b[43m,\u001b[49m\u001b[38;5;241;43m7\u001b[39;49m\u001b[43m,\u001b[49m\u001b[38;5;241;43m8\u001b[39;49m\u001b[43m)\u001b[49m\n\u001b[0;32m      3\u001b[0m \u001b[38;5;28mprint\u001b[39m(x)\n",
      "\u001b[1;31mTypeError\u001b[0m: list.append() takes exactly one argument (6 given)"
     ]
    }
   ],
   "source": [
    "x = [1,2]\n",
    "x.append(123,4,5,6,7,8)\n",
    "print(x)"
   ]
  },
  {
   "cell_type": "code",
   "execution_count": 4,
   "id": "2527640d",
   "metadata": {},
   "outputs": [
    {
     "name": "stdout",
     "output_type": "stream",
     "text": [
      "[1, 3]\n"
     ]
    }
   ],
   "source": [
    "#.remove()\n",
    "lst=[1,2,3]\n",
    "lst.remove(2)\n",
    "print(lst)"
   ]
  },
  {
   "cell_type": "code",
   "execution_count": 7,
   "id": "b4e2b48c",
   "metadata": {},
   "outputs": [
    {
     "data": {
      "text/plain": [
       "4"
      ]
     },
     "execution_count": 7,
     "metadata": {},
     "output_type": "execute_result"
    }
   ],
   "source": [
    "#.count()\n",
    "lst=[1,2,3,4,1,3,5,6,7,3,3]\n",
    "lst.count(3)"
   ]
  },
  {
   "cell_type": "code",
   "execution_count": 10,
   "id": "8b9620cf",
   "metadata": {},
   "outputs": [
    {
     "name": "stdout",
     "output_type": "stream",
     "text": [
      "[1, 1, 3, 3, 4, 5, 6, 8, 9, 10, 11, 11.8, 78]\n"
     ]
    }
   ],
   "source": [
    "#.sort()\n",
    "lst=[3,4,5,78,3,1,6,9,8,1,10,11,11.8,]\n",
    "lst.sort()\n",
    "print(lst)"
   ]
  },
  {
   "cell_type": "code",
   "execution_count": 12,
   "id": "d7cbfd11",
   "metadata": {},
   "outputs": [
    {
     "name": "stdout",
     "output_type": "stream",
     "text": [
      "[78, 11.8, 11, 10, 9, 8, 6, 5, 4, 3, 3, 1, 1]\n",
      "[123, 'hello', 'str']\n"
     ]
    }
   ],
   "source": [
    "#.reverse()\n",
    "lst=[3,4,5,78,3,1,6,9,8,1,10,11,11.8,]\n",
    "lst.sort(reverse=True)\n",
    "print(lst)\n",
    "\n",
    "\n",
    "x = [\"str\",\"hello\",123]\n",
    "x.reverse()\n",
    "print(x)"
   ]
  },
  {
   "cell_type": "code",
   "execution_count": 18,
   "id": "19c0461a",
   "metadata": {},
   "outputs": [
    {
     "data": {
      "text/plain": [
       "'Hello World'"
      ]
     },
     "execution_count": 18,
     "metadata": {},
     "output_type": "execute_result"
    }
   ],
   "source": [
    "#.split()\n",
    "x = \"Hello World\"\n",
    "x.split(\"  \")\n",
    "x"
   ]
  },
  {
   "cell_type": "code",
   "execution_count": 21,
   "id": "9cbdc8c2",
   "metadata": {},
   "outputs": [
    {
     "data": {
      "text/plain": [
       "['Hello', 'World']"
      ]
     },
     "execution_count": 21,
     "metadata": {},
     "output_type": "execute_result"
    }
   ],
   "source": [
    "#.split()\n",
    "x = \"Hello World\"\n",
    "x.split(\" \")"
   ]
  },
  {
   "cell_type": "markdown",
   "id": "0a7c6ea3",
   "metadata": {},
   "source": [
    "# Tuples"
   ]
  },
  {
   "cell_type": "markdown",
   "id": "256edbb5",
   "metadata": {},
   "source": [
    "- Tuples also can store multiple items or elements in a single variable and can be declared using parentheses( ).\n",
    "- In Data structure primitive and non-primitive data types can both be stored in a sequence or structure."
   ]
  },
  {
   "cell_type": "code",
   "execution_count": 25,
   "id": "2a74da1f",
   "metadata": {},
   "outputs": [
    {
     "data": {
      "text/plain": [
       "int"
      ]
     },
     "execution_count": 25,
     "metadata": {},
     "output_type": "execute_result"
    }
   ],
   "source": [
    "x = (1)\n",
    "type(x)"
   ]
  },
  {
   "cell_type": "code",
   "execution_count": 26,
   "id": "03df69c5",
   "metadata": {},
   "outputs": [
    {
     "data": {
      "text/plain": [
       "bool"
      ]
     },
     "execution_count": 26,
     "metadata": {},
     "output_type": "execute_result"
    }
   ],
   "source": [
    "x = (True)\n",
    "type(x)"
   ]
  },
  {
   "cell_type": "code",
   "execution_count": 28,
   "id": "e99c95e0",
   "metadata": {},
   "outputs": [
    {
     "data": {
      "text/plain": [
       "tuple"
      ]
     },
     "execution_count": 28,
     "metadata": {},
     "output_type": "execute_result"
    }
   ],
   "source": [
    "x = (\"str\",)\n",
    "type(x)"
   ]
  },
  {
   "cell_type": "code",
   "execution_count": 31,
   "id": "5a528d1c",
   "metadata": {},
   "outputs": [
    {
     "data": {
      "text/plain": [
       "tuple"
      ]
     },
     "execution_count": 31,
     "metadata": {},
     "output_type": "execute_result"
    }
   ],
   "source": [
    "x = 43j,\n",
    "type(x)"
   ]
  },
  {
   "cell_type": "code",
   "execution_count": 30,
   "id": "c02bda47",
   "metadata": {},
   "outputs": [
    {
     "data": {
      "text/plain": [
       "(1, 2)"
      ]
     },
     "execution_count": 30,
     "metadata": {},
     "output_type": "execute_result"
    }
   ],
   "source": [
    "y = 1,2\n",
    "y"
   ]
  },
  {
   "cell_type": "code",
   "execution_count": 39,
   "id": "03577c28",
   "metadata": {},
   "outputs": [
    {
     "data": {
      "text/plain": [
       "tuple"
      ]
     },
     "execution_count": 39,
     "metadata": {},
     "output_type": "execute_result"
    }
   ],
   "source": [
    "y = (True,False)\n",
    "type(y)"
   ]
  },
  {
   "cell_type": "code",
   "execution_count": 40,
   "id": "07d2c866",
   "metadata": {},
   "outputs": [
    {
     "data": {
      "text/plain": [
       "2"
      ]
     },
     "execution_count": 40,
     "metadata": {},
     "output_type": "execute_result"
    }
   ],
   "source": [
    "#.count()\n",
    "tup_1 = (1,1,3)\n",
    "tup_1.count(1)"
   ]
  },
  {
   "cell_type": "code",
   "execution_count": 42,
   "id": "aaf7905c",
   "metadata": {},
   "outputs": [
    {
     "data": {
      "text/plain": [
       "2"
      ]
     },
     "execution_count": 42,
     "metadata": {},
     "output_type": "execute_result"
    }
   ],
   "source": [
    "#.index()\n",
    "\n",
    "tup_1.index(3)"
   ]
  },
  {
   "cell_type": "code",
   "execution_count": 8,
   "id": "5154a3d2",
   "metadata": {},
   "outputs": [
    {
     "name": "stdout",
     "output_type": "stream",
     "text": [
      "2230076244560\n",
      "2230076244592\n"
     ]
    }
   ],
   "source": [
    "x = 12\n",
    "y = 13\n",
    "print(id(x))\n",
    "print(id(y))"
   ]
  },
  {
   "cell_type": "code",
   "execution_count": 6,
   "id": "3891d5b1",
   "metadata": {
    "scrolled": true
   },
   "outputs": [
    {
     "name": "stdout",
     "output_type": "stream",
     "text": [
      "1227710399056\n",
      "1227710399056\n"
     ]
    }
   ],
   "source": [
    "x =12\n",
    "y =12\n",
    "print(id(x))\n",
    "print(id(y))"
   ]
  },
  {
   "cell_type": "code",
   "execution_count": 1,
   "id": "b41e2745",
   "metadata": {},
   "outputs": [
    {
     "name": "stdout",
     "output_type": "stream",
     "text": [
      "1227791113280\n",
      "1227791113472\n"
     ]
    }
   ],
   "source": [
    "x =[12]\n",
    "y =[13]\n",
    "print(id(x))\n",
    "print(id(y))"
   ]
  },
  {
   "cell_type": "code",
   "execution_count": 4,
   "id": "249219ef",
   "metadata": {},
   "outputs": [
    {
     "name": "stdout",
     "output_type": "stream",
     "text": [
      "2008822424128 2008822423616 2008822424256\n"
     ]
    }
   ],
   "source": [
    "q =[15,232,343]\n",
    "s =[15,56,67]\n",
    "t =[15,78,89]\n",
    "print(id(q),id(s),id(t))\n"
   ]
  },
  {
   "cell_type": "code",
   "execution_count": 4,
   "id": "14fc2117",
   "metadata": {},
   "outputs": [
    {
     "name": "stdout",
     "output_type": "stream",
     "text": [
      "1227791114624\n",
      "1227791114624\n"
     ]
    }
   ],
   "source": [
    "x = [12]\n",
    "x = [12]       # in list data type \n",
    "\n",
    "print(id(x))\n",
    "print(id(x))\n"
   ]
  },
  {
   "cell_type": "code",
   "execution_count": 5,
   "id": "b0a9abec",
   "metadata": {},
   "outputs": [
    {
     "name": "stdout",
     "output_type": "stream",
     "text": [
      "2008818701552\n"
     ]
    }
   ],
   "source": [
    "x = \"hello\"\n",
    "print(id(x))"
   ]
  },
  {
   "cell_type": "markdown",
   "id": "dc024814",
   "metadata": {},
   "source": [
    "# What is objects?"
   ]
  },
  {
   "cell_type": "markdown",
   "id": "e44f1719",
   "metadata": {},
   "source": [
    "- All data in a Python is represented by objects.\n",
    "- Every object has an identity(Address,Memory Location),a type and a value.\n",
    "- An objects type determines the operations that the object supports and also defines the possible values for objects for that type.\n",
    "- The value of some objects can change. objects whose value can change without changing the identity are said to be mutable.objects whose value is unchangable once they are created are called immutable."
   ]
  },
  {
   "cell_type": "code",
   "execution_count": 29,
   "id": "b914226c",
   "metadata": {},
   "outputs": [
    {
     "data": {
      "text/plain": [
       "'string'"
      ]
     },
     "execution_count": 29,
     "metadata": {},
     "output_type": "execute_result"
    }
   ],
   "source": [
    "\"string\"    # it is str data type.\n",
    "            # it is working without giving print command."
   ]
  },
  {
   "cell_type": "code",
   "execution_count": 30,
   "id": "b6cf93e4",
   "metadata": {},
   "outputs": [
    {
     "data": {
      "text/plain": [
       "2678680294128"
      ]
     },
     "execution_count": 30,
     "metadata": {},
     "output_type": "execute_result"
    }
   ],
   "source": [
    "id(\"strings\")   # id functions used to find memory location or address of any object or data type."
   ]
  },
  {
   "cell_type": "markdown",
   "id": "db48f809",
   "metadata": {},
   "source": [
    "A variable is not a container but it points to an objects.\n"
   ]
  },
  {
   "cell_type": "code",
   "execution_count": 6,
   "id": "6c83f3e6",
   "metadata": {},
   "outputs": [
    {
     "name": "stdout",
     "output_type": "stream",
     "text": [
      "2678690389168\n",
      "2678751871216\n"
     ]
    }
   ],
   "source": [
    "x = \"Data\"    # x called is pointer\n",
    "print(id(x))\n",
    "x = \"Science\"\n",
    "print(id(x))"
   ]
  },
  {
   "cell_type": "code",
   "execution_count": 8,
   "id": "fd9e3530",
   "metadata": {},
   "outputs": [
    {
     "name": "stdout",
     "output_type": "stream",
     "text": [
      "2678751871216\n"
     ]
    }
   ],
   "source": [
    "print(id(x))"
   ]
  },
  {
   "cell_type": "code",
   "execution_count": 35,
   "id": "993aa610",
   "metadata": {},
   "outputs": [
    {
     "name": "stdout",
     "output_type": "stream",
     "text": [
      "2678751732672\n",
      "2678752264256\n"
     ]
    }
   ],
   "source": [
    "y = [12,34]\n",
    "print(id(y))\n",
    "\n",
    "y = [89,56]\n",
    "print(id(y))"
   ]
  },
  {
   "cell_type": "code",
   "execution_count": 38,
   "id": "c975c647",
   "metadata": {
    "scrolled": true
   },
   "outputs": [
    {
     "name": "stdout",
     "output_type": "stream",
     "text": [
      "2678751872512\n"
     ]
    }
   ],
   "source": [
    "y[1]=88\n",
    "print(id(y))"
   ]
  },
  {
   "cell_type": "code",
   "execution_count": 37,
   "id": "07379784",
   "metadata": {},
   "outputs": [
    {
     "name": "stdout",
     "output_type": "stream",
     "text": [
      "2678752250624\n",
      "2678751872512\n"
     ]
    }
   ],
   "source": [
    "y = [12,34]\n",
    "print(id(y))\n",
    "\n",
    "y = [89,88]\n",
    "print(id(y))"
   ]
  },
  {
   "cell_type": "code",
   "execution_count": 20,
   "id": "3c733094",
   "metadata": {},
   "outputs": [
    {
     "data": {
      "text/plain": [
       "'Myself:Data:Scientist'"
      ]
     },
     "execution_count": 20,
     "metadata": {},
     "output_type": "execute_result"
    }
   ],
   "source": [
    "p = \"Myself Data Scientist\"\n",
    "(p.replace(\" \",\":\"))"
   ]
  },
  {
   "cell_type": "code",
   "execution_count": 24,
   "id": "e2650591",
   "metadata": {},
   "outputs": [
    {
     "name": "stdout",
     "output_type": "stream",
     "text": [
      "2678751794784\n"
     ]
    },
    {
     "data": {
      "text/plain": [
       "2678751798464"
      ]
     },
     "execution_count": 24,
     "metadata": {},
     "output_type": "execute_result"
    }
   ],
   "source": [
    "p = \"Myself Data Scientist\"\n",
    "print(id(p))\n",
    "id(p.replace(\" \",\":\"))"
   ]
  },
  {
   "cell_type": "code",
   "execution_count": 25,
   "id": "a49f7d65",
   "metadata": {},
   "outputs": [
    {
     "name": "stdout",
     "output_type": "stream",
     "text": [
      "2678751794784\n"
     ]
    }
   ],
   "source": [
    "p\n",
    "print(id(p))"
   ]
  },
  {
   "cell_type": "code",
   "execution_count": 27,
   "id": "45e92cc1",
   "metadata": {},
   "outputs": [
    {
     "name": "stdout",
     "output_type": "stream",
     "text": [
      "2678752257920\n"
     ]
    },
    {
     "data": {
      "text/plain": [
       "140717948628672"
      ]
     },
     "execution_count": 27,
     "metadata": {},
     "output_type": "execute_result"
    }
   ],
   "source": [
    "z = [1,2,3,4,5]\n",
    "print(id(z))\n",
    "id(z.reverse())"
   ]
  },
  {
   "cell_type": "code",
   "execution_count": 28,
   "id": "9f6c8421",
   "metadata": {},
   "outputs": [
    {
     "data": {
      "text/plain": [
       "2678752257920"
      ]
     },
     "execution_count": 28,
     "metadata": {},
     "output_type": "execute_result"
    }
   ],
   "source": [
    "id(z)"
   ]
  },
  {
   "cell_type": "code",
   "execution_count": null,
   "id": "7c459b6b",
   "metadata": {},
   "outputs": [],
   "source": []
  }
 ],
 "metadata": {
  "kernelspec": {
   "display_name": "Python 3 (ipykernel)",
   "language": "python",
   "name": "python3"
  },
  "language_info": {
   "codemirror_mode": {
    "name": "ipython",
    "version": 3
   },
   "file_extension": ".py",
   "mimetype": "text/x-python",
   "name": "python",
   "nbconvert_exporter": "python",
   "pygments_lexer": "ipython3",
   "version": "3.10.9"
  }
 },
 "nbformat": 4,
 "nbformat_minor": 5
}
